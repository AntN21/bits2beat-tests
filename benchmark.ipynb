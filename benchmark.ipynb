{
 "cells": [
  {
   "cell_type": "markdown",
   "metadata": {},
   "source": [
    "# Benchmark for signal representation "
   ]
  },
  {
   "cell_type": "markdown",
   "metadata": {},
   "source": [
    "- Multifractal analysis (1ere approche)\n",
    "\n",
    "- Discrete Fourier Transform (DFT) $\\checkmark$\n",
    "- Spectrogram\n",
    "- Autoregression $\\checkmark$\n",
    "- Shannon encoding $\\checkmark$\n",
    "- Wavelets (en cours)\n",
    "\n",
    "- Local symbolic features\n",
    "- SAX representation\n",
    "- Approximate entropy\n",
    "\n",
    "ML\n",
    "\n",
    "- Autoencoder\n",
    "\n",
    "- RNN\n",
    "- LSTM\n",
    "\n"
   ]
  },
  {
   "cell_type": "markdown",
   "metadata": {},
   "source": [
    "## Imports"
   ]
  },
  {
   "cell_type": "code",
   "execution_count": 1,
   "metadata": {},
   "outputs": [],
   "source": [
    "import numpy as np \n",
    "import matplotlib.pyplot as plt\n",
    "\n",
    "# import pywt\n",
    "\n",
    "# import pymultifracs.mfa as mfa\n",
    "# from pymultifracs.utils import build_q_log\n",
    "# from statsmodels.tsa.ar_model import AutoReg, ar_select_order\n"
   ]
  },
  {
   "cell_type": "code",
   "execution_count": 2,
   "metadata": {},
   "outputs": [],
   "source": [
    "from sklearn.svm import SVC\n",
    "from sklearn.tree import DecisionTreeClassifier\n",
    "from sklearn.ensemble import RandomForestClassifier\n",
    "from sklearn.model_selection import cross_val_score\n",
    "from sklearn.preprocessing import StandardScaler\n"
   ]
  },
  {
   "cell_type": "code",
   "execution_count": 3,
   "metadata": {},
   "outputs": [],
   "source": [
    "# %pip install import_ipynb\n",
    "# %pip install  --user git+https://github.com/neurospin/pymultifracs"
   ]
  },
  {
   "cell_type": "code",
   "execution_count": 4,
   "metadata": {},
   "outputs": [
    {
     "name": "stdout",
     "output_type": "stream",
     "text": [
      "importing Jupyter notebook from transformations.ipynb\n"
     ]
    }
   ],
   "source": [
    "import import_ipynb\n",
    "from transformations import DataTransform,TransformationRegistry, IdentityTransform, FourierTransform, LowFourierTransform, LowPsdTransform, WaveDecTransform, DwtTransform, CwtTransform, AutoRegTransform, ShannonEncodingTransform, WaveletLeadersTransform, CrossCorTransform, AutoCorTransform, MultiFracsTransform"
   ]
  },
  {
   "cell_type": "code",
   "execution_count": 5,
   "metadata": {},
   "outputs": [],
   "source": [
    "# Initialize the registry\n",
    "registry = TransformationRegistry()\n",
    "\n",
    "# Register transformations\n",
    "registry.register('identity', IdentityTransform)\n",
    "registry.register('fourier', FourierTransform)\n",
    "registry.register('low_fourier', LowFourierTransform)\n",
    "registry.register('low_psd', LowPsdTransform)\n",
    "registry.register('wavedec', WaveDecTransform)\n",
    "registry.register('dwt', DwtTransform)\n",
    "registry.register('cwt', CwtTransform)\n",
    "registry.register('autoreg', AutoRegTransform)\n",
    "registry.register('shannon_encoding', ShannonEncodingTransform)\n",
    "registry.register('wavelet_leaders', WaveletLeadersTransform)\n",
    "registry.register('multifracs', MultiFracsTransform)\n",
    "registry.register('crosscor', CrossCorTransform)\n",
    "registry.register('autocor', AutoCorTransform)\n"
   ]
  },
  {
   "cell_type": "markdown",
   "metadata": {},
   "source": [
    "## Data Load\n",
    "\n",
    "Link here [ecgs_labels.npy](https://drive.google.com/file/d/1cbUKH9qGOeIZD6Mf73plMkyXpq56mwIu/view?usp=sharing)"
   ]
  },
  {
   "cell_type": "code",
   "execution_count": 6,
   "metadata": {},
   "outputs": [],
   "source": [
    "ecgs_labels = np.load('ecgs_labels.npy')\n",
    "\n",
    "X, y = ecgs_labels[1:,:-1], ecgs_labels[1:,-1]"
   ]
  },
  {
   "cell_type": "code",
   "execution_count": 7,
   "metadata": {},
   "outputs": [
    {
     "data": {
      "text/plain": [
       "0"
      ]
     },
     "execution_count": 7,
     "metadata": {},
     "output_type": "execute_result"
    }
   ],
   "source": [
    "np.isnan(X).sum()"
   ]
  },
  {
   "cell_type": "code",
   "execution_count": 8,
   "metadata": {},
   "outputs": [
    {
     "name": "stdout",
     "output_type": "stream",
     "text": [
      "X.shape : (1164, 65000)\n"
     ]
    }
   ],
   "source": [
    "n,p = X.shape\n",
    "\n",
    "print(f'X.shape : {n,p}')"
   ]
  },
  {
   "cell_type": "code",
   "execution_count": 9,
   "metadata": {},
   "outputs": [
    {
     "name": "stdout",
     "output_type": "stream",
     "text": [
      "Transformation: identity, Shape: (10, 65000)\n",
      "Computating  fourier{} ..."
     ]
    },
    {
     "name": "stdout",
     "output_type": "stream",
     "text": [
      "Transformation: fourier, Shape: (10, 65000)\n",
      "Transformation: low_fourier, Shape: (10, 1092)\n",
      "Transformation: low_psd, Shape: (10, 1092)\n",
      "Transformation: wavedec, Shape: (10, 4063)\n",
      "Transformation: dwt, Shape: (10, 32500)\n",
      "Transformation: cwt, Shape: (10, 2)\n",
      "Transformation: autoreg, Shape: (10, 3)\n",
      "Transformation: shannon_encoding, Shape: (10, 8)\n",
      "Transformation: wavelet_leaders, Shape: (10, 2)\n",
      "Transformation: multifracs, Shape: (10, 3)\n",
      "Transformation: crosscor, Shape: (10, 10)\n",
      "Transformation: autocor, Shape: (10, 26000)\n"
     ]
    }
   ],
   "source": [
    "data_transformer = DataTransform(registry,save_data=False)\n",
    "for trans_names in registry.transformations.keys():\n",
    "        trans_names_str = [str(name) for name in trans_names]\n",
    "        trans_name_str = '+'.join(trans_names_str) if isinstance(trans_names, list) else trans_names\n",
    "        kwargs = trans_names[1] if isinstance(trans_names, list) and len(trans_names) > 1 else {}\n",
    "        trans_names = trans_names[0] if isinstance(trans_names, list) else trans_names\n",
    "        \n",
    "        # Apply transformation\n",
    "        transformed_X = data_transformer.apply_transformation(np.random.randn((10*p)).reshape((10,p)), trans_names, **kwargs)\n",
    "        \n",
    "        print(f\"Transformation: {trans_name_str}, Shape: {transformed_X.shape}\")"
   ]
  },
  {
   "cell_type": "code",
   "execution_count": 10,
   "metadata": {},
   "outputs": [],
   "source": [
    "# Initialize the data transformer\n",
    "data_transformer = DataTransform(registry)"
   ]
  },
  {
   "cell_type": "code",
   "execution_count": 11,
   "metadata": {},
   "outputs": [
    {
     "name": "stdout",
     "output_type": "stream",
     "text": [
      "Transformation: crosscor, Shape: (1164, 10)\n",
      "Transformation: crosscor, Classifier: SVM, Mean Accuracy: 0.733, Std Dev: 0.058\n",
      "Transformation: crosscor, Classifier: DecisionTree, Mean Accuracy: 0.656, Std Dev: 0.037\n",
      "Transformation: crosscor, Classifier: RandomForest, Mean Accuracy: 0.747, Std Dev: 0.041\n",
      "\n",
      "Transformation: autocor+{'m': 5000, 'k': 4}, Shape: (1164, 52)\n",
      "Transformation: autocor+{'m': 5000, 'k': 4}, Classifier: SVM, Mean Accuracy: 0.472, Std Dev: 0.009\n",
      "Transformation: autocor+{'m': 5000, 'k': 4}, Classifier: DecisionTree, Mean Accuracy: 0.339, Std Dev: 0.035\n",
      "Transformation: autocor+{'m': 5000, 'k': 4}, Classifier: RandomForest, Mean Accuracy: 0.451, Std Dev: 0.022\n",
      "\n",
      "Transformation: fourier+{'new_dimension': 40}, Shape: (1164, 40)\n",
      "Transformation: fourier+{'new_dimension': 40}, Classifier: SVM, Mean Accuracy: 0.709, Std Dev: 0.027\n",
      "Transformation: fourier+{'new_dimension': 40}, Classifier: DecisionTree, Mean Accuracy: 0.625, Std Dev: 0.032\n",
      "Transformation: fourier+{'new_dimension': 40}, Classifier: RandomForest, Mean Accuracy: 0.760, Std Dev: 0.052\n",
      "\n",
      "Transformation: low_fourier, Shape: (1164, 1092)\n",
      "Transformation: low_fourier, Classifier: SVM, Mean Accuracy: 0.880, Std Dev: 0.074\n",
      "Transformation: low_fourier, Classifier: DecisionTree, Mean Accuracy: 0.800, Std Dev: 0.046\n",
      "Transformation: low_fourier, Classifier: RandomForest, Mean Accuracy: 0.897, Std Dev: 0.057\n",
      "\n",
      "Transformation: low_psd, Shape: (1164, 1092)\n",
      "Transformation: low_psd, Classifier: SVM, Mean Accuracy: 0.839, Std Dev: 0.059\n",
      "Transformation: low_psd, Classifier: DecisionTree, Mean Accuracy: 0.803, Std Dev: 0.052\n",
      "Transformation: low_psd, Classifier: RandomForest, Mean Accuracy: 0.884, Std Dev: 0.057\n",
      "\n",
      "Transformation: wavedec, Shape: (1164, 4063)\n",
      "Transformation: wavedec, Classifier: SVM, Mean Accuracy: 0.929, Std Dev: 0.057\n",
      "Transformation: wavedec, Classifier: DecisionTree, Mean Accuracy: 0.653, Std Dev: 0.066\n",
      "Transformation: wavedec, Classifier: RandomForest, Mean Accuracy: 0.852, Std Dev: 0.052\n",
      "\n",
      "Transformation: autoreg+{'k': 3}, Shape: (1164, 3)\n",
      "Transformation: autoreg+{'k': 3}, Classifier: SVM, Mean Accuracy: 0.873, Std Dev: 0.040\n",
      "Transformation: autoreg+{'k': 3}, Classifier: DecisionTree, Mean Accuracy: 0.912, Std Dev: 0.054\n",
      "Transformation: autoreg+{'k': 3}, Classifier: RandomForest, Mean Accuracy: 0.923, Std Dev: 0.055\n",
      "\n",
      "Transformation: shannon_encoding, Shape: (1164, 8)\n",
      "Transformation: shannon_encoding, Classifier: SVM, Mean Accuracy: 0.972, Std Dev: 0.051\n",
      "Transformation: shannon_encoding, Classifier: DecisionTree, Mean Accuracy: 0.997, Std Dev: 0.007\n",
      "Transformation: shannon_encoding, Classifier: RandomForest, Mean Accuracy: 0.973, Std Dev: 0.053\n",
      "\n",
      "Computating  wavelet_leaders{} ..."
     ]
    },
    {
     "name": "stderr",
     "output_type": "stream",
     "text": [
      "C:\\Users\\ANT\\AppData\\Roaming\\Python\\Python311\\site-packages\\pymultifracs\\utils.py:87: RuntimeWarning: divide by zero encountered in power\n",
      "  return np.power(array, exponent)\n",
      "C:\\Users\\ANT\\AppData\\Roaming\\Python\\Python311\\site-packages\\pymultifracs\\utils.py:76: RuntimeWarning: divide by zero encountered in reciprocal\n",
      "  return array ** exponent\n",
      "C:\\Users\\ANT\\AppData\\Roaming\\Python\\Python311\\site-packages\\pymultifracs\\cumulants.py:265: RuntimeWarning: divide by zero encountered in log\n",
      "  log_T_X_j = np.log(T_X_j)\n",
      "C:\\Users\\ANT\\AppData\\Roaming\\Python\\Python311\\site-packages\\pymultifracs\\mfspectrum.py:117: RuntimeWarning: invalid value encountered in divide\n",
      "  R_j = temp / Z\n",
      "C:\\Users\\ANT\\AppData\\Roaming\\Python\\Python311\\site-packages\\pymultifracs\\mfspectrum.py:118: RuntimeWarning: divide by zero encountered in log2\n",
      "  V[:, ind_j, :] = fixednansum(R_j * np.log2(mrq_values_j), axis=1)\n",
      "C:\\Users\\ANT\\AppData\\Roaming\\Python\\Python311\\site-packages\\pymultifracs\\mfspectrum.py:118: RuntimeWarning: invalid value encountered in multiply\n",
      "  V[:, ind_j, :] = fixednansum(R_j * np.log2(mrq_values_j), axis=1)\n",
      "C:\\Users\\ANT\\AppData\\Roaming\\Python\\Python311\\site-packages\\pymultifracs\\mfspectrum.py:119: RuntimeWarning: divide by zero encountered in log2\n",
      "  U[:, ind_j, :] = np.log2(nj) + fixednansum((R_j * np.log2(R_j)),\n",
      "C:\\Users\\ANT\\AppData\\Roaming\\Python\\Python311\\site-packages\\pymultifracs\\mfspectrum.py:119: RuntimeWarning: invalid value encountered in multiply\n",
      "  U[:, ind_j, :] = np.log2(nj) + fixednansum((R_j * np.log2(R_j)),\n"
     ]
    },
    {
     "name": "stdout",
     "output_type": "stream",
     "text": [
      "Transformation: wavelet_leaders, Shape: (1164, 2)\n",
      "Transformation: wavelet_leaders, Classifier: SVM, Mean Accuracy: 0.731, Std Dev: 0.090\n",
      "Transformation: wavelet_leaders, Classifier: DecisionTree, Mean Accuracy: 0.686, Std Dev: 0.065\n",
      "Transformation: wavelet_leaders, Classifier: RandomForest, Mean Accuracy: 0.709, Std Dev: 0.103\n",
      "\n",
      "Computating  multifracs{} ..."
     ]
    },
    {
     "name": "stderr",
     "output_type": "stream",
     "text": [
      "C:\\Users\\ANT\\AppData\\Roaming\\Python\\Python311\\site-packages\\pymultifracs\\utils.py:87: RuntimeWarning: divide by zero encountered in power\n",
      "  return np.power(array, exponent)\n",
      "C:\\Users\\ANT\\AppData\\Roaming\\Python\\Python311\\site-packages\\pymultifracs\\utils.py:76: RuntimeWarning: divide by zero encountered in reciprocal\n",
      "  return array ** exponent\n",
      "C:\\Users\\ANT\\AppData\\Roaming\\Python\\Python311\\site-packages\\pymultifracs\\cumulants.py:265: RuntimeWarning: divide by zero encountered in log\n",
      "  log_T_X_j = np.log(T_X_j)\n",
      "C:\\Users\\ANT\\AppData\\Roaming\\Python\\Python311\\site-packages\\pymultifracs\\mfspectrum.py:117: RuntimeWarning: invalid value encountered in divide\n",
      "  R_j = temp / Z\n",
      "C:\\Users\\ANT\\AppData\\Roaming\\Python\\Python311\\site-packages\\pymultifracs\\mfspectrum.py:118: RuntimeWarning: divide by zero encountered in log2\n",
      "  V[:, ind_j, :] = fixednansum(R_j * np.log2(mrq_values_j), axis=1)\n",
      "C:\\Users\\ANT\\AppData\\Roaming\\Python\\Python311\\site-packages\\pymultifracs\\mfspectrum.py:118: RuntimeWarning: invalid value encountered in multiply\n",
      "  V[:, ind_j, :] = fixednansum(R_j * np.log2(mrq_values_j), axis=1)\n",
      "C:\\Users\\ANT\\AppData\\Roaming\\Python\\Python311\\site-packages\\pymultifracs\\mfspectrum.py:119: RuntimeWarning: divide by zero encountered in log2\n",
      "  U[:, ind_j, :] = np.log2(nj) + fixednansum((R_j * np.log2(R_j)),\n",
      "C:\\Users\\ANT\\AppData\\Roaming\\Python\\Python311\\site-packages\\pymultifracs\\mfspectrum.py:119: RuntimeWarning: invalid value encountered in multiply\n",
      "  U[:, ind_j, :] = np.log2(nj) + fixednansum((R_j * np.log2(R_j)),\n"
     ]
    },
    {
     "name": "stdout",
     "output_type": "stream",
     "text": [
      "Transformation: multifracs, Shape: (1164, 3)\n",
      "Transformation: multifracs, Classifier: SVM, Mean Accuracy: 0.780, Std Dev: 0.067\n",
      "Transformation: multifracs, Classifier: DecisionTree, Mean Accuracy: 0.728, Std Dev: 0.071\n",
      "Transformation: multifracs, Classifier: RandomForest, Mean Accuracy: 0.762, Std Dev: 0.069\n",
      "\n",
      "Computating  multifracs{'j1': 1, 'j2': 12} ..."
     ]
    },
    {
     "name": "stderr",
     "output_type": "stream",
     "text": [
      "C:\\Users\\ANT\\AppData\\Roaming\\Python\\Python311\\site-packages\\pymultifracs\\utils.py:87: RuntimeWarning: divide by zero encountered in power\n",
      "  return np.power(array, exponent)\n",
      "C:\\Users\\ANT\\AppData\\Roaming\\Python\\Python311\\site-packages\\pymultifracs\\utils.py:76: RuntimeWarning: divide by zero encountered in reciprocal\n",
      "  return array ** exponent\n",
      "C:\\Users\\ANT\\AppData\\Roaming\\Python\\Python311\\site-packages\\pymultifracs\\cumulants.py:265: RuntimeWarning: divide by zero encountered in log\n",
      "  log_T_X_j = np.log(T_X_j)\n",
      "C:\\Users\\ANT\\AppData\\Roaming\\Python\\Python311\\site-packages\\pymultifracs\\mfspectrum.py:117: RuntimeWarning: invalid value encountered in divide\n",
      "  R_j = temp / Z\n",
      "C:\\Users\\ANT\\AppData\\Roaming\\Python\\Python311\\site-packages\\pymultifracs\\mfspectrum.py:118: RuntimeWarning: divide by zero encountered in log2\n",
      "  V[:, ind_j, :] = fixednansum(R_j * np.log2(mrq_values_j), axis=1)\n",
      "C:\\Users\\ANT\\AppData\\Roaming\\Python\\Python311\\site-packages\\pymultifracs\\mfspectrum.py:118: RuntimeWarning: invalid value encountered in multiply\n",
      "  V[:, ind_j, :] = fixednansum(R_j * np.log2(mrq_values_j), axis=1)\n",
      "C:\\Users\\ANT\\AppData\\Roaming\\Python\\Python311\\site-packages\\pymultifracs\\mfspectrum.py:119: RuntimeWarning: divide by zero encountered in log2\n",
      "  U[:, ind_j, :] = np.log2(nj) + fixednansum((R_j * np.log2(R_j)),\n",
      "C:\\Users\\ANT\\AppData\\Roaming\\Python\\Python311\\site-packages\\pymultifracs\\mfspectrum.py:119: RuntimeWarning: invalid value encountered in multiply\n",
      "  U[:, ind_j, :] = np.log2(nj) + fixednansum((R_j * np.log2(R_j)),\n"
     ]
    },
    {
     "name": "stdout",
     "output_type": "stream",
     "text": [
      "Transformation: multifracs+{'j1': 1, 'j2': 12}, Shape: (1164, 3)\n",
      "Transformation: multifracs+{'j1': 1, 'j2': 12}, Classifier: SVM, Mean Accuracy: 0.868, Std Dev: 0.067\n",
      "Transformation: multifracs+{'j1': 1, 'j2': 12}, Classifier: DecisionTree, Mean Accuracy: 0.816, Std Dev: 0.071\n",
      "Transformation: multifracs+{'j1': 1, 'j2': 12}, Classifier: RandomForest, Mean Accuracy: 0.852, Std Dev: 0.073\n",
      "\n",
      "Transformation: ['wavelet_leaders', 'shannon_encoding'], Shape: (1164, 10)\n",
      "Transformation: ['wavelet_leaders', 'shannon_encoding'], Classifier: SVM, Mean Accuracy: 0.973, Std Dev: 0.051\n",
      "Transformation: ['wavelet_leaders', 'shannon_encoding'], Classifier: DecisionTree, Mean Accuracy: 0.995, Std Dev: 0.010\n",
      "Transformation: ['wavelet_leaders', 'shannon_encoding'], Classifier: RandomForest, Mean Accuracy: 0.974, Std Dev: 0.052\n",
      "\n",
      "Transformation: ['wavelet_leaders', 'multifracs'], Shape: (1164, 5)\n",
      "Transformation: ['wavelet_leaders', 'multifracs'], Classifier: SVM, Mean Accuracy: 0.826, Std Dev: 0.096\n",
      "Transformation: ['wavelet_leaders', 'multifracs'], Classifier: DecisionTree, Mean Accuracy: 0.806, Std Dev: 0.080\n",
      "Transformation: ['wavelet_leaders', 'multifracs'], Classifier: RandomForest, Mean Accuracy: 0.822, Std Dev: 0.103\n",
      "\n",
      "Computating  multifracs{'new_dimension': 40} ..."
     ]
    },
    {
     "name": "stderr",
     "output_type": "stream",
     "text": [
      "C:\\Users\\ANT\\AppData\\Roaming\\Python\\Python311\\site-packages\\pymultifracs\\utils.py:87: RuntimeWarning: divide by zero encountered in power\n",
      "  return np.power(array, exponent)\n",
      "C:\\Users\\ANT\\AppData\\Roaming\\Python\\Python311\\site-packages\\pymultifracs\\utils.py:76: RuntimeWarning: divide by zero encountered in reciprocal\n",
      "  return array ** exponent\n",
      "C:\\Users\\ANT\\AppData\\Roaming\\Python\\Python311\\site-packages\\pymultifracs\\cumulants.py:265: RuntimeWarning: divide by zero encountered in log\n",
      "  log_T_X_j = np.log(T_X_j)\n",
      "C:\\Users\\ANT\\AppData\\Roaming\\Python\\Python311\\site-packages\\pymultifracs\\mfspectrum.py:117: RuntimeWarning: invalid value encountered in divide\n",
      "  R_j = temp / Z\n",
      "C:\\Users\\ANT\\AppData\\Roaming\\Python\\Python311\\site-packages\\pymultifracs\\mfspectrum.py:118: RuntimeWarning: divide by zero encountered in log2\n",
      "  V[:, ind_j, :] = fixednansum(R_j * np.log2(mrq_values_j), axis=1)\n",
      "C:\\Users\\ANT\\AppData\\Roaming\\Python\\Python311\\site-packages\\pymultifracs\\mfspectrum.py:118: RuntimeWarning: invalid value encountered in multiply\n",
      "  V[:, ind_j, :] = fixednansum(R_j * np.log2(mrq_values_j), axis=1)\n",
      "C:\\Users\\ANT\\AppData\\Roaming\\Python\\Python311\\site-packages\\pymultifracs\\mfspectrum.py:119: RuntimeWarning: divide by zero encountered in log2\n",
      "  U[:, ind_j, :] = np.log2(nj) + fixednansum((R_j * np.log2(R_j)),\n",
      "C:\\Users\\ANT\\AppData\\Roaming\\Python\\Python311\\site-packages\\pymultifracs\\mfspectrum.py:119: RuntimeWarning: invalid value encountered in multiply\n",
      "  U[:, ind_j, :] = np.log2(nj) + fixednansum((R_j * np.log2(R_j)),\n"
     ]
    },
    {
     "name": "stdout",
     "output_type": "stream",
     "text": [
      "Transformation: ['fourier', 'multifracs']+{'new_dimension': 40}, Shape: (1164, 43)\n",
      "Transformation: ['fourier', 'multifracs']+{'new_dimension': 40}, Classifier: SVM, Mean Accuracy: 0.802, Std Dev: 0.060\n",
      "Transformation: ['fourier', 'multifracs']+{'new_dimension': 40}, Classifier: DecisionTree, Mean Accuracy: 0.720, Std Dev: 0.061\n",
      "Transformation: ['fourier', 'multifracs']+{'new_dimension': 40}, Classifier: RandomForest, Mean Accuracy: 0.820, Std Dev: 0.056\n",
      "\n",
      "Transformation: ['fourier', 'multifracs']+{'new_dimension': 40}, Shape: (1164, 43)\n",
      "Transformation: ['fourier', 'multifracs']+{'new_dimension': 40}, Classifier: SVM, Mean Accuracy: 0.802, Std Dev: 0.060\n",
      "Transformation: ['fourier', 'multifracs']+{'new_dimension': 40}, Classifier: DecisionTree, Mean Accuracy: 0.717, Std Dev: 0.059\n",
      "Transformation: ['fourier', 'multifracs']+{'new_dimension': 40}, Classifier: RandomForest, Mean Accuracy: 0.820, Std Dev: 0.056\n",
      "\n",
      "Transformation: ['fourier', 'multifracs', 'shannon_encoding']+{'new_dimension': 40}, Shape: (1164, 51)\n",
      "Transformation: ['fourier', 'multifracs', 'shannon_encoding']+{'new_dimension': 40}, Classifier: SVM, Mean Accuracy: 0.971, Std Dev: 0.050\n",
      "Transformation: ['fourier', 'multifracs', 'shannon_encoding']+{'new_dimension': 40}, Classifier: DecisionTree, Mean Accuracy: 0.997, Std Dev: 0.007\n",
      "Transformation: ['fourier', 'multifracs', 'shannon_encoding']+{'new_dimension': 40}, Classifier: RandomForest, Mean Accuracy: 0.972, Std Dev: 0.055\n",
      "\n",
      "Computating  multifracs{'k': 3} ... "
     ]
    },
    {
     "name": "stderr",
     "output_type": "stream",
     "text": [
      "C:\\Users\\ANT\\AppData\\Roaming\\Python\\Python311\\site-packages\\pymultifracs\\utils.py:87: RuntimeWarning: divide by zero encountered in power\n",
      "  return np.power(array, exponent)\n",
      "C:\\Users\\ANT\\AppData\\Roaming\\Python\\Python311\\site-packages\\pymultifracs\\utils.py:76: RuntimeWarning: divide by zero encountered in reciprocal\n",
      "  return array ** exponent\n",
      "C:\\Users\\ANT\\AppData\\Roaming\\Python\\Python311\\site-packages\\pymultifracs\\cumulants.py:265: RuntimeWarning: divide by zero encountered in log\n",
      "  log_T_X_j = np.log(T_X_j)\n",
      "C:\\Users\\ANT\\AppData\\Roaming\\Python\\Python311\\site-packages\\pymultifracs\\mfspectrum.py:117: RuntimeWarning: invalid value encountered in divide\n",
      "  R_j = temp / Z\n",
      "C:\\Users\\ANT\\AppData\\Roaming\\Python\\Python311\\site-packages\\pymultifracs\\mfspectrum.py:118: RuntimeWarning: divide by zero encountered in log2\n",
      "  V[:, ind_j, :] = fixednansum(R_j * np.log2(mrq_values_j), axis=1)\n",
      "C:\\Users\\ANT\\AppData\\Roaming\\Python\\Python311\\site-packages\\pymultifracs\\mfspectrum.py:118: RuntimeWarning: invalid value encountered in multiply\n",
      "  V[:, ind_j, :] = fixednansum(R_j * np.log2(mrq_values_j), axis=1)\n",
      "C:\\Users\\ANT\\AppData\\Roaming\\Python\\Python311\\site-packages\\pymultifracs\\mfspectrum.py:119: RuntimeWarning: divide by zero encountered in log2\n",
      "  U[:, ind_j, :] = np.log2(nj) + fixednansum((R_j * np.log2(R_j)),\n",
      "C:\\Users\\ANT\\AppData\\Roaming\\Python\\Python311\\site-packages\\pymultifracs\\mfspectrum.py:119: RuntimeWarning: invalid value encountered in multiply\n",
      "  U[:, ind_j, :] = np.log2(nj) + fixednansum((R_j * np.log2(R_j)),\n"
     ]
    },
    {
     "name": "stdout",
     "output_type": "stream",
     "text": [
      "Transformation: ['low_fourier', 'multifracs', 'autoreg']+{'k': 3}, Shape: (1164, 1098)\n",
      "Transformation: ['low_fourier', 'multifracs', 'autoreg']+{'k': 3}, Classifier: SVM, Mean Accuracy: 0.925, Std Dev: 0.066\n",
      "Transformation: ['low_fourier', 'multifracs', 'autoreg']+{'k': 3}, Classifier: DecisionTree, Mean Accuracy: 0.896, Std Dev: 0.057\n",
      "Transformation: ['low_fourier', 'multifracs', 'autoreg']+{'k': 3}, Classifier: RandomForest, Mean Accuracy: 0.939, Std Dev: 0.047\n",
      "\n",
      "\n",
      "Transformation: crosscor, Classifier: SVM, Mean Accuracy: 0.733, Std Dev: 0.058\n",
      "Transformation: crosscor, Classifier: DecisionTree, Mean Accuracy: 0.656, Std Dev: 0.037\n",
      "Transformation: crosscor, Classifier: RandomForest, Mean Accuracy: 0.747, Std Dev: 0.041\n",
      "\n",
      "Transformation: autocor+{'m': 5000, 'k': 4}, Classifier: SVM, Mean Accuracy: 0.472, Std Dev: 0.009\n",
      "Transformation: autocor+{'m': 5000, 'k': 4}, Classifier: DecisionTree, Mean Accuracy: 0.339, Std Dev: 0.035\n",
      "Transformation: autocor+{'m': 5000, 'k': 4}, Classifier: RandomForest, Mean Accuracy: 0.451, Std Dev: 0.022\n",
      "\n",
      "Transformation: fourier+{'new_dimension': 40}, Classifier: SVM, Mean Accuracy: 0.709, Std Dev: 0.027\n",
      "Transformation: fourier+{'new_dimension': 40}, Classifier: DecisionTree, Mean Accuracy: 0.625, Std Dev: 0.032\n",
      "Transformation: fourier+{'new_dimension': 40}, Classifier: RandomForest, Mean Accuracy: 0.760, Std Dev: 0.052\n",
      "\n",
      "Transformation: low_fourier, Classifier: SVM, Mean Accuracy: 0.880, Std Dev: 0.074\n",
      "Transformation: low_fourier, Classifier: DecisionTree, Mean Accuracy: 0.800, Std Dev: 0.046\n",
      "Transformation: low_fourier, Classifier: RandomForest, Mean Accuracy: 0.897, Std Dev: 0.057\n",
      "\n",
      "Transformation: low_psd, Classifier: SVM, Mean Accuracy: 0.839, Std Dev: 0.059\n",
      "Transformation: low_psd, Classifier: DecisionTree, Mean Accuracy: 0.803, Std Dev: 0.052\n",
      "Transformation: low_psd, Classifier: RandomForest, Mean Accuracy: 0.884, Std Dev: 0.057\n",
      "\n",
      "Transformation: wavedec, Classifier: SVM, Mean Accuracy: 0.929, Std Dev: 0.057\n",
      "Transformation: wavedec, Classifier: DecisionTree, Mean Accuracy: 0.653, Std Dev: 0.066\n",
      "Transformation: wavedec, Classifier: RandomForest, Mean Accuracy: 0.852, Std Dev: 0.052\n",
      "\n",
      "Transformation: autoreg+{'k': 3}, Classifier: SVM, Mean Accuracy: 0.873, Std Dev: 0.040\n",
      "Transformation: autoreg+{'k': 3}, Classifier: DecisionTree, Mean Accuracy: 0.912, Std Dev: 0.054\n",
      "Transformation: autoreg+{'k': 3}, Classifier: RandomForest, Mean Accuracy: 0.923, Std Dev: 0.055\n",
      "\n",
      "Transformation: shannon_encoding, Classifier: SVM, Mean Accuracy: 0.972, Std Dev: 0.051\n",
      "Transformation: shannon_encoding, Classifier: DecisionTree, Mean Accuracy: 0.997, Std Dev: 0.007\n",
      "Transformation: shannon_encoding, Classifier: RandomForest, Mean Accuracy: 0.973, Std Dev: 0.053\n",
      "\n",
      "Transformation: wavelet_leaders, Classifier: SVM, Mean Accuracy: 0.731, Std Dev: 0.090\n",
      "Transformation: wavelet_leaders, Classifier: DecisionTree, Mean Accuracy: 0.686, Std Dev: 0.065\n",
      "Transformation: wavelet_leaders, Classifier: RandomForest, Mean Accuracy: 0.709, Std Dev: 0.103\n",
      "\n",
      "Transformation: multifracs, Classifier: SVM, Mean Accuracy: 0.780, Std Dev: 0.067\n",
      "Transformation: multifracs, Classifier: DecisionTree, Mean Accuracy: 0.728, Std Dev: 0.071\n",
      "Transformation: multifracs, Classifier: RandomForest, Mean Accuracy: 0.762, Std Dev: 0.069\n",
      "\n",
      "Transformation: multifracs+{'j1': 1, 'j2': 12}, Classifier: SVM, Mean Accuracy: 0.868, Std Dev: 0.067\n",
      "Transformation: multifracs+{'j1': 1, 'j2': 12}, Classifier: DecisionTree, Mean Accuracy: 0.816, Std Dev: 0.071\n",
      "Transformation: multifracs+{'j1': 1, 'j2': 12}, Classifier: RandomForest, Mean Accuracy: 0.852, Std Dev: 0.073\n",
      "\n",
      "Transformation: ['wavelet_leaders', 'shannon_encoding'], Classifier: SVM, Mean Accuracy: 0.973, Std Dev: 0.051\n",
      "Transformation: ['wavelet_leaders', 'shannon_encoding'], Classifier: DecisionTree, Mean Accuracy: 0.995, Std Dev: 0.010\n",
      "Transformation: ['wavelet_leaders', 'shannon_encoding'], Classifier: RandomForest, Mean Accuracy: 0.974, Std Dev: 0.052\n",
      "\n",
      "Transformation: ['wavelet_leaders', 'multifracs'], Classifier: SVM, Mean Accuracy: 0.826, Std Dev: 0.096\n",
      "Transformation: ['wavelet_leaders', 'multifracs'], Classifier: DecisionTree, Mean Accuracy: 0.806, Std Dev: 0.080\n",
      "Transformation: ['wavelet_leaders', 'multifracs'], Classifier: RandomForest, Mean Accuracy: 0.822, Std Dev: 0.103\n",
      "\n",
      "Transformation: ['fourier', 'multifracs']+{'new_dimension': 40}, Classifier: SVM, Mean Accuracy: 0.802, Std Dev: 0.060\n",
      "Transformation: ['fourier', 'multifracs']+{'new_dimension': 40}, Classifier: DecisionTree, Mean Accuracy: 0.717, Std Dev: 0.059\n",
      "Transformation: ['fourier', 'multifracs']+{'new_dimension': 40}, Classifier: RandomForest, Mean Accuracy: 0.820, Std Dev: 0.056\n",
      "\n",
      "Transformation: ['fourier', 'multifracs', 'shannon_encoding']+{'new_dimension': 40}, Classifier: SVM, Mean Accuracy: 0.971, Std Dev: 0.050\n",
      "Transformation: ['fourier', 'multifracs', 'shannon_encoding']+{'new_dimension': 40}, Classifier: DecisionTree, Mean Accuracy: 0.997, Std Dev: 0.007\n",
      "Transformation: ['fourier', 'multifracs', 'shannon_encoding']+{'new_dimension': 40}, Classifier: RandomForest, Mean Accuracy: 0.972, Std Dev: 0.055\n",
      "\n",
      "Transformation: ['low_fourier', 'multifracs', 'autoreg']+{'k': 3}, Classifier: SVM, Mean Accuracy: 0.925, Std Dev: 0.066\n",
      "Transformation: ['low_fourier', 'multifracs', 'autoreg']+{'k': 3}, Classifier: DecisionTree, Mean Accuracy: 0.896, Std Dev: 0.057\n",
      "Transformation: ['low_fourier', 'multifracs', 'autoreg']+{'k': 3}, Classifier: RandomForest, Mean Accuracy: 0.939, Std Dev: 0.047\n"
     ]
    }
   ],
   "source": [
    "# Define the classifiers to be tested\n",
    "classifiers = {\n",
    "    'SVM': SVC(),\n",
    "    'DecisionTree': DecisionTreeClassifier(),\n",
    "    'RandomForest': RandomForestClassifier()\n",
    "}\n",
    "\n",
    "# Define the transformations to be tested\n",
    "transformations = [\n",
    "    # ['identity'],\n",
    "    ['crosscor'],\n",
    "    ['autocor', {'m':5000,'k':4}],\n",
    "    ['fourier', {'new_dimension':40}],\n",
    "    ['low_fourier'],\n",
    "    ['low_psd'],\n",
    "    ['wavedec'],\n",
    "    ['autoreg', {'k': 3}],\n",
    "    ['shannon_encoding'],\n",
    "    ['wavelet_leaders'],\n",
    "    ['multifracs'],\n",
    "    ['multifracs', {'j1':1,'j2':12}],\n",
    "    [['wavelet_leaders','shannon_encoding']],\n",
    "    [['wavelet_leaders','multifracs']],\n",
    "    [['fourier','multifracs',], {'new_dimension':40}],\n",
    "    [['fourier','multifracs',], {'new_dimension':40}],\n",
    "    [['fourier','multifracs','shannon_encoding'], {'new_dimension':40}],\n",
    "    [['low_fourier','multifracs','autoreg'], {'k':3}],\n",
    "    \n",
    "]\n",
    "\n",
    "\n",
    "\n",
    "\n",
    "# Function to evaluate a classifier using cross-validation\n",
    "def evaluate_classifier_cv(classifier, X, y):\n",
    "    scores = cross_val_score(classifier, X, y, cv=5)  # 5-fold cross-validation\n",
    "    return np.mean(scores), np.std(scores)\n",
    "\n",
    "# Loop over each transformation and each classifier\n",
    "results = {}\n",
    "\n",
    "for trans_names in transformations:\n",
    "    # print()\n",
    "    trans_names_str = [str(name) for name in trans_names]\n",
    "    trans_name_str = '+'.join(trans_names_str) if isinstance(trans_names, list) else trans_names\n",
    "    kwargs = trans_names[1] if isinstance(trans_names, list) and len(trans_names) > 1 else {}\n",
    "    trans_names = trans_names[0] if isinstance(trans_names, list) else trans_names\n",
    "    \n",
    "    # Apply transformation\n",
    "    transformed_X = data_transformer.apply_transformation(X, trans_names, **kwargs)\n",
    "    print(f\"Transformation: {trans_name_str}, Shape: {transformed_X.shape}\" )\n",
    "    # Standardize the data (important for some classifiers like SVM)\n",
    "    scaler = StandardScaler()\n",
    "    transformed_X = scaler.fit_transform(transformed_X)\n",
    "    \n",
    "    results[trans_name_str] = {}\n",
    "    for clf_name, clf in classifiers.items():\n",
    "        # Evaluate the classifier with cross-validation\n",
    "        mean_accuracy, std_accuracy = evaluate_classifier_cv(clf, transformed_X, y)\n",
    "        results[trans_name_str][clf_name] = (mean_accuracy, std_accuracy)\n",
    "        print(f\"Transformation: {trans_name_str}, Classifier: {clf_name}, Mean Accuracy: {mean_accuracy:.3f}, Std Dev: {std_accuracy:.3f}\")\n",
    "\n",
    "    print()\n",
    "# Print the results\n",
    "for trans_name, clf_results in results.items():\n",
    "    print()\n",
    "    for clf_name, (mean_accuracy, std_accuracy) in clf_results.items():\n",
    "        print(f\"Transformation: {trans_name}, Classifier: {clf_name}, Mean Accuracy: {mean_accuracy:.3f}, Std Dev: {std_accuracy:.3f}\")\n",
    "        "
   ]
  }
 ],
 "metadata": {
  "kernelspec": {
   "display_name": "base",
   "language": "python",
   "name": "python3"
  },
  "language_info": {
   "codemirror_mode": {
    "name": "ipython",
    "version": 3
   },
   "file_extension": ".py",
   "mimetype": "text/x-python",
   "name": "python",
   "nbconvert_exporter": "python",
   "pygments_lexer": "ipython3",
   "version": "3.11.0"
  }
 },
 "nbformat": 4,
 "nbformat_minor": 2
}
