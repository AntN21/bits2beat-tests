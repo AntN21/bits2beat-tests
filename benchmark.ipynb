{
 "cells": [
  {
   "cell_type": "markdown",
   "metadata": {},
   "source": [
    "# Benchmark for signal representation "
   ]
  },
  {
   "cell_type": "markdown",
   "metadata": {},
   "source": [
    "- Multifractal analysis (1ere approche)\n",
    "\n",
    "- Discrete Fourier Transform (DFT) $\\checkmark$\n",
    "- Spectrogram\n",
    "- Autoregression $\\checkmark$\n",
    "- Shannon encoding $\\checkmark$\n",
    "- Wavelets (en cours)\n",
    "\n",
    "- Local symbolic features\n",
    "- SAX representation\n",
    "- Approximate entropy\n",
    "\n",
    "ML\n",
    "\n",
    "- Autoencoder\n",
    "\n",
    "- RNN\n",
    "- LSTM\n",
    "\n"
   ]
  },
  {
   "cell_type": "markdown",
   "metadata": {},
   "source": [
    "## Imports"
   ]
  },
  {
   "cell_type": "code",
   "execution_count": 1,
   "metadata": {},
   "outputs": [],
   "source": [
    "import numpy as np \n",
    "import matplotlib.pyplot as plt\n",
    "\n",
    "# import pywt\n",
    "\n",
    "# import pymultifracs.mfa as mfa\n",
    "# from pymultifracs.utils import build_q_log\n",
    "# from statsmodels.tsa.ar_model import AutoReg, ar_select_order\n"
   ]
  },
  {
   "cell_type": "code",
   "execution_count": 2,
   "metadata": {},
   "outputs": [],
   "source": [
    "from sklearn.svm import SVC\n",
    "from sklearn.tree import DecisionTreeClassifier\n",
    "from sklearn.ensemble import RandomForestClassifier\n",
    "from sklearn.model_selection import cross_val_score\n",
    "from sklearn.preprocessing import StandardScaler\n"
   ]
  },
  {
   "cell_type": "code",
   "execution_count": 3,
   "metadata": {},
   "outputs": [
    {
     "name": "stdout",
     "output_type": "stream",
     "text": [
      "importing Jupyter notebook from transformations.ipynb\n"
     ]
    }
   ],
   "source": [
    "import import_ipynb\n",
    "from transformations import DataTransform,TransformationRegistry, IdentityTransform, FourierTransform, LowFourierTransform, LowPsdTransform, WaveDecTransform, DwtTransform, AutoRegTransform, ShannonEncodingTransform, WaveletLeadersTransform, CrossCorTransform, AutoCorTransform, MultiFracsTransform"
   ]
  },
  {
   "cell_type": "code",
   "execution_count": 4,
   "metadata": {},
   "outputs": [],
   "source": [
    "# Initialize the registry\n",
    "registry = TransformationRegistry()\n",
    "\n",
    "# Register transformations\n",
    "registry.register('identity', IdentityTransform)\n",
    "registry.register('fourier', FourierTransform)\n",
    "registry.register('low_fourier', LowFourierTransform)\n",
    "registry.register('low_psd', LowPsdTransform)\n",
    "registry.register('wavedec', WaveDecTransform)\n",
    "registry.register('dwt', DwtTransform)\n",
    "registry.register('autoreg', AutoRegTransform)\n",
    "registry.register('shannon_encoding', ShannonEncodingTransform)\n",
    "registry.register('wavelet_leaders', WaveletLeadersTransform)\n",
    "registry.register('multifracs', MultiFracsTransform)\n",
    "registry.register('crosscor', CrossCorTransform)\n",
    "registry.register('autocor', AutoCorTransform)\n"
   ]
  },
  {
   "cell_type": "markdown",
   "metadata": {},
   "source": [
    "## Data Load"
   ]
  },
  {
   "cell_type": "code",
   "execution_count": 5,
   "metadata": {},
   "outputs": [],
   "source": [
    "ecgs_labels = np.load('ecgs_labels.npy')\n",
    "\n",
    "X, y = ecgs_labels[:,:-1], ecgs_labels[:,-1]"
   ]
  },
  {
   "cell_type": "code",
   "execution_count": 6,
   "metadata": {},
   "outputs": [
    {
     "data": {
      "text/plain": [
       "0"
      ]
     },
     "execution_count": 6,
     "metadata": {},
     "output_type": "execute_result"
    }
   ],
   "source": [
    "np.isnan(X).sum()"
   ]
  },
  {
   "cell_type": "code",
   "execution_count": null,
   "metadata": {},
   "outputs": [],
   "source": []
  },
  {
   "cell_type": "code",
   "execution_count": 8,
   "metadata": {},
   "outputs": [
    {
     "name": "stdout",
     "output_type": "stream",
     "text": [
      "Transformation: crosscor, Shape: (1165, 10)\n",
      "Transformation: crosscor, Classifier: SVM, Mean Accuracy: 0.735, Std Dev: 0.057\n",
      "Transformation: crosscor, Classifier: DecisionTree, Mean Accuracy: 0.643, Std Dev: 0.056\n",
      "Transformation: crosscor, Classifier: RandomForest, Mean Accuracy: 0.758, Std Dev: 0.044\n",
      "\n",
      "Transformation: autocor+{'m': 5000, 'k': 4}, Shape: (1165, 52)\n",
      "Transformation: autocor+{'m': 5000, 'k': 4}, Classifier: SVM, Mean Accuracy: 0.474, Std Dev: 0.013\n",
      "Transformation: autocor+{'m': 5000, 'k': 4}, Classifier: DecisionTree, Mean Accuracy: 0.355, Std Dev: 0.018\n",
      "Transformation: autocor+{'m': 5000, 'k': 4}, Classifier: RandomForest, Mean Accuracy: 0.467, Std Dev: 0.019\n",
      "\n",
      "Transformation: fourier+{'new_dimension': 40}, Shape: (1165, 40)\n",
      "Transformation: fourier+{'new_dimension': 40}, Classifier: SVM, Mean Accuracy: 0.708, Std Dev: 0.026\n",
      "Transformation: fourier+{'new_dimension': 40}, Classifier: DecisionTree, Mean Accuracy: 0.633, Std Dev: 0.030\n",
      "Transformation: fourier+{'new_dimension': 40}, Classifier: RandomForest, Mean Accuracy: 0.751, Std Dev: 0.053\n",
      "\n",
      "Transformation: low_fourier+{'n': 100}, Shape: (1165, 52)\n",
      "Transformation: low_fourier+{'n': 100}, Classifier: SVM, Mean Accuracy: 0.814, Std Dev: 0.017\n",
      "Transformation: low_fourier+{'n': 100}, Classifier: DecisionTree, Mean Accuracy: 0.745, Std Dev: 0.032\n",
      "Transformation: low_fourier+{'n': 100}, Classifier: RandomForest, Mean Accuracy: 0.864, Std Dev: 0.026\n",
      "\n",
      "Transformation: low_psd+{'n': 100}, Shape: (1165, 52)\n",
      "Transformation: low_psd+{'n': 100}, Classifier: SVM, Mean Accuracy: 0.684, Std Dev: 0.033\n",
      "Transformation: low_psd+{'n': 100}, Classifier: DecisionTree, Mean Accuracy: 0.721, Std Dev: 0.060\n",
      "Transformation: low_psd+{'n': 100}, Classifier: RandomForest, Mean Accuracy: 0.867, Std Dev: 0.019\n",
      "\n",
      "Transformation: wavedec, Shape: (1165, 4063)\n",
      "Transformation: wavedec, Classifier: SVM, Mean Accuracy: 0.929, Std Dev: 0.057\n",
      "Transformation: wavedec, Classifier: DecisionTree, Mean Accuracy: 0.650, Std Dev: 0.057\n",
      "Transformation: wavedec, Classifier: RandomForest, Mean Accuracy: 0.865, Std Dev: 0.046\n",
      "\n",
      "Transformation: autoreg+{'k': 3}, Shape: (1165, 3)\n",
      "Transformation: autoreg+{'k': 3}, Classifier: SVM, Mean Accuracy: 0.873, Std Dev: 0.041\n",
      "Transformation: autoreg+{'k': 3}, Classifier: DecisionTree, Mean Accuracy: 0.910, Std Dev: 0.052\n",
      "Transformation: autoreg+{'k': 3}, Classifier: RandomForest, Mean Accuracy: 0.921, Std Dev: 0.054\n",
      "\n",
      "Transformation: shannon_encoding, Shape: (1165, 8)\n",
      "Transformation: shannon_encoding, Classifier: SVM, Mean Accuracy: 0.972, Std Dev: 0.050\n",
      "Transformation: shannon_encoding, Classifier: DecisionTree, Mean Accuracy: 1.000, Std Dev: 0.000\n",
      "Transformation: shannon_encoding, Classifier: RandomForest, Mean Accuracy: 0.974, Std Dev: 0.052\n",
      "\n"
     ]
    },
    {
     "name": "stderr",
     "output_type": "stream",
     "text": [
      "c:\\Users\\aejog\\anaconda3\\Lib\\site-packages\\pymultifracs\\utils.py:87: RuntimeWarning: divide by zero encountered in power\n",
      "  return np.power(array, exponent)\n",
      "c:\\Users\\aejog\\anaconda3\\Lib\\site-packages\\pymultifracs\\utils.py:76: RuntimeWarning: divide by zero encountered in reciprocal\n",
      "  return array ** exponent\n",
      "c:\\Users\\aejog\\anaconda3\\Lib\\site-packages\\pymultifracs\\cumulants.py:265: RuntimeWarning: divide by zero encountered in log\n",
      "  log_T_X_j = np.log(T_X_j)\n",
      "c:\\Users\\aejog\\anaconda3\\Lib\\site-packages\\pymultifracs\\mfspectrum.py:117: RuntimeWarning: invalid value encountered in divide\n",
      "  R_j = temp / Z\n",
      "c:\\Users\\aejog\\anaconda3\\Lib\\site-packages\\pymultifracs\\mfspectrum.py:118: RuntimeWarning: divide by zero encountered in log2\n",
      "  V[:, ind_j, :] = fixednansum(R_j * np.log2(mrq_values_j), axis=1)\n",
      "c:\\Users\\aejog\\anaconda3\\Lib\\site-packages\\pymultifracs\\mfspectrum.py:118: RuntimeWarning: invalid value encountered in multiply\n",
      "  V[:, ind_j, :] = fixednansum(R_j * np.log2(mrq_values_j), axis=1)\n",
      "c:\\Users\\aejog\\anaconda3\\Lib\\site-packages\\pymultifracs\\mfspectrum.py:119: RuntimeWarning: divide by zero encountered in log2\n",
      "  U[:, ind_j, :] = np.log2(nj) + fixednansum((R_j * np.log2(R_j)),\n",
      "c:\\Users\\aejog\\anaconda3\\Lib\\site-packages\\pymultifracs\\mfspectrum.py:119: RuntimeWarning: invalid value encountered in multiply\n",
      "  U[:, ind_j, :] = np.log2(nj) + fixednansum((R_j * np.log2(R_j)),\n"
     ]
    },
    {
     "name": "stdout",
     "output_type": "stream",
     "text": [
      "Transformation: wavelet_leaders, Shape: (1165, 2)\n",
      "Transformation: wavelet_leaders, Classifier: SVM, Mean Accuracy: 0.730, Std Dev: 0.090\n",
      "Transformation: wavelet_leaders, Classifier: DecisionTree, Mean Accuracy: 0.694, Std Dev: 0.052\n",
      "Transformation: wavelet_leaders, Classifier: RandomForest, Mean Accuracy: 0.713, Std Dev: 0.089\n",
      "\n"
     ]
    },
    {
     "name": "stderr",
     "output_type": "stream",
     "text": [
      "c:\\Users\\aejog\\anaconda3\\Lib\\site-packages\\pymultifracs\\utils.py:87: RuntimeWarning: divide by zero encountered in power\n",
      "  return np.power(array, exponent)\n",
      "c:\\Users\\aejog\\anaconda3\\Lib\\site-packages\\pymultifracs\\utils.py:76: RuntimeWarning: divide by zero encountered in reciprocal\n",
      "  return array ** exponent\n",
      "c:\\Users\\aejog\\anaconda3\\Lib\\site-packages\\pymultifracs\\cumulants.py:265: RuntimeWarning: divide by zero encountered in log\n",
      "  log_T_X_j = np.log(T_X_j)\n",
      "c:\\Users\\aejog\\anaconda3\\Lib\\site-packages\\pymultifracs\\mfspectrum.py:117: RuntimeWarning: invalid value encountered in divide\n",
      "  R_j = temp / Z\n",
      "c:\\Users\\aejog\\anaconda3\\Lib\\site-packages\\pymultifracs\\mfspectrum.py:118: RuntimeWarning: divide by zero encountered in log2\n",
      "  V[:, ind_j, :] = fixednansum(R_j * np.log2(mrq_values_j), axis=1)\n",
      "c:\\Users\\aejog\\anaconda3\\Lib\\site-packages\\pymultifracs\\mfspectrum.py:118: RuntimeWarning: invalid value encountered in multiply\n",
      "  V[:, ind_j, :] = fixednansum(R_j * np.log2(mrq_values_j), axis=1)\n",
      "c:\\Users\\aejog\\anaconda3\\Lib\\site-packages\\pymultifracs\\mfspectrum.py:119: RuntimeWarning: divide by zero encountered in log2\n",
      "  U[:, ind_j, :] = np.log2(nj) + fixednansum((R_j * np.log2(R_j)),\n",
      "c:\\Users\\aejog\\anaconda3\\Lib\\site-packages\\pymultifracs\\mfspectrum.py:119: RuntimeWarning: invalid value encountered in multiply\n",
      "  U[:, ind_j, :] = np.log2(nj) + fixednansum((R_j * np.log2(R_j)),\n"
     ]
    },
    {
     "name": "stdout",
     "output_type": "stream",
     "text": [
      "Transformation: multifracs, Shape: (1165, 3)\n",
      "Transformation: multifracs, Classifier: SVM, Mean Accuracy: 0.780, Std Dev: 0.068\n",
      "Transformation: multifracs, Classifier: DecisionTree, Mean Accuracy: 0.710, Std Dev: 0.064\n",
      "Transformation: multifracs, Classifier: RandomForest, Mean Accuracy: 0.755, Std Dev: 0.074\n",
      "\n"
     ]
    },
    {
     "name": "stderr",
     "output_type": "stream",
     "text": [
      "c:\\Users\\aejog\\anaconda3\\Lib\\site-packages\\pymultifracs\\utils.py:87: RuntimeWarning: divide by zero encountered in power\n",
      "  return np.power(array, exponent)\n",
      "c:\\Users\\aejog\\anaconda3\\Lib\\site-packages\\pymultifracs\\utils.py:76: RuntimeWarning: divide by zero encountered in reciprocal\n",
      "  return array ** exponent\n",
      "c:\\Users\\aejog\\anaconda3\\Lib\\site-packages\\pymultifracs\\cumulants.py:265: RuntimeWarning: divide by zero encountered in log\n",
      "  log_T_X_j = np.log(T_X_j)\n",
      "c:\\Users\\aejog\\anaconda3\\Lib\\site-packages\\pymultifracs\\mfspectrum.py:117: RuntimeWarning: invalid value encountered in divide\n",
      "  R_j = temp / Z\n",
      "c:\\Users\\aejog\\anaconda3\\Lib\\site-packages\\pymultifracs\\mfspectrum.py:118: RuntimeWarning: divide by zero encountered in log2\n",
      "  V[:, ind_j, :] = fixednansum(R_j * np.log2(mrq_values_j), axis=1)\n",
      "c:\\Users\\aejog\\anaconda3\\Lib\\site-packages\\pymultifracs\\mfspectrum.py:118: RuntimeWarning: invalid value encountered in multiply\n",
      "  V[:, ind_j, :] = fixednansum(R_j * np.log2(mrq_values_j), axis=1)\n",
      "c:\\Users\\aejog\\anaconda3\\Lib\\site-packages\\pymultifracs\\mfspectrum.py:119: RuntimeWarning: divide by zero encountered in log2\n",
      "  U[:, ind_j, :] = np.log2(nj) + fixednansum((R_j * np.log2(R_j)),\n",
      "c:\\Users\\aejog\\anaconda3\\Lib\\site-packages\\pymultifracs\\mfspectrum.py:119: RuntimeWarning: invalid value encountered in multiply\n",
      "  U[:, ind_j, :] = np.log2(nj) + fixednansum((R_j * np.log2(R_j)),\n"
     ]
    },
    {
     "name": "stdout",
     "output_type": "stream",
     "text": [
      "Transformation: ['wavelet_leaders', 'shannon_encoding'], Shape: (1165, 10)\n",
      "Transformation: ['wavelet_leaders', 'shannon_encoding'], Classifier: SVM, Mean Accuracy: 0.973, Std Dev: 0.051\n",
      "Transformation: ['wavelet_leaders', 'shannon_encoding'], Classifier: DecisionTree, Mean Accuracy: 0.996, Std Dev: 0.009\n",
      "Transformation: ['wavelet_leaders', 'shannon_encoding'], Classifier: RandomForest, Mean Accuracy: 0.974, Std Dev: 0.052\n",
      "\n",
      "Transformation: crosscor, Classifier: SVM, Mean Accuracy: 0.735, Std Dev: 0.057\n",
      "\n",
      "Transformation: crosscor, Classifier: DecisionTree, Mean Accuracy: 0.643, Std Dev: 0.056\n",
      "\n",
      "Transformation: crosscor, Classifier: RandomForest, Mean Accuracy: 0.758, Std Dev: 0.044\n",
      "\n",
      "Transformation: autocor+{'m': 5000, 'k': 4}, Classifier: SVM, Mean Accuracy: 0.474, Std Dev: 0.013\n",
      "\n",
      "Transformation: autocor+{'m': 5000, 'k': 4}, Classifier: DecisionTree, Mean Accuracy: 0.355, Std Dev: 0.018\n",
      "\n",
      "Transformation: autocor+{'m': 5000, 'k': 4}, Classifier: RandomForest, Mean Accuracy: 0.467, Std Dev: 0.019\n",
      "\n",
      "Transformation: fourier+{'new_dimension': 40}, Classifier: SVM, Mean Accuracy: 0.708, Std Dev: 0.026\n",
      "\n",
      "Transformation: fourier+{'new_dimension': 40}, Classifier: DecisionTree, Mean Accuracy: 0.633, Std Dev: 0.030\n",
      "\n",
      "Transformation: fourier+{'new_dimension': 40}, Classifier: RandomForest, Mean Accuracy: 0.751, Std Dev: 0.053\n",
      "\n",
      "Transformation: low_fourier+{'n': 100}, Classifier: SVM, Mean Accuracy: 0.814, Std Dev: 0.017\n",
      "\n",
      "Transformation: low_fourier+{'n': 100}, Classifier: DecisionTree, Mean Accuracy: 0.745, Std Dev: 0.032\n",
      "\n",
      "Transformation: low_fourier+{'n': 100}, Classifier: RandomForest, Mean Accuracy: 0.864, Std Dev: 0.026\n",
      "\n",
      "Transformation: low_psd+{'n': 100}, Classifier: SVM, Mean Accuracy: 0.684, Std Dev: 0.033\n",
      "\n",
      "Transformation: low_psd+{'n': 100}, Classifier: DecisionTree, Mean Accuracy: 0.721, Std Dev: 0.060\n",
      "\n",
      "Transformation: low_psd+{'n': 100}, Classifier: RandomForest, Mean Accuracy: 0.867, Std Dev: 0.019\n",
      "\n",
      "Transformation: wavedec, Classifier: SVM, Mean Accuracy: 0.929, Std Dev: 0.057\n",
      "\n",
      "Transformation: wavedec, Classifier: DecisionTree, Mean Accuracy: 0.650, Std Dev: 0.057\n",
      "\n",
      "Transformation: wavedec, Classifier: RandomForest, Mean Accuracy: 0.865, Std Dev: 0.046\n",
      "\n",
      "Transformation: autoreg+{'k': 3}, Classifier: SVM, Mean Accuracy: 0.873, Std Dev: 0.041\n",
      "\n",
      "Transformation: autoreg+{'k': 3}, Classifier: DecisionTree, Mean Accuracy: 0.910, Std Dev: 0.052\n",
      "\n",
      "Transformation: autoreg+{'k': 3}, Classifier: RandomForest, Mean Accuracy: 0.921, Std Dev: 0.054\n",
      "\n",
      "Transformation: shannon_encoding, Classifier: SVM, Mean Accuracy: 0.972, Std Dev: 0.050\n",
      "\n",
      "Transformation: shannon_encoding, Classifier: DecisionTree, Mean Accuracy: 1.000, Std Dev: 0.000\n",
      "\n",
      "Transformation: shannon_encoding, Classifier: RandomForest, Mean Accuracy: 0.974, Std Dev: 0.052\n",
      "\n",
      "Transformation: wavelet_leaders, Classifier: SVM, Mean Accuracy: 0.730, Std Dev: 0.090\n",
      "\n",
      "Transformation: wavelet_leaders, Classifier: DecisionTree, Mean Accuracy: 0.694, Std Dev: 0.052\n",
      "\n",
      "Transformation: wavelet_leaders, Classifier: RandomForest, Mean Accuracy: 0.713, Std Dev: 0.089\n",
      "\n",
      "Transformation: multifracs, Classifier: SVM, Mean Accuracy: 0.780, Std Dev: 0.068\n",
      "\n",
      "Transformation: multifracs, Classifier: DecisionTree, Mean Accuracy: 0.710, Std Dev: 0.064\n",
      "\n",
      "Transformation: multifracs, Classifier: RandomForest, Mean Accuracy: 0.755, Std Dev: 0.074\n",
      "\n",
      "Transformation: ['wavelet_leaders', 'shannon_encoding'], Classifier: SVM, Mean Accuracy: 0.973, Std Dev: 0.051\n",
      "\n",
      "Transformation: ['wavelet_leaders', 'shannon_encoding'], Classifier: DecisionTree, Mean Accuracy: 0.996, Std Dev: 0.009\n",
      "\n",
      "Transformation: ['wavelet_leaders', 'shannon_encoding'], Classifier: RandomForest, Mean Accuracy: 0.974, Std Dev: 0.052\n",
      "\n"
     ]
    }
   ],
   "source": [
    "# Define the classifiers to be tested\n",
    "classifiers = {\n",
    "    'SVM': SVC(),\n",
    "    'DecisionTree': DecisionTreeClassifier(),\n",
    "    'RandomForest': RandomForestClassifier()\n",
    "}\n",
    "\n",
    "# Define the transformations to be tested\n",
    "transformations = [\n",
    "    # # ['identity'],\n",
    "    ['crosscor'],\n",
    "    ['autocor', {'m':5000,'k':4}],\n",
    "    ['fourier', {'new_dimension':40}],\n",
    "    ['low_fourier',{'n':100}],\n",
    "    ['low_psd',{'n':100}],\n",
    "    ['wavedec'],\n",
    "    ['autoreg', {'k': 3}],\n",
    "    ['shannon_encoding'],\n",
    "    ['wavelet_leaders'],\n",
    "    ['multifracs'],\n",
    "    [['wavelet_leaders','shannon_encoding']]\n",
    "]\n",
    "\n",
    "# Initialize the data transformer\n",
    "data_transformer = DataTransform(registry)\n",
    "\n",
    "# Function to evaluate a classifier using cross-validation\n",
    "def evaluate_classifier_cv(classifier, X, y):\n",
    "    scores = cross_val_score(classifier, X, y, cv=5)  # 5-fold cross-validation\n",
    "    return np.mean(scores), np.std(scores)\n",
    "\n",
    "# Loop over each transformation and each classifier\n",
    "results = {}\n",
    "\n",
    "for trans_names in transformations:\n",
    "    # print()\n",
    "    trans_names_str = [str(name) for name in trans_names]\n",
    "    trans_name_str = '+'.join(trans_names_str) if isinstance(trans_names, list) else trans_names\n",
    "    kwargs = trans_names[1] if isinstance(trans_names, list) and len(trans_names) > 1 else {}\n",
    "    trans_names = trans_names[0] if isinstance(trans_names, list) else trans_names\n",
    "    \n",
    "    # Apply transformation\n",
    "    transformed_X = data_transformer.apply_transformation(X, trans_names, **kwargs)\n",
    "    print(f\"Transformation: {trans_name_str}, Shape: {transformed_X.shape}\" )\n",
    "    # Standardize the data (important for some classifiers like SVM)\n",
    "    scaler = StandardScaler()\n",
    "    transformed_X = scaler.fit_transform(transformed_X)\n",
    "    \n",
    "    results[trans_name_str] = {}\n",
    "    for clf_name, clf in classifiers.items():\n",
    "        # Evaluate the classifier with cross-validation\n",
    "        mean_accuracy, std_accuracy = evaluate_classifier_cv(clf, transformed_X, y)\n",
    "        results[trans_name_str][clf_name] = (mean_accuracy, std_accuracy)\n",
    "        print(f\"Transformation: {trans_name_str}, Classifier: {clf_name}, Mean Accuracy: {mean_accuracy:.3f}, Std Dev: {std_accuracy:.3f}\")\n",
    "\n",
    "    print()\n",
    "# Print the results\n",
    "for trans_name, clf_results in results.items():\n",
    "    for clf_name, (mean_accuracy, std_accuracy) in clf_results.items():\n",
    "        print(f\"Transformation: {trans_name}, Classifier: {clf_name}, Mean Accuracy: {mean_accuracy:.3f}, Std Dev: {std_accuracy:.3f}\")\n",
    "        print()"
   ]
  }
 ],
 "metadata": {
  "kernelspec": {
   "display_name": "base",
   "language": "python",
   "name": "python3"
  },
  "language_info": {
   "codemirror_mode": {
    "name": "ipython",
    "version": 3
   },
   "file_extension": ".py",
   "mimetype": "text/x-python",
   "name": "python",
   "nbconvert_exporter": "python",
   "pygments_lexer": "ipython3",
   "version": "3.11.5"
  }
 },
 "nbformat": 4,
 "nbformat_minor": 2
}
