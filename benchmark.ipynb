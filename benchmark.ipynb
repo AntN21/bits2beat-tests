{
 "cells": [
  {
   "cell_type": "markdown",
   "metadata": {},
   "source": [
    "# Benchmark for signal representation "
   ]
  },
  {
   "cell_type": "markdown",
   "metadata": {},
   "source": [
    "- Multifractal analysis (1ere approche)\n",
    "\n",
    "- Discrete Fourier Transform (DFT) $\\checkmark$\n",
    "- Spectrogram\n",
    "- Autoregression $\\checkmark$\n",
    "- Shannon encoding $\\checkmark$\n",
    "- Wavelets (en cours)\n",
    "\n",
    "- Local symbolic features\n",
    "- SAX representation\n",
    "- Approximate entropy\n",
    "\n",
    "ML\n",
    "\n",
    "- Autoencoder\n",
    "\n",
    "- RNN\n",
    "- LSTM\n",
    "\n"
   ]
  },
  {
   "cell_type": "markdown",
   "metadata": {},
   "source": [
    "## Imports"
   ]
  },
  {
   "cell_type": "code",
   "execution_count": 15,
   "metadata": {},
   "outputs": [],
   "source": [
    "import numpy as np \n",
    "import matplotlib.pyplot as plt\n",
    "import pandas as pd\n",
    "import random\n",
    "import itertools\n",
    "from apyori import apriori\n",
    "\n",
    "# import pywt\n",
    "\n",
    "# import pymultifracs.mfa as mfa\n",
    "# from pymultifracs.utils import build_q_log\n",
    "# from statsmodels.tsa.ar_model import AutoReg, ar_select_order\n"
   ]
  },
  {
   "cell_type": "code",
   "execution_count": 16,
   "metadata": {},
   "outputs": [],
   "source": [
    "from sklearn.svm import SVC\n",
    "from sklearn.tree import DecisionTreeClassifier\n",
    "from sklearn.ensemble import RandomForestClassifier\n",
    "from sklearn.model_selection import cross_val_score, KFold\n",
    "from sklearn.preprocessing import StandardScaler\n"
   ]
  },
  {
   "cell_type": "code",
   "execution_count": 17,
   "metadata": {},
   "outputs": [],
   "source": [
    "\n",
    "# from sklearn.model_selection import  KFold"
   ]
  },
  {
   "cell_type": "code",
   "execution_count": 18,
   "metadata": {},
   "outputs": [],
   "source": [
    "# %pip install import_ipynb\n",
    "# %pip install  --user git+https://github.com/neurospin/pymultifracs"
   ]
  },
  {
   "cell_type": "code",
   "execution_count": 19,
   "metadata": {},
   "outputs": [],
   "source": [
    "import import_ipynb\n",
    "#from transformations import DataTransform,TransformationRegistry, IdentityTransform, FourierTransform, LowFourierTransform, LowPsdTransform, WaveDecTransform, DwtTransform, CwtTransform, AutoRegTransform, ShannonEncodingTransform, WaveletLeadersTransform, CrossCorTransform, AutoCorTransform, MultiFracsTransform, AutoEncoderTransform  \n",
    "from transformations import *\n",
    "from prep_synth_data import create_synth_data"
   ]
  },
  {
   "cell_type": "code",
   "execution_count": 20,
   "metadata": {},
   "outputs": [],
   "source": [
    "# Initialize the registry\n",
    "registry = initialize_registry()#TransformationRegistry()\n",
    "\n",
    "# # Register transformations\n",
    "# registry.register('identity', IdentityTransform)\n",
    "# registry.register('mean', Mean)\n",
    "# registry.register('std', StandardDeviation)\n",
    "# registry.register('fourier', FourierTransform)\n",
    "# registry.register('low_fourier', LowFourierTransform)\n",
    "# registry.register('low_psd', LowPsdTransform)\n",
    "# registry.register('wavedec', WaveDecTransform)\n",
    "# registry.register('dwt', DwtTransform)\n",
    "# registry.register('cwt', CwtTransform)\n",
    "# registry.register('autoreg', AutoRegTransform)\n",
    "# registry.register('shannon_encoding', ShannonEncodingTransform)\n",
    "# registry.register('wavelet_leaders', WaveletLeadersTransform)\n",
    "# registry.register('multifracs', MultiFracsTransform)\n",
    "# registry.register('crosscor', CrossCorTransform)\n",
    "# registry.register('autocor', AutoCorTransform)\n",
    "# registry.register('autoencoder', AutoEncoderTransform)\n",
    "# registry.register('waveletscattering', WaveletScattering)"
   ]
  },
  {
   "cell_type": "markdown",
   "metadata": {},
   "source": [
    "## Data Load\n",
    "\n",
    "Link here [ecgs_labels.npy](https://drive.google.com/file/d/1cbUKH9qGOeIZD6Mf73plMkyXpq56mwIu/view?usp=sharing)"
   ]
  },
  {
   "cell_type": "code",
   "execution_count": 21,
   "metadata": {},
   "outputs": [],
   "source": [
    "DATASET = \"ECG\"\n",
    "# DATASET = \"HRV\"\n",
    "# DATASET = \"HRV_chall2002\"\n",
    "DATASET = \"SYNTH_DATA\"\n",
    "# DATASET = \"SYNTH_DATA2\"\n",
    "# DATASET = \"SYNTH_DATA3\"\n",
    "#DATASET = \"SYNTH_DATA4\"\n",
    "# DATASET = \"SYNTH_DATA_SAME\""
   ]
  },
  {
   "cell_type": "code",
   "execution_count": 22,
   "metadata": {},
   "outputs": [],
   "source": [
    "if DATASET == \"ECG\":\n",
    "    ecgs_labels = np.load('ecgs_labels.npy')\n",
    "\n",
    "    X, y = ecgs_labels[1:,:-1], ecgs_labels[1:,-1]"
   ]
  },
  {
   "cell_type": "code",
   "execution_count": 23,
   "metadata": {},
   "outputs": [],
   "source": [
    "if DATASET ==  \"HRV\":\n",
    "    X, y = np.load('hrv_signals.npy'), np.load('hrv_labels.npy')"
   ]
  },
  {
   "cell_type": "code",
   "execution_count": 24,
   "metadata": {},
   "outputs": [],
   "source": [
    "if DATASET ==  \"HRV_chall2002\":\n",
    "    hrvs_labels = np.load('hrv_data.npy')\n",
    "\n",
    "    X, y = hrvs_labels[:,:-1], hrvs_labels[:,-1]"
   ]
  },
  {
   "cell_type": "code",
   "execution_count": 25,
   "metadata": {},
   "outputs": [],
   "source": [
    "if DATASET ==  \"SYNTH_DATA\":\n",
    "    Hs = [.01,.1,.3,.5,.8]\n",
    "    lams = .17\n",
    "    X, y = create_synth_data(Hs=Hs,\n",
    "                             lams=lams,\n",
    "                             n_per_class=100,\n",
    "                             length = 2048,\n",
    "                             concatenate_result=False\n",
    "                             )\n",
    "    # data = np.load('synth_data.npy')\n",
    "\n",
    "    # X, y = data[:,:-1], data[:,-1]"
   ]
  },
  {
   "cell_type": "code",
   "execution_count": 26,
   "metadata": {},
   "outputs": [],
   "source": [
    "if DATASET ==  \"SYNTH_DATA2\":\n",
    "    data = np.load('synth_data2.npy')\n",
    "\n",
    "    X, y = data[:,:-1], data[:,-1]"
   ]
  },
  {
   "cell_type": "code",
   "execution_count": 27,
   "metadata": {},
   "outputs": [],
   "source": [
    "if DATASET ==  \"SYNTH_DATA3\":\n",
    "    data = np.load('synth_data3.npy')\n",
    "\n",
    "    X, y = data[:,:-1], data[:,-1]"
   ]
  },
  {
   "cell_type": "code",
   "execution_count": 28,
   "metadata": {},
   "outputs": [],
   "source": [
    "if DATASET == \"SYNTH_DATA4\":\n",
    "    data = np.load('synth_data_0.8_0.75.npy')\n",
    "\n",
    "    X, y = data[:,:-1], data[:,-1]"
   ]
  },
  {
   "cell_type": "code",
   "execution_count": 29,
   "metadata": {},
   "outputs": [],
   "source": [
    "if DATASET == \"SYNTH_DATA_SAME\":\n",
    "    data = np.load('synth_data_same.npy')\n",
    "\n",
    "    X, y = data[:,:-1], data[:,-1]"
   ]
  },
  {
   "cell_type": "code",
   "execution_count": 30,
   "metadata": {},
   "outputs": [
    {
     "data": {
      "text/plain": [
       "0"
      ]
     },
     "execution_count": 30,
     "metadata": {},
     "output_type": "execute_result"
    }
   ],
   "source": [
    "np.isnan(X).sum()"
   ]
  },
  {
   "cell_type": "code",
   "execution_count": 31,
   "metadata": {},
   "outputs": [
    {
     "name": "stdout",
     "output_type": "stream",
     "text": [
      "X.shape : (500, 2048)\n"
     ]
    }
   ],
   "source": [
    "n,p = X.shape\n",
    "\n",
    "print(f'X.shape : {n,p}')"
   ]
  },
  {
   "cell_type": "code",
   "execution_count": 32,
   "metadata": {},
   "outputs": [
    {
     "data": {
      "text/plain": [
       "8"
      ]
     },
     "execution_count": 32,
     "metadata": {},
     "output_type": "execute_result"
    }
   ],
   "source": [
    "j2max = min(12,int(np.log2(p) - 3))\n",
    "j2max"
   ]
  },
  {
   "cell_type": "code",
   "execution_count": 33,
   "metadata": {},
   "outputs": [],
   "source": [
    "p_ = 65000"
   ]
  },
  {
   "cell_type": "code",
   "execution_count": 34,
   "metadata": {},
   "outputs": [
    {
     "name": "stdout",
     "output_type": "stream",
     "text": [
      "Transformation: identity, Shape: (10, 65000)\n",
      "Transformation: mean, Shape: (10, 1)\n",
      "Computing  std ..."
     ]
    },
    {
     "name": "stdout",
     "output_type": "stream",
     "text": [
      "Transformation: std, Shape: (10, 1)\n",
      "Transformation: fourier, Shape: (10, 65000)\n",
      "Transformation: low_fourier, Shape: (10, 1092)\n",
      "Transformation: low_psd, Shape: (10, 1092)\n",
      "Transformation: wavedec, Shape: (10, 4063)\n",
      "Transformation: dwt, Shape: (10, 32500)\n",
      "Transformation: cwt, Shape: (10, 10)\n",
      "Transformation: autoreg, Shape: (10, 3)\n",
      "Transformation: shannon_encoding, Shape: (10, 8)\n",
      "Transformation: wavelet_leaders, Shape: (10, 2)\n",
      "Transformation: multifracs, Shape: (10, 3)\n",
      "Transformation: crosscor, Shape: (10, 10)\n",
      "Transformation: autocor, Shape: (10, 26000)\n",
      "Transformation: autoencoder, Shape: (10, 16)\n",
      "Transformation: waveletscattering, Shape: (10, 203150)\n"
     ]
    }
   ],
   "source": [
    "data_transformer = DataTransform(registry,save_data=False)\n",
    "for trans_names in registry.transformations.keys():\n",
    "        trans_names_str = [str(name) for name in trans_names]\n",
    "        trans_name_str = '+'.join(trans_names_str) if isinstance(trans_names, list) else trans_names\n",
    "        kwargs = trans_names[1] if isinstance(trans_names, list) and len(trans_names) > 1 else {}\n",
    "        trans_names = trans_names[0] if isinstance(trans_names, list) else trans_names\n",
    "        # Apply transformation\n",
    "        transformed_X = data_transformer.apply_transformation(np.random.randn((10*p_)).reshape((10,p_)), trans_names, **kwargs)\n",
    "        \n",
    "        print(f\"Transformation: {trans_name_str}, Shape: {transformed_X.shape}\")"
   ]
  },
  {
   "cell_type": "code",
   "execution_count": 35,
   "metadata": {},
   "outputs": [],
   "source": [
    "# Initialize the data transformer\n",
    "data_transformer = DataTransform(registry)"
   ]
  },
  {
   "cell_type": "code",
   "execution_count": 36,
   "metadata": {},
   "outputs": [
    {
     "name": "stdout",
     "output_type": "stream",
     "text": [
      "Couldn't find program: 'false'\n"
     ]
    }
   ],
   "source": [
    "%%script false --no-raise-error\n",
    "\n",
    "# Define the classifiers to be tested\n",
    "classifiers = {\n",
    "    'SVM': SVC(),\n",
    "    'DecisionTree': DecisionTreeClassifier(),\n",
    "    'RandomForest': RandomForestClassifier()\n",
    "}\n",
    "\n",
    "# Define the transformations to be tested\n",
    "transformations = [\n",
    "    # ['identity'],\n",
    "    ['crosscor'],\n",
    "    ['autocor', {'m':5000,'k':4}],\n",
    "    ['fourier', {'new_dimension':40}],\n",
    "    ['low_fourier'],\n",
    "    ['low_psd'],\n",
    "    ['cwt',{'pca_components' : 10}],\n",
    "    ['wavedec'],\n",
    "    ['autoreg', {'k': 3}],\n",
    "    ['shannon_encoding'],\n",
    "    ['wavelet_leaders'],\n",
    "    ['multifracs'],\n",
    "    ['multifracs', {'j1':1,'j2':12}],\n",
    "    [['wavelet_leaders','shannon_encoding']],\n",
    "    [['wavelet_leaders','multifracs']],\n",
    "    [['fourier','multifracs',], {'new_dimension':40}],\n",
    "    [['fourier','multifracs',], {'new_dimension':40}],\n",
    "    [['fourier','multifracs','shannon_encoding'], {'new_dimension':40}],\n",
    "    [['low_fourier','multifracs','autoreg'], {'k':3}],\n",
    "    \n",
    "]\n",
    "\n",
    "\n",
    "\n",
    "\n",
    "# Function to evaluate a classifier using cross-validation\n",
    "def evaluate_classifier_cv(classifier, X, y):\n",
    "    scores = cross_val_score(classifier, X, y, cv=5)  # 5-fold cross-validation\n",
    "    return np.mean(scores), np.std(scores)\n",
    "\n",
    "# Loop over each transformation and each classifier\n",
    "results = {}\n",
    "\n",
    "for trans_names in transformations:\n",
    "    # print()\n",
    "    trans_names_str = [str(name) for name in trans_names]\n",
    "    trans_name_str = '+'.join(trans_names_str) if isinstance(trans_names, list) else trans_names\n",
    "    kwargs = trans_names[1] if isinstance(trans_names, list) and len(trans_names) > 1 else {}\n",
    "    trans_names = trans_names[0] if isinstance(trans_names, list) else trans_names\n",
    "    \n",
    "    # Apply transformation\n",
    "    transformed_X = data_transformer.apply_transformation(X, trans_names, **kwargs)\n",
    "    print(f\"Transformation: {trans_name_str}, Shape: {transformed_X.shape}\" )\n",
    "    # Standardize the data (important for some classifiers like SVM)\n",
    "    scaler = StandardScaler()\n",
    "    transformed_X = scaler.fit_transform(transformed_X)\n",
    "    \n",
    "    results[trans_name_str] = {}\n",
    "    for clf_name, clf in classifiers.items():\n",
    "        # Evaluate the classifier with cross-validation\n",
    "        mean_accuracy, std_accuracy = evaluate_classifier_cv(clf, transformed_X, y)\n",
    "        results[trans_name_str][clf_name] = (mean_accuracy, std_accuracy)\n",
    "        print(f\"Transformation: {trans_name_str}, Classifier: {clf_name}, Mean Accuracy: {mean_accuracy:.3f}, Std Dev: {std_accuracy:.3f}\")\n",
    "\n",
    "    print()\n",
    "# Print the results\n",
    "for trans_name, clf_results in results.items():\n",
    "    print()\n",
    "    for clf_name, (mean_accuracy, std_accuracy) in clf_results.items():\n",
    "        print(f\"Transformation: {trans_name}, Classifier: {clf_name}, Mean Accuracy: {mean_accuracy:.3f}, Std Dev: {std_accuracy:.3f}\")\n",
    "        "
   ]
  },
  {
   "cell_type": "code",
   "execution_count": 37,
   "metadata": {},
   "outputs": [
    {
     "name": "stdout",
     "output_type": "stream",
     "text": [
      "Couldn't find program: 'false'\n"
     ]
    }
   ],
   "source": [
    "%%script false --no-raise-error\n",
    "import random\n",
    "import itertools\n",
    "import json\n",
    "\n",
    "# Define the classifiers to be tested\n",
    "classifiers = {\n",
    "    'SVM': SVC(),\n",
    "    'DecisionTree': DecisionTreeClassifier(),\n",
    "    'RandomForest': RandomForestClassifier()\n",
    "}\n",
    "\n",
    "# Initialize the data transformer\n",
    "data_transformer = DataTransform(registry)\n",
    "\n",
    "# Define the transformations to be tested\n",
    "transformation_names = ['crosscor','low_psd','low_fourier',['autoreg',{'k':3}],['autoreg',{'k':5}], #'multifracs',\n",
    "                        ['multifracs', {'j1':1,'j2':j2max}],\n",
    "                        'shannon_encoding',['autoencoder',{'fourier_transform':True}]] #list(registry.transformations.keys())\n",
    "\n",
    "\n",
    "\n",
    "\n",
    "# Function to evaluate a classifier using cross-validation\n",
    "def evaluate_classifier_cv(classifier, X, y):\n",
    "    scores = cross_val_score(classifier, X, y, cv=5)  # 5-fold cross-validation\n",
    "    return np.mean(scores), np.std(scores)\n",
    "\n",
    "# Function to randomly combine transformations\n",
    "def random_combination_transformations(transformation_list, n_combinations=10):\n",
    "    # all_combinations = []\n",
    "    # for r in range(1, len(transformation_names) + 1):\n",
    "    #     combinations = list(itertools.combinations(transformation_names, r))\n",
    "    #     all_combinations.extend(combinations)\n",
    "    \n",
    "    # return random.sample(all_combinations, min(n_combinations, len(all_combinations)))\n",
    "    nb_transformation = len(transformation_list)\n",
    "    combined_transformations = []\n",
    "    for _ in range(n_combinations):\n",
    "        nb_trans = np.random.randint(1,5)\n",
    "\n",
    "        already_drawn = []\n",
    "        transs = []\n",
    "        for _ in range(nb_trans):\n",
    "            while True:\n",
    "                random_ind = np.random.randint(nb_transformation)\n",
    "                if random_ind not in already_drawn:\n",
    "                    already_drawn.append(random_ind)\n",
    "                    break\n",
    "            trans = transformation_list[random_ind]\n",
    "            transs.append(trans)\n",
    "            \n",
    "        combined_transformations.append(transs)\n",
    "    return combined_transformations\n",
    "# Generate random combinations of transformations\n",
    "random_transformations = random_combination_transformations(transformation_names, n_combinations=5)\n",
    "print(random_transformations)\n",
    "# # Example input data\n",
    "# X = np.random.randn(100, 10)  # Example input data\n",
    "# y = np.random.randint(0, 2, 100)  # Example labels\n",
    "\n",
    "# Dictionary to store results\n",
    "results = {}\n",
    "\n",
    "i = 0\n",
    "# Loop over each random combination of transformations and each classifier\n",
    "for trans in random_transformations:\n",
    "    print()\n",
    "    trans_name_str = DataTransform.get_full_trans_kwargs_str(trans)\n",
    "    \n",
    "        \n",
    "    transformed_X = data_transformer.apply_transformation(X, trans)\n",
    "\n",
    "    # trans_name_str = '+'.join(trans_comb)\n",
    "    # transformed_X = data_transformer.apply_transformation(X, trans_comb)\n",
    "    \n",
    "    # Standardize the data (important for some classifiers like SVM)\n",
    "    scaler = StandardScaler()\n",
    "    transformed_X = scaler.fit_transform(transformed_X)\n",
    "    \n",
    "    results[trans_name_str] = {}\n",
    "    i += 1\n",
    "    print(f\"Transformations n°{i}: {trans_name_str} {transformed_X.shape}\")\n",
    "    for clf_name, clf in classifiers.items():\n",
    "        # Evaluate the classifier with cross-validation\n",
    "        mean_accuracy, std_accuracy = evaluate_classifier_cv(clf, transformed_X, y)\n",
    "        results[trans_name_str][clf_name] = {'mean_accuracy': mean_accuracy, 'std_accuracy': std_accuracy}\n",
    "        print(f\"Classifier: {clf_name}, Mean Accuracy: {mean_accuracy:.3f}, Std Dev: {std_accuracy:.3f}\")\n",
    "\n",
    "# Save results to a JSON file\n",
    "with open('transformation_results0.json', 'w') as f:\n",
    "    json.dump(results, f, indent=4)\n"
   ]
  },
  {
   "cell_type": "code",
   "execution_count": 38,
   "metadata": {},
   "outputs": [],
   "source": [
    "# # Save results to a JSON file\n",
    "# with open('transformation_results_hrv_chall2002.json', 'w') as f:\n",
    "#     json.dump(results, f, indent=4)"
   ]
  },
  {
   "cell_type": "code",
   "execution_count": 39,
   "metadata": {},
   "outputs": [],
   "source": [
    "def evaluate_transformations(X, y, transformations, classifiers):\n",
    "    dt = DataTransform(registry)\n",
    "    results = []\n",
    "\n",
    "    for trans in transformations:\n",
    "        trans_name_str = DataTransform.get_full_trans_kwargs_str(trans)\n",
    "        trans_X = dt.apply_transformation(X, trans)\n",
    "\n",
    "        result = {'Transformation (shape)': trans_name_str}\n",
    "        result[\"shape\"] = trans_X.shape[-1]\n",
    "        result['nb_trans'] = len(trans)\n",
    "\n",
    "        scaler = StandardScaler()\n",
    "        trans_X = scaler.fit_transform(trans_X) \n",
    "        print(f\"Transformation: {trans_name_str}, Shape: {trans_X.shape[-1]} \")\n",
    "        for clf_name, clf in classifiers.items():\n",
    "            kf = KFold(n_splits=5, shuffle=True, random_state=42)\n",
    "            scores = cross_val_score(clf, trans_X, y, cv=kf, scoring='accuracy')\n",
    "            result[f'{clf_name} accuracy'] = np.mean(scores)\n",
    "            result[f'{clf_name} std'] = np.std(scores)\n",
    "            print(f\"Classifier: {clf_name}, \"\n",
    "                  f\"Mean Accuracy: {np.mean(scores):.3f}, Std Accuracy: {np.std(scores):.3f}\")\n",
    "        \n",
    "        results.append(result)\n",
    "\n",
    "    return pd.DataFrame(results)"
   ]
  },
  {
   "cell_type": "code",
   "execution_count": 40,
   "metadata": {},
   "outputs": [
    {
     "name": "stdout",
     "output_type": "stream",
     "text": [
      "Transformation: waveletscattering_Q=1, Shape: 1664 \n",
      "Classifier: SVM, Mean Accuracy: 1.000, Std Accuracy: 0.000\n",
      "Classifier: DecisionTree, Mean Accuracy: 0.960, Std Accuracy: 0.011\n",
      "Classifier: RandomForest, Mean Accuracy: 1.000, Std Accuracy: 0.000\n",
      "Transformation: waveletscattering_J=3_Q=1, Shape: 2048 \n",
      "Classifier: SVM, Mean Accuracy: 1.000, Std Accuracy: 0.000\n",
      "Classifier: DecisionTree, Mean Accuracy: 0.962, Std Accuracy: 0.032\n",
      "Classifier: RandomForest, Mean Accuracy: 1.000, Std Accuracy: 0.000\n",
      "Transformation: waveletscattering_J=7_Q=1, Shape: 544 \n",
      "Classifier: SVM, Mean Accuracy: 1.000, Std Accuracy: 0.000\n",
      "Classifier: DecisionTree, Mean Accuracy: 0.990, Std Accuracy: 0.000\n",
      "Classifier: RandomForest, Mean Accuracy: 1.000, Std Accuracy: 0.000\n",
      "Transformation: waveletscattering_pca_components=200_Q=1, Shape: 200 \n",
      "Classifier: SVM, Mean Accuracy: 0.624, Std Accuracy: 0.042\n",
      "Classifier: DecisionTree, Mean Accuracy: 0.818, Std Accuracy: 0.026\n",
      "Classifier: RandomForest, Mean Accuracy: 0.894, Std Accuracy: 0.036\n",
      "                     Transformation (shape)  shape  nb_trans  SVM accuracy  \\\n",
      "0                     waveletscattering_Q=1   1664         2         1.000   \n",
      "1                 waveletscattering_J=3_Q=1   2048         2         1.000   \n",
      "2                 waveletscattering_J=7_Q=1    544         2         1.000   \n",
      "3  waveletscattering_pca_components=200_Q=1    200         2         0.624   \n",
      "\n",
      "    SVM std  DecisionTree accuracy  DecisionTree std  RandomForest accuracy  \\\n",
      "0  0.000000                  0.960          0.010954                  1.000   \n",
      "1  0.000000                  0.962          0.032496                  1.000   \n",
      "2  0.000000                  0.990          0.000000                  1.000   \n",
      "3  0.041761                  0.818          0.026382                  0.894   \n",
      "\n",
      "   RandomForest std  \n",
      "0          0.000000  \n",
      "1          0.000000  \n",
      "2          0.000000  \n",
      "3          0.035553  \n"
     ]
    }
   ],
   "source": [
    "# Define the classifiers\n",
    "classifiers = {\n",
    "    'SVM': SVC(kernel='linear'),\n",
    "    'DecisionTree': DecisionTreeClassifier(),\n",
    "    'RandomForest': RandomForestClassifier()\n",
    "}\n",
    "transformations = [['waveletscattering',{'Q':1}],['waveletscattering',{'J':3,'Q':1}],['waveletscattering',{'J':7,'Q':1}],['waveletscattering',{'pca_components':200,'Q':1}]]\n",
    "results_df = evaluate_transformations(X, y, transformations, classifiers)\n",
    "print(results_df)\n",
    "\n",
    "# Save results to a CSV file\n",
    "# results_df.to_csv(f'results/test_wst_transformation_results2.csv', index=False)"
   ]
  },
  {
   "cell_type": "code",
   "execution_count": 41,
   "metadata": {},
   "outputs": [
    {
     "name": "stdout",
     "output_type": "stream",
     "text": [
      "Transformation: waveletscattering_J=0_Q=3, Shape: 6144 \n",
      "Classifier: SVM, Mean Accuracy: 1.000, Std Accuracy: 0.000\n",
      "Classifier: DecisionTree, Mean Accuracy: 0.768, Std Accuracy: 0.019\n",
      "Classifier: RandomForest, Mean Accuracy: 1.000, Std Accuracy: 0.000\n",
      "Transformation: waveletscattering_J=1_Q=3, Shape: 3072 \n",
      "Classifier: SVM, Mean Accuracy: 0.998, Std Accuracy: 0.004\n",
      "Classifier: DecisionTree, Mean Accuracy: 0.768, Std Accuracy: 0.044\n",
      "Classifier: RandomForest, Mean Accuracy: 0.982, Std Accuracy: 0.007\n",
      "Transformation: waveletscattering_J=2_Q=3, Shape: 3072 \n",
      "Classifier: SVM, Mean Accuracy: 1.000, Std Accuracy: 0.000\n",
      "Classifier: DecisionTree, Mean Accuracy: 0.890, Std Accuracy: 0.014\n",
      "Classifier: RandomForest, Mean Accuracy: 1.000, Std Accuracy: 0.000\n",
      "Transformation: waveletscattering_J=3_Q=3, Shape: 3328 \n",
      "Classifier: SVM, Mean Accuracy: 1.000, Std Accuracy: 0.000\n",
      "Classifier: DecisionTree, Mean Accuracy: 0.930, Std Accuracy: 0.024\n",
      "Classifier: RandomForest, Mean Accuracy: 1.000, Std Accuracy: 0.000\n",
      "Transformation: waveletscattering_J=4_Q=3, Shape: 2944 \n",
      "Classifier: SVM, Mean Accuracy: 1.000, Std Accuracy: 0.000\n",
      "Classifier: DecisionTree, Mean Accuracy: 0.952, Std Accuracy: 0.017\n",
      "Classifier: RandomForest, Mean Accuracy: 1.000, Std Accuracy: 0.000\n",
      "Transformation: waveletscattering_J=5_Q=3, Shape: 2304 \n",
      "Classifier: SVM, Mean Accuracy: 1.000, Std Accuracy: 0.000\n",
      "Classifier: DecisionTree, Mean Accuracy: 0.950, Std Accuracy: 0.030\n",
      "Classifier: RandomForest, Mean Accuracy: 1.000, Std Accuracy: 0.000\n",
      "Transformation: waveletscattering_J=6_Q=3, Shape: 1664 \n",
      "Classifier: SVM, Mean Accuracy: 1.000, Std Accuracy: 0.000\n",
      "Classifier: DecisionTree, Mean Accuracy: 0.974, Std Accuracy: 0.010\n",
      "Classifier: RandomForest, Mean Accuracy: 1.000, Std Accuracy: 0.000\n",
      "Transformation: waveletscattering_J=7_Q=3, Shape: 1136 \n",
      "Classifier: SVM, Mean Accuracy: 1.000, Std Accuracy: 0.000\n",
      "Classifier: DecisionTree, Mean Accuracy: 0.992, Std Accuracy: 0.004\n",
      "Classifier: RandomForest, Mean Accuracy: 1.000, Std Accuracy: 0.000\n",
      "Transformation: waveletscattering_J=8_Q=3, Shape: 744 \n",
      "Classifier: SVM, Mean Accuracy: 1.000, Std Accuracy: 0.000\n",
      "Classifier: DecisionTree, Mean Accuracy: 0.998, Std Accuracy: 0.004\n",
      "Classifier: RandomForest, Mean Accuracy: 1.000, Std Accuracy: 0.000\n",
      "Transformation: waveletscattering_J=9_Q=3, Shape: 472 \n",
      "Classifier: SVM, Mean Accuracy: 1.000, Std Accuracy: 0.000\n",
      "Classifier: DecisionTree, Mean Accuracy: 0.996, Std Accuracy: 0.005\n",
      "Classifier: RandomForest, Mean Accuracy: 1.000, Std Accuracy: 0.000\n",
      "Transformation: waveletscattering_J=10_Q=3, Shape: 292 \n",
      "Classifier: SVM, Mean Accuracy: 1.000, Std Accuracy: 0.000\n",
      "Classifier: DecisionTree, Mean Accuracy: 0.996, Std Accuracy: 0.005\n",
      "Classifier: RandomForest, Mean Accuracy: 1.000, Std Accuracy: 0.000\n",
      "Transformation: waveletscattering_J=11_Q=3, Shape: 177 \n",
      "Classifier: SVM, Mean Accuracy: 1.000, Std Accuracy: 0.000\n",
      "Classifier: DecisionTree, Mean Accuracy: 1.000, Std Accuracy: 0.000\n",
      "Classifier: RandomForest, Mean Accuracy: 1.000, Std Accuracy: 0.000\n"
     ]
    }
   ],
   "source": [
    "# Define the classifiers\n",
    "classifiers = {\n",
    "    'SVM': SVC(kernel='linear'),\n",
    "    'DecisionTree': DecisionTreeClassifier(),\n",
    "    'RandomForest': RandomForestClassifier()\n",
    "}\n",
    "Q = 3\n",
    "transformations = [ ['waveletscattering',{'J':J,'Q':Q}] for J in range(12) ]\n",
    "# transformations = [['waveletscattering',{'Q':1}],['waveletscattering',{'J':3,'Q':1}],['waveletscattering',{'J':7,'Q':1}],['waveletscattering',{'pca_components':200,'Q':1}]]\n",
    "results_df = evaluate_transformations(X, y, transformations, classifiers)\n",
    "# print(results_df)"
   ]
  },
  {
   "cell_type": "code",
   "execution_count": 42,
   "metadata": {},
   "outputs": [
    {
     "name": "stdout",
     "output_type": "stream",
     "text": [
      "Transformation: waveletscattering_J=0_Q=3_pca_components=200, Shape: 200 \n",
      "Classifier: SVM, Mean Accuracy: 0.422, Std Accuracy: 0.035\n",
      "Classifier: DecisionTree, Mean Accuracy: 0.640, Std Accuracy: 0.050\n",
      "Classifier: RandomForest, Mean Accuracy: 0.910, Std Accuracy: 0.030\n",
      "Transformation: waveletscattering_J=1_Q=3_pca_components=200, Shape: 200 \n",
      "Classifier: SVM, Mean Accuracy: 0.432, Std Accuracy: 0.033\n",
      "Classifier: DecisionTree, Mean Accuracy: 0.640, Std Accuracy: 0.059\n",
      "Classifier: RandomForest, Mean Accuracy: 0.860, Std Accuracy: 0.030\n",
      "Transformation: waveletscattering_J=2_Q=3_pca_components=200, Shape: 200 \n",
      "Classifier: SVM, Mean Accuracy: 0.614, Std Accuracy: 0.052\n",
      "Classifier: DecisionTree, Mean Accuracy: 0.630, Std Accuracy: 0.046\n",
      "Classifier: RandomForest, Mean Accuracy: 0.850, Std Accuracy: 0.024\n",
      "Transformation: waveletscattering_J=3_Q=3_pca_components=200, Shape: 200 \n",
      "Classifier: SVM, Mean Accuracy: 0.606, Std Accuracy: 0.055\n",
      "Classifier: DecisionTree, Mean Accuracy: 0.794, Std Accuracy: 0.023\n",
      "Classifier: RandomForest, Mean Accuracy: 0.920, Std Accuracy: 0.013\n",
      "Transformation: waveletscattering_J=4_Q=3_pca_components=200, Shape: 200 \n",
      "Classifier: SVM, Mean Accuracy: 0.624, Std Accuracy: 0.056\n",
      "Classifier: DecisionTree, Mean Accuracy: 0.908, Std Accuracy: 0.029\n",
      "Classifier: RandomForest, Mean Accuracy: 0.944, Std Accuracy: 0.030\n",
      "Transformation: waveletscattering_J=5_Q=3_pca_components=200, Shape: 200 \n",
      "Classifier: SVM, Mean Accuracy: 0.648, Std Accuracy: 0.047\n",
      "Classifier: DecisionTree, Mean Accuracy: 0.874, Std Accuracy: 0.036\n",
      "Classifier: RandomForest, Mean Accuracy: 0.942, Std Accuracy: 0.029\n",
      "Transformation: waveletscattering_J=6_Q=3_pca_components=200, Shape: 200 \n",
      "Classifier: SVM, Mean Accuracy: 0.632, Std Accuracy: 0.023\n",
      "Classifier: DecisionTree, Mean Accuracy: 0.948, Std Accuracy: 0.013\n",
      "Classifier: RandomForest, Mean Accuracy: 0.942, Std Accuracy: 0.024\n",
      "Transformation: waveletscattering_J=7_Q=3_pca_components=200, Shape: 200 \n",
      "Classifier: SVM, Mean Accuracy: 0.636, Std Accuracy: 0.031\n",
      "Classifier: DecisionTree, Mean Accuracy: 0.854, Std Accuracy: 0.034\n",
      "Classifier: RandomForest, Mean Accuracy: 0.950, Std Accuracy: 0.017\n",
      "Transformation: waveletscattering_J=8_Q=3_pca_components=200, Shape: 200 \n",
      "Classifier: SVM, Mean Accuracy: 0.644, Std Accuracy: 0.051\n",
      "Classifier: DecisionTree, Mean Accuracy: 0.886, Std Accuracy: 0.010\n",
      "Classifier: RandomForest, Mean Accuracy: 0.966, Std Accuracy: 0.015\n",
      "Transformation: waveletscattering_J=9_Q=3_pca_components=200, Shape: 200 \n",
      "Classifier: SVM, Mean Accuracy: 0.640, Std Accuracy: 0.054\n",
      "Classifier: DecisionTree, Mean Accuracy: 0.826, Std Accuracy: 0.027\n",
      "Classifier: RandomForest, Mean Accuracy: 0.922, Std Accuracy: 0.020\n",
      "Transformation: waveletscattering_J=10_Q=3_pca_components=200, Shape: 200 \n",
      "Classifier: SVM, Mean Accuracy: 0.656, Std Accuracy: 0.047\n",
      "Classifier: DecisionTree, Mean Accuracy: 0.830, Std Accuracy: 0.033\n",
      "Classifier: RandomForest, Mean Accuracy: 0.932, Std Accuracy: 0.030\n",
      "Computing  waveletscattering_J=11_Q=3_pca_components=200 ..."
     ]
    },
    {
     "ename": "ValueError",
     "evalue": "n_components=200 must be between 0 and min(n_samples, n_features)=177 with svd_solver='full'",
     "output_type": "error",
     "traceback": [
      "\u001b[1;31m---------------------------------------------------------------------------\u001b[0m",
      "\u001b[1;31mValueError\u001b[0m                                Traceback (most recent call last)",
      "Cell \u001b[1;32mIn[42], line 10\u001b[0m\n\u001b[0;32m      8\u001b[0m transformations \u001b[38;5;241m=\u001b[39m [ [\u001b[38;5;124m'\u001b[39m\u001b[38;5;124mwaveletscattering\u001b[39m\u001b[38;5;124m'\u001b[39m,{\u001b[38;5;124m'\u001b[39m\u001b[38;5;124mJ\u001b[39m\u001b[38;5;124m'\u001b[39m:J,\u001b[38;5;124m'\u001b[39m\u001b[38;5;124mQ\u001b[39m\u001b[38;5;124m'\u001b[39m:Q,\u001b[38;5;124m'\u001b[39m\u001b[38;5;124mpca_components\u001b[39m\u001b[38;5;124m'\u001b[39m:\u001b[38;5;241m200\u001b[39m}] \u001b[38;5;28;01mfor\u001b[39;00m J \u001b[38;5;129;01min\u001b[39;00m \u001b[38;5;28mrange\u001b[39m(\u001b[38;5;241m12\u001b[39m) ]\n\u001b[0;32m      9\u001b[0m \u001b[38;5;66;03m# transformations = [['waveletscattering',{'Q':1}],['waveletscattering',{'J':3,'Q':1}],['waveletscattering',{'J':7,'Q':1}],['waveletscattering',{'pca_components':200,'Q':1}]]\u001b[39;00m\n\u001b[1;32m---> 10\u001b[0m results_df \u001b[38;5;241m=\u001b[39m \u001b[43mevaluate_transformations\u001b[49m\u001b[43m(\u001b[49m\u001b[43mX\u001b[49m\u001b[43m,\u001b[49m\u001b[43m \u001b[49m\u001b[43my\u001b[49m\u001b[43m,\u001b[49m\u001b[43m \u001b[49m\u001b[43mtransformations\u001b[49m\u001b[43m,\u001b[49m\u001b[43m \u001b[49m\u001b[43mclassifiers\u001b[49m\u001b[43m)\u001b[49m\n",
      "Cell \u001b[1;32mIn[39], line 7\u001b[0m, in \u001b[0;36mevaluate_transformations\u001b[1;34m(X, y, transformations, classifiers)\u001b[0m\n\u001b[0;32m      5\u001b[0m \u001b[38;5;28;01mfor\u001b[39;00m trans \u001b[38;5;129;01min\u001b[39;00m transformations:\n\u001b[0;32m      6\u001b[0m     trans_name_str \u001b[38;5;241m=\u001b[39m DataTransform\u001b[38;5;241m.\u001b[39mget_full_trans_kwargs_str(trans)\n\u001b[1;32m----> 7\u001b[0m     trans_X \u001b[38;5;241m=\u001b[39m \u001b[43mdt\u001b[49m\u001b[38;5;241;43m.\u001b[39;49m\u001b[43mapply_transformation\u001b[49m\u001b[43m(\u001b[49m\u001b[43mX\u001b[49m\u001b[43m,\u001b[49m\u001b[43m \u001b[49m\u001b[43mtrans\u001b[49m\u001b[43m)\u001b[49m\n\u001b[0;32m      9\u001b[0m     result \u001b[38;5;241m=\u001b[39m {\u001b[38;5;124m'\u001b[39m\u001b[38;5;124mTransformation (shape)\u001b[39m\u001b[38;5;124m'\u001b[39m: trans_name_str}\n\u001b[0;32m     10\u001b[0m     result[\u001b[38;5;124m\"\u001b[39m\u001b[38;5;124mshape\u001b[39m\u001b[38;5;124m\"\u001b[39m] \u001b[38;5;241m=\u001b[39m trans_X\u001b[38;5;241m.\u001b[39mshape[\u001b[38;5;241m-\u001b[39m\u001b[38;5;241m1\u001b[39m]\n",
      "File \u001b[1;32m<string>:82\u001b[0m, in \u001b[0;36mapply_transformation\u001b[1;34m(self, X, transformations)\u001b[0m\n",
      "File \u001b[1;32m<string>:284\u001b[0m, in \u001b[0;36mtransform\u001b[1;34m(X, J, Q, pca_components)\u001b[0m\n",
      "File \u001b[1;32mc:\\Python311\\Lib\\site-packages\\sklearn\\utils\\_set_output.py:157\u001b[0m, in \u001b[0;36m_wrap_method_output.<locals>.wrapped\u001b[1;34m(self, X, *args, **kwargs)\u001b[0m\n\u001b[0;32m    155\u001b[0m \u001b[38;5;129m@wraps\u001b[39m(f)\n\u001b[0;32m    156\u001b[0m \u001b[38;5;28;01mdef\u001b[39;00m \u001b[38;5;21mwrapped\u001b[39m(\u001b[38;5;28mself\u001b[39m, X, \u001b[38;5;241m*\u001b[39margs, \u001b[38;5;241m*\u001b[39m\u001b[38;5;241m*\u001b[39mkwargs):\n\u001b[1;32m--> 157\u001b[0m     data_to_wrap \u001b[38;5;241m=\u001b[39m \u001b[43mf\u001b[49m\u001b[43m(\u001b[49m\u001b[38;5;28;43mself\u001b[39;49m\u001b[43m,\u001b[49m\u001b[43m \u001b[49m\u001b[43mX\u001b[49m\u001b[43m,\u001b[49m\u001b[43m \u001b[49m\u001b[38;5;241;43m*\u001b[39;49m\u001b[43margs\u001b[49m\u001b[43m,\u001b[49m\u001b[43m \u001b[49m\u001b[38;5;241;43m*\u001b[39;49m\u001b[38;5;241;43m*\u001b[39;49m\u001b[43mkwargs\u001b[49m\u001b[43m)\u001b[49m\n\u001b[0;32m    158\u001b[0m     \u001b[38;5;28;01mif\u001b[39;00m \u001b[38;5;28misinstance\u001b[39m(data_to_wrap, \u001b[38;5;28mtuple\u001b[39m):\n\u001b[0;32m    159\u001b[0m         \u001b[38;5;66;03m# only wrap the first output for cross decomposition\u001b[39;00m\n\u001b[0;32m    160\u001b[0m         return_tuple \u001b[38;5;241m=\u001b[39m (\n\u001b[0;32m    161\u001b[0m             _wrap_data_with_container(method, data_to_wrap[\u001b[38;5;241m0\u001b[39m], X, \u001b[38;5;28mself\u001b[39m),\n\u001b[0;32m    162\u001b[0m             \u001b[38;5;241m*\u001b[39mdata_to_wrap[\u001b[38;5;241m1\u001b[39m:],\n\u001b[0;32m    163\u001b[0m         )\n",
      "File \u001b[1;32mc:\\Python311\\Lib\\site-packages\\sklearn\\base.py:1152\u001b[0m, in \u001b[0;36m_fit_context.<locals>.decorator.<locals>.wrapper\u001b[1;34m(estimator, *args, **kwargs)\u001b[0m\n\u001b[0;32m   1145\u001b[0m     estimator\u001b[38;5;241m.\u001b[39m_validate_params()\n\u001b[0;32m   1147\u001b[0m \u001b[38;5;28;01mwith\u001b[39;00m config_context(\n\u001b[0;32m   1148\u001b[0m     skip_parameter_validation\u001b[38;5;241m=\u001b[39m(\n\u001b[0;32m   1149\u001b[0m         prefer_skip_nested_validation \u001b[38;5;129;01mor\u001b[39;00m global_skip_validation\n\u001b[0;32m   1150\u001b[0m     )\n\u001b[0;32m   1151\u001b[0m ):\n\u001b[1;32m-> 1152\u001b[0m     \u001b[38;5;28;01mreturn\u001b[39;00m \u001b[43mfit_method\u001b[49m\u001b[43m(\u001b[49m\u001b[43mestimator\u001b[49m\u001b[43m,\u001b[49m\u001b[43m \u001b[49m\u001b[38;5;241;43m*\u001b[39;49m\u001b[43margs\u001b[49m\u001b[43m,\u001b[49m\u001b[43m \u001b[49m\u001b[38;5;241;43m*\u001b[39;49m\u001b[38;5;241;43m*\u001b[39;49m\u001b[43mkwargs\u001b[49m\u001b[43m)\u001b[49m\n",
      "File \u001b[1;32mc:\\Python311\\Lib\\site-packages\\sklearn\\decomposition\\_pca.py:460\u001b[0m, in \u001b[0;36mPCA.fit_transform\u001b[1;34m(self, X, y)\u001b[0m\n\u001b[0;32m    437\u001b[0m \u001b[38;5;129m@_fit_context\u001b[39m(prefer_skip_nested_validation\u001b[38;5;241m=\u001b[39m\u001b[38;5;28;01mTrue\u001b[39;00m)\n\u001b[0;32m    438\u001b[0m \u001b[38;5;28;01mdef\u001b[39;00m \u001b[38;5;21mfit_transform\u001b[39m(\u001b[38;5;28mself\u001b[39m, X, y\u001b[38;5;241m=\u001b[39m\u001b[38;5;28;01mNone\u001b[39;00m):\n\u001b[0;32m    439\u001b[0m \u001b[38;5;250m    \u001b[39m\u001b[38;5;124;03m\"\"\"Fit the model with X and apply the dimensionality reduction on X.\u001b[39;00m\n\u001b[0;32m    440\u001b[0m \n\u001b[0;32m    441\u001b[0m \u001b[38;5;124;03m    Parameters\u001b[39;00m\n\u001b[1;32m   (...)\u001b[0m\n\u001b[0;32m    458\u001b[0m \u001b[38;5;124;03m    C-ordered array, use 'np.ascontiguousarray'.\u001b[39;00m\n\u001b[0;32m    459\u001b[0m \u001b[38;5;124;03m    \"\"\"\u001b[39;00m\n\u001b[1;32m--> 460\u001b[0m     U, S, Vt \u001b[38;5;241m=\u001b[39m \u001b[38;5;28;43mself\u001b[39;49m\u001b[38;5;241;43m.\u001b[39;49m\u001b[43m_fit\u001b[49m\u001b[43m(\u001b[49m\u001b[43mX\u001b[49m\u001b[43m)\u001b[49m\n\u001b[0;32m    461\u001b[0m     U \u001b[38;5;241m=\u001b[39m U[:, : \u001b[38;5;28mself\u001b[39m\u001b[38;5;241m.\u001b[39mn_components_]\n\u001b[0;32m    463\u001b[0m     \u001b[38;5;28;01mif\u001b[39;00m \u001b[38;5;28mself\u001b[39m\u001b[38;5;241m.\u001b[39mwhiten:\n\u001b[0;32m    464\u001b[0m         \u001b[38;5;66;03m# X_new = X * V / S * sqrt(n_samples) = U * sqrt(n_samples)\u001b[39;00m\n",
      "File \u001b[1;32mc:\\Python311\\Lib\\site-packages\\sklearn\\decomposition\\_pca.py:510\u001b[0m, in \u001b[0;36mPCA._fit\u001b[1;34m(self, X)\u001b[0m\n\u001b[0;32m    508\u001b[0m \u001b[38;5;66;03m# Call different fits for either full or truncated SVD\u001b[39;00m\n\u001b[0;32m    509\u001b[0m \u001b[38;5;28;01mif\u001b[39;00m \u001b[38;5;28mself\u001b[39m\u001b[38;5;241m.\u001b[39m_fit_svd_solver \u001b[38;5;241m==\u001b[39m \u001b[38;5;124m\"\u001b[39m\u001b[38;5;124mfull\u001b[39m\u001b[38;5;124m\"\u001b[39m:\n\u001b[1;32m--> 510\u001b[0m     \u001b[38;5;28;01mreturn\u001b[39;00m \u001b[38;5;28;43mself\u001b[39;49m\u001b[38;5;241;43m.\u001b[39;49m\u001b[43m_fit_full\u001b[49m\u001b[43m(\u001b[49m\u001b[43mX\u001b[49m\u001b[43m,\u001b[49m\u001b[43m \u001b[49m\u001b[43mn_components\u001b[49m\u001b[43m)\u001b[49m\n\u001b[0;32m    511\u001b[0m \u001b[38;5;28;01melif\u001b[39;00m \u001b[38;5;28mself\u001b[39m\u001b[38;5;241m.\u001b[39m_fit_svd_solver \u001b[38;5;129;01min\u001b[39;00m [\u001b[38;5;124m\"\u001b[39m\u001b[38;5;124marpack\u001b[39m\u001b[38;5;124m\"\u001b[39m, \u001b[38;5;124m\"\u001b[39m\u001b[38;5;124mrandomized\u001b[39m\u001b[38;5;124m\"\u001b[39m]:\n\u001b[0;32m    512\u001b[0m     \u001b[38;5;28;01mreturn\u001b[39;00m \u001b[38;5;28mself\u001b[39m\u001b[38;5;241m.\u001b[39m_fit_truncated(X, n_components, \u001b[38;5;28mself\u001b[39m\u001b[38;5;241m.\u001b[39m_fit_svd_solver)\n",
      "File \u001b[1;32mc:\\Python311\\Lib\\site-packages\\sklearn\\decomposition\\_pca.py:524\u001b[0m, in \u001b[0;36mPCA._fit_full\u001b[1;34m(self, X, n_components)\u001b[0m\n\u001b[0;32m    520\u001b[0m         \u001b[38;5;28;01mraise\u001b[39;00m \u001b[38;5;167;01mValueError\u001b[39;00m(\n\u001b[0;32m    521\u001b[0m             \u001b[38;5;124m\"\u001b[39m\u001b[38;5;124mn_components=\u001b[39m\u001b[38;5;124m'\u001b[39m\u001b[38;5;124mmle\u001b[39m\u001b[38;5;124m'\u001b[39m\u001b[38;5;124m is only supported if n_samples >= n_features\u001b[39m\u001b[38;5;124m\"\u001b[39m\n\u001b[0;32m    522\u001b[0m         )\n\u001b[0;32m    523\u001b[0m \u001b[38;5;28;01melif\u001b[39;00m \u001b[38;5;129;01mnot\u001b[39;00m \u001b[38;5;241m0\u001b[39m \u001b[38;5;241m<\u001b[39m\u001b[38;5;241m=\u001b[39m n_components \u001b[38;5;241m<\u001b[39m\u001b[38;5;241m=\u001b[39m \u001b[38;5;28mmin\u001b[39m(n_samples, n_features):\n\u001b[1;32m--> 524\u001b[0m     \u001b[38;5;28;01mraise\u001b[39;00m \u001b[38;5;167;01mValueError\u001b[39;00m(\n\u001b[0;32m    525\u001b[0m         \u001b[38;5;124m\"\u001b[39m\u001b[38;5;124mn_components=\u001b[39m\u001b[38;5;132;01m%r\u001b[39;00m\u001b[38;5;124m must be between 0 and \u001b[39m\u001b[38;5;124m\"\u001b[39m\n\u001b[0;32m    526\u001b[0m         \u001b[38;5;124m\"\u001b[39m\u001b[38;5;124mmin(n_samples, n_features)=\u001b[39m\u001b[38;5;132;01m%r\u001b[39;00m\u001b[38;5;124m with \u001b[39m\u001b[38;5;124m\"\u001b[39m\n\u001b[0;32m    527\u001b[0m         \u001b[38;5;124m\"\u001b[39m\u001b[38;5;124msvd_solver=\u001b[39m\u001b[38;5;124m'\u001b[39m\u001b[38;5;124mfull\u001b[39m\u001b[38;5;124m'\u001b[39m\u001b[38;5;124m\"\u001b[39m \u001b[38;5;241m%\u001b[39m (n_components, \u001b[38;5;28mmin\u001b[39m(n_samples, n_features))\n\u001b[0;32m    528\u001b[0m     )\n\u001b[0;32m    530\u001b[0m \u001b[38;5;66;03m# Center data\u001b[39;00m\n\u001b[0;32m    531\u001b[0m \u001b[38;5;28mself\u001b[39m\u001b[38;5;241m.\u001b[39mmean_ \u001b[38;5;241m=\u001b[39m np\u001b[38;5;241m.\u001b[39mmean(X, axis\u001b[38;5;241m=\u001b[39m\u001b[38;5;241m0\u001b[39m)\n",
      "\u001b[1;31mValueError\u001b[0m: n_components=200 must be between 0 and min(n_samples, n_features)=177 with svd_solver='full'"
     ]
    }
   ],
   "source": [
    "# Define the classifiers\n",
    "classifiers = {\n",
    "    'SVM': SVC(kernel='linear'),\n",
    "    'DecisionTree': DecisionTreeClassifier(),\n",
    "    'RandomForest': RandomForestClassifier()\n",
    "}\n",
    "Q = 3\n",
    "transformations = [ ['waveletscattering',{'J':J,'Q':Q,'pca_components':200}] for J in range(12) ]\n",
    "# transformations = [['waveletscattering',{'Q':1}],['waveletscattering',{'J':3,'Q':1}],['waveletscattering',{'J':7,'Q':1}],['waveletscattering',{'pca_components':200,'Q':1}]]\n",
    "results_df = evaluate_transformations(X, y, transformations, classifiers)"
   ]
  },
  {
   "cell_type": "code",
   "execution_count": null,
   "metadata": {},
   "outputs": [
    {
     "name": "stdout",
     "output_type": "stream",
     "text": [
      "Transformation: waveletscattering, Shape: 65536\n",
      "Classifier: SVM, Mean Accuracy: 0.995, Std Accuracy: 0.010\n",
      "Classifier: DecisionTree, Mean Accuracy: 0.810, Std Accuracy: 0.085\n",
      "Classifier: RandomForest, Mean Accuracy: 0.995, Std Accuracy: 0.010\n"
     ]
    }
   ],
   "source": [
    "\n",
    "print(\"Transformation: waveletscattering, Shape: 65536\\n\\\n",
    "Classifier: SVM, Mean Accuracy: 0.995, Std Accuracy: 0.010\\n\\\n",
    "Classifier: DecisionTree, Mean Accuracy: 0.810, Std Accuracy: 0.085\\n\\\n",
    "Classifier: RandomForest, Mean Accuracy: 0.995, Std Accuracy: 0.010\")"
   ]
  },
  {
   "cell_type": "code",
   "execution_count": null,
   "metadata": {},
   "outputs": [],
   "source": [
    "def random_combination_transformations(transformation_names, k = 2):\n",
    "    all_combinations = []\n",
    "    for r in range(1, k + 1):\n",
    "        combinations = list(itertools.combinations(transformation_names, r))\n",
    "        all_combinations.extend(combinations)\n",
    "    \n",
    "    return [list(x) for x in all_combinations] \n"
   ]
  },
  {
   "cell_type": "code",
   "execution_count": null,
   "metadata": {},
   "outputs": [
    {
     "name": "stdout",
     "output_type": "stream",
     "text": [
      "Couldn't find program: 'false'\n"
     ]
    }
   ],
   "source": [
    "%%script false --no-raise-error\n",
    "\n",
    "\n",
    "# Define the classifiers\n",
    "classifiers = {\n",
    "    'SVM': SVC(kernel='linear'),\n",
    "    'DecisionTree': DecisionTreeClassifier(),\n",
    "    'RandomForest': RandomForestClassifier()\n",
    "}\n",
    "\n",
    "# # Define the data transformations\n",
    "# transformations = [\n",
    "#     'identity',\n",
    "#     ['fourier', {'new_dimension': 100}],\n",
    "#     ['wavedec', {'level': 4, 'wavelet': 'db1'}],\n",
    "#     ['autoreg', {'k': 1}]\n",
    "# ]\n",
    "# Define the transformations to be tested\n",
    "transformations = ['crosscor','mean','std',\n",
    "                    #'low_psd','low_fourier',\n",
    "                    #['autoreg',{'k':1}], ['autoreg',{'k':2}],['autoreg',{'k':3}],\n",
    "                    ['autoreg',{'k':5}], #'multifracs',\n",
    "                    ['multifracs', {'j1':1,'j2':j2max}],\n",
    "                    'shannon_encoding',['autoencoder',{'fourier_transform':True}]]\n",
    "\n",
    "if DATASET == \"ECG\":\n",
    "    transformations.extend([\"low_psd\",\"low_fourier\"])\n",
    "\n",
    "t = random_combination_transformations(transformations,k=4)\n",
    "transformations = t\n",
    "print(transformations)\n",
    "def evaluate_transformations(X, y, transformations, classifiers):\n",
    "    dt = DataTransform(registry)\n",
    "    results = []\n",
    "\n",
    "    for trans in transformations:\n",
    "        trans_name_str = DataTransform.get_full_trans_kwargs_str(trans)\n",
    "        trans_X = dt.apply_transformation(X, trans)\n",
    "\n",
    "        result = {'Transformation (shape)': trans_name_str}\n",
    "        result[\"shape\"] = trans_X.shape[-1]\n",
    "        result['nb_trans'] = len(trans)\n",
    "        for clf_name, clf in classifiers.items():\n",
    "            kf = KFold(n_splits=5, shuffle=True, random_state=42)\n",
    "            scores = cross_val_score(clf, trans_X, y, cv=kf, scoring='accuracy')\n",
    "            result[f'{clf_name} accuracy'] = np.mean(scores)\n",
    "            result[f'{clf_name} std'] = np.std(scores)\n",
    "            print(f\"Transformation: {trans_name_str}, Classifier: {clf_name}, \"\n",
    "                  f\"Mean Accuracy: {np.mean(scores):.3f}, Std Accuracy: {np.std(scores):.3f}\")\n",
    "        \n",
    "        results.append(result)\n",
    "\n",
    "    return pd.DataFrame(results)\n",
    "\n",
    "\n",
    "results_df = evaluate_transformations(X, y, transformations, classifiers)\n",
    "print(results_df)\n",
    "\n",
    "# Save results to a CSV file\n",
    "results_df.to_csv(f'results/{DATASET}_transformation_results_.csv', index=False)\n"
   ]
  },
  {
   "cell_type": "code",
   "execution_count": null,
   "metadata": {},
   "outputs": [],
   "source": [
    "# results_df"
   ]
  },
  {
   "cell_type": "code",
   "execution_count": null,
   "metadata": {},
   "outputs": [],
   "source": [
    "def get_transformation_names(transformations):\n",
    "    # san_transformations = DataTransform.sanitize_transformations(transformations)\n",
    "    transformation_names = list()\n",
    "    for transformation in transformations:\n",
    "        # print(transformation)\n",
    "        # input = transformation\n",
    "        # print(len(input) == 2 and isinstance(input[0], str) and isinstance(input[1], dict))\n",
    "        s_transformation = DataTransform.sanitize_transformations(transformation)\n",
    "        names = list()\n",
    "        for trans in transformation:\n",
    "            trans_name, kwargs = DataTransform.handle_trans_kwargs(trans)\n",
    "            names.append(DataTransform.get_trans_kwargs_str(trans_name, kwargs)) \n",
    "        transformation_names.append(names)\n",
    "    return transformation_names"
   ]
  },
  {
   "cell_type": "code",
   "execution_count": null,
   "metadata": {},
   "outputs": [],
   "source": [
    "# DataTransform.sanitize_transformations(transformations)"
   ]
  },
  {
   "cell_type": "code",
   "execution_count": null,
   "metadata": {},
   "outputs": [],
   "source": [
    "transformations = ['crosscor','std',\n",
    "                    #'low_psd','low_fourier',\n",
    "                    #['autoreg',{'k':1}], ['autoreg',{'k':2}],['autoreg',{'k':3}],\n",
    "                    ['autoreg',{'k':5}], #'multifracs',\n",
    "                    ['multifracs', {'j1':1,'j2':j2max}],\n",
    "                    'shannon_encoding',['autoencoder',{'fourier_transform':True}]]\n",
    "\n",
    "if DATASET == \"ECG\":\n",
    "    transformations.extend([\"low_psd\",\"low_fourier\"])\n",
    "\n",
    "transformations = random_combination_transformations(transformations,k=3)"
   ]
  },
  {
   "cell_type": "code",
   "execution_count": null,
   "metadata": {},
   "outputs": [],
   "source": [
    "def evaluate_transformations_and_get_aprior(X, y, transformations, classifier1, classifier2, seed = 42):\n",
    "    dt = DataTransform(registry)\n",
    "    results = []\n",
    "    transformation_names = get_transformation_names(transformations)\n",
    "\n",
    "    clf1better = list()\n",
    "    clf2better = list()\n",
    "    apr_list = list()\n",
    "    kf = KFold(n_splits=5, shuffle=True, random_state=seed)\n",
    "    for trans, trans_names in zip(transformations,transformation_names):\n",
    "        trans_name_str = DataTransform.get_full_trans_kwargs_str(trans)\n",
    "        trans_X = dt.apply_transformation(X, trans)\n",
    "\n",
    "        result = {'Transformation (shape)': trans_name_str}\n",
    "        result[\"shape\"] = trans_X.shape[-1]\n",
    "        result['nb_trans'] = len(trans)\n",
    "\n",
    "        scaler = StandardScaler()\n",
    "        trans_X = scaler.fit_transform(trans_X) \n",
    "        print(f\"Transformation: {trans_name_str}, Shape: {trans_X.shape[-1]} \")\n",
    "\n",
    "        scores = cross_val_score(classifier1, trans_X, y, cv=kf, scoring='accuracy')\n",
    "        clf1_mean = np.mean(scores)\n",
    "        clf1_std = np.std(scores)\n",
    "        result[f'{classifier1.__class__} accuracy'] = clf1_mean\n",
    "        result[f'{classifier1.__class__} std'] = clf1_std\n",
    "        print(f\"Classifier: {classifier1.__class__}, \"\n",
    "                f\"Mean Accuracy: {np.mean(scores):.3f}, Std Accuracy: {np.std(scores):.3f}\")\n",
    "        scores = cross_val_score(classifier2, trans_X, y, cv=kf, scoring='accuracy')\n",
    "        clf2_mean = np.mean(scores)\n",
    "        clf2_std = np.std(scores)\n",
    "        result[f'{classifier2.__class__} accuracy'] = clf2_mean\n",
    "        result[f'{classifier2.__class__} std'] = clf2_std\n",
    "        print(f\"Classifier: {classifier2.__class__}, \"\n",
    "                f\"Mean Accuracy: {np.mean(scores):.3f}, Std Accuracy: {np.std(scores):.3f}\")\n",
    "        \n",
    "        if clf1_mean - clf1_std > clf2_mean + clf2_std: # + clf2_std:\n",
    "            clf1better.extend(trans_names)\n",
    "            apr_list.append(trans_names + ['clf1'])\n",
    "        elif clf2_mean - clf2_std > clf1_mean + clf1_std: # + clf1_std:\n",
    "            clf2better.extend(trans_names)\n",
    "            apr_list.append(trans_names + ['clf2'])\n",
    "        results.append(result)\n",
    "\n",
    "    return pd.DataFrame(results), pd.Series(clf1better), pd.Series(clf2better), apr_list"
   ]
  },
  {
   "cell_type": "code",
   "execution_count": null,
   "metadata": {},
   "outputs": [
    {
     "name": "stdout",
     "output_type": "stream",
     "text": [
      "Transformation: crosscor, Shape: 10 \n",
      "Classifier: <class 'sklearn.svm._classes.SVC'>, Mean Accuracy: 0.705, Std Accuracy: 0.068\n",
      "Classifier: <class 'sklearn.ensemble._forest.RandomForestClassifier'>, Mean Accuracy: 0.685, Std Accuracy: 0.078\n",
      "Transformation: std, Shape: 1 \n",
      "Classifier: <class 'sklearn.svm._classes.SVC'>, Mean Accuracy: 0.685, Std Accuracy: 0.049\n",
      "Classifier: <class 'sklearn.ensemble._forest.RandomForestClassifier'>, Mean Accuracy: 0.585, Std Accuracy: 0.096\n",
      "Transformation: autoreg_k=5, Shape: 5 \n",
      "Classifier: <class 'sklearn.svm._classes.SVC'>, Mean Accuracy: 0.995, Std Accuracy: 0.010\n",
      "Classifier: <class 'sklearn.ensemble._forest.RandomForestClassifier'>, Mean Accuracy: 0.995, Std Accuracy: 0.010\n",
      "Computing  multifracs_j1=1_j2=12 ..."
     ]
    }
   ],
   "source": [
    "res, apr1, apr2,apr_list = evaluate_transformations_and_get_aprior(X,y,transformations,SVC(),RandomForestClassifier())"
   ]
  },
  {
   "cell_type": "code",
   "execution_count": null,
   "metadata": {},
   "outputs": [
    {
     "data": {
      "text/plain": [
       "Series([], Name: count, dtype: int64)"
      ]
     },
     "execution_count": 95,
     "metadata": {},
     "output_type": "execute_result"
    }
   ],
   "source": [
    "apr1.value_counts()"
   ]
  },
  {
   "cell_type": "code",
   "execution_count": null,
   "metadata": {},
   "outputs": [
    {
     "data": {
      "text/plain": [
       "autoencoder_fourier_transform=True    6\n",
       "mean                                  3\n",
       "crosscor                              2\n",
       "std                                   2\n",
       "Name: count, dtype: int64"
      ]
     },
     "execution_count": 96,
     "metadata": {},
     "output_type": "execute_result"
    }
   ],
   "source": [
    "apr2.value_counts()"
   ]
  },
  {
   "cell_type": "code",
   "execution_count": null,
   "metadata": {},
   "outputs": [
    {
     "name": "stdout",
     "output_type": "stream",
     "text": [
      "Transformation: crosscor, Shape: 10 \n",
      "Classifier: <class 'sklearn.svm._classes.SVC'>, Mean Accuracy: 0.705, Std Accuracy: 0.068\n",
      "Classifier: <class 'sklearn.tree._classes.DecisionTreeClassifier'>, Mean Accuracy: 0.580, Std Accuracy: 0.048\n",
      "Transformation: mean, Shape: 1 \n",
      "Classifier: <class 'sklearn.svm._classes.SVC'>, Mean Accuracy: 0.460, Std Accuracy: 0.080\n",
      "Classifier: <class 'sklearn.tree._classes.DecisionTreeClassifier'>, Mean Accuracy: 0.540, Std Accuracy: 0.051\n",
      "Transformation: std, Shape: 1 \n",
      "Classifier: <class 'sklearn.svm._classes.SVC'>, Mean Accuracy: 0.685, Std Accuracy: 0.049\n",
      "Classifier: <class 'sklearn.tree._classes.DecisionTreeClassifier'>, Mean Accuracy: 0.585, Std Accuracy: 0.096\n",
      "Transformation: autoreg_k=5, Shape: 5 \n",
      "Classifier: <class 'sklearn.svm._classes.SVC'>, Mean Accuracy: 0.995, Std Accuracy: 0.010\n",
      "Classifier: <class 'sklearn.tree._classes.DecisionTreeClassifier'>, Mean Accuracy: 0.990, Std Accuracy: 0.012\n",
      "Transformation: multifracs_j1=1_j2=12, Shape: 3 \n",
      "Classifier: <class 'sklearn.svm._classes.SVC'>, Mean Accuracy: 0.995, Std Accuracy: 0.010\n",
      "Classifier: <class 'sklearn.tree._classes.DecisionTreeClassifier'>, Mean Accuracy: 0.990, Std Accuracy: 0.012\n",
      "Transformation: shannon_encoding, Shape: 8 \n",
      "Classifier: <class 'sklearn.svm._classes.SVC'>, Mean Accuracy: 0.995, Std Accuracy: 0.010\n",
      "Classifier: <class 'sklearn.tree._classes.DecisionTreeClassifier'>, Mean Accuracy: 0.995, Std Accuracy: 0.010\n",
      "Transformation: autoencoder_fourier_transform=True, Shape: 16 \n",
      "Classifier: <class 'sklearn.svm._classes.SVC'>, Mean Accuracy: 0.740, Std Accuracy: 0.046\n",
      "Classifier: <class 'sklearn.tree._classes.DecisionTreeClassifier'>, Mean Accuracy: 0.875, Std Accuracy: 0.035\n",
      "Transformation: crosscor_mean, Shape: 11 \n",
      "Classifier: <class 'sklearn.svm._classes.SVC'>, Mean Accuracy: 0.730, Std Accuracy: 0.080\n",
      "Classifier: <class 'sklearn.tree._classes.DecisionTreeClassifier'>, Mean Accuracy: 0.600, Std Accuracy: 0.057\n",
      "Transformation: crosscor_std, Shape: 11 \n",
      "Classifier: <class 'sklearn.svm._classes.SVC'>, Mean Accuracy: 0.845, Std Accuracy: 0.066\n",
      "Classifier: <class 'sklearn.tree._classes.DecisionTreeClassifier'>, Mean Accuracy: 0.705, Std Accuracy: 0.062\n",
      "Transformation: crosscor_autoreg_k=5, Shape: 15 \n",
      "Classifier: <class 'sklearn.svm._classes.SVC'>, Mean Accuracy: 0.985, Std Accuracy: 0.012\n",
      "Classifier: <class 'sklearn.tree._classes.DecisionTreeClassifier'>, Mean Accuracy: 0.990, Std Accuracy: 0.012\n",
      "Transformation: crosscor_multifracs_j1=1_j2=12, Shape: 13 \n",
      "Classifier: <class 'sklearn.svm._classes.SVC'>, Mean Accuracy: 0.980, Std Accuracy: 0.010\n",
      "Classifier: <class 'sklearn.tree._classes.DecisionTreeClassifier'>, Mean Accuracy: 0.990, Std Accuracy: 0.012\n",
      "Transformation: crosscor_shannon_encoding, Shape: 18 \n",
      "Classifier: <class 'sklearn.svm._classes.SVC'>, Mean Accuracy: 0.990, Std Accuracy: 0.012\n",
      "Classifier: <class 'sklearn.tree._classes.DecisionTreeClassifier'>, Mean Accuracy: 0.990, Std Accuracy: 0.012\n",
      "Transformation: crosscor_autoencoder_fourier_transform=True, Shape: 26 \n",
      "Classifier: <class 'sklearn.svm._classes.SVC'>, Mean Accuracy: 0.745, Std Accuracy: 0.037\n",
      "Classifier: <class 'sklearn.tree._classes.DecisionTreeClassifier'>, Mean Accuracy: 0.870, Std Accuracy: 0.053\n",
      "Transformation: mean_std, Shape: 2 \n",
      "Classifier: <class 'sklearn.svm._classes.SVC'>, Mean Accuracy: 0.655, Std Accuracy: 0.087\n",
      "Classifier: <class 'sklearn.tree._classes.DecisionTreeClassifier'>, Mean Accuracy: 0.600, Std Accuracy: 0.065\n",
      "Transformation: mean_autoreg_k=5, Shape: 6 \n",
      "Classifier: <class 'sklearn.svm._classes.SVC'>, Mean Accuracy: 0.995, Std Accuracy: 0.010\n",
      "Classifier: <class 'sklearn.tree._classes.DecisionTreeClassifier'>, Mean Accuracy: 0.990, Std Accuracy: 0.012\n",
      "Transformation: mean_multifracs_j1=1_j2=12, Shape: 4 \n",
      "Classifier: <class 'sklearn.svm._classes.SVC'>, Mean Accuracy: 0.995, Std Accuracy: 0.010\n",
      "Classifier: <class 'sklearn.tree._classes.DecisionTreeClassifier'>, Mean Accuracy: 0.995, Std Accuracy: 0.010\n",
      "Transformation: mean_shannon_encoding, Shape: 9 \n",
      "Classifier: <class 'sklearn.svm._classes.SVC'>, Mean Accuracy: 0.995, Std Accuracy: 0.010\n",
      "Classifier: <class 'sklearn.tree._classes.DecisionTreeClassifier'>, Mean Accuracy: 0.995, Std Accuracy: 0.010\n",
      "Transformation: mean_autoencoder_fourier_transform=True, Shape: 17 \n",
      "Classifier: <class 'sklearn.svm._classes.SVC'>, Mean Accuracy: 0.730, Std Accuracy: 0.037\n",
      "Classifier: <class 'sklearn.tree._classes.DecisionTreeClassifier'>, Mean Accuracy: 0.865, Std Accuracy: 0.037\n",
      "Transformation: std_autoreg_k=5, Shape: 6 \n",
      "Classifier: <class 'sklearn.svm._classes.SVC'>, Mean Accuracy: 0.995, Std Accuracy: 0.010\n",
      "Classifier: <class 'sklearn.tree._classes.DecisionTreeClassifier'>, Mean Accuracy: 0.990, Std Accuracy: 0.012\n",
      "Transformation: std_multifracs_j1=1_j2=12, Shape: 4 \n",
      "Classifier: <class 'sklearn.svm._classes.SVC'>, Mean Accuracy: 0.995, Std Accuracy: 0.010\n",
      "Classifier: <class 'sklearn.tree._classes.DecisionTreeClassifier'>, Mean Accuracy: 0.990, Std Accuracy: 0.012\n",
      "Transformation: std_shannon_encoding, Shape: 9 \n",
      "Classifier: <class 'sklearn.svm._classes.SVC'>, Mean Accuracy: 0.995, Std Accuracy: 0.010\n",
      "Classifier: <class 'sklearn.tree._classes.DecisionTreeClassifier'>, Mean Accuracy: 0.975, Std Accuracy: 0.022\n",
      "Transformation: std_autoencoder_fourier_transform=True, Shape: 17 \n",
      "Classifier: <class 'sklearn.svm._classes.SVC'>, Mean Accuracy: 0.760, Std Accuracy: 0.037\n",
      "Classifier: <class 'sklearn.tree._classes.DecisionTreeClassifier'>, Mean Accuracy: 0.855, Std Accuracy: 0.043\n",
      "Transformation: autoreg_k=5_multifracs_j1=1_j2=12, Shape: 8 \n",
      "Classifier: <class 'sklearn.svm._classes.SVC'>, Mean Accuracy: 0.995, Std Accuracy: 0.010\n",
      "Classifier: <class 'sklearn.tree._classes.DecisionTreeClassifier'>, Mean Accuracy: 0.990, Std Accuracy: 0.012\n",
      "Transformation: autoreg_k=5_shannon_encoding, Shape: 13 \n",
      "Classifier: <class 'sklearn.svm._classes.SVC'>, Mean Accuracy: 0.995, Std Accuracy: 0.010\n",
      "Classifier: <class 'sklearn.tree._classes.DecisionTreeClassifier'>, Mean Accuracy: 0.995, Std Accuracy: 0.010\n",
      "Transformation: autoreg_k=5_autoencoder_fourier_transform=True, Shape: 21 \n",
      "Classifier: <class 'sklearn.svm._classes.SVC'>, Mean Accuracy: 0.995, Std Accuracy: 0.010\n",
      "Classifier: <class 'sklearn.tree._classes.DecisionTreeClassifier'>, Mean Accuracy: 0.985, Std Accuracy: 0.020\n",
      "Transformation: multifracs_j1=1_j2=12_shannon_encoding, Shape: 11 \n",
      "Classifier: <class 'sklearn.svm._classes.SVC'>, Mean Accuracy: 0.995, Std Accuracy: 0.010\n",
      "Classifier: <class 'sklearn.tree._classes.DecisionTreeClassifier'>, Mean Accuracy: 0.985, Std Accuracy: 0.020\n",
      "Transformation: multifracs_j1=1_j2=12_autoencoder_fourier_transform=True, Shape: 19 \n",
      "Classifier: <class 'sklearn.svm._classes.SVC'>, Mean Accuracy: 0.995, Std Accuracy: 0.010\n",
      "Classifier: <class 'sklearn.tree._classes.DecisionTreeClassifier'>, Mean Accuracy: 0.985, Std Accuracy: 0.020\n",
      "Transformation: shannon_encoding_autoencoder_fourier_transform=True, Shape: 24 \n",
      "Classifier: <class 'sklearn.svm._classes.SVC'>, Mean Accuracy: 0.995, Std Accuracy: 0.010\n",
      "Classifier: <class 'sklearn.tree._classes.DecisionTreeClassifier'>, Mean Accuracy: 0.985, Std Accuracy: 0.020\n",
      "Transformation: crosscor_mean_std, Shape: 12 \n",
      "Classifier: <class 'sklearn.svm._classes.SVC'>, Mean Accuracy: 0.825, Std Accuracy: 0.069\n",
      "Classifier: <class 'sklearn.tree._classes.DecisionTreeClassifier'>, Mean Accuracy: 0.725, Std Accuracy: 0.063\n",
      "Transformation: crosscor_mean_autoreg_k=5, Shape: 16 \n",
      "Classifier: <class 'sklearn.svm._classes.SVC'>, Mean Accuracy: 0.985, Std Accuracy: 0.012\n",
      "Classifier: <class 'sklearn.tree._classes.DecisionTreeClassifier'>, Mean Accuracy: 0.990, Std Accuracy: 0.012\n",
      "Transformation: crosscor_mean_multifracs_j1=1_j2=12, Shape: 14 \n",
      "Classifier: <class 'sklearn.svm._classes.SVC'>, Mean Accuracy: 0.980, Std Accuracy: 0.010\n",
      "Classifier: <class 'sklearn.tree._classes.DecisionTreeClassifier'>, Mean Accuracy: 0.990, Std Accuracy: 0.012\n",
      "Transformation: crosscor_mean_shannon_encoding, Shape: 19 \n",
      "Classifier: <class 'sklearn.svm._classes.SVC'>, Mean Accuracy: 0.990, Std Accuracy: 0.012\n",
      "Classifier: <class 'sklearn.tree._classes.DecisionTreeClassifier'>, Mean Accuracy: 0.990, Std Accuracy: 0.012\n",
      "Transformation: crosscor_mean_autoencoder_fourier_transform=True, Shape: 27 \n",
      "Classifier: <class 'sklearn.svm._classes.SVC'>, Mean Accuracy: 0.755, Std Accuracy: 0.019\n",
      "Classifier: <class 'sklearn.tree._classes.DecisionTreeClassifier'>, Mean Accuracy: 0.880, Std Accuracy: 0.033\n",
      "Transformation: crosscor_std_autoreg_k=5, Shape: 16 \n",
      "Classifier: <class 'sklearn.svm._classes.SVC'>, Mean Accuracy: 0.990, Std Accuracy: 0.012\n",
      "Classifier: <class 'sklearn.tree._classes.DecisionTreeClassifier'>, Mean Accuracy: 0.990, Std Accuracy: 0.012\n",
      "Transformation: crosscor_std_multifracs_j1=1_j2=12, Shape: 14 \n",
      "Classifier: <class 'sklearn.svm._classes.SVC'>, Mean Accuracy: 0.985, Std Accuracy: 0.012\n",
      "Classifier: <class 'sklearn.tree._classes.DecisionTreeClassifier'>, Mean Accuracy: 0.990, Std Accuracy: 0.012\n",
      "Transformation: crosscor_std_shannon_encoding, Shape: 19 \n",
      "Classifier: <class 'sklearn.svm._classes.SVC'>, Mean Accuracy: 0.990, Std Accuracy: 0.012\n",
      "Classifier: <class 'sklearn.tree._classes.DecisionTreeClassifier'>, Mean Accuracy: 0.990, Std Accuracy: 0.012\n",
      "Transformation: crosscor_std_autoencoder_fourier_transform=True, Shape: 27 \n",
      "Classifier: <class 'sklearn.svm._classes.SVC'>, Mean Accuracy: 0.830, Std Accuracy: 0.062\n",
      "Classifier: <class 'sklearn.tree._classes.DecisionTreeClassifier'>, Mean Accuracy: 0.880, Std Accuracy: 0.058\n",
      "Transformation: crosscor_autoreg_k=5_multifracs_j1=1_j2=12, Shape: 18 \n",
      "Classifier: <class 'sklearn.svm._classes.SVC'>, Mean Accuracy: 0.990, Std Accuracy: 0.012\n",
      "Classifier: <class 'sklearn.tree._classes.DecisionTreeClassifier'>, Mean Accuracy: 0.990, Std Accuracy: 0.012\n",
      "Transformation: crosscor_autoreg_k=5_shannon_encoding, Shape: 23 \n",
      "Classifier: <class 'sklearn.svm._classes.SVC'>, Mean Accuracy: 0.995, Std Accuracy: 0.010\n",
      "Classifier: <class 'sklearn.tree._classes.DecisionTreeClassifier'>, Mean Accuracy: 0.990, Std Accuracy: 0.012\n",
      "Transformation: crosscor_autoreg_k=5_autoencoder_fourier_transform=True, Shape: 31 \n",
      "Classifier: <class 'sklearn.svm._classes.SVC'>, Mean Accuracy: 0.995, Std Accuracy: 0.010\n",
      "Classifier: <class 'sklearn.tree._classes.DecisionTreeClassifier'>, Mean Accuracy: 0.990, Std Accuracy: 0.012\n",
      "Transformation: crosscor_multifracs_j1=1_j2=12_shannon_encoding, Shape: 21 \n",
      "Classifier: <class 'sklearn.svm._classes.SVC'>, Mean Accuracy: 0.995, Std Accuracy: 0.010\n",
      "Classifier: <class 'sklearn.tree._classes.DecisionTreeClassifier'>, Mean Accuracy: 0.990, Std Accuracy: 0.012\n",
      "Transformation: crosscor_multifracs_j1=1_j2=12_autoencoder_fourier_transform=True, Shape: 29 \n",
      "Classifier: <class 'sklearn.svm._classes.SVC'>, Mean Accuracy: 0.990, Std Accuracy: 0.012\n",
      "Classifier: <class 'sklearn.tree._classes.DecisionTreeClassifier'>, Mean Accuracy: 0.990, Std Accuracy: 0.012\n",
      "Transformation: crosscor_shannon_encoding_autoencoder_fourier_transform=True, Shape: 34 \n",
      "Classifier: <class 'sklearn.svm._classes.SVC'>, Mean Accuracy: 0.995, Std Accuracy: 0.010\n",
      "Classifier: <class 'sklearn.tree._classes.DecisionTreeClassifier'>, Mean Accuracy: 0.990, Std Accuracy: 0.012\n",
      "Transformation: mean_std_autoreg_k=5, Shape: 7 \n",
      "Classifier: <class 'sklearn.svm._classes.SVC'>, Mean Accuracy: 0.995, Std Accuracy: 0.010\n",
      "Classifier: <class 'sklearn.tree._classes.DecisionTreeClassifier'>, Mean Accuracy: 0.990, Std Accuracy: 0.012\n",
      "Transformation: mean_std_multifracs_j1=1_j2=12, Shape: 5 \n",
      "Classifier: <class 'sklearn.svm._classes.SVC'>, Mean Accuracy: 0.995, Std Accuracy: 0.010\n",
      "Classifier: <class 'sklearn.tree._classes.DecisionTreeClassifier'>, Mean Accuracy: 0.995, Std Accuracy: 0.010\n",
      "Transformation: mean_std_shannon_encoding, Shape: 10 \n",
      "Classifier: <class 'sklearn.svm._classes.SVC'>, Mean Accuracy: 0.995, Std Accuracy: 0.010\n",
      "Classifier: <class 'sklearn.tree._classes.DecisionTreeClassifier'>, Mean Accuracy: 0.995, Std Accuracy: 0.010\n",
      "Transformation: mean_std_autoencoder_fourier_transform=True, Shape: 18 \n",
      "Classifier: <class 'sklearn.svm._classes.SVC'>, Mean Accuracy: 0.765, Std Accuracy: 0.056\n",
      "Classifier: <class 'sklearn.tree._classes.DecisionTreeClassifier'>, Mean Accuracy: 0.860, Std Accuracy: 0.051\n",
      "Transformation: mean_autoreg_k=5_multifracs_j1=1_j2=12, Shape: 9 \n",
      "Classifier: <class 'sklearn.svm._classes.SVC'>, Mean Accuracy: 0.995, Std Accuracy: 0.010\n",
      "Classifier: <class 'sklearn.tree._classes.DecisionTreeClassifier'>, Mean Accuracy: 0.990, Std Accuracy: 0.012\n",
      "Transformation: mean_autoreg_k=5_shannon_encoding, Shape: 14 \n",
      "Classifier: <class 'sklearn.svm._classes.SVC'>, Mean Accuracy: 0.995, Std Accuracy: 0.010\n",
      "Classifier: <class 'sklearn.tree._classes.DecisionTreeClassifier'>, Mean Accuracy: 0.995, Std Accuracy: 0.010\n",
      "Transformation: mean_autoreg_k=5_autoencoder_fourier_transform=True, Shape: 22 \n",
      "Classifier: <class 'sklearn.svm._classes.SVC'>, Mean Accuracy: 0.995, Std Accuracy: 0.010\n",
      "Classifier: <class 'sklearn.tree._classes.DecisionTreeClassifier'>, Mean Accuracy: 0.985, Std Accuracy: 0.020\n",
      "Transformation: mean_multifracs_j1=1_j2=12_shannon_encoding, Shape: 12 \n",
      "Classifier: <class 'sklearn.svm._classes.SVC'>, Mean Accuracy: 0.995, Std Accuracy: 0.010\n",
      "Classifier: <class 'sklearn.tree._classes.DecisionTreeClassifier'>, Mean Accuracy: 0.970, Std Accuracy: 0.029\n",
      "Transformation: mean_multifracs_j1=1_j2=12_autoencoder_fourier_transform=True, Shape: 20 \n",
      "Classifier: <class 'sklearn.svm._classes.SVC'>, Mean Accuracy: 0.995, Std Accuracy: 0.010\n",
      "Classifier: <class 'sklearn.tree._classes.DecisionTreeClassifier'>, Mean Accuracy: 0.985, Std Accuracy: 0.020\n",
      "Transformation: mean_shannon_encoding_autoencoder_fourier_transform=True, Shape: 25 \n",
      "Classifier: <class 'sklearn.svm._classes.SVC'>, Mean Accuracy: 0.995, Std Accuracy: 0.010\n",
      "Classifier: <class 'sklearn.tree._classes.DecisionTreeClassifier'>, Mean Accuracy: 0.985, Std Accuracy: 0.020\n",
      "Transformation: std_autoreg_k=5_multifracs_j1=1_j2=12, Shape: 9 \n",
      "Classifier: <class 'sklearn.svm._classes.SVC'>, Mean Accuracy: 0.995, Std Accuracy: 0.010\n",
      "Classifier: <class 'sklearn.tree._classes.DecisionTreeClassifier'>, Mean Accuracy: 0.990, Std Accuracy: 0.012\n",
      "Transformation: std_autoreg_k=5_shannon_encoding, Shape: 14 \n",
      "Classifier: <class 'sklearn.svm._classes.SVC'>, Mean Accuracy: 0.995, Std Accuracy: 0.010\n",
      "Classifier: <class 'sklearn.tree._classes.DecisionTreeClassifier'>, Mean Accuracy: 0.995, Std Accuracy: 0.010\n",
      "Transformation: std_autoreg_k=5_autoencoder_fourier_transform=True, Shape: 22 \n",
      "Classifier: <class 'sklearn.svm._classes.SVC'>, Mean Accuracy: 0.995, Std Accuracy: 0.010\n",
      "Classifier: <class 'sklearn.tree._classes.DecisionTreeClassifier'>, Mean Accuracy: 0.985, Std Accuracy: 0.020\n",
      "Transformation: std_multifracs_j1=1_j2=12_shannon_encoding, Shape: 12 \n",
      "Classifier: <class 'sklearn.svm._classes.SVC'>, Mean Accuracy: 0.995, Std Accuracy: 0.010\n",
      "Classifier: <class 'sklearn.tree._classes.DecisionTreeClassifier'>, Mean Accuracy: 0.995, Std Accuracy: 0.010\n",
      "Transformation: std_multifracs_j1=1_j2=12_autoencoder_fourier_transform=True, Shape: 20 \n",
      "Classifier: <class 'sklearn.svm._classes.SVC'>, Mean Accuracy: 0.995, Std Accuracy: 0.010\n",
      "Classifier: <class 'sklearn.tree._classes.DecisionTreeClassifier'>, Mean Accuracy: 0.985, Std Accuracy: 0.020\n",
      "Transformation: std_shannon_encoding_autoencoder_fourier_transform=True, Shape: 25 \n",
      "Classifier: <class 'sklearn.svm._classes.SVC'>, Mean Accuracy: 0.995, Std Accuracy: 0.010\n",
      "Classifier: <class 'sklearn.tree._classes.DecisionTreeClassifier'>, Mean Accuracy: 0.985, Std Accuracy: 0.020\n",
      "Transformation: autoreg_k=5_multifracs_j1=1_j2=12_shannon_encoding, Shape: 16 \n",
      "Classifier: <class 'sklearn.svm._classes.SVC'>, Mean Accuracy: 0.995, Std Accuracy: 0.010\n",
      "Classifier: <class 'sklearn.tree._classes.DecisionTreeClassifier'>, Mean Accuracy: 0.990, Std Accuracy: 0.012\n",
      "Transformation: autoreg_k=5_multifracs_j1=1_j2=12_autoencoder_fourier_transform=True, Shape: 24 \n",
      "Classifier: <class 'sklearn.svm._classes.SVC'>, Mean Accuracy: 0.995, Std Accuracy: 0.010\n",
      "Classifier: <class 'sklearn.tree._classes.DecisionTreeClassifier'>, Mean Accuracy: 0.985, Std Accuracy: 0.020\n",
      "Transformation: autoreg_k=5_shannon_encoding_autoencoder_fourier_transform=True, Shape: 29 \n",
      "Classifier: <class 'sklearn.svm._classes.SVC'>, Mean Accuracy: 0.995, Std Accuracy: 0.010\n",
      "Classifier: <class 'sklearn.tree._classes.DecisionTreeClassifier'>, Mean Accuracy: 0.990, Std Accuracy: 0.012\n",
      "Transformation: multifracs_j1=1_j2=12_shannon_encoding_autoencoder_fourier_transform=True, Shape: 27 \n",
      "Classifier: <class 'sklearn.svm._classes.SVC'>, Mean Accuracy: 0.995, Std Accuracy: 0.010\n",
      "Classifier: <class 'sklearn.tree._classes.DecisionTreeClassifier'>, Mean Accuracy: 0.985, Std Accuracy: 0.020\n"
     ]
    }
   ],
   "source": [
    "res, apr1, apr2, apr_list = evaluate_transformations_and_get_aprior(X,y,transformations,SVC(),DecisionTreeClassifier())"
   ]
  },
  {
   "cell_type": "code",
   "execution_count": null,
   "metadata": {},
   "outputs": [
    {
     "data": {
      "text/plain": [
       "crosscor    2\n",
       "std         1\n",
       "Name: count, dtype: int64"
      ]
     },
     "execution_count": 23,
     "metadata": {},
     "output_type": "execute_result"
    }
   ],
   "source": [
    "apr1.value_counts()"
   ]
  },
  {
   "cell_type": "code",
   "execution_count": null,
   "metadata": {},
   "outputs": [
    {
     "data": {
      "text/plain": [
       "autoencoder_fourier_transform=True    5\n",
       "crosscor                              2\n",
       "mean                                  2\n",
       "std                                   1\n",
       "Name: count, dtype: int64"
      ]
     },
     "execution_count": 100,
     "metadata": {},
     "output_type": "execute_result"
    }
   ],
   "source": [
    "apr2.value_counts()"
   ]
  },
  {
   "cell_type": "code",
   "execution_count": null,
   "metadata": {},
   "outputs": [],
   "source": [
    "result_list = list(apriori(apr_list))"
   ]
  },
  {
   "cell_type": "code",
   "execution_count": null,
   "metadata": {},
   "outputs": [
    {
     "name": "stdout",
     "output_type": "stream",
     "text": [
      "Rule: ['autoencoder_fourier_transform=True', 'clf2']\n",
      "Support: 0.7142857142857143\n",
      "['autoencoder_fourier_transform=True'] ==> ['clf2']\n",
      "Confidence: 1.0\n",
      "Lift: 1.4\n",
      "-----\n",
      "Rule: ['clf1', 'crosscor']\n",
      "Support: 0.2857142857142857\n",
      "['crosscor'] ==> ['clf1']\n",
      "Confidence: 0.5\n",
      "Lift: 1.75\n",
      "-----\n",
      "Rule: ['clf1', 'std']\n",
      "Support: 0.14285714285714285\n",
      "['std'] ==> ['clf1']\n",
      "Confidence: 0.5\n",
      "Lift: 1.75\n",
      "-----\n",
      "Rule: ['clf2', 'crosscor']\n",
      "Support: 0.2857142857142857\n",
      "['crosscor'] ==> ['clf2']\n",
      "Confidence: 0.5\n",
      "Lift: 0.7\n",
      "-----\n",
      "Rule: ['mean', 'clf2']\n",
      "Support: 0.2857142857142857\n",
      "['mean'] ==> ['clf2']\n",
      "Confidence: 1.0\n",
      "Lift: 1.4\n",
      "-----\n",
      "Rule: ['std', 'clf2']\n",
      "Support: 0.14285714285714285\n",
      "['std'] ==> ['clf2']\n",
      "Confidence: 0.5\n",
      "Lift: 0.7\n",
      "-----\n",
      "Rule: ['autoencoder_fourier_transform=True', 'clf2', 'crosscor']\n",
      "Support: 0.2857142857142857\n",
      "['autoencoder_fourier_transform=True', 'crosscor'] ==> ['clf2']\n",
      "Confidence: 1.0\n",
      "Lift: 1.4\n",
      "-----\n",
      "Rule: ['mean', 'autoencoder_fourier_transform=True', 'clf2']\n",
      "Support: 0.2857142857142857\n",
      "['mean', 'autoencoder_fourier_transform=True'] ==> ['clf2']\n",
      "Confidence: 1.0\n",
      "Lift: 1.4\n",
      "-----\n",
      "Rule: ['std', 'autoencoder_fourier_transform=True', 'clf2']\n",
      "Support: 0.14285714285714285\n",
      "['std', 'autoencoder_fourier_transform=True'] ==> ['clf2']\n",
      "Confidence: 1.0\n",
      "Lift: 1.4\n",
      "-----\n",
      "Rule: ['clf1', 'std', 'crosscor']\n",
      "Support: 0.14285714285714285\n",
      "['std', 'crosscor'] ==> ['clf1']\n",
      "Confidence: 1.0\n",
      "Lift: 3.5\n",
      "-----\n",
      "Rule: ['mean', 'clf2', 'crosscor']\n",
      "Support: 0.14285714285714285\n",
      "['mean', 'crosscor'] ==> ['clf2']\n",
      "Confidence: 1.0\n",
      "Lift: 1.4\n",
      "-----\n",
      "Rule: ['mean', 'autoencoder_fourier_transform=True', 'clf2', 'crosscor']\n",
      "Support: 0.14285714285714285\n",
      "['mean', 'autoencoder_fourier_transform=True', 'crosscor'] ==> ['clf2']\n",
      "Confidence: 1.0\n",
      "Lift: 1.4\n",
      "-----\n"
     ]
    }
   ],
   "source": [
    "for result in result_list:\n",
    "    items = [x for x in result.items]\n",
    "    \n",
    "    for ordered_stat in result.ordered_statistics:\n",
    "        if  (list(ordered_stat.items_add) == ['clf1'] or list(ordered_stat.items_add) == ['clf2']) and list(ordered_stat.items_base): \n",
    "            print(f\"Rule: {items}\")\n",
    "            print(f\"Support: {result.support}\")\n",
    "            print(f\"{list(ordered_stat.items_base)} ==> {list(ordered_stat.items_add)}\")\n",
    "            print(f\"Confidence: {ordered_stat.confidence}\")\n",
    "            print(f\"Lift: {ordered_stat.lift}\")\n",
    "            print(\"-----\")"
   ]
  },
  {
   "cell_type": "markdown",
   "metadata": {},
   "source": []
  }
 ],
 "metadata": {
  "kernelspec": {
   "display_name": "base",
   "language": "python",
   "name": "python3"
  },
  "language_info": {
   "codemirror_mode": {
    "name": "ipython",
    "version": 3
   },
   "file_extension": ".py",
   "mimetype": "text/x-python",
   "name": "python",
   "nbconvert_exporter": "python",
   "pygments_lexer": "ipython3",
   "version": "3.11.0"
  }
 },
 "nbformat": 4,
 "nbformat_minor": 2
}
