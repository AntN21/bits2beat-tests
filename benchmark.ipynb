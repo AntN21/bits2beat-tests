{
 "cells": [
  {
   "cell_type": "markdown",
   "metadata": {},
   "source": [
    "# Benchmark for signal representation "
   ]
  },
  {
   "cell_type": "markdown",
   "metadata": {},
   "source": [
    "- Multifractal analysis (1ere approche)\n",
    "\n",
    "- Discrete Fourier Transform (DFT) $\\checkmark$\n",
    "- Spectrogram\n",
    "- Autoregression $\\checkmark$\n",
    "- Shannon encoding $\\checkmark$\n",
    "- Wavelets (en cours)\n",
    "\n",
    "- Local symbolic features\n",
    "- SAX representation\n",
    "- Approximate entropy\n",
    "\n",
    "ML\n",
    "\n",
    "- Autoencoder\n",
    "\n",
    "- RNN\n",
    "- LSTM\n",
    "\n"
   ]
  },
  {
   "cell_type": "markdown",
   "metadata": {},
   "source": [
    "## Imports"
   ]
  },
  {
   "cell_type": "code",
   "execution_count": 1,
   "metadata": {},
   "outputs": [],
   "source": [
    "import numpy as np \n",
    "import matplotlib.pyplot as plt\n",
    "import pandas as pd\n",
    "import random\n",
    "import itertools\n",
    "from apyori import apriori\n",
    "\n",
    "# import pywt\n",
    "\n",
    "# import pymultifracs.mfa as mfa\n",
    "# from pymultifracs.utils import build_q_log\n",
    "# from statsmodels.tsa.ar_model import AutoReg, ar_select_order\n"
   ]
  },
  {
   "cell_type": "code",
   "execution_count": 2,
   "metadata": {},
   "outputs": [],
   "source": [
    "from sklearn.svm import SVC\n",
    "from sklearn.tree import DecisionTreeClassifier\n",
    "from sklearn.ensemble import RandomForestClassifier\n",
    "from sklearn.model_selection import cross_val_score, KFold\n",
    "from sklearn.preprocessing import StandardScaler\n"
   ]
  },
  {
   "cell_type": "code",
   "execution_count": 3,
   "metadata": {},
   "outputs": [],
   "source": [
    "\n",
    "# from sklearn.model_selection import  KFold"
   ]
  },
  {
   "cell_type": "code",
   "execution_count": 4,
   "metadata": {},
   "outputs": [],
   "source": [
    "# %pip install import_ipynb\n",
    "# %pip install  --user git+https://github.com/neurospin/pymultifracs"
   ]
  },
  {
   "cell_type": "code",
   "execution_count": 5,
   "metadata": {},
   "outputs": [
    {
     "name": "stdout",
     "output_type": "stream",
     "text": [
      "importing Jupyter notebook from transformations.ipynb\n",
      "importing Jupyter notebook from prep_synth_data.ipynb\n"
     ]
    }
   ],
   "source": [
    "import import_ipynb\n",
    "#from transformations import DataTransform,TransformationRegistry, IdentityTransform, FourierTransform, LowFourierTransform, LowPsdTransform, WaveDecTransform, DwtTransform, CwtTransform, AutoRegTransform, ShannonEncodingTransform, WaveletLeadersTransform, CrossCorTransform, AutoCorTransform, MultiFracsTransform, AutoEncoderTransform  \n",
    "from transformations import *\n",
    "from prep_synth_data import create_synth_data"
   ]
  },
  {
   "cell_type": "code",
   "execution_count": 6,
   "metadata": {},
   "outputs": [],
   "source": [
    "# Initialize the registry\n",
    "registry = initialize_registry()#TransformationRegistry()\n",
    "\n",
    "# # Register transformations\n",
    "# registry.register('identity', IdentityTransform)\n",
    "# registry.register('mean', Mean)\n",
    "# registry.register('std', StandardDeviation)\n",
    "# registry.register('fourier', FourierTransform)\n",
    "# registry.register('low_fourier', LowFourierTransform)\n",
    "# registry.register('low_psd', LowPsdTransform)\n",
    "# registry.register('wavedec', WaveDecTransform)\n",
    "# registry.register('dwt', DwtTransform)\n",
    "# registry.register('cwt', CwtTransform)\n",
    "# registry.register('autoreg', AutoRegTransform)\n",
    "# registry.register('shannon_encoding', ShannonEncodingTransform)\n",
    "# registry.register('wavelet_leaders', WaveletLeadersTransform)\n",
    "# registry.register('multifracs', MultiFracsTransform)\n",
    "# registry.register('crosscor', CrossCorTransform)\n",
    "# registry.register('autocor', AutoCorTransform)\n",
    "# registry.register('autoencoder', AutoEncoderTransform)\n",
    "# registry.register('waveletscattering', WaveletScattering)"
   ]
  },
  {
   "cell_type": "markdown",
   "metadata": {},
   "source": [
    "## Data Load\n",
    "\n",
    "Link here [ecgs_labels.npy](https://drive.google.com/file/d/1cbUKH9qGOeIZD6Mf73plMkyXpq56mwIu/view?usp=sharing)"
   ]
  },
  {
   "cell_type": "code",
   "execution_count": 7,
   "metadata": {},
   "outputs": [],
   "source": [
    "DATASET = \"ECG\"\n",
    "# DATASET = \"HRV\"\n",
    "# DATASET = \"HRV_chall2002\"\n",
    "DATASET = \"SYNTH_DATA\"\n",
    "# DATASET = \"SYNTH_DATA2\"\n",
    "# DATASET = \"SYNTH_DATA3\"\n",
    "#DATASET = \"SYNTH_DATA4\"\n",
    "# DATASET = \"SYNTH_DATA_SAME\"\n",
    "DATASET = \"HRV_DATA_GOOD\""
   ]
  },
  {
   "cell_type": "code",
   "execution_count": 8,
   "metadata": {},
   "outputs": [],
   "source": [
    "if DATASET == \"ECG\":\n",
    "    ecgs_labels = np.load('ecgs_labels.npy')\n",
    "\n",
    "    X, y = ecgs_labels[1:,:-1], ecgs_labels[1:,-1]"
   ]
  },
  {
   "cell_type": "code",
   "execution_count": 9,
   "metadata": {},
   "outputs": [],
   "source": [
    "if DATASET ==  \"HRV\":\n",
    "    X, y = np.load('hrv_signals.npy'), np.load('hrv_labels.npy')"
   ]
  },
  {
   "cell_type": "code",
   "execution_count": 10,
   "metadata": {},
   "outputs": [],
   "source": [
    "if DATASET ==  \"HRV_chall2002\":\n",
    "    hrvs_labels = np.load('hrv_data.npy')\n",
    "\n",
    "    X, y = hrvs_labels[:,:-1], hrvs_labels[:,-1]\n"
   ]
  },
  {
   "cell_type": "code",
   "execution_count": 11,
   "metadata": {},
   "outputs": [],
   "source": [
    "if DATASET ==  \"HRV_DATA_GOOD\":\n",
    "    hrvs_labels = np.load('hrv_data_good.npy')\n",
    "\n",
    "    X, y = hrvs_labels[:,:-1], hrvs_labels[:,-1]"
   ]
  },
  {
   "cell_type": "code",
   "execution_count": 12,
   "metadata": {},
   "outputs": [],
   "source": [
    "if DATASET ==  \"SYNTH_DATA\":\n",
    "    Hs = [.01,.05,.1,.3,.5,.6,.8,.9]\n",
    "    lams = np.maximum(.17 + .03 * np.random.randn(len(Hs)),0.03)\n",
    "    X, y = create_synth_data(Hs=Hs,\n",
    "                             lams=lams,\n",
    "                             n_per_class=100,\n",
    "                             length = 2048,\n",
    "                             concatenate_result=False\n",
    "                             )\n",
    "    # data = np.load('synth_data.npy')\n",
    "\n",
    "    # X, y = data[:,:-1], data[:,-1]"
   ]
  },
  {
   "cell_type": "code",
   "execution_count": null,
   "metadata": {},
   "outputs": [],
   "source": []
  },
  {
   "cell_type": "code",
   "execution_count": 13,
   "metadata": {},
   "outputs": [],
   "source": [
    "if DATASET ==  \"SYNTH_DATA2\":\n",
    "    data = np.load('synth_data2.npy')\n",
    "\n",
    "    X, y = data[:,:-1], data[:,-1]"
   ]
  },
  {
   "cell_type": "code",
   "execution_count": 14,
   "metadata": {},
   "outputs": [],
   "source": [
    "if DATASET ==  \"SYNTH_DATA3\":\n",
    "    data = np.load('synth_data3.npy')\n",
    "\n",
    "    X, y = data[:,:-1], data[:,-1]"
   ]
  },
  {
   "cell_type": "code",
   "execution_count": 15,
   "metadata": {},
   "outputs": [],
   "source": [
    "if DATASET == \"SYNTH_DATA4\":\n",
    "    data = np.load('synth_data_0.8_0.75.npy')\n",
    "\n",
    "    X, y = data[:,:-1], data[:,-1]"
   ]
  },
  {
   "cell_type": "code",
   "execution_count": 16,
   "metadata": {},
   "outputs": [],
   "source": [
    "if DATASET == \"SYNTH_DATA_SAME\":\n",
    "    data = np.load('synth_data_same.npy')\n",
    "\n",
    "    X, y = data[:,:-1], data[:,-1]"
   ]
  },
  {
   "cell_type": "code",
   "execution_count": 17,
   "metadata": {},
   "outputs": [
    {
     "name": "stdout",
     "output_type": "stream",
     "text": [
      "X.shape : (346, 10000)\n"
     ]
    }
   ],
   "source": [
    "n,p = X.shape\n",
    "\n",
    "print(f'X.shape : {n,p}')"
   ]
  },
  {
   "cell_type": "code",
   "execution_count": 18,
   "metadata": {},
   "outputs": [
    {
     "data": {
      "text/plain": [
       "10"
      ]
     },
     "execution_count": 18,
     "metadata": {},
     "output_type": "execute_result"
    }
   ],
   "source": [
    "j2max = min(12,int(np.log2(p) - 3))\n",
    "j2max"
   ]
  },
  {
   "cell_type": "code",
   "execution_count": 19,
   "metadata": {},
   "outputs": [],
   "source": [
    "p_ = 65000"
   ]
  },
  {
   "cell_type": "code",
   "execution_count": 20,
   "metadata": {},
   "outputs": [
    {
     "name": "stdout",
     "output_type": "stream",
     "text": [
      "Transformation: identity, Shape: (10, 65000)\n",
      "Transformation: mean, Shape: (10, 1)\n",
      "Transformation: std, Shape: (10, 1)\n",
      "Transformation: fourier, Shape: (10, 65000)\n",
      "Transformation: low_fourier, Shape: (10, 1092)\n",
      "Transformation: low_psd, Shape: (10, 1092)\n",
      "Computing  wavedec ..."
     ]
    },
    {
     "name": "stdout",
     "output_type": "stream",
     "text": [
      "Transformation: wavedec, Shape: (10, 4063)\n",
      "Transformation: dwt, Shape: (10, 32500)\n",
      "Transformation: cwt, Shape: (10, 10)\n",
      "Transformation: autoreg, Shape: (10, 3)\n",
      "Transformation: shannon_encoding, Shape: (10, 8)\n",
      "Transformation: wavelet_leaders, Shape: (10, 2)\n",
      "Transformation: multifracs, Shape: (10, 3)\n",
      "Transformation: crosscor, Shape: (10, 10)\n",
      "Transformation: autocor, Shape: (10, 26000)\n",
      "Transformation: autoencoder, Shape: (10, 16)\n",
      "Transformation: waveletscattering, Shape: (10, 203150)\n"
     ]
    }
   ],
   "source": [
    "data_transformer = DataTransform(registry,save_data=False)\n",
    "for trans_names in registry.transformations.keys():\n",
    "        trans_names_str = [str(name) for name in trans_names]\n",
    "        trans_name_str = '+'.join(trans_names_str) if isinstance(trans_names, list) else trans_names\n",
    "        kwargs = trans_names[1] if isinstance(trans_names, list) and len(trans_names) > 1 else {}\n",
    "        trans_names = trans_names[0] if isinstance(trans_names, list) else trans_names\n",
    "        # Apply transformation\n",
    "        transformed_X = data_transformer.apply_transformation(np.random.randn((10*p_)).reshape((10,p_)), trans_names, **kwargs)\n",
    "        \n",
    "        print(f\"Transformation: {trans_name_str}, Shape: {transformed_X.shape}\")"
   ]
  },
  {
   "cell_type": "code",
   "execution_count": 21,
   "metadata": {},
   "outputs": [],
   "source": [
    "# Initialize the data transformer\n",
    "data_transformer = DataTransform(registry)"
   ]
  },
  {
   "cell_type": "code",
   "execution_count": 22,
   "metadata": {},
   "outputs": [
    {
     "name": "stdout",
     "output_type": "stream",
     "text": [
      "Couldn't find program: 'false'\n"
     ]
    }
   ],
   "source": [
    "%%script false --no-raise-error\n",
    "\n",
    "# Define the classifiers to be tested\n",
    "classifiers = {\n",
    "    'SVM': SVC(),\n",
    "    'DecisionTree': DecisionTreeClassifier(),\n",
    "    'RandomForest': RandomForestClassifier()\n",
    "}\n",
    "\n",
    "# Define the transformations to be tested\n",
    "transformations = [\n",
    "    # ['identity'],\n",
    "    ['crosscor'],\n",
    "    ['autocor', {'m':5000,'k':4}],\n",
    "    ['fourier', {'new_dimension':40}],\n",
    "    ['low_fourier'],\n",
    "    ['low_psd'],\n",
    "    ['cwt',{'pca_components' : 10}],\n",
    "    ['wavedec'],\n",
    "    ['autoreg', {'k': 3}],\n",
    "    ['shannon_encoding'],\n",
    "    ['wavelet_leaders'],\n",
    "    ['multifracs'],\n",
    "    ['multifracs', {'j1':1,'j2':12}],\n",
    "    [['wavelet_leaders','shannon_encoding']],\n",
    "    [['wavelet_leaders','multifracs']],\n",
    "    [['fourier','multifracs',], {'new_dimension':40}],\n",
    "    [['fourier','multifracs',], {'new_dimension':40}],\n",
    "    [['fourier','multifracs','shannon_encoding'], {'new_dimension':40}],\n",
    "    [['low_fourier','multifracs','autoreg'], {'k':3}],\n",
    "    \n",
    "]\n",
    "\n",
    "\n",
    "\n",
    "\n",
    "# Function to evaluate a classifier using cross-validation\n",
    "def evaluate_classifier_cv(classifier, X, y):\n",
    "    scores = cross_val_score(classifier, X, y, cv=5)  # 5-fold cross-validation\n",
    "    return np.mean(scores), np.std(scores)\n",
    "\n",
    "# Loop over each transformation and each classifier\n",
    "results = {}\n",
    "\n",
    "for trans_names in transformations:\n",
    "    # print()\n",
    "    trans_names_str = [str(name) for name in trans_names]\n",
    "    trans_name_str = '+'.join(trans_names_str) if isinstance(trans_names, list) else trans_names\n",
    "    kwargs = trans_names[1] if isinstance(trans_names, list) and len(trans_names) > 1 else {}\n",
    "    trans_names = trans_names[0] if isinstance(trans_names, list) else trans_names\n",
    "    \n",
    "    # Apply transformation\n",
    "    transformed_X = data_transformer.apply_transformation(X, trans_names, **kwargs)\n",
    "    print(f\"Transformation: {trans_name_str}, Shape: {transformed_X.shape}\" )\n",
    "    # Standardize the data (important for some classifiers like SVM)\n",
    "    scaler = StandardScaler()\n",
    "    transformed_X = scaler.fit_transform(transformed_X)\n",
    "    \n",
    "    results[trans_name_str] = {}\n",
    "    for clf_name, clf in classifiers.items():\n",
    "        # Evaluate the classifier with cross-validation\n",
    "        mean_accuracy, std_accuracy = evaluate_classifier_cv(clf, transformed_X, y)\n",
    "        results[trans_name_str][clf_name] = (mean_accuracy, std_accuracy)\n",
    "        print(f\"Transformation: {trans_name_str}, Classifier: {clf_name}, Mean Accuracy: {mean_accuracy:.3f}, Std Dev: {std_accuracy:.3f}\")\n",
    "\n",
    "    print()\n",
    "# Print the results\n",
    "for trans_name, clf_results in results.items():\n",
    "    print()\n",
    "    for clf_name, (mean_accuracy, std_accuracy) in clf_results.items():\n",
    "        print(f\"Transformation: {trans_name}, Classifier: {clf_name}, Mean Accuracy: {mean_accuracy:.3f}, Std Dev: {std_accuracy:.3f}\")\n",
    "        "
   ]
  },
  {
   "cell_type": "code",
   "execution_count": 23,
   "metadata": {},
   "outputs": [
    {
     "name": "stdout",
     "output_type": "stream",
     "text": [
      "Couldn't find program: 'false'\n"
     ]
    }
   ],
   "source": [
    "%%script false --no-raise-error\n",
    "import random\n",
    "import itertools\n",
    "import json\n",
    "\n",
    "# Define the classifiers to be tested\n",
    "classifiers = {\n",
    "    'SVM': SVC(),\n",
    "    'DecisionTree': DecisionTreeClassifier(),\n",
    "    'RandomForest': RandomForestClassifier()\n",
    "}\n",
    "\n",
    "# Initialize the data transformer\n",
    "data_transformer = DataTransform(registry)\n",
    "\n",
    "# Define the transformations to be tested\n",
    "transformation_names = ['crosscor','low_psd','low_fourier',['autoreg',{'k':3}],['autoreg',{'k':5}], #'multifracs',\n",
    "                        ['multifracs', {'j1':1,'j2':j2max}],\n",
    "                        'shannon_encoding',['autoencoder',{'fourier_transform':True}]] #list(registry.transformations.keys())\n",
    "\n",
    "\n",
    "\n",
    "\n",
    "# Function to evaluate a classifier using cross-validation\n",
    "def evaluate_classifier_cv(classifier, X, y):\n",
    "    scores = cross_val_score(classifier, X, y, cv=5)  # 5-fold cross-validation\n",
    "    return np.mean(scores), np.std(scores)\n",
    "\n",
    "# Function to randomly combine transformations\n",
    "def random_combination_transformations(transformation_list, n_combinations=10):\n",
    "    # all_combinations = []\n",
    "    # for r in range(1, len(transformation_names) + 1):\n",
    "    #     combinations = list(itertools.combinations(transformation_names, r))\n",
    "    #     all_combinations.extend(combinations)\n",
    "    \n",
    "    # return random.sample(all_combinations, min(n_combinations, len(all_combinations)))\n",
    "    nb_transformation = len(transformation_list)\n",
    "    combined_transformations = []\n",
    "    for _ in range(n_combinations):\n",
    "        nb_trans = np.random.randint(1,5)\n",
    "\n",
    "        already_drawn = []\n",
    "        transs = []\n",
    "        for _ in range(nb_trans):\n",
    "            while True:\n",
    "                random_ind = np.random.randint(nb_transformation)\n",
    "                if random_ind not in already_drawn:\n",
    "                    already_drawn.append(random_ind)\n",
    "                    break\n",
    "            trans = transformation_list[random_ind]\n",
    "            transs.append(trans)\n",
    "            \n",
    "        combined_transformations.append(transs)\n",
    "    return combined_transformations\n",
    "# Generate random combinations of transformations\n",
    "random_transformations = random_combination_transformations(transformation_names, n_combinations=5)\n",
    "print(random_transformations)\n",
    "# # Example input data\n",
    "# X = np.random.randn(100, 10)  # Example input data\n",
    "# y = np.random.randint(0, 2, 100)  # Example labels\n",
    "\n",
    "# Dictionary to store results\n",
    "results = {}\n",
    "\n",
    "i = 0\n",
    "# Loop over each random combination of transformations and each classifier\n",
    "for trans in random_transformations:\n",
    "    print()\n",
    "    trans_name_str = DataTransform.get_full_trans_kwargs_str(trans)\n",
    "    \n",
    "        \n",
    "    transformed_X = data_transformer.apply_transformation(X, trans)\n",
    "\n",
    "    # trans_name_str = '+'.join(trans_comb)\n",
    "    # transformed_X = data_transformer.apply_transformation(X, trans_comb)\n",
    "    \n",
    "    # Standardize the data (important for some classifiers like SVM)\n",
    "    scaler = StandardScaler()\n",
    "    transformed_X = scaler.fit_transform(transformed_X)\n",
    "    \n",
    "    results[trans_name_str] = {}\n",
    "    i += 1\n",
    "    print(f\"Transformations n°{i}: {trans_name_str} {transformed_X.shape}\")\n",
    "    for clf_name, clf in classifiers.items():\n",
    "        # Evaluate the classifier with cross-validation\n",
    "        mean_accuracy, std_accuracy = evaluate_classifier_cv(clf, transformed_X, y)\n",
    "        results[trans_name_str][clf_name] = {'mean_accuracy': mean_accuracy, 'std_accuracy': std_accuracy}\n",
    "        print(f\"Classifier: {clf_name}, Mean Accuracy: {mean_accuracy:.3f}, Std Dev: {std_accuracy:.3f}\")\n",
    "\n",
    "# Save results to a JSON file\n",
    "with open('transformation_results0.json', 'w') as f:\n",
    "    json.dump(results, f, indent=4)\n"
   ]
  },
  {
   "cell_type": "code",
   "execution_count": 24,
   "metadata": {},
   "outputs": [],
   "source": [
    "# # Save results to a JSON file\n",
    "# with open('transformation_results_hrv_chall2002.json', 'w') as f:\n",
    "#     json.dump(results, f, indent=4)"
   ]
  },
  {
   "cell_type": "code",
   "execution_count": 25,
   "metadata": {},
   "outputs": [],
   "source": [
    "def evaluate_transformations(X, y, transformations, classifiers):\n",
    "    dt = DataTransform(registry)\n",
    "    results = []\n",
    "\n",
    "    for trans in transformations:\n",
    "        trans_name_str = DataTransform.get_full_trans_kwargs_str(trans)\n",
    "        trans_X = dt.apply_transformation(X, trans)\n",
    "\n",
    "        result = {'Transformation (shape)': trans_name_str}\n",
    "        result[\"shape\"] = trans_X.shape[-1]\n",
    "        result['nb_trans'] = len(trans)\n",
    "\n",
    "        scaler = StandardScaler()\n",
    "        trans_X = scaler.fit_transform(trans_X) \n",
    "        print(f\"Transformation: {trans_name_str}, Shape: {trans_X.shape[-1]} \")\n",
    "        for clf_name, clf in classifiers.items():\n",
    "            kf = KFold(n_splits=5, shuffle=True, random_state=42)\n",
    "            scores = cross_val_score(clf, trans_X, y, cv=kf, scoring='accuracy')\n",
    "            result[f'{clf_name} accuracy'] = np.mean(scores)\n",
    "            result[f'{clf_name} std'] = np.std(scores)\n",
    "            print(f\"Classifier: {clf_name}, \"\n",
    "                  f\"Mean Accuracy: {np.mean(scores):.3f}, Std Accuracy: {np.std(scores):.3f}\")\n",
    "        \n",
    "        results.append(result)\n",
    "\n",
    "    return pd.DataFrame(results)"
   ]
  },
  {
   "cell_type": "code",
   "execution_count": 26,
   "metadata": {},
   "outputs": [
    {
     "name": "stdout",
     "output_type": "stream",
     "text": [
      "Transformation: waveletscattering_Q=1, Shape: 8125 \n",
      "Classifier: SVM, Mean Accuracy: 0.887, Std Accuracy: 0.048\n",
      "Classifier: DecisionTree, Mean Accuracy: 0.801, Std Accuracy: 0.040\n",
      "Classifier: RandomForest, Mean Accuracy: 0.879, Std Accuracy: 0.063\n",
      "Transformation: waveletscattering, Shape: 31250 \n",
      "Classifier: SVM, Mean Accuracy: 0.913, Std Accuracy: 0.030\n",
      "Classifier: DecisionTree, Mean Accuracy: 0.780, Std Accuracy: 0.046\n",
      "Classifier: RandomForest, Mean Accuracy: 0.890, Std Accuracy: 0.034\n"
     ]
    }
   ],
   "source": [
    "# Define the classifiers\n",
    "classifiers = {\n",
    "    'SVM': SVC(kernel='linear'),\n",
    "    'DecisionTree': DecisionTreeClassifier(),\n",
    "    'RandomForest': RandomForestClassifier()\n",
    "}\n",
    "transformations = [['waveletscattering',{'Q':1}],['waveletscattering']]\n",
    "results_df = evaluate_transformations(X, y, transformations, classifiers)\n",
    "# print(results_df)\n",
    "\n",
    "# Save results to a CSV file\n",
    "# results_df.to_csv(f'results/test_wst_transformation_results2.csv', index=False)"
   ]
  },
  {
   "cell_type": "code",
   "execution_count": 27,
   "metadata": {},
   "outputs": [
    {
     "name": "stdout",
     "output_type": "stream",
     "text": [
      "Transformation: waveletscattering_J=0_Q=3, Shape: 30000 \n",
      "Classifier: SVM, Mean Accuracy: 0.509, Std Accuracy: 0.049\n",
      "Classifier: DecisionTree, Mean Accuracy: 0.671, Std Accuracy: 0.051\n"
     ]
    }
   ],
   "source": [
    "# Define the classifiers\n",
    "classifiers = {\n",
    "    'SVM': SVC(kernel='linear'),\n",
    "    'DecisionTree': DecisionTreeClassifier(),\n",
    "    'RandomForest': RandomForestClassifier()\n",
    "}\n",
    "Q = 3\n",
    "transformations = [ ['waveletscattering',{'J':J,'Q':Q}] for J in range(0,12,4) ]\n",
    "# transformations = [['waveletscattering',{'Q':1}],['waveletscattering',{'J':3,'Q':1}],['waveletscattering',{'J':7,'Q':1}],['waveletscattering',{'pca_components':200,'Q':1}]]\n",
    "results_df = evaluate_transformations(X, y, transformations, classifiers)\n",
    "# print(results_df)"
   ]
  },
  {
   "cell_type": "code",
   "execution_count": null,
   "metadata": {},
   "outputs": [
    {
     "name": "stdout",
     "output_type": "stream",
     "text": [
      "Transformation: waveletscattering_J=0_Q=3_pca_components=200, Shape: 200 \n",
      "Classifier: SVM, Mean Accuracy: 0.491, Std Accuracy: 0.061\n",
      "Classifier: DecisionTree, Mean Accuracy: 0.714, Std Accuracy: 0.064\n",
      "Classifier: RandomForest, Mean Accuracy: 0.685, Std Accuracy: 0.071\n",
      "Transformation: waveletscattering_J=1_Q=3_pca_components=200, Shape: 200 \n",
      "Classifier: SVM, Mean Accuracy: 0.511, Std Accuracy: 0.071\n",
      "Classifier: DecisionTree, Mean Accuracy: 0.590, Std Accuracy: 0.036\n",
      "Classifier: RandomForest, Mean Accuracy: 0.650, Std Accuracy: 0.030\n",
      "Transformation: waveletscattering_J=2_Q=3_pca_components=200, Shape: 200 \n",
      "Classifier: SVM, Mean Accuracy: 0.630, Std Accuracy: 0.065\n",
      "Classifier: DecisionTree, Mean Accuracy: 0.769, Std Accuracy: 0.025\n",
      "Classifier: RandomForest, Mean Accuracy: 0.789, Std Accuracy: 0.042\n",
      "Transformation: waveletscattering_J=3_Q=3_pca_components=200, Shape: 200 \n",
      "Classifier: SVM, Mean Accuracy: 0.650, Std Accuracy: 0.045\n",
      "Classifier: DecisionTree, Mean Accuracy: 0.769, Std Accuracy: 0.080\n",
      "Classifier: RandomForest, Mean Accuracy: 0.766, Std Accuracy: 0.034\n",
      "Transformation: waveletscattering_J=4_Q=3_pca_components=200, Shape: 200 \n",
      "Classifier: SVM, Mean Accuracy: 0.720, Std Accuracy: 0.046\n",
      "Classifier: DecisionTree, Mean Accuracy: 0.774, Std Accuracy: 0.042\n",
      "Classifier: RandomForest, Mean Accuracy: 0.789, Std Accuracy: 0.047\n",
      "Transformation: waveletscattering_J=5_Q=3_pca_components=200, Shape: 200 \n",
      "Classifier: SVM, Mean Accuracy: 0.705, Std Accuracy: 0.032\n",
      "Classifier: DecisionTree, Mean Accuracy: 0.743, Std Accuracy: 0.028\n",
      "Classifier: RandomForest, Mean Accuracy: 0.798, Std Accuracy: 0.036\n",
      "Transformation: waveletscattering_J=6_Q=3_pca_components=200, Shape: 200 \n",
      "Classifier: SVM, Mean Accuracy: 0.725, Std Accuracy: 0.066\n",
      "Classifier: DecisionTree, Mean Accuracy: 0.760, Std Accuracy: 0.027\n",
      "Classifier: RandomForest, Mean Accuracy: 0.861, Std Accuracy: 0.043\n",
      "Transformation: waveletscattering_J=7_Q=3_pca_components=200, Shape: 200 \n",
      "Classifier: SVM, Mean Accuracy: 0.754, Std Accuracy: 0.038\n",
      "Classifier: DecisionTree, Mean Accuracy: 0.748, Std Accuracy: 0.053\n",
      "Classifier: RandomForest, Mean Accuracy: 0.812, Std Accuracy: 0.043\n",
      "Transformation: waveletscattering_J=8_Q=3_pca_components=200, Shape: 200 \n",
      "Classifier: SVM, Mean Accuracy: 0.780, Std Accuracy: 0.040\n",
      "Classifier: DecisionTree, Mean Accuracy: 0.827, Std Accuracy: 0.059\n",
      "Classifier: RandomForest, Mean Accuracy: 0.801, Std Accuracy: 0.052\n",
      "Transformation: waveletscattering_J=9_Q=3_pca_components=200, Shape: 200 \n",
      "Classifier: SVM, Mean Accuracy: 0.755, Std Accuracy: 0.052\n",
      "Classifier: DecisionTree, Mean Accuracy: 0.818, Std Accuracy: 0.057\n",
      "Classifier: RandomForest, Mean Accuracy: 0.853, Std Accuracy: 0.054\n",
      "Transformation: waveletscattering_J=10_Q=3_pca_components=200, Shape: 200 \n",
      "Classifier: SVM, Mean Accuracy: 0.754, Std Accuracy: 0.037\n",
      "Classifier: DecisionTree, Mean Accuracy: 0.775, Std Accuracy: 0.025\n",
      "Classifier: RandomForest, Mean Accuracy: 0.812, Std Accuracy: 0.034\n",
      "Transformation: waveletscattering_J=11_Q=3_pca_components=200, Shape: 200 \n",
      "Classifier: SVM, Mean Accuracy: 0.766, Std Accuracy: 0.042\n",
      "Classifier: DecisionTree, Mean Accuracy: 0.783, Std Accuracy: 0.048\n",
      "Classifier: RandomForest, Mean Accuracy: 0.873, Std Accuracy: 0.047\n"
     ]
    }
   ],
   "source": [
    "# Define the classifiers\n",
    "classifiers = {\n",
    "    'SVM': SVC(kernel='linear'),\n",
    "    'DecisionTree': DecisionTreeClassifier(),\n",
    "    'RandomForest': RandomForestClassifier()\n",
    "}\n",
    "Q = 3\n",
    "transformations = [ ['waveletscattering',{'J':J,'Q':Q,'pca_components':200}] for J in range(12) ]\n",
    "# transformations = [['waveletscattering',{'Q':1}],['waveletscattering',{'J':3,'Q':1}],['waveletscattering',{'J':7,'Q':1}],['waveletscattering',{'pca_components':200,'Q':1}]]\n",
    "results_df = evaluate_transformations(X, y, transformations, classifiers)"
   ]
  },
  {
   "cell_type": "code",
   "execution_count": null,
   "metadata": {},
   "outputs": [
    {
     "name": "stdout",
     "output_type": "stream",
     "text": [
      "Transformation: waveletscattering, Shape: 65536\n",
      "Classifier: SVM, Mean Accuracy: 0.995, Std Accuracy: 0.010\n",
      "Classifier: DecisionTree, Mean Accuracy: 0.810, Std Accuracy: 0.085\n",
      "Classifier: RandomForest, Mean Accuracy: 0.995, Std Accuracy: 0.010\n"
     ]
    }
   ],
   "source": [
    "\n",
    "# print(\"Transformation: waveletscattering, Shape: 65536\\n\\\n",
    "# Classifier: SVM, Mean Accuracy: 0.995, Std Accuracy: 0.010\\n\\\n",
    "# Classifier: DecisionTree, Mean Accuracy: 0.810, Std Accuracy: 0.085\\n\\\n",
    "# Classifier: RandomForest, Mean Accuracy: 0.995, Std Accuracy: 0.010\")"
   ]
  },
  {
   "cell_type": "code",
   "execution_count": null,
   "metadata": {},
   "outputs": [],
   "source": [
    "def random_combination_transformations(transformation_names, k = 2):\n",
    "    all_combinations = []\n",
    "    for r in range(1, k + 1):\n",
    "        combinations = list(itertools.combinations(transformation_names, r))\n",
    "        all_combinations.extend(combinations)\n",
    "    \n",
    "    return [list(x) for x in all_combinations] \n"
   ]
  },
  {
   "cell_type": "code",
   "execution_count": null,
   "metadata": {},
   "outputs": [
    {
     "name": "stdout",
     "output_type": "stream",
     "text": [
      "Transformation: crosscor, Shape: 10 \n",
      "Classifier: SVM, Mean Accuracy: 0.489, Std Accuracy: 0.042\n",
      "Classifier: DecisionTree, Mean Accuracy: 0.584, Std Accuracy: 0.053\n",
      "Classifier: RandomForest, Mean Accuracy: 0.639, Std Accuracy: 0.042\n",
      "Transformation: std, Shape: 1 \n",
      "Classifier: SVM, Mean Accuracy: 0.674, Std Accuracy: 0.074\n",
      "Classifier: DecisionTree, Mean Accuracy: 0.573, Std Accuracy: 0.071\n",
      "Classifier: RandomForest, Mean Accuracy: 0.573, Std Accuracy: 0.071\n",
      "Transformation: autoreg_k=5, Shape: 5 \n",
      "Classifier: SVM, Mean Accuracy: 0.899, Std Accuracy: 0.030\n",
      "Classifier: DecisionTree, Mean Accuracy: 0.919, Std Accuracy: 0.019\n",
      "Classifier: RandomForest, Mean Accuracy: 0.942, Std Accuracy: 0.009\n",
      "Computing  multifracs_j1=1_j2=10 ..."
     ]
    },
    {
     "name": "stderr",
     "output_type": "stream",
     "text": [
      "c:\\users\\ant\\documents\\info2\\bits2beat-tests\\pymultifracs\\pymultifracs\\utils.py:87: RuntimeWarning: divide by zero encountered in power\n",
      "  return np.power(array, exponent)\n",
      "c:\\users\\ant\\documents\\info2\\bits2beat-tests\\pymultifracs\\pymultifracs\\utils.py:76: RuntimeWarning: divide by zero encountered in reciprocal\n",
      "  return array ** exponent\n",
      "c:\\users\\ant\\documents\\info2\\bits2beat-tests\\pymultifracs\\pymultifracs\\cumulants.py:265: RuntimeWarning: divide by zero encountered in log\n",
      "  log_T_X_j = np.log(T_X_j)\n",
      "c:\\users\\ant\\documents\\info2\\bits2beat-tests\\pymultifracs\\pymultifracs\\mfspectrum.py:117: RuntimeWarning: invalid value encountered in divide\n",
      "  R_j = temp / Z\n",
      "c:\\users\\ant\\documents\\info2\\bits2beat-tests\\pymultifracs\\pymultifracs\\mfspectrum.py:118: RuntimeWarning: divide by zero encountered in log2\n",
      "  V[:, ind_j, :] = fixednansum(R_j * np.log2(mrq_values_j), axis=1)\n",
      "c:\\users\\ant\\documents\\info2\\bits2beat-tests\\pymultifracs\\pymultifracs\\mfspectrum.py:118: RuntimeWarning: invalid value encountered in multiply\n",
      "  V[:, ind_j, :] = fixednansum(R_j * np.log2(mrq_values_j), axis=1)\n",
      "c:\\users\\ant\\documents\\info2\\bits2beat-tests\\pymultifracs\\pymultifracs\\mfspectrum.py:119: RuntimeWarning: divide by zero encountered in log2\n",
      "  U[:, ind_j, :] = np.log2(nj) + fixednansum((R_j * np.log2(R_j)),\n",
      "c:\\users\\ant\\documents\\info2\\bits2beat-tests\\pymultifracs\\pymultifracs\\mfspectrum.py:119: RuntimeWarning: invalid value encountered in multiply\n",
      "  U[:, ind_j, :] = np.log2(nj) + fixednansum((R_j * np.log2(R_j)),\n"
     ]
    },
    {
     "name": "stdout",
     "output_type": "stream",
     "text": [
      "Transformation: multifracs_j1=1_j2=10, Shape: 3 \n",
      "Classifier: SVM, Mean Accuracy: 0.751, Std Accuracy: 0.037\n",
      "Classifier: DecisionTree, Mean Accuracy: 0.760, Std Accuracy: 0.041\n",
      "Classifier: RandomForest, Mean Accuracy: 0.795, Std Accuracy: 0.033\n",
      "Transformation: shannon_encoding, Shape: 8 \n",
      "Classifier: SVM, Mean Accuracy: 0.864, Std Accuracy: 0.027\n",
      "Classifier: DecisionTree, Mean Accuracy: 0.922, Std Accuracy: 0.015\n",
      "Classifier: RandomForest, Mean Accuracy: 0.931, Std Accuracy: 0.029\n",
      "Transformation: autoencoder_fourier_transform=True, Shape: 16 \n",
      "Classifier: SVM, Mean Accuracy: 0.465, Std Accuracy: 0.020\n",
      "Classifier: DecisionTree, Mean Accuracy: 0.508, Std Accuracy: 0.064\n",
      "Classifier: RandomForest, Mean Accuracy: 0.514, Std Accuracy: 0.068\n",
      "Transformation: crosscor_std, Shape: 11 \n",
      "Classifier: SVM, Mean Accuracy: 0.642, Std Accuracy: 0.032\n",
      "Classifier: DecisionTree, Mean Accuracy: 0.653, Std Accuracy: 0.045\n",
      "Classifier: RandomForest, Mean Accuracy: 0.691, Std Accuracy: 0.034\n",
      "Transformation: crosscor_autoreg_k=5, Shape: 15 \n",
      "Classifier: SVM, Mean Accuracy: 0.893, Std Accuracy: 0.036\n",
      "Classifier: DecisionTree, Mean Accuracy: 0.905, Std Accuracy: 0.038\n",
      "Classifier: RandomForest, Mean Accuracy: 0.942, Std Accuracy: 0.020\n",
      "Transformation: crosscor_multifracs_j1=1_j2=10, Shape: 13 \n",
      "Classifier: SVM, Mean Accuracy: 0.743, Std Accuracy: 0.024\n",
      "Classifier: DecisionTree, Mean Accuracy: 0.711, Std Accuracy: 0.041\n",
      "Classifier: RandomForest, Mean Accuracy: 0.809, Std Accuracy: 0.040\n",
      "Transformation: crosscor_shannon_encoding, Shape: 18 \n",
      "Classifier: SVM, Mean Accuracy: 0.867, Std Accuracy: 0.019\n",
      "Classifier: DecisionTree, Mean Accuracy: 0.890, Std Accuracy: 0.032\n",
      "Classifier: RandomForest, Mean Accuracy: 0.911, Std Accuracy: 0.039\n",
      "Transformation: crosscor_autoencoder_fourier_transform=True, Shape: 26 \n",
      "Classifier: SVM, Mean Accuracy: 0.477, Std Accuracy: 0.030\n",
      "Classifier: DecisionTree, Mean Accuracy: 0.587, Std Accuracy: 0.048\n",
      "Classifier: RandomForest, Mean Accuracy: 0.673, Std Accuracy: 0.031\n",
      "Transformation: std_autoreg_k=5, Shape: 6 \n",
      "Classifier: SVM, Mean Accuracy: 0.910, Std Accuracy: 0.028\n",
      "Classifier: DecisionTree, Mean Accuracy: 0.908, Std Accuracy: 0.020\n",
      "Classifier: RandomForest, Mean Accuracy: 0.942, Std Accuracy: 0.000\n",
      "Transformation: std_multifracs_j1=1_j2=10, Shape: 4 \n",
      "Classifier: SVM, Mean Accuracy: 0.751, Std Accuracy: 0.037\n",
      "Classifier: DecisionTree, Mean Accuracy: 0.769, Std Accuracy: 0.052\n",
      "Classifier: RandomForest, Mean Accuracy: 0.792, Std Accuracy: 0.048\n",
      "Transformation: std_shannon_encoding, Shape: 9 \n",
      "Classifier: SVM, Mean Accuracy: 0.864, Std Accuracy: 0.019\n",
      "Classifier: DecisionTree, Mean Accuracy: 0.919, Std Accuracy: 0.019\n",
      "Classifier: RandomForest, Mean Accuracy: 0.942, Std Accuracy: 0.016\n",
      "Transformation: std_autoencoder_fourier_transform=True, Shape: 17 \n",
      "Classifier: SVM, Mean Accuracy: 0.697, Std Accuracy: 0.051\n",
      "Classifier: DecisionTree, Mean Accuracy: 0.653, Std Accuracy: 0.025\n",
      "Classifier: RandomForest, Mean Accuracy: 0.682, Std Accuracy: 0.034\n",
      "Transformation: autoreg_k=5_multifracs_j1=1_j2=10, Shape: 8 \n",
      "Classifier: SVM, Mean Accuracy: 0.934, Std Accuracy: 0.021\n",
      "Classifier: DecisionTree, Mean Accuracy: 0.907, Std Accuracy: 0.007\n",
      "Classifier: RandomForest, Mean Accuracy: 0.948, Std Accuracy: 0.007\n",
      "Transformation: autoreg_k=5_shannon_encoding, Shape: 13 \n",
      "Classifier: SVM, Mean Accuracy: 0.948, Std Accuracy: 0.014\n",
      "Classifier: DecisionTree, Mean Accuracy: 0.922, Std Accuracy: 0.021\n",
      "Classifier: RandomForest, Mean Accuracy: 0.951, Std Accuracy: 0.007\n",
      "Transformation: autoreg_k=5_autoencoder_fourier_transform=True, Shape: 21 \n",
      "Classifier: SVM, Mean Accuracy: 0.893, Std Accuracy: 0.031\n",
      "Classifier: DecisionTree, Mean Accuracy: 0.922, Std Accuracy: 0.027\n",
      "Classifier: RandomForest, Mean Accuracy: 0.934, Std Accuracy: 0.028\n",
      "Transformation: multifracs_j1=1_j2=10_shannon_encoding, Shape: 11 \n",
      "Classifier: SVM, Mean Accuracy: 0.864, Std Accuracy: 0.034\n",
      "Classifier: DecisionTree, Mean Accuracy: 0.911, Std Accuracy: 0.030\n",
      "Classifier: RandomForest, Mean Accuracy: 0.942, Std Accuracy: 0.030\n",
      "Transformation: multifracs_j1=1_j2=10_autoencoder_fourier_transform=True, Shape: 19 \n",
      "Classifier: SVM, Mean Accuracy: 0.769, Std Accuracy: 0.038\n",
      "Classifier: DecisionTree, Mean Accuracy: 0.769, Std Accuracy: 0.024\n",
      "Classifier: RandomForest, Mean Accuracy: 0.780, Std Accuracy: 0.022\n",
      "Transformation: shannon_encoding_autoencoder_fourier_transform=True, Shape: 24 \n",
      "Classifier: SVM, Mean Accuracy: 0.861, Std Accuracy: 0.022\n",
      "Classifier: DecisionTree, Mean Accuracy: 0.925, Std Accuracy: 0.016\n",
      "Classifier: RandomForest, Mean Accuracy: 0.911, Std Accuracy: 0.035\n",
      "Transformation: crosscor_std_autoreg_k=5, Shape: 16 \n",
      "Classifier: SVM, Mean Accuracy: 0.931, Std Accuracy: 0.023\n",
      "Classifier: DecisionTree, Mean Accuracy: 0.919, Std Accuracy: 0.022\n",
      "Classifier: RandomForest, Mean Accuracy: 0.939, Std Accuracy: 0.017\n",
      "Transformation: crosscor_std_multifracs_j1=1_j2=10, Shape: 14 \n",
      "Classifier: SVM, Mean Accuracy: 0.743, Std Accuracy: 0.024\n",
      "Classifier: DecisionTree, Mean Accuracy: 0.728, Std Accuracy: 0.036\n",
      "Classifier: RandomForest, Mean Accuracy: 0.812, Std Accuracy: 0.044\n",
      "Transformation: crosscor_std_shannon_encoding, Shape: 19 \n",
      "Classifier: SVM, Mean Accuracy: 0.879, Std Accuracy: 0.014\n",
      "Classifier: DecisionTree, Mean Accuracy: 0.879, Std Accuracy: 0.032\n",
      "Classifier: RandomForest, Mean Accuracy: 0.905, Std Accuracy: 0.035\n",
      "Transformation: crosscor_std_autoencoder_fourier_transform=True, Shape: 27 \n",
      "Classifier: SVM, Mean Accuracy: 0.673, Std Accuracy: 0.016\n",
      "Classifier: DecisionTree, Mean Accuracy: 0.723, Std Accuracy: 0.023\n",
      "Classifier: RandomForest, Mean Accuracy: 0.749, Std Accuracy: 0.043\n",
      "Transformation: crosscor_autoreg_k=5_multifracs_j1=1_j2=10, Shape: 18 \n",
      "Classifier: SVM, Mean Accuracy: 0.922, Std Accuracy: 0.007\n",
      "Classifier: DecisionTree, Mean Accuracy: 0.916, Std Accuracy: 0.015\n",
      "Classifier: RandomForest, Mean Accuracy: 0.948, Std Accuracy: 0.012\n",
      "Transformation: crosscor_autoreg_k=5_shannon_encoding, Shape: 23 \n",
      "Classifier: SVM, Mean Accuracy: 0.934, Std Accuracy: 0.023\n",
      "Classifier: DecisionTree, Mean Accuracy: 0.925, Std Accuracy: 0.024\n",
      "Classifier: RandomForest, Mean Accuracy: 0.942, Std Accuracy: 0.009\n",
      "Transformation: crosscor_autoreg_k=5_autoencoder_fourier_transform=True, Shape: 31 \n",
      "Classifier: SVM, Mean Accuracy: 0.893, Std Accuracy: 0.036\n",
      "Classifier: DecisionTree, Mean Accuracy: 0.899, Std Accuracy: 0.016\n",
      "Classifier: RandomForest, Mean Accuracy: 0.931, Std Accuracy: 0.021\n",
      "Transformation: crosscor_multifracs_j1=1_j2=10_shannon_encoding, Shape: 21 \n",
      "Classifier: SVM, Mean Accuracy: 0.861, Std Accuracy: 0.021\n",
      "Classifier: DecisionTree, Mean Accuracy: 0.893, Std Accuracy: 0.034\n",
      "Classifier: RandomForest, Mean Accuracy: 0.922, Std Accuracy: 0.037\n",
      "Transformation: crosscor_multifracs_j1=1_j2=10_autoencoder_fourier_transform=True, Shape: 29 \n",
      "Classifier: SVM, Mean Accuracy: 0.749, Std Accuracy: 0.030\n",
      "Classifier: DecisionTree, Mean Accuracy: 0.763, Std Accuracy: 0.031\n",
      "Classifier: RandomForest, Mean Accuracy: 0.818, Std Accuracy: 0.026\n",
      "Transformation: crosscor_shannon_encoding_autoencoder_fourier_transform=True, Shape: 34 \n",
      "Classifier: SVM, Mean Accuracy: 0.861, Std Accuracy: 0.022\n",
      "Classifier: DecisionTree, Mean Accuracy: 0.902, Std Accuracy: 0.034\n",
      "Classifier: RandomForest, Mean Accuracy: 0.902, Std Accuracy: 0.041\n",
      "Transformation: std_autoreg_k=5_multifracs_j1=1_j2=10, Shape: 9 \n",
      "Classifier: SVM, Mean Accuracy: 0.934, Std Accuracy: 0.021\n",
      "Classifier: DecisionTree, Mean Accuracy: 0.919, Std Accuracy: 0.007\n",
      "Classifier: RandomForest, Mean Accuracy: 0.951, Std Accuracy: 0.007\n",
      "Transformation: std_autoreg_k=5_shannon_encoding, Shape: 14 \n",
      "Classifier: SVM, Mean Accuracy: 0.942, Std Accuracy: 0.024\n",
      "Classifier: DecisionTree, Mean Accuracy: 0.931, Std Accuracy: 0.021\n",
      "Classifier: RandomForest, Mean Accuracy: 0.951, Std Accuracy: 0.012\n",
      "Transformation: std_autoreg_k=5_autoencoder_fourier_transform=True, Shape: 22 \n",
      "Classifier: SVM, Mean Accuracy: 0.922, Std Accuracy: 0.011\n",
      "Classifier: DecisionTree, Mean Accuracy: 0.916, Std Accuracy: 0.017\n",
      "Classifier: RandomForest, Mean Accuracy: 0.934, Std Accuracy: 0.020\n",
      "Transformation: std_multifracs_j1=1_j2=10_shannon_encoding, Shape: 12 \n",
      "Classifier: SVM, Mean Accuracy: 0.864, Std Accuracy: 0.034\n",
      "Classifier: DecisionTree, Mean Accuracy: 0.905, Std Accuracy: 0.040\n",
      "Classifier: RandomForest, Mean Accuracy: 0.934, Std Accuracy: 0.028\n",
      "Transformation: std_multifracs_j1=1_j2=10_autoencoder_fourier_transform=True, Shape: 20 \n",
      "Classifier: SVM, Mean Accuracy: 0.769, Std Accuracy: 0.038\n",
      "Classifier: DecisionTree, Mean Accuracy: 0.775, Std Accuracy: 0.020\n",
      "Classifier: RandomForest, Mean Accuracy: 0.789, Std Accuracy: 0.015\n",
      "Transformation: std_shannon_encoding_autoencoder_fourier_transform=True, Shape: 25 \n",
      "Classifier: SVM, Mean Accuracy: 0.864, Std Accuracy: 0.021\n",
      "Classifier: DecisionTree, Mean Accuracy: 0.908, Std Accuracy: 0.048\n",
      "Classifier: RandomForest, Mean Accuracy: 0.922, Std Accuracy: 0.038\n",
      "Transformation: autoreg_k=5_multifracs_j1=1_j2=10_shannon_encoding, Shape: 16 \n",
      "Classifier: SVM, Mean Accuracy: 0.945, Std Accuracy: 0.011\n",
      "Classifier: DecisionTree, Mean Accuracy: 0.919, Std Accuracy: 0.021\n",
      "Classifier: RandomForest, Mean Accuracy: 0.954, Std Accuracy: 0.011\n",
      "Transformation: autoreg_k=5_multifracs_j1=1_j2=10_autoencoder_fourier_transform=True, Shape: 24 \n",
      "Classifier: SVM, Mean Accuracy: 0.939, Std Accuracy: 0.021\n",
      "Classifier: DecisionTree, Mean Accuracy: 0.910, Std Accuracy: 0.019\n",
      "Classifier: RandomForest, Mean Accuracy: 0.936, Std Accuracy: 0.023\n",
      "Transformation: autoreg_k=5_shannon_encoding_autoencoder_fourier_transform=True, Shape: 29 \n",
      "Classifier: SVM, Mean Accuracy: 0.945, Std Accuracy: 0.011\n",
      "Classifier: DecisionTree, Mean Accuracy: 0.919, Std Accuracy: 0.028\n",
      "Classifier: RandomForest, Mean Accuracy: 0.951, Std Accuracy: 0.011\n",
      "Transformation: multifracs_j1=1_j2=10_shannon_encoding_autoencoder_fourier_transform=True, Shape: 27 \n",
      "Classifier: SVM, Mean Accuracy: 0.864, Std Accuracy: 0.026\n",
      "Classifier: DecisionTree, Mean Accuracy: 0.911, Std Accuracy: 0.023\n",
      "Classifier: RandomForest, Mean Accuracy: 0.928, Std Accuracy: 0.032\n",
      "Transformation: crosscor_std_autoreg_k=5_multifracs_j1=1_j2=10, Shape: 19 \n",
      "Classifier: SVM, Mean Accuracy: 0.922, Std Accuracy: 0.007\n",
      "Classifier: DecisionTree, Mean Accuracy: 0.925, Std Accuracy: 0.019\n",
      "Classifier: RandomForest, Mean Accuracy: 0.945, Std Accuracy: 0.019\n",
      "Transformation: crosscor_std_autoreg_k=5_shannon_encoding, Shape: 24 \n",
      "Classifier: SVM, Mean Accuracy: 0.934, Std Accuracy: 0.019\n",
      "Classifier: DecisionTree, Mean Accuracy: 0.916, Std Accuracy: 0.021\n",
      "Classifier: RandomForest, Mean Accuracy: 0.954, Std Accuracy: 0.011\n",
      "Transformation: crosscor_std_autoreg_k=5_autoencoder_fourier_transform=True, Shape: 32 \n",
      "Classifier: SVM, Mean Accuracy: 0.919, Std Accuracy: 0.019\n",
      "Classifier: DecisionTree, Mean Accuracy: 0.905, Std Accuracy: 0.034\n",
      "Classifier: RandomForest, Mean Accuracy: 0.934, Std Accuracy: 0.021\n",
      "Transformation: crosscor_std_multifracs_j1=1_j2=10_shannon_encoding, Shape: 22 \n",
      "Classifier: SVM, Mean Accuracy: 0.864, Std Accuracy: 0.021\n",
      "Classifier: DecisionTree, Mean Accuracy: 0.887, Std Accuracy: 0.033\n",
      "Classifier: RandomForest, Mean Accuracy: 0.928, Std Accuracy: 0.035\n",
      "Transformation: crosscor_std_multifracs_j1=1_j2=10_autoencoder_fourier_transform=True, Shape: 30 \n",
      "Classifier: SVM, Mean Accuracy: 0.749, Std Accuracy: 0.030\n",
      "Classifier: DecisionTree, Mean Accuracy: 0.748, Std Accuracy: 0.039\n",
      "Classifier: RandomForest, Mean Accuracy: 0.818, Std Accuracy: 0.037\n",
      "Transformation: crosscor_std_shannon_encoding_autoencoder_fourier_transform=True, Shape: 35 \n",
      "Classifier: SVM, Mean Accuracy: 0.870, Std Accuracy: 0.024\n",
      "Classifier: DecisionTree, Mean Accuracy: 0.870, Std Accuracy: 0.040\n",
      "Classifier: RandomForest, Mean Accuracy: 0.908, Std Accuracy: 0.043\n",
      "Transformation: crosscor_autoreg_k=5_multifracs_j1=1_j2=10_shannon_encoding, Shape: 26 \n",
      "Classifier: SVM, Mean Accuracy: 0.934, Std Accuracy: 0.011\n",
      "Classifier: DecisionTree, Mean Accuracy: 0.925, Std Accuracy: 0.016\n",
      "Classifier: RandomForest, Mean Accuracy: 0.954, Std Accuracy: 0.017\n",
      "Transformation: crosscor_autoreg_k=5_multifracs_j1=1_j2=10_autoencoder_fourier_transform=True, Shape: 34 \n",
      "Classifier: SVM, Mean Accuracy: 0.939, Std Accuracy: 0.017\n",
      "Classifier: DecisionTree, Mean Accuracy: 0.916, Std Accuracy: 0.023\n",
      "Classifier: RandomForest, Mean Accuracy: 0.936, Std Accuracy: 0.011\n",
      "Transformation: crosscor_autoreg_k=5_shannon_encoding_autoencoder_fourier_transform=True, Shape: 39 \n",
      "Classifier: SVM, Mean Accuracy: 0.931, Std Accuracy: 0.019\n",
      "Classifier: DecisionTree, Mean Accuracy: 0.913, Std Accuracy: 0.013\n",
      "Classifier: RandomForest, Mean Accuracy: 0.945, Std Accuracy: 0.014\n",
      "Transformation: crosscor_multifracs_j1=1_j2=10_shannon_encoding_autoencoder_fourier_transform=True, Shape: 37 \n",
      "Classifier: SVM, Mean Accuracy: 0.867, Std Accuracy: 0.029\n",
      "Classifier: DecisionTree, Mean Accuracy: 0.873, Std Accuracy: 0.026\n",
      "Classifier: RandomForest, Mean Accuracy: 0.913, Std Accuracy: 0.043\n",
      "Transformation: std_autoreg_k=5_multifracs_j1=1_j2=10_shannon_encoding, Shape: 17 \n",
      "Classifier: SVM, Mean Accuracy: 0.945, Std Accuracy: 0.011\n",
      "Classifier: DecisionTree, Mean Accuracy: 0.928, Std Accuracy: 0.018\n",
      "Classifier: RandomForest, Mean Accuracy: 0.954, Std Accuracy: 0.014\n",
      "Transformation: std_autoreg_k=5_multifracs_j1=1_j2=10_autoencoder_fourier_transform=True, Shape: 25 \n",
      "Classifier: SVM, Mean Accuracy: 0.936, Std Accuracy: 0.019\n",
      "Classifier: DecisionTree, Mean Accuracy: 0.919, Std Accuracy: 0.015\n",
      "Classifier: RandomForest, Mean Accuracy: 0.945, Std Accuracy: 0.019\n",
      "Transformation: std_autoreg_k=5_shannon_encoding_autoencoder_fourier_transform=True, Shape: 30 \n",
      "Classifier: SVM, Mean Accuracy: 0.942, Std Accuracy: 0.024\n",
      "Classifier: DecisionTree, Mean Accuracy: 0.931, Std Accuracy: 0.014\n",
      "Classifier: RandomForest, Mean Accuracy: 0.945, Std Accuracy: 0.011\n",
      "Transformation: std_multifracs_j1=1_j2=10_shannon_encoding_autoencoder_fourier_transform=True, Shape: 28 \n",
      "Classifier: SVM, Mean Accuracy: 0.864, Std Accuracy: 0.026\n",
      "Classifier: DecisionTree, Mean Accuracy: 0.913, Std Accuracy: 0.018\n",
      "Classifier: RandomForest, Mean Accuracy: 0.922, Std Accuracy: 0.043\n",
      "Transformation: autoreg_k=5_multifracs_j1=1_j2=10_shannon_encoding_autoencoder_fourier_transform=True, Shape: 32 \n",
      "Classifier: SVM, Mean Accuracy: 0.945, Std Accuracy: 0.011\n",
      "Classifier: DecisionTree, Mean Accuracy: 0.925, Std Accuracy: 0.024\n",
      "Classifier: RandomForest, Mean Accuracy: 0.948, Std Accuracy: 0.014\n"
     ]
    }
   ],
   "source": [
    "# %%script false --no-raise-error\n",
    "\n",
    "\n",
    "# Define the classifiers\n",
    "classifiers = {\n",
    "    'SVM': SVC(kernel='linear'),\n",
    "    'DecisionTree': DecisionTreeClassifier(),\n",
    "    'RandomForest': RandomForestClassifier()\n",
    "}\n",
    "\n",
    "# # Define the data transformations\n",
    "# transformations = [\n",
    "#     'identity',\n",
    "#     ['fourier', {'new_dimension': 100}],\n",
    "#     ['wavedec', {'level': 4, 'wavelet': 'db1'}],\n",
    "#     ['autoreg', {'k': 1}]\n",
    "# ]\n",
    "# Define the transformations to be tested\n",
    "transformations = ['crosscor','std',\n",
    "                    #'low_psd','low_fourier',\n",
    "                    #['autoreg',{'k':1}], ['autoreg',{'k':2}],['autoreg',{'k':3}],\n",
    "                    ['autoreg',{'k':5}], #'multifracs',\n",
    "                    ['multifracs', {'j1':1,'j2':j2max}],\n",
    "                    'shannon_encoding',['autoencoder',{'fourier_transform':True}]]\n",
    "\n",
    "if DATASET == \"ECG\":\n",
    "    transformations.extend([\"low_psd\",\"low_fourier\"])\n",
    "\n",
    "t = random_combination_transformations(transformations,k=4)\n",
    "transformations = t\n",
    "\n",
    "\n",
    "\n",
    "results_df = evaluate_transformations(X, y, transformations, classifiers)\n",
    "# print(results_df)\n",
    "\n",
    "# Save results to a CSV file\n",
    "results_df.to_csv(f'results/{DATASET}_transformation_results_.csv', index=False)\n"
   ]
  },
  {
   "cell_type": "code",
   "execution_count": null,
   "metadata": {},
   "outputs": [],
   "source": [
    "# results_df"
   ]
  },
  {
   "cell_type": "code",
   "execution_count": null,
   "metadata": {},
   "outputs": [],
   "source": [
    "def get_transformation_names(transformations):\n",
    "    # san_transformations = DataTransform.sanitize_transformations(transformations)\n",
    "    transformation_names = list()\n",
    "    for transformation in transformations:\n",
    "        # print(transformation)\n",
    "        # input = transformation\n",
    "        # print(len(input) == 2 and isinstance(input[0], str) and isinstance(input[1], dict))\n",
    "        s_transformation = DataTransform.sanitize_transformations(transformation)\n",
    "        names = list()\n",
    "        for trans in transformation:\n",
    "            trans_name, kwargs = DataTransform.handle_trans_kwargs(trans)\n",
    "            names.append(DataTransform.get_trans_kwargs_str(trans_name, kwargs)) \n",
    "        transformation_names.append(names)\n",
    "    return transformation_names"
   ]
  },
  {
   "cell_type": "code",
   "execution_count": null,
   "metadata": {},
   "outputs": [],
   "source": [
    "# DataTransform.sanitize_transformations(transformations)"
   ]
  },
  {
   "cell_type": "code",
   "execution_count": null,
   "metadata": {},
   "outputs": [],
   "source": [
    "transformations = ['crosscor','std',\n",
    "                    #'low_psd','low_fourier',\n",
    "                    #['autoreg',{'k':1}], ['autoreg',{'k':2}],['autoreg',{'k':3}],\n",
    "                    ['autoreg',{'k':5}], #'multifracs',\n",
    "                    ['multifracs', {'j1':1,'j2':j2max}],\n",
    "                    'shannon_encoding',['autoencoder',{'fourier_transform':True}]]\n",
    "\n",
    "if DATASET == \"ECG\":\n",
    "    transformations.extend([\"low_psd\",\"low_fourier\"])\n",
    "\n",
    "transformations = random_combination_transformations(transformations,k=3)"
   ]
  },
  {
   "cell_type": "code",
   "execution_count": null,
   "metadata": {},
   "outputs": [],
   "source": [
    "def evaluate_transformations_and_get_aprior(X, y, transformations, classifier1, classifier2, seed = 42):\n",
    "    dt = DataTransform(registry)\n",
    "    results = []\n",
    "    transformation_names = get_transformation_names(transformations)\n",
    "\n",
    "    clf1better = list()\n",
    "    clf2better = list()\n",
    "    apr_list = list()\n",
    "    kf = KFold(n_splits=5, shuffle=True, random_state=seed)\n",
    "    for trans, trans_names in zip(transformations,transformation_names):\n",
    "        trans_name_str = DataTransform.get_full_trans_kwargs_str(trans)\n",
    "        trans_X = dt.apply_transformation(X, trans)\n",
    "\n",
    "        result = {'Transformation (shape)': trans_name_str}\n",
    "        result[\"shape\"] = trans_X.shape[-1]\n",
    "        result['nb_trans'] = len(trans)\n",
    "\n",
    "        scaler = StandardScaler()\n",
    "        trans_X = scaler.fit_transform(trans_X) \n",
    "        print(f\"Transformation: {trans_name_str}, Shape: {trans_X.shape[-1]} \")\n",
    "\n",
    "        scores = cross_val_score(classifier1, trans_X, y, cv=kf, scoring='accuracy')\n",
    "        clf1_mean = np.mean(scores)\n",
    "        clf1_std = np.std(scores)\n",
    "        result[f'{classifier1.__class__.__name__} accuracy'] = clf1_mean\n",
    "        result[f'{classifier1.__class__.__name__} std'] = clf1_std\n",
    "        print(f\"Classifier: {classifier1.__class__.__name__}, \"\n",
    "                f\"Mean Accuracy: {np.mean(scores):.3f}, Std Accuracy: {np.std(scores):.3f}\")\n",
    "        scores = cross_val_score(classifier2, trans_X, y, cv=kf, scoring='accuracy')\n",
    "        clf2_mean = np.mean(scores)\n",
    "        clf2_std = np.std(scores)\n",
    "        result[f'{classifier2.__class__.__name__} accuracy'] = clf2_mean\n",
    "        result[f'{classifier2.__class__.__name__} std'] = clf2_std\n",
    "        print(f\"Classifier: {classifier2.__class__.__name__}, \"\n",
    "                f\"Mean Accuracy: {np.mean(scores):.3f}, Std Accuracy: {np.std(scores):.3f}\")\n",
    "        \n",
    "        if clf1_mean  > clf2_mean: # clf1_mean > clf2_mean: #clf1_mean - clf1_std > clf2_mean + clf2_std: # + clf2_std:\n",
    "            clf1better.extend(trans_names)\n",
    "            apr_list.append(trans_names + ['clf1'])\n",
    "        elif clf2_mean  > clf1_mean: # clf2_mean > clf1_mean:#clf2_mean - clf2_std > clf1_mean + clf1_std: # + clf1_std:\n",
    "            clf2better.extend(trans_names)\n",
    "            apr_list.append(trans_names + ['clf2'])\n",
    "        results.append(result)\n",
    "\n",
    "    return pd.DataFrame(results), pd.Series(clf1better), pd.Series(clf2better), apr_list"
   ]
  },
  {
   "cell_type": "code",
   "execution_count": null,
   "metadata": {},
   "outputs": [
    {
     "name": "stdout",
     "output_type": "stream",
     "text": [
      "Transformation: crosscor, Shape: 10 \n",
      "Classifier: SVC, Mean Accuracy: 0.489, Std Accuracy: 0.042\n",
      "Classifier: RandomForestClassifier, Mean Accuracy: 0.642, Std Accuracy: 0.048\n",
      "Transformation: std, Shape: 1 \n",
      "Classifier: SVC, Mean Accuracy: 0.674, Std Accuracy: 0.074\n",
      "Classifier: RandomForestClassifier, Mean Accuracy: 0.573, Std Accuracy: 0.071\n",
      "Transformation: autoreg_k=5, Shape: 5 \n",
      "Classifier: SVC, Mean Accuracy: 0.899, Std Accuracy: 0.030\n",
      "Classifier: RandomForestClassifier, Mean Accuracy: 0.945, Std Accuracy: 0.011\n",
      "Computing  multifracs_j1=1_j2=10 ..."
     ]
    },
    {
     "name": "stderr",
     "output_type": "stream",
     "text": [
      "c:\\users\\ant\\documents\\info2\\bits2beat-tests\\pymultifracs\\pymultifracs\\utils.py:87: RuntimeWarning: divide by zero encountered in power\n",
      "  return np.power(array, exponent)\n",
      "c:\\users\\ant\\documents\\info2\\bits2beat-tests\\pymultifracs\\pymultifracs\\utils.py:76: RuntimeWarning: divide by zero encountered in reciprocal\n",
      "  return array ** exponent\n",
      "c:\\users\\ant\\documents\\info2\\bits2beat-tests\\pymultifracs\\pymultifracs\\cumulants.py:265: RuntimeWarning: divide by zero encountered in log\n",
      "  log_T_X_j = np.log(T_X_j)\n",
      "c:\\users\\ant\\documents\\info2\\bits2beat-tests\\pymultifracs\\pymultifracs\\mfspectrum.py:117: RuntimeWarning: invalid value encountered in divide\n",
      "  R_j = temp / Z\n",
      "c:\\users\\ant\\documents\\info2\\bits2beat-tests\\pymultifracs\\pymultifracs\\mfspectrum.py:118: RuntimeWarning: divide by zero encountered in log2\n",
      "  V[:, ind_j, :] = fixednansum(R_j * np.log2(mrq_values_j), axis=1)\n",
      "c:\\users\\ant\\documents\\info2\\bits2beat-tests\\pymultifracs\\pymultifracs\\mfspectrum.py:118: RuntimeWarning: invalid value encountered in multiply\n",
      "  V[:, ind_j, :] = fixednansum(R_j * np.log2(mrq_values_j), axis=1)\n",
      "c:\\users\\ant\\documents\\info2\\bits2beat-tests\\pymultifracs\\pymultifracs\\mfspectrum.py:119: RuntimeWarning: divide by zero encountered in log2\n",
      "  U[:, ind_j, :] = np.log2(nj) + fixednansum((R_j * np.log2(R_j)),\n",
      "c:\\users\\ant\\documents\\info2\\bits2beat-tests\\pymultifracs\\pymultifracs\\mfspectrum.py:119: RuntimeWarning: invalid value encountered in multiply\n",
      "  U[:, ind_j, :] = np.log2(nj) + fixednansum((R_j * np.log2(R_j)),\n"
     ]
    },
    {
     "ename": "KeyboardInterrupt",
     "evalue": "",
     "output_type": "error",
     "traceback": [
      "\u001b[1;31m---------------------------------------------------------------------------\u001b[0m",
      "\u001b[1;31mKeyboardInterrupt\u001b[0m                         Traceback (most recent call last)",
      "Cell \u001b[1;32mIn[240], line 1\u001b[0m\n\u001b[1;32m----> 1\u001b[0m res, apr1, apr2, apr_list \u001b[38;5;241m=\u001b[39m \u001b[43mevaluate_transformations_and_get_aprior\u001b[49m\u001b[43m(\u001b[49m\u001b[43mX\u001b[49m\u001b[43m,\u001b[49m\u001b[43my\u001b[49m\u001b[43m,\u001b[49m\u001b[43mtransformations\u001b[49m\u001b[43m,\u001b[49m\u001b[43mSVC\u001b[49m\u001b[43m(\u001b[49m\u001b[43mkernel\u001b[49m\u001b[38;5;241;43m=\u001b[39;49m\u001b[38;5;124;43m'\u001b[39;49m\u001b[38;5;124;43mlinear\u001b[39;49m\u001b[38;5;124;43m'\u001b[39;49m\u001b[43m)\u001b[49m\u001b[43m,\u001b[49m\u001b[43mRandomForestClassifier\u001b[49m\u001b[43m(\u001b[49m\u001b[43m)\u001b[49m\u001b[43m)\u001b[49m\n",
      "Cell \u001b[1;32mIn[239], line 12\u001b[0m, in \u001b[0;36mevaluate_transformations_and_get_aprior\u001b[1;34m(X, y, transformations, classifier1, classifier2, seed)\u001b[0m\n\u001b[0;32m     10\u001b[0m \u001b[38;5;28;01mfor\u001b[39;00m trans, trans_names \u001b[38;5;129;01min\u001b[39;00m \u001b[38;5;28mzip\u001b[39m(transformations,transformation_names):\n\u001b[0;32m     11\u001b[0m     trans_name_str \u001b[38;5;241m=\u001b[39m DataTransform\u001b[38;5;241m.\u001b[39mget_full_trans_kwargs_str(trans)\n\u001b[1;32m---> 12\u001b[0m     trans_X \u001b[38;5;241m=\u001b[39m \u001b[43mdt\u001b[49m\u001b[38;5;241;43m.\u001b[39;49m\u001b[43mapply_transformation\u001b[49m\u001b[43m(\u001b[49m\u001b[43mX\u001b[49m\u001b[43m,\u001b[49m\u001b[43m \u001b[49m\u001b[43mtrans\u001b[49m\u001b[43m)\u001b[49m\n\u001b[0;32m     14\u001b[0m     result \u001b[38;5;241m=\u001b[39m {\u001b[38;5;124m'\u001b[39m\u001b[38;5;124mTransformation (shape)\u001b[39m\u001b[38;5;124m'\u001b[39m: trans_name_str}\n\u001b[0;32m     15\u001b[0m     result[\u001b[38;5;124m\"\u001b[39m\u001b[38;5;124mshape\u001b[39m\u001b[38;5;124m\"\u001b[39m] \u001b[38;5;241m=\u001b[39m trans_X\u001b[38;5;241m.\u001b[39mshape[\u001b[38;5;241m-\u001b[39m\u001b[38;5;241m1\u001b[39m]\n",
      "File \u001b[1;32m<string>:82\u001b[0m, in \u001b[0;36mapply_transformation\u001b[1;34m(self, X, transformations)\u001b[0m\n",
      "File \u001b[1;32m<string>:191\u001b[0m, in \u001b[0;36mtransform\u001b[1;34m(X, j1, j2, **kwargs)\u001b[0m\n",
      "File \u001b[1;32mc:\\users\\ant\\documents\\info2\\bits2beat-tests\\pymultifracs\\pymultifracs\\mfa.py:194\u001b[0m, in \u001b[0;36mmf_analysis_full\u001b[1;34m(signal, scaling_ranges, normalization, gamint, weighted, wt_name, p_exp, q, n_cumul, bootstrap_weighted, estimates, R)\u001b[0m\n\u001b[0;32m    191\u001b[0m \u001b[38;5;28;01mif\u001b[39;00m wt_transform\u001b[38;5;241m.\u001b[39mwt_leaders \u001b[38;5;129;01mis\u001b[39;00m \u001b[38;5;129;01mnot\u001b[39;00m \u001b[38;5;28;01mNone\u001b[39;00m:\n\u001b[0;32m    192\u001b[0m     mrq \u001b[38;5;241m=\u001b[39m [mrq, wt_transform\u001b[38;5;241m.\u001b[39mwt_leaders]\n\u001b[1;32m--> 194\u001b[0m mf_data \u001b[38;5;241m=\u001b[39m \u001b[43mmf_analysis\u001b[49m\u001b[43m(\u001b[49m\n\u001b[0;32m    195\u001b[0m \u001b[43m    \u001b[49m\u001b[43mmrq\u001b[49m\u001b[43m,\u001b[49m\n\u001b[0;32m    196\u001b[0m \u001b[43m    \u001b[49m\u001b[43mscaling_ranges\u001b[49m\u001b[43m,\u001b[49m\n\u001b[0;32m    197\u001b[0m \u001b[43m    \u001b[49m\u001b[43mweighted\u001b[49m\u001b[38;5;241;43m=\u001b[39;49m\u001b[43mweighted\u001b[49m\u001b[43m,\u001b[49m\n\u001b[0;32m    198\u001b[0m \u001b[43m    \u001b[49m\u001b[43mn_cumul\u001b[49m\u001b[38;5;241;43m=\u001b[39;49m\u001b[43mn_cumul\u001b[49m\u001b[43m,\u001b[49m\n\u001b[0;32m    199\u001b[0m \u001b[43m    \u001b[49m\u001b[43mq\u001b[49m\u001b[38;5;241;43m=\u001b[39;49m\u001b[43mq\u001b[49m\u001b[43m,\u001b[49m\n\u001b[0;32m    200\u001b[0m \u001b[43m    \u001b[49m\u001b[43mbootstrap_weighted\u001b[49m\u001b[38;5;241;43m=\u001b[39;49m\u001b[43mbootstrap_weighted\u001b[49m\u001b[43m,\u001b[49m\n\u001b[0;32m    201\u001b[0m \u001b[43m    \u001b[49m\u001b[43mR\u001b[49m\u001b[38;5;241;43m=\u001b[39;49m\u001b[43mR\u001b[49m\u001b[43m,\u001b[49m\n\u001b[0;32m    202\u001b[0m \u001b[43m    \u001b[49m\u001b[43mestimates\u001b[49m\u001b[38;5;241;43m=\u001b[39;49m\u001b[43mestimates\u001b[49m\u001b[43m,\u001b[49m\n\u001b[0;32m    203\u001b[0m \u001b[43m\u001b[49m\u001b[43m)\u001b[49m\n\u001b[0;32m    205\u001b[0m \u001b[38;5;28;01mreturn\u001b[39;00m mf_data\n",
      "File \u001b[1;32mc:\\users\\ant\\documents\\info2\\bits2beat-tests\\pymultifracs\\pymultifracs\\mfa.py:64\u001b[0m, in \u001b[0;36mmf_analysis\u001b[1;34m(mrq, scaling_ranges, weighted, n_cumul, q, bootstrap_weighted, R, estimates, robust, robust_kwargs)\u001b[0m\n\u001b[0;32m     59\u001b[0m     \u001b[38;5;28;01melif\u001b[39;00m (n \u001b[38;5;241m:=\u001b[39m \u001b[38;5;28mlen\u001b[39m(estimates)) \u001b[38;5;241m!=\u001b[39m (m \u001b[38;5;241m:=\u001b[39m \u001b[38;5;28mlen\u001b[39m(mrq)):\n\u001b[0;32m     60\u001b[0m         \u001b[38;5;28;01mraise\u001b[39;00m \u001b[38;5;167;01mValueError\u001b[39;00m(\n\u001b[0;32m     61\u001b[0m             \u001b[38;5;124mf\u001b[39m\u001b[38;5;124m\"\u001b[39m\u001b[38;5;124mLength of `estimates` = \u001b[39m\u001b[38;5;132;01m{\u001b[39;00mn\u001b[38;5;132;01m}\u001b[39;00m\u001b[38;5;124m does not match `mrq` = \u001b[39m\u001b[38;5;132;01m{\u001b[39;00mm\u001b[38;5;132;01m}\u001b[39;00m\u001b[38;5;124m\"\u001b[39m\n\u001b[0;32m     62\u001b[0m         )\n\u001b[1;32m---> 64\u001b[0m     \u001b[38;5;28;01mreturn\u001b[39;00m (\u001b[43m[\u001b[49m\u001b[43mmf_analysis\u001b[49m\u001b[43m(\u001b[49m\u001b[43mm\u001b[49m\u001b[43m,\u001b[49m\u001b[43m \u001b[49m\u001b[43mscaling_ranges\u001b[49m\u001b[43m,\u001b[49m\u001b[43m \u001b[49m\u001b[43mweighted\u001b[49m\u001b[43m,\u001b[49m\u001b[43m \u001b[49m\u001b[43mn_cumul\u001b[49m\u001b[43m,\u001b[49m\n\u001b[0;32m     65\u001b[0m \u001b[43m                         \u001b[49m\u001b[43mq\u001b[49m\u001b[43m,\u001b[49m\u001b[43m \u001b[49m\u001b[43mbootstrap_weighted\u001b[49m\u001b[43m,\u001b[49m\u001b[43m \u001b[49m\u001b[43mR\u001b[49m\u001b[43m,\u001b[49m\u001b[43m \u001b[49m\u001b[43mestimates\u001b[49m\u001b[43m[\u001b[49m\u001b[43mi\u001b[49m\u001b[43m]\u001b[49m\u001b[43m,\u001b[49m\u001b[43m \u001b[49m\u001b[43mrobust\u001b[49m\u001b[43m,\u001b[49m\n\u001b[0;32m     66\u001b[0m \u001b[43m                         \u001b[49m\u001b[43mrobust_kwargs\u001b[49m\u001b[43m)\u001b[49m\n\u001b[0;32m     67\u001b[0m \u001b[43m             \u001b[49m\u001b[38;5;28;43;01mfor\u001b[39;49;00m\u001b[43m \u001b[49m\u001b[43mi\u001b[49m\u001b[43m,\u001b[49m\u001b[43m \u001b[49m\u001b[43mm\u001b[49m\u001b[43m \u001b[49m\u001b[38;5;129;43;01min\u001b[39;49;00m\u001b[43m \u001b[49m\u001b[38;5;28;43menumerate\u001b[39;49m\u001b[43m(\u001b[49m\u001b[43mmrq\u001b[49m\u001b[43m)\u001b[49m\u001b[43m]\u001b[49m)\n\u001b[0;32m     69\u001b[0m scaling_ranges \u001b[38;5;241m=\u001b[39m sanitize_scaling_ranges(scaling_ranges, mrq\u001b[38;5;241m.\u001b[39mj2_eff())\n\u001b[0;32m     71\u001b[0m \u001b[38;5;28;01mif\u001b[39;00m \u001b[38;5;28mlen\u001b[39m(scaling_ranges) \u001b[38;5;241m==\u001b[39m \u001b[38;5;241m0\u001b[39m:\n",
      "File \u001b[1;32mc:\\users\\ant\\documents\\info2\\bits2beat-tests\\pymultifracs\\pymultifracs\\mfa.py:64\u001b[0m, in \u001b[0;36m<listcomp>\u001b[1;34m(.0)\u001b[0m\n\u001b[0;32m     59\u001b[0m     \u001b[38;5;28;01melif\u001b[39;00m (n \u001b[38;5;241m:=\u001b[39m \u001b[38;5;28mlen\u001b[39m(estimates)) \u001b[38;5;241m!=\u001b[39m (m \u001b[38;5;241m:=\u001b[39m \u001b[38;5;28mlen\u001b[39m(mrq)):\n\u001b[0;32m     60\u001b[0m         \u001b[38;5;28;01mraise\u001b[39;00m \u001b[38;5;167;01mValueError\u001b[39;00m(\n\u001b[0;32m     61\u001b[0m             \u001b[38;5;124mf\u001b[39m\u001b[38;5;124m\"\u001b[39m\u001b[38;5;124mLength of `estimates` = \u001b[39m\u001b[38;5;132;01m{\u001b[39;00mn\u001b[38;5;132;01m}\u001b[39;00m\u001b[38;5;124m does not match `mrq` = \u001b[39m\u001b[38;5;132;01m{\u001b[39;00mm\u001b[38;5;132;01m}\u001b[39;00m\u001b[38;5;124m\"\u001b[39m\n\u001b[0;32m     62\u001b[0m         )\n\u001b[1;32m---> 64\u001b[0m     \u001b[38;5;28;01mreturn\u001b[39;00m ([\u001b[43mmf_analysis\u001b[49m\u001b[43m(\u001b[49m\u001b[43mm\u001b[49m\u001b[43m,\u001b[49m\u001b[43m \u001b[49m\u001b[43mscaling_ranges\u001b[49m\u001b[43m,\u001b[49m\u001b[43m \u001b[49m\u001b[43mweighted\u001b[49m\u001b[43m,\u001b[49m\u001b[43m \u001b[49m\u001b[43mn_cumul\u001b[49m\u001b[43m,\u001b[49m\n\u001b[0;32m     65\u001b[0m \u001b[43m                         \u001b[49m\u001b[43mq\u001b[49m\u001b[43m,\u001b[49m\u001b[43m \u001b[49m\u001b[43mbootstrap_weighted\u001b[49m\u001b[43m,\u001b[49m\u001b[43m \u001b[49m\u001b[43mR\u001b[49m\u001b[43m,\u001b[49m\u001b[43m \u001b[49m\u001b[43mestimates\u001b[49m\u001b[43m[\u001b[49m\u001b[43mi\u001b[49m\u001b[43m]\u001b[49m\u001b[43m,\u001b[49m\u001b[43m \u001b[49m\u001b[43mrobust\u001b[49m\u001b[43m,\u001b[49m\n\u001b[0;32m     66\u001b[0m \u001b[43m                         \u001b[49m\u001b[43mrobust_kwargs\u001b[49m\u001b[43m)\u001b[49m\n\u001b[0;32m     67\u001b[0m              \u001b[38;5;28;01mfor\u001b[39;00m i, m \u001b[38;5;129;01min\u001b[39;00m \u001b[38;5;28menumerate\u001b[39m(mrq)])\n\u001b[0;32m     69\u001b[0m scaling_ranges \u001b[38;5;241m=\u001b[39m sanitize_scaling_ranges(scaling_ranges, mrq\u001b[38;5;241m.\u001b[39mj2_eff())\n\u001b[0;32m     71\u001b[0m \u001b[38;5;28;01mif\u001b[39;00m \u001b[38;5;28mlen\u001b[39m(scaling_ranges) \u001b[38;5;241m==\u001b[39m \u001b[38;5;241m0\u001b[39m:\n",
      "File \u001b[1;32mc:\\users\\ant\\documents\\info2\\bits2beat-tests\\pymultifracs\\pymultifracs\\mfa.py:119\u001b[0m, in \u001b[0;36mmf_analysis\u001b[1;34m(mrq, scaling_ranges, weighted, n_cumul, q, bootstrap_weighted, R, estimates, robust, robust_kwargs)\u001b[0m\n\u001b[0;32m    117\u001b[0m     struct \u001b[38;5;241m=\u001b[39m StructureFunction\u001b[38;5;241m.\u001b[39mfrom_dict(parameters)\n\u001b[0;32m    118\u001b[0m \u001b[38;5;28;01mif\u001b[39;00m \u001b[38;5;124m'\u001b[39m\u001b[38;5;124mc\u001b[39m\u001b[38;5;124m'\u001b[39m \u001b[38;5;129;01min\u001b[39;00m estimates:\n\u001b[1;32m--> 119\u001b[0m     cumul \u001b[38;5;241m=\u001b[39m \u001b[43mCumulants\u001b[49m\u001b[38;5;241;43m.\u001b[39;49m\u001b[43mfrom_dict\u001b[49m\u001b[43m(\u001b[49m\u001b[43mparameters\u001b[49m\u001b[43m)\u001b[49m\n\u001b[0;32m    120\u001b[0m \u001b[38;5;28;01mif\u001b[39;00m \u001b[38;5;124m'\u001b[39m\u001b[38;5;124mm\u001b[39m\u001b[38;5;124m'\u001b[39m \u001b[38;5;129;01min\u001b[39;00m estimates:\n\u001b[0;32m    121\u001b[0m     spec \u001b[38;5;241m=\u001b[39m MultifractalSpectrum\u001b[38;5;241m.\u001b[39mfrom_dict(parameters)\n",
      "File \u001b[1;32mc:\\users\\ant\\documents\\info2\\bits2beat-tests\\pymultifracs\\pymultifracs\\multiresquantity.py:72\u001b[0m, in \u001b[0;36mMultiResolutionQuantityBase.from_dict\u001b[1;34m(cls, d)\u001b[0m\n\u001b[0;32m     47\u001b[0m \u001b[38;5;129m@classmethod\u001b[39m\n\u001b[0;32m     48\u001b[0m \u001b[38;5;28;01mdef\u001b[39;00m \u001b[38;5;21mfrom_dict\u001b[39m(\u001b[38;5;28mcls\u001b[39m, d):\n\u001b[0;32m     49\u001b[0m \u001b[38;5;250m    \u001b[39m\u001b[38;5;124mr\u001b[39m\u001b[38;5;124;03m\"\"\"Method to instanciate a dataclass by passing a dictionary with\u001b[39;00m\n\u001b[0;32m     50\u001b[0m \u001b[38;5;124;03m    extra keywords\u001b[39;00m\n\u001b[0;32m     51\u001b[0m \n\u001b[1;32m   (...)\u001b[0m\n\u001b[0;32m     70\u001b[0m \u001b[38;5;124;03m              parameters, similarly to introducing a \\*\\*kwargs parameter.\u001b[39;00m\n\u001b[0;32m     71\u001b[0m \u001b[38;5;124;03m    \"\"\"\u001b[39;00m\n\u001b[1;32m---> 72\u001b[0m     \u001b[38;5;28;01mreturn\u001b[39;00m \u001b[38;5;28;43mcls\u001b[39;49m\u001b[43m(\u001b[49m\u001b[38;5;241;43m*\u001b[39;49m\u001b[38;5;241;43m*\u001b[39;49m\u001b[43m{\u001b[49m\n\u001b[0;32m     73\u001b[0m \u001b[43m        \u001b[49m\u001b[43mk\u001b[49m\u001b[43m:\u001b[49m\u001b[43m \u001b[49m\u001b[43mv\u001b[49m\u001b[43m \u001b[49m\u001b[38;5;28;43;01mfor\u001b[39;49;00m\u001b[43m \u001b[49m\u001b[43mk\u001b[49m\u001b[43m,\u001b[49m\u001b[43m \u001b[49m\u001b[43mv\u001b[49m\u001b[43m \u001b[49m\u001b[38;5;129;43;01min\u001b[39;49;00m\u001b[43m \u001b[49m\u001b[43md\u001b[49m\u001b[38;5;241;43m.\u001b[39;49m\u001b[43mitems\u001b[49m\u001b[43m(\u001b[49m\u001b[43m)\u001b[49m\n\u001b[0;32m     74\u001b[0m \u001b[43m        \u001b[49m\u001b[38;5;28;43;01mif\u001b[39;49;00m\u001b[43m \u001b[49m\u001b[43mk\u001b[49m\u001b[43m \u001b[49m\u001b[38;5;129;43;01min\u001b[39;49;00m\u001b[43m \u001b[49m\u001b[43minspect\u001b[49m\u001b[38;5;241;43m.\u001b[39;49m\u001b[43msignature\u001b[49m\u001b[43m(\u001b[49m\u001b[38;5;28;43mcls\u001b[39;49m\u001b[43m)\u001b[49m\u001b[38;5;241;43m.\u001b[39;49m\u001b[43mparameters\u001b[49m\n\u001b[0;32m     75\u001b[0m \u001b[43m    \u001b[49m\u001b[43m}\u001b[49m\u001b[43m)\u001b[49m\n",
      "File \u001b[1;32m<string>:8\u001b[0m, in \u001b[0;36m__init__\u001b[1;34m(self, mrq, n_cumul, scaling_ranges, bootstrapped_mfa, weighted, robust_kwargs, robust)\u001b[0m\n",
      "File \u001b[1;32mc:\\users\\ant\\documents\\info2\\bits2beat-tests\\pymultifracs\\pymultifracs\\cumulants.py:242\u001b[0m, in \u001b[0;36mCumulants.__post_init__\u001b[1;34m(self, mrq, bootstrapped_mfa, robust)\u001b[0m\n\u001b[0;32m    239\u001b[0m \u001b[38;5;28mself\u001b[39m\u001b[38;5;241m.\u001b[39mm \u001b[38;5;241m=\u001b[39m np\u001b[38;5;241m.\u001b[39marange(\u001b[38;5;241m1\u001b[39m, \u001b[38;5;28mself\u001b[39m\u001b[38;5;241m.\u001b[39mn_cumul\u001b[38;5;241m+\u001b[39m\u001b[38;5;241m1\u001b[39m)\n\u001b[0;32m    240\u001b[0m \u001b[38;5;28mself\u001b[39m\u001b[38;5;241m.\u001b[39mvalues \u001b[38;5;241m=\u001b[39m np\u001b[38;5;241m.\u001b[39mzeros((\u001b[38;5;28mlen\u001b[39m(\u001b[38;5;28mself\u001b[39m\u001b[38;5;241m.\u001b[39mm), \u001b[38;5;28mlen\u001b[39m(\u001b[38;5;28mself\u001b[39m\u001b[38;5;241m.\u001b[39mj), mrq\u001b[38;5;241m.\u001b[39mn_rep))\n\u001b[1;32m--> 242\u001b[0m \u001b[38;5;28;43mself\u001b[39;49m\u001b[38;5;241;43m.\u001b[39;49m\u001b[43m_compute\u001b[49m\u001b[43m(\u001b[49m\u001b[43mmrq\u001b[49m\u001b[43m,\u001b[49m\u001b[43m \u001b[49m\u001b[43mrobust\u001b[49m\u001b[43m)\u001b[49m\n\u001b[0;32m    243\u001b[0m \u001b[38;5;28mself\u001b[39m\u001b[38;5;241m.\u001b[39m_compute_log_cumulants(mrq\u001b[38;5;241m.\u001b[39mn_rep)\n",
      "File \u001b[1;32mc:\\users\\ant\\documents\\info2\\bits2beat-tests\\pymultifracs\\pymultifracs\\cumulants.py:263\u001b[0m, in \u001b[0;36mCumulants._compute\u001b[1;34m(self, mrq, robust)\u001b[0m\n\u001b[0;32m    259\u001b[0m aux \u001b[38;5;241m=\u001b[39m np\u001b[38;5;241m.\u001b[39mzeros_like(moments)\n\u001b[0;32m    261\u001b[0m \u001b[38;5;28;01mfor\u001b[39;00m ind_j, j \u001b[38;5;129;01min\u001b[39;00m \u001b[38;5;28menumerate\u001b[39m(\u001b[38;5;28mself\u001b[39m\u001b[38;5;241m.\u001b[39mj):\n\u001b[1;32m--> 263\u001b[0m     T_X_j \u001b[38;5;241m=\u001b[39m \u001b[43mnp\u001b[49m\u001b[38;5;241;43m.\u001b[39;49m\u001b[43mabs\u001b[49m\u001b[43m(\u001b[49m\u001b[43mmrq\u001b[49m\u001b[38;5;241;43m.\u001b[39;49m\u001b[43mvalues\u001b[49m\u001b[43m[\u001b[49m\u001b[43mj\u001b[49m\u001b[43m]\u001b[49m\u001b[43m)\u001b[49m\n\u001b[0;32m    265\u001b[0m     log_T_X_j \u001b[38;5;241m=\u001b[39m np\u001b[38;5;241m.\u001b[39mlog(T_X_j)\n\u001b[0;32m    267\u001b[0m     \u001b[38;5;66;03m# dropping infinite coefsx\u001b[39;00m\n",
      "\u001b[1;31mKeyboardInterrupt\u001b[0m: "
     ]
    }
   ],
   "source": [
    "res, apr1, apr2, apr_list = evaluate_transformations_and_get_aprior(X,y,transformations,SVC(kernel='linear'),RandomForestClassifier())"
   ]
  },
  {
   "cell_type": "code",
   "execution_count": null,
   "metadata": {},
   "outputs": [
    {
     "data": {
      "text/plain": [
       "std    1\n",
       "Name: count, dtype: int64"
      ]
     },
     "execution_count": 231,
     "metadata": {},
     "output_type": "execute_result"
    }
   ],
   "source": [
    "apr1.value_counts()"
   ]
  },
  {
   "cell_type": "code",
   "execution_count": null,
   "metadata": {},
   "outputs": [
    {
     "data": {
      "text/plain": [
       "crosscor                              13\n",
       "shannon_encoding                      11\n",
       "autoencoder_fourier_transform=True    10\n",
       "multifracs_j1=1_j2=10                  9\n",
       "std                                    9\n",
       "autoreg_k=5                            5\n",
       "Name: count, dtype: int64"
      ]
     },
     "execution_count": 232,
     "metadata": {},
     "output_type": "execute_result"
    }
   ],
   "source": [
    "apr2.value_counts()"
   ]
  },
  {
   "cell_type": "code",
   "execution_count": null,
   "metadata": {},
   "outputs": [
    {
     "name": "stdout",
     "output_type": "stream",
     "text": [
      "Transformation: crosscor, Shape: 10 \n",
      "Classifier: SVC, Mean Accuracy: 0.489, Std Accuracy: 0.042\n",
      "Classifier: DecisionTreeClassifier, Mean Accuracy: 0.567, Std Accuracy: 0.025\n",
      "Transformation: std, Shape: 1 \n",
      "Classifier: SVC, Mean Accuracy: 0.674, Std Accuracy: 0.074\n",
      "Classifier: DecisionTreeClassifier, Mean Accuracy: 0.573, Std Accuracy: 0.071\n",
      "Transformation: autoreg_k=5, Shape: 5 \n",
      "Classifier: SVC, Mean Accuracy: 0.899, Std Accuracy: 0.030\n",
      "Classifier: DecisionTreeClassifier, Mean Accuracy: 0.919, Std Accuracy: 0.019\n",
      "Computing  multifracs_j1=1_j2=10 ..."
     ]
    },
    {
     "name": "stderr",
     "output_type": "stream",
     "text": [
      "c:\\users\\ant\\documents\\info2\\bits2beat-tests\\pymultifracs\\pymultifracs\\utils.py:87: RuntimeWarning: divide by zero encountered in power\n",
      "  return np.power(array, exponent)\n",
      "c:\\users\\ant\\documents\\info2\\bits2beat-tests\\pymultifracs\\pymultifracs\\utils.py:76: RuntimeWarning: divide by zero encountered in reciprocal\n",
      "  return array ** exponent\n",
      "c:\\users\\ant\\documents\\info2\\bits2beat-tests\\pymultifracs\\pymultifracs\\cumulants.py:265: RuntimeWarning: divide by zero encountered in log\n",
      "  log_T_X_j = np.log(T_X_j)\n",
      "c:\\users\\ant\\documents\\info2\\bits2beat-tests\\pymultifracs\\pymultifracs\\mfspectrum.py:117: RuntimeWarning: invalid value encountered in divide\n",
      "  R_j = temp / Z\n",
      "c:\\users\\ant\\documents\\info2\\bits2beat-tests\\pymultifracs\\pymultifracs\\mfspectrum.py:118: RuntimeWarning: divide by zero encountered in log2\n",
      "  V[:, ind_j, :] = fixednansum(R_j * np.log2(mrq_values_j), axis=1)\n",
      "c:\\users\\ant\\documents\\info2\\bits2beat-tests\\pymultifracs\\pymultifracs\\mfspectrum.py:118: RuntimeWarning: invalid value encountered in multiply\n",
      "  V[:, ind_j, :] = fixednansum(R_j * np.log2(mrq_values_j), axis=1)\n",
      "c:\\users\\ant\\documents\\info2\\bits2beat-tests\\pymultifracs\\pymultifracs\\mfspectrum.py:119: RuntimeWarning: divide by zero encountered in log2\n",
      "  U[:, ind_j, :] = np.log2(nj) + fixednansum((R_j * np.log2(R_j)),\n",
      "c:\\users\\ant\\documents\\info2\\bits2beat-tests\\pymultifracs\\pymultifracs\\mfspectrum.py:119: RuntimeWarning: invalid value encountered in multiply\n",
      "  U[:, ind_j, :] = np.log2(nj) + fixednansum((R_j * np.log2(R_j)),\n"
     ]
    },
    {
     "name": "stdout",
     "output_type": "stream",
     "text": [
      "Transformation: multifracs_j1=1_j2=10, Shape: 3 \n",
      "Classifier: SVC, Mean Accuracy: 0.751, Std Accuracy: 0.037\n",
      "Classifier: DecisionTreeClassifier, Mean Accuracy: 0.772, Std Accuracy: 0.049\n",
      "Transformation: shannon_encoding, Shape: 8 \n",
      "Classifier: SVC, Mean Accuracy: 0.864, Std Accuracy: 0.027\n",
      "Classifier: DecisionTreeClassifier, Mean Accuracy: 0.925, Std Accuracy: 0.017\n",
      "Transformation: autoencoder_fourier_transform=True, Shape: 16 \n",
      "Classifier: SVC, Mean Accuracy: 0.468, Std Accuracy: 0.024\n",
      "Classifier: DecisionTreeClassifier, Mean Accuracy: 0.523, Std Accuracy: 0.056\n",
      "Transformation: crosscor_std, Shape: 11 \n",
      "Classifier: SVC, Mean Accuracy: 0.642, Std Accuracy: 0.032\n",
      "Classifier: DecisionTreeClassifier, Mean Accuracy: 0.662, Std Accuracy: 0.042\n",
      "Transformation: crosscor_autoreg_k=5, Shape: 15 \n",
      "Classifier: SVC, Mean Accuracy: 0.893, Std Accuracy: 0.036\n",
      "Classifier: DecisionTreeClassifier, Mean Accuracy: 0.902, Std Accuracy: 0.020\n",
      "Transformation: crosscor_multifracs_j1=1_j2=10, Shape: 13 \n",
      "Classifier: SVC, Mean Accuracy: 0.743, Std Accuracy: 0.024\n",
      "Classifier: DecisionTreeClassifier, Mean Accuracy: 0.737, Std Accuracy: 0.061\n",
      "Transformation: crosscor_shannon_encoding, Shape: 18 \n",
      "Classifier: SVC, Mean Accuracy: 0.867, Std Accuracy: 0.019\n",
      "Classifier: DecisionTreeClassifier, Mean Accuracy: 0.881, Std Accuracy: 0.037\n",
      "Transformation: crosscor_autoencoder_fourier_transform=True, Shape: 26 \n",
      "Classifier: SVC, Mean Accuracy: 0.480, Std Accuracy: 0.038\n",
      "Classifier: DecisionTreeClassifier, Mean Accuracy: 0.590, Std Accuracy: 0.041\n",
      "Transformation: std_autoreg_k=5, Shape: 6 \n",
      "Classifier: SVC, Mean Accuracy: 0.910, Std Accuracy: 0.028\n",
      "Classifier: DecisionTreeClassifier, Mean Accuracy: 0.916, Std Accuracy: 0.021\n",
      "Transformation: std_multifracs_j1=1_j2=10, Shape: 4 \n",
      "Classifier: SVC, Mean Accuracy: 0.751, Std Accuracy: 0.037\n",
      "Classifier: DecisionTreeClassifier, Mean Accuracy: 0.757, Std Accuracy: 0.034\n",
      "Transformation: std_shannon_encoding, Shape: 9 \n",
      "Classifier: SVC, Mean Accuracy: 0.864, Std Accuracy: 0.019\n",
      "Classifier: DecisionTreeClassifier, Mean Accuracy: 0.919, Std Accuracy: 0.019\n",
      "Transformation: std_autoencoder_fourier_transform=True, Shape: 17 \n",
      "Classifier: SVC, Mean Accuracy: 0.697, Std Accuracy: 0.051\n",
      "Classifier: DecisionTreeClassifier, Mean Accuracy: 0.685, Std Accuracy: 0.030\n",
      "Transformation: autoreg_k=5_multifracs_j1=1_j2=10, Shape: 8 \n",
      "Classifier: SVC, Mean Accuracy: 0.934, Std Accuracy: 0.021\n",
      "Classifier: DecisionTreeClassifier, Mean Accuracy: 0.913, Std Accuracy: 0.016\n",
      "Transformation: autoreg_k=5_shannon_encoding, Shape: 13 \n",
      "Classifier: SVC, Mean Accuracy: 0.948, Std Accuracy: 0.014\n",
      "Classifier: DecisionTreeClassifier, Mean Accuracy: 0.919, Std Accuracy: 0.032\n",
      "Transformation: autoreg_k=5_autoencoder_fourier_transform=True, Shape: 21 \n",
      "Classifier: SVC, Mean Accuracy: 0.893, Std Accuracy: 0.031\n",
      "Classifier: DecisionTreeClassifier, Mean Accuracy: 0.916, Std Accuracy: 0.025\n",
      "Transformation: multifracs_j1=1_j2=10_shannon_encoding, Shape: 11 \n",
      "Classifier: SVC, Mean Accuracy: 0.864, Std Accuracy: 0.034\n",
      "Classifier: DecisionTreeClassifier, Mean Accuracy: 0.899, Std Accuracy: 0.020\n",
      "Transformation: multifracs_j1=1_j2=10_autoencoder_fourier_transform=True, Shape: 19 \n",
      "Classifier: SVC, Mean Accuracy: 0.769, Std Accuracy: 0.038\n",
      "Classifier: DecisionTreeClassifier, Mean Accuracy: 0.789, Std Accuracy: 0.022\n",
      "Transformation: shannon_encoding_autoencoder_fourier_transform=True, Shape: 24 \n",
      "Classifier: SVC, Mean Accuracy: 0.861, Std Accuracy: 0.022\n",
      "Classifier: DecisionTreeClassifier, Mean Accuracy: 0.913, Std Accuracy: 0.015\n",
      "Transformation: crosscor_std_autoreg_k=5, Shape: 16 \n",
      "Classifier: SVC, Mean Accuracy: 0.931, Std Accuracy: 0.023\n",
      "Classifier: DecisionTreeClassifier, Mean Accuracy: 0.896, Std Accuracy: 0.023\n",
      "Transformation: crosscor_std_multifracs_j1=1_j2=10, Shape: 14 \n",
      "Classifier: SVC, Mean Accuracy: 0.743, Std Accuracy: 0.024\n",
      "Classifier: DecisionTreeClassifier, Mean Accuracy: 0.723, Std Accuracy: 0.011\n",
      "Transformation: crosscor_std_shannon_encoding, Shape: 19 \n",
      "Classifier: SVC, Mean Accuracy: 0.879, Std Accuracy: 0.014\n",
      "Classifier: DecisionTreeClassifier, Mean Accuracy: 0.876, Std Accuracy: 0.026\n",
      "Transformation: crosscor_std_autoencoder_fourier_transform=True, Shape: 27 \n",
      "Classifier: SVC, Mean Accuracy: 0.673, Std Accuracy: 0.016\n",
      "Classifier: DecisionTreeClassifier, Mean Accuracy: 0.737, Std Accuracy: 0.032\n",
      "Transformation: crosscor_autoreg_k=5_multifracs_j1=1_j2=10, Shape: 18 \n",
      "Classifier: SVC, Mean Accuracy: 0.922, Std Accuracy: 0.007\n",
      "Classifier: DecisionTreeClassifier, Mean Accuracy: 0.916, Std Accuracy: 0.017\n",
      "Transformation: crosscor_autoreg_k=5_shannon_encoding, Shape: 23 \n",
      "Classifier: SVC, Mean Accuracy: 0.934, Std Accuracy: 0.023\n",
      "Classifier: DecisionTreeClassifier, Mean Accuracy: 0.911, Std Accuracy: 0.030\n",
      "Transformation: crosscor_autoreg_k=5_autoencoder_fourier_transform=True, Shape: 31 \n",
      "Classifier: SVC, Mean Accuracy: 0.893, Std Accuracy: 0.036\n",
      "Classifier: DecisionTreeClassifier, Mean Accuracy: 0.890, Std Accuracy: 0.031\n",
      "Transformation: crosscor_multifracs_j1=1_j2=10_shannon_encoding, Shape: 21 \n",
      "Classifier: SVC, Mean Accuracy: 0.861, Std Accuracy: 0.021\n",
      "Classifier: DecisionTreeClassifier, Mean Accuracy: 0.876, Std Accuracy: 0.036\n",
      "Transformation: crosscor_multifracs_j1=1_j2=10_autoencoder_fourier_transform=True, Shape: 29 \n",
      "Classifier: SVC, Mean Accuracy: 0.749, Std Accuracy: 0.030\n",
      "Classifier: DecisionTreeClassifier, Mean Accuracy: 0.734, Std Accuracy: 0.017\n",
      "Transformation: crosscor_shannon_encoding_autoencoder_fourier_transform=True, Shape: 34 \n",
      "Classifier: SVC, Mean Accuracy: 0.870, Std Accuracy: 0.016\n",
      "Classifier: DecisionTreeClassifier, Mean Accuracy: 0.887, Std Accuracy: 0.033\n",
      "Transformation: std_autoreg_k=5_multifracs_j1=1_j2=10, Shape: 9 \n",
      "Classifier: SVC, Mean Accuracy: 0.934, Std Accuracy: 0.021\n",
      "Classifier: DecisionTreeClassifier, Mean Accuracy: 0.922, Std Accuracy: 0.024\n",
      "Transformation: std_autoreg_k=5_shannon_encoding, Shape: 14 \n",
      "Classifier: SVC, Mean Accuracy: 0.942, Std Accuracy: 0.024\n",
      "Classifier: DecisionTreeClassifier, Mean Accuracy: 0.916, Std Accuracy: 0.040\n",
      "Transformation: std_autoreg_k=5_autoencoder_fourier_transform=True, Shape: 22 \n",
      "Classifier: SVC, Mean Accuracy: 0.922, Std Accuracy: 0.011\n",
      "Classifier: DecisionTreeClassifier, Mean Accuracy: 0.916, Std Accuracy: 0.019\n",
      "Transformation: std_multifracs_j1=1_j2=10_shannon_encoding, Shape: 12 \n",
      "Classifier: SVC, Mean Accuracy: 0.864, Std Accuracy: 0.034\n",
      "Classifier: DecisionTreeClassifier, Mean Accuracy: 0.908, Std Accuracy: 0.042\n",
      "Transformation: std_multifracs_j1=1_j2=10_autoencoder_fourier_transform=True, Shape: 20 \n",
      "Classifier: SVC, Mean Accuracy: 0.769, Std Accuracy: 0.038\n",
      "Classifier: DecisionTreeClassifier, Mean Accuracy: 0.777, Std Accuracy: 0.029\n",
      "Transformation: std_shannon_encoding_autoencoder_fourier_transform=True, Shape: 25 \n",
      "Classifier: SVC, Mean Accuracy: 0.867, Std Accuracy: 0.019\n",
      "Classifier: DecisionTreeClassifier, Mean Accuracy: 0.908, Std Accuracy: 0.056\n",
      "Transformation: autoreg_k=5_multifracs_j1=1_j2=10_shannon_encoding, Shape: 16 \n",
      "Classifier: SVC, Mean Accuracy: 0.945, Std Accuracy: 0.011\n",
      "Classifier: DecisionTreeClassifier, Mean Accuracy: 0.928, Std Accuracy: 0.018\n",
      "Transformation: autoreg_k=5_multifracs_j1=1_j2=10_autoencoder_fourier_transform=True, Shape: 24 \n",
      "Classifier: SVC, Mean Accuracy: 0.934, Std Accuracy: 0.019\n",
      "Classifier: DecisionTreeClassifier, Mean Accuracy: 0.916, Std Accuracy: 0.006\n",
      "Transformation: autoreg_k=5_shannon_encoding_autoencoder_fourier_transform=True, Shape: 29 \n",
      "Classifier: SVC, Mean Accuracy: 0.948, Std Accuracy: 0.007\n",
      "Classifier: DecisionTreeClassifier, Mean Accuracy: 0.922, Std Accuracy: 0.019\n",
      "Transformation: multifracs_j1=1_j2=10_shannon_encoding_autoencoder_fourier_transform=True, Shape: 27 \n",
      "Classifier: SVC, Mean Accuracy: 0.870, Std Accuracy: 0.037\n",
      "Classifier: DecisionTreeClassifier, Mean Accuracy: 0.905, Std Accuracy: 0.023\n"
     ]
    }
   ],
   "source": [
    "res, apr1, apr2, apr_list = evaluate_transformations_and_get_aprior(X,y,transformations,SVC(kernel='linear'),DecisionTreeClassifier())"
   ]
  },
  {
   "cell_type": "code",
   "execution_count": null,
   "metadata": {},
   "outputs": [
    {
     "data": {
      "text/plain": [
       "std            2\n",
       "crosscor       1\n",
       "autoreg_k=5    1\n",
       "Name: count, dtype: int64"
      ]
     },
     "execution_count": 234,
     "metadata": {},
     "output_type": "execute_result"
    }
   ],
   "source": [
    "apr1.value_counts()"
   ]
  },
  {
   "cell_type": "code",
   "execution_count": null,
   "metadata": {},
   "outputs": [
    {
     "data": {
      "text/plain": [
       "shannon_encoding                      7\n",
       "autoencoder_fourier_transform=True    6\n",
       "std                                   4\n",
       "crosscor                              3\n",
       "multifracs_j1=1_j2=10                 3\n",
       "Name: count, dtype: int64"
      ]
     },
     "execution_count": 235,
     "metadata": {},
     "output_type": "execute_result"
    }
   ],
   "source": [
    "apr2.value_counts()"
   ]
  },
  {
   "cell_type": "code",
   "execution_count": null,
   "metadata": {},
   "outputs": [],
   "source": [
    "result_list = list(apriori(apr_list))"
   ]
  },
  {
   "cell_type": "code",
   "execution_count": null,
   "metadata": {},
   "outputs": [
    {
     "name": "stdout",
     "output_type": "stream",
     "text": [
      "Rule: ['clf2', 'autoencoder_fourier_transform=True']\n",
      "Support: 0.46153846153846156 || 6 examples\n",
      "['autoencoder_fourier_transform=True'] ==> ['clf2']\n",
      "Confidence: 1.0\n",
      "Lift: 1.1818181818181819\n",
      "-----\n",
      "Rule: ['std', 'clf1']\n",
      "Support: 0.15384615384615385 || 2 examples\n",
      "['std'] ==> ['clf1']\n",
      "Confidence: 0.3333333333333333\n",
      "Lift: 2.1666666666666665\n",
      "-----\n",
      "Rule: ['clf2', 'crosscor']\n",
      "Support: 0.23076923076923078 || 3 examples\n",
      "['crosscor'] ==> ['clf2']\n",
      "Confidence: 0.75\n",
      "Lift: 0.8863636363636364\n",
      "-----\n",
      "Rule: ['clf2', 'multifracs_j1=1_j2=10']\n",
      "Support: 0.23076923076923078 || 3 examples\n",
      "['multifracs_j1=1_j2=10'] ==> ['clf2']\n",
      "Confidence: 1.0\n",
      "Lift: 1.1818181818181819\n",
      "-----\n",
      "Rule: ['clf2', 'shannon_encoding']\n",
      "Support: 0.5384615384615384 || 7 examples\n",
      "['shannon_encoding'] ==> ['clf2']\n",
      "Confidence: 1.0\n",
      "Lift: 1.1818181818181819\n",
      "-----\n",
      "Rule: ['clf2', 'std']\n",
      "Support: 0.3076923076923077 || 4 examples\n",
      "['std'] ==> ['clf2']\n",
      "Confidence: 0.6666666666666666\n",
      "Lift: 0.7878787878787878\n",
      "-----\n",
      "Rule: ['clf2', 'crosscor', 'autoencoder_fourier_transform=True']\n",
      "Support: 0.15384615384615385 || 2 examples\n",
      "['crosscor', 'autoencoder_fourier_transform=True'] ==> ['clf2']\n",
      "Confidence: 1.0\n",
      "Lift: 1.1818181818181819\n",
      "-----\n",
      "Rule: ['clf2', 'shannon_encoding', 'autoencoder_fourier_transform=True']\n",
      "Support: 0.23076923076923078 || 3 examples\n",
      "['shannon_encoding', 'autoencoder_fourier_transform=True'] ==> ['clf2']\n",
      "Confidence: 1.0\n",
      "Lift: 1.1818181818181819\n",
      "-----\n",
      "Rule: ['clf2', 'std', 'autoencoder_fourier_transform=True']\n",
      "Support: 0.15384615384615385 || 2 examples\n",
      "['std', 'autoencoder_fourier_transform=True'] ==> ['clf2']\n",
      "Confidence: 1.0\n",
      "Lift: 1.1818181818181819\n",
      "-----\n",
      "Rule: ['clf2', 'shannon_encoding', 'multifracs_j1=1_j2=10']\n",
      "Support: 0.23076923076923078 || 3 examples\n",
      "['shannon_encoding', 'multifracs_j1=1_j2=10'] ==> ['clf2']\n",
      "Confidence: 1.0\n",
      "Lift: 1.1818181818181819\n",
      "-----\n",
      "Rule: ['clf2', 'shannon_encoding', 'std']\n",
      "Support: 0.23076923076923078 || 3 examples\n",
      "['shannon_encoding', 'std'] ==> ['clf2']\n",
      "Confidence: 1.0\n",
      "Lift: 1.1818181818181819\n",
      "-----\n"
     ]
    }
   ],
   "source": [
    "for result in result_list:\n",
    "    items = [x for x in result.items]\n",
    "    \n",
    "    for ordered_stat in result.ordered_statistics:\n",
    "        if  (list(ordered_stat.items_add) == ['clf1'] or list(ordered_stat.items_add) == ['clf2']) and list(ordered_stat.items_base): \n",
    "            print(f\"Rule: {items}\")\n",
    "            print(f\"Support: {result.support} || {result.support * len(apr_list):.0f} examples\")\n",
    "            print(f\"{list(ordered_stat.items_base)} ==> {list(ordered_stat.items_add)}\")\n",
    "            print(f\"Confidence: {ordered_stat.confidence}\")\n",
    "            print(f\"Lift: {ordered_stat.lift}\")\n",
    "            print(\"-----\")"
   ]
  },
  {
   "cell_type": "code",
   "execution_count": null,
   "metadata": {},
   "outputs": [
    {
     "data": {
      "text/plain": [
       "'SVC'"
      ]
     },
     "execution_count": 238,
     "metadata": {},
     "output_type": "execute_result"
    }
   ],
   "source": [
    "SVC().__class__.__name__"
   ]
  }
 ],
 "metadata": {
  "kernelspec": {
   "display_name": "base",
   "language": "python",
   "name": "python3"
  },
  "language_info": {
   "codemirror_mode": {
    "name": "ipython",
    "version": 3
   },
   "file_extension": ".py",
   "mimetype": "text/x-python",
   "name": "python",
   "nbconvert_exporter": "python",
   "pygments_lexer": "ipython3",
   "version": "3.11.0"
  }
 },
 "nbformat": 4,
 "nbformat_minor": 2
}
