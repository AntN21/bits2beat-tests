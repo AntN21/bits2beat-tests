{
 "cells": [
  {
   "cell_type": "markdown",
   "metadata": {},
   "source": [
    "# Benchmark for signal representation "
   ]
  },
  {
   "cell_type": "markdown",
   "metadata": {},
   "source": [
    "- Multifractal analysis (1ere approche)\n",
    "\n",
    "- Discrete Fourier Transform (DFT) $\\checkmark$\n",
    "- Spectrogram\n",
    "- Autoregression $\\checkmark$\n",
    "- Shannon encoding $\\checkmark$\n",
    "- Wavelets (en cours)\n",
    "\n",
    "- Local symbolic features\n",
    "- SAX representation\n",
    "- Approximate entropy\n",
    "\n",
    "ML\n",
    "\n",
    "- Autoencoder\n",
    "\n",
    "- RNN\n",
    "- LSTM\n",
    "\n"
   ]
  },
  {
   "cell_type": "markdown",
   "metadata": {},
   "source": [
    "## Imports"
   ]
  },
  {
   "cell_type": "code",
   "execution_count": 115,
   "metadata": {},
   "outputs": [],
   "source": [
    "import numpy as np \n",
    "import matplotlib.pyplot as plt\n",
    "\n",
    "# import pywt\n",
    "\n",
    "# import pymultifracs.mfa as mfa\n",
    "# from pymultifracs.utils import build_q_log\n",
    "# from statsmodels.tsa.ar_model import AutoReg, ar_select_order\n"
   ]
  },
  {
   "cell_type": "code",
   "execution_count": 116,
   "metadata": {},
   "outputs": [],
   "source": [
    "from sklearn.svm import SVC\n",
    "from sklearn.tree import DecisionTreeClassifier\n",
    "from sklearn.ensemble import RandomForestClassifier\n",
    "from sklearn.model_selection import cross_val_score\n",
    "from sklearn.preprocessing import StandardScaler\n"
   ]
  },
  {
   "cell_type": "code",
   "execution_count": 117,
   "metadata": {},
   "outputs": [],
   "source": [
    "# %pip install import_ipynb\n",
    "# %pip install  --user git+https://github.com/neurospin/pymultifracs"
   ]
  },
  {
   "cell_type": "code",
   "execution_count": 118,
   "metadata": {},
   "outputs": [],
   "source": [
    "import import_ipynb\n",
    "from transformations import DataTransform,TransformationRegistry, IdentityTransform, FourierTransform, LowFourierTransform, LowPsdTransform, WaveDecTransform, DwtTransform, CwtTransform, AutoRegTransform, ShannonEncodingTransform, WaveletLeadersTransform, CrossCorTransform, AutoCorTransform, MultiFracsTransform"
   ]
  },
  {
   "cell_type": "code",
   "execution_count": 119,
   "metadata": {},
   "outputs": [],
   "source": [
    "# Initialize the registry\n",
    "registry = TransformationRegistry()\n",
    "\n",
    "# Register transformations\n",
    "registry.register('identity', IdentityTransform)\n",
    "registry.register('fourier', FourierTransform)\n",
    "registry.register('low_fourier', LowFourierTransform)\n",
    "registry.register('low_psd', LowPsdTransform)\n",
    "registry.register('wavedec', WaveDecTransform)\n",
    "registry.register('dwt', DwtTransform)\n",
    "registry.register('cwt', CwtTransform)\n",
    "registry.register('autoreg', AutoRegTransform)\n",
    "registry.register('shannon_encoding', ShannonEncodingTransform)\n",
    "registry.register('wavelet_leaders', WaveletLeadersTransform)\n",
    "registry.register('multifracs', MultiFracsTransform)\n",
    "registry.register('crosscor', CrossCorTransform)\n",
    "registry.register('autocor', AutoCorTransform)\n"
   ]
  },
  {
   "cell_type": "markdown",
   "metadata": {},
   "source": [
    "## Data Load\n",
    "\n",
    "Link here [ecgs_labels.npy](https://drive.google.com/file/d/1cbUKH9qGOeIZD6Mf73plMkyXpq56mwIu/view?usp=sharing)"
   ]
  },
  {
   "cell_type": "code",
   "execution_count": 120,
   "metadata": {},
   "outputs": [],
   "source": [
    "ecgs_labels = np.load('ecgs_labels.npy')\n",
    "\n",
    "X, y = ecgs_labels[1:,:-1], ecgs_labels[1:,-1]"
   ]
  },
  {
   "cell_type": "code",
   "execution_count": 121,
   "metadata": {},
   "outputs": [],
   "source": [
    "X, y = np.load('hrv_signals.npy'), np.load('hrv_labels.npy')"
   ]
  },
  {
   "cell_type": "code",
   "execution_count": 122,
   "metadata": {},
   "outputs": [],
   "source": [
    "hrvs_labels = np.load('hrv_data.npy')\n",
    "\n",
    "X, y = hrvs_labels[:,:-1], hrvs_labels[:,-1]"
   ]
  },
  {
   "cell_type": "code",
   "execution_count": 123,
   "metadata": {},
   "outputs": [
    {
     "data": {
      "text/plain": [
       "array([[0.711, 0.688, 0.68 , ..., 0.945, 0.945, 0.953],\n",
       "       [0.844, 0.82 , 0.781, ..., 0.781, 0.781, 0.734],\n",
       "       [0.805, 0.836, 0.891, ..., 0.867, 0.867, 0.781],\n",
       "       ...,\n",
       "       [0.859, 0.867, 0.891, ..., 0.781, 0.766, 0.781],\n",
       "       [0.695, 0.672, 0.711, ..., 0.734, 0.742, 0.727],\n",
       "       [0.562, 0.555, 0.562, ..., 0.875, 0.828, 0.797]])"
      ]
     },
     "execution_count": 123,
     "metadata": {},
     "output_type": "execute_result"
    }
   ],
   "source": [
    "X"
   ]
  },
  {
   "cell_type": "code",
   "execution_count": 124,
   "metadata": {},
   "outputs": [
    {
     "data": {
      "text/plain": [
       "0"
      ]
     },
     "execution_count": 124,
     "metadata": {},
     "output_type": "execute_result"
    }
   ],
   "source": [
    "np.isnan(X).sum()"
   ]
  },
  {
   "cell_type": "code",
   "execution_count": 125,
   "metadata": {},
   "outputs": [
    {
     "name": "stdout",
     "output_type": "stream",
     "text": [
      "(68,)\n"
     ]
    }
   ],
   "source": [
    "print(y.shape)"
   ]
  },
  {
   "cell_type": "code",
   "execution_count": 126,
   "metadata": {},
   "outputs": [
    {
     "name": "stdout",
     "output_type": "stream",
     "text": [
      "X.shape : (68, 71933)\n"
     ]
    }
   ],
   "source": [
    "n,p = X.shape\n",
    "\n",
    "print(f'X.shape : {n,p}')"
   ]
  },
  {
   "cell_type": "code",
   "execution_count": null,
   "metadata": {},
   "outputs": [],
   "source": []
  },
  {
   "cell_type": "code",
   "execution_count": 127,
   "metadata": {},
   "outputs": [
    {
     "data": {
      "text/plain": [
       "12"
      ]
     },
     "execution_count": 127,
     "metadata": {},
     "output_type": "execute_result"
    }
   ],
   "source": [
    "j2max = min(12,int(np.log2(p) - 3))\n",
    "j2max"
   ]
  },
  {
   "cell_type": "code",
   "execution_count": 128,
   "metadata": {},
   "outputs": [],
   "source": [
    "p_ = 65000"
   ]
  },
  {
   "cell_type": "code",
   "execution_count": 129,
   "metadata": {},
   "outputs": [
    {
     "name": "stdout",
     "output_type": "stream",
     "text": [
      "Transformation: identity, Shape: (10, 65000)\n",
      "Computing  fourier ..."
     ]
    },
    {
     "name": "stdout",
     "output_type": "stream",
     "text": [
      "Transformation: fourier, Shape: (10, 65000)\n",
      "Transformation: low_fourier, Shape: (10, 1092)\n",
      "Transformation: low_psd, Shape: (10, 1092)\n",
      "Transformation: wavedec, Shape: (10, 4063)\n",
      "Transformation: dwt, Shape: (10, 32500)\n",
      "Transformation: cwt, Shape: (10, 10)\n",
      "Transformation: autoreg, Shape: (10, 3)\n",
      "Transformation: shannon_encoding, Shape: (10, 8)\n",
      "Transformation: wavelet_leaders, Shape: (10, 2)\n",
      "Transformation: multifracs, Shape: (10, 3)\n",
      "Transformation: crosscor, Shape: (10, 10)\n",
      "Transformation: autocor, Shape: (10, 26000)\n"
     ]
    }
   ],
   "source": [
    "data_transformer = DataTransform(registry,save_data=False)\n",
    "for trans_names in registry.transformations.keys():\n",
    "        trans_names_str = [str(name) for name in trans_names]\n",
    "        trans_name_str = '+'.join(trans_names_str) if isinstance(trans_names, list) else trans_names\n",
    "        kwargs = trans_names[1] if isinstance(trans_names, list) and len(trans_names) > 1 else {}\n",
    "        trans_names = trans_names[0] if isinstance(trans_names, list) else trans_names\n",
    "        # Apply transformation\n",
    "        transformed_X = data_transformer.apply_transformation(np.random.randn((10*p_)).reshape((10,p_)), trans_names, **kwargs)\n",
    "        \n",
    "        print(f\"Transformation: {trans_name_str}, Shape: {transformed_X.shape}\")"
   ]
  },
  {
   "cell_type": "code",
   "execution_count": 130,
   "metadata": {},
   "outputs": [],
   "source": [
    "# Initialize the data transformer\n",
    "data_transformer = DataTransform(registry)"
   ]
  },
  {
   "cell_type": "code",
   "execution_count": 131,
   "metadata": {},
   "outputs": [
    {
     "name": "stdout",
     "output_type": "stream",
     "text": [
      "Couldn't find program: 'false'\n"
     ]
    }
   ],
   "source": [
    "%%script false --no-raise-error\n",
    "\n",
    "# Define the classifiers to be tested\n",
    "classifiers = {\n",
    "    'SVM': SVC(),\n",
    "    'DecisionTree': DecisionTreeClassifier(),\n",
    "    'RandomForest': RandomForestClassifier()\n",
    "}\n",
    "\n",
    "# Define the transformations to be tested\n",
    "transformations = [\n",
    "    # ['identity'],\n",
    "    ['crosscor'],\n",
    "    ['autocor', {'m':5000,'k':4}],\n",
    "    ['fourier', {'new_dimension':40}],\n",
    "    ['low_fourier'],\n",
    "    ['low_psd'],\n",
    "    ['cwt',{'pca_components' : 10}],\n",
    "    ['wavedec'],\n",
    "    ['autoreg', {'k': 3}],\n",
    "    ['shannon_encoding'],\n",
    "    ['wavelet_leaders'],\n",
    "    ['multifracs'],\n",
    "    ['multifracs', {'j1':1,'j2':12}],\n",
    "    [['wavelet_leaders','shannon_encoding']],\n",
    "    [['wavelet_leaders','multifracs']],\n",
    "    [['fourier','multifracs',], {'new_dimension':40}],\n",
    "    [['fourier','multifracs',], {'new_dimension':40}],\n",
    "    [['fourier','multifracs','shannon_encoding'], {'new_dimension':40}],\n",
    "    [['low_fourier','multifracs','autoreg'], {'k':3}],\n",
    "    \n",
    "]\n",
    "\n",
    "\n",
    "\n",
    "\n",
    "# Function to evaluate a classifier using cross-validation\n",
    "def evaluate_classifier_cv(classifier, X, y):\n",
    "    scores = cross_val_score(classifier, X, y, cv=5)  # 5-fold cross-validation\n",
    "    return np.mean(scores), np.std(scores)\n",
    "\n",
    "# Loop over each transformation and each classifier\n",
    "results = {}\n",
    "\n",
    "for trans_names in transformations:\n",
    "    # print()\n",
    "    trans_names_str = [str(name) for name in trans_names]\n",
    "    trans_name_str = '+'.join(trans_names_str) if isinstance(trans_names, list) else trans_names\n",
    "    kwargs = trans_names[1] if isinstance(trans_names, list) and len(trans_names) > 1 else {}\n",
    "    trans_names = trans_names[0] if isinstance(trans_names, list) else trans_names\n",
    "    \n",
    "    # Apply transformation\n",
    "    transformed_X = data_transformer.apply_transformation(X, trans_names, **kwargs)\n",
    "    print(f\"Transformation: {trans_name_str}, Shape: {transformed_X.shape}\" )\n",
    "    # Standardize the data (important for some classifiers like SVM)\n",
    "    scaler = StandardScaler()\n",
    "    transformed_X = scaler.fit_transform(transformed_X)\n",
    "    \n",
    "    results[trans_name_str] = {}\n",
    "    for clf_name, clf in classifiers.items():\n",
    "        # Evaluate the classifier with cross-validation\n",
    "        mean_accuracy, std_accuracy = evaluate_classifier_cv(clf, transformed_X, y)\n",
    "        results[trans_name_str][clf_name] = (mean_accuracy, std_accuracy)\n",
    "        print(f\"Transformation: {trans_name_str}, Classifier: {clf_name}, Mean Accuracy: {mean_accuracy:.3f}, Std Dev: {std_accuracy:.3f}\")\n",
    "\n",
    "    print()\n",
    "# Print the results\n",
    "for trans_name, clf_results in results.items():\n",
    "    print()\n",
    "    for clf_name, (mean_accuracy, std_accuracy) in clf_results.items():\n",
    "        print(f\"Transformation: {trans_name}, Classifier: {clf_name}, Mean Accuracy: {mean_accuracy:.3f}, Std Dev: {std_accuracy:.3f}\")\n",
    "        "
   ]
  },
  {
   "cell_type": "code",
   "execution_count": 135,
   "metadata": {},
   "outputs": [
    {
     "name": "stdout",
     "output_type": "stream",
     "text": [
      "[[['autoreg', {'k': 3}], 'crosscor', ['autoreg', {'k': 5}]], ['shannon_encoding', 'low_fourier'], ['low_fourier', ['autoreg', {'k': 5}]], ['low_psd', 'shannon_encoding', 'low_fourier'], ['crosscor', 'low_psd', ['autoreg', {'k': 3}], 'low_fourier'], ['low_psd', 'low_fourier'], ['crosscor', 'shannon_encoding', ['autoreg', {'k': 3}], 'low_psd'], ['crosscor', 'low_psd', 'shannon_encoding', ['autoreg', {'k': 3}]], ['low_fourier', ['autoreg', {'k': 5}]], [['autoreg', {'k': 3}], 'low_fourier', 'shannon_encoding', 'crosscor'], ['low_fourier', ['autoreg', {'k': 3}]], [['autoreg', {'k': 3}], 'shannon_encoding', 'low_fourier', 'crosscor'], ['shannon_encoding'], ['low_psd'], ['shannon_encoding'], ['low_psd', ['autoreg', {'k': 5}], ['autoreg', {'k': 3}]], [['autoreg', {'k': 3}]], ['low_fourier', 'shannon_encoding', ['autoreg', {'k': 3}], 'crosscor'], [['autoreg', {'k': 3}]], [['autoreg', {'k': 5}], 'low_fourier', ['multifracs', {'j1': 1, 'j2': 12}], 'shannon_encoding']]\n",
      "\n",
      "Transformations n°1: autoreg_k=3_crosscor_autoreg_k=5 (68, 18)\n",
      "Classifier: SVM, Mean Accuracy: 0.841, Std Dev: 0.081\n",
      "Classifier: DecisionTree, Mean Accuracy: 0.708, Std Dev: 0.148\n",
      "Classifier: RandomForest, Mean Accuracy: 0.799, Std Dev: 0.152\n",
      "\n",
      "Transformations n°2: shannon_encoding_low_fourier (68, 1216)\n",
      "Classifier: SVM, Mean Accuracy: 0.736, Std Dev: 0.027\n",
      "Classifier: DecisionTree, Mean Accuracy: 0.532, Std Dev: 0.099\n",
      "Classifier: RandomForest, Mean Accuracy: 0.766, Std Dev: 0.049\n",
      "\n",
      "Transformations n°3: low_fourier_autoreg_k=5 (68, 1213)\n",
      "Classifier: SVM, Mean Accuracy: 0.736, Std Dev: 0.027\n",
      "Classifier: DecisionTree, Mean Accuracy: 0.603, Std Dev: 0.106\n",
      "Classifier: RandomForest, Mean Accuracy: 0.707, Std Dev: 0.076\n",
      "\n",
      "Transformations n°4: low_psd_shannon_encoding_low_fourier (68, 2424)\n",
      "Classifier: SVM, Mean Accuracy: 0.736, Std Dev: 0.027\n",
      "Classifier: DecisionTree, Mean Accuracy: 0.548, Std Dev: 0.151\n",
      "Classifier: RandomForest, Mean Accuracy: 0.721, Std Dev: 0.086\n",
      "\n",
      "Transformations n°5: crosscor_low_psd_autoreg_k=3_low_fourier (68, 2429)\n",
      "Classifier: SVM, Mean Accuracy: 0.736, Std Dev: 0.027\n",
      "Classifier: DecisionTree, Mean Accuracy: 0.618, Std Dev: 0.055\n",
      "Classifier: RandomForest, Mean Accuracy: 0.707, Std Dev: 0.080\n",
      "\n",
      "Transformations n°6: low_psd_low_fourier (68, 2416)\n",
      "Classifier: SVM, Mean Accuracy: 0.736, Std Dev: 0.027\n",
      "Classifier: DecisionTree, Mean Accuracy: 0.516, Std Dev: 0.129\n",
      "Classifier: RandomForest, Mean Accuracy: 0.736, Std Dev: 0.072\n",
      "\n",
      "Transformations n°7: crosscor_shannon_encoding_autoreg_k=3_low_psd (68, 1229)\n",
      "Classifier: SVM, Mean Accuracy: 0.736, Std Dev: 0.027\n",
      "Classifier: DecisionTree, Mean Accuracy: 0.546, Std Dev: 0.087\n",
      "Classifier: RandomForest, Mean Accuracy: 0.707, Std Dev: 0.080\n",
      "\n",
      "Transformations n°8: crosscor_low_psd_shannon_encoding_autoreg_k=3 (68, 1229)\n",
      "Classifier: SVM, Mean Accuracy: 0.736, Std Dev: 0.027\n",
      "Classifier: DecisionTree, Mean Accuracy: 0.589, Std Dev: 0.070\n",
      "Classifier: RandomForest, Mean Accuracy: 0.736, Std Dev: 0.072\n",
      "\n",
      "Transformations n°9: low_fourier_autoreg_k=5 (68, 1213)\n",
      "Classifier: SVM, Mean Accuracy: 0.736, Std Dev: 0.027\n",
      "Classifier: DecisionTree, Mean Accuracy: 0.560, Std Dev: 0.096\n",
      "Classifier: RandomForest, Mean Accuracy: 0.692, Std Dev: 0.048\n",
      "\n",
      "Transformations n°10: autoreg_k=3_low_fourier_shannon_encoding_crosscor (68, 1229)\n",
      "Classifier: SVM, Mean Accuracy: 0.736, Std Dev: 0.027\n",
      "Classifier: DecisionTree, Mean Accuracy: 0.588, Std Dev: 0.090\n",
      "Classifier: RandomForest, Mean Accuracy: 0.708, Std Dev: 0.075\n",
      "\n",
      "Transformations n°11: low_fourier_autoreg_k=3 (68, 1211)\n",
      "Classifier: SVM, Mean Accuracy: 0.736, Std Dev: 0.027\n",
      "Classifier: DecisionTree, Mean Accuracy: 0.515, Std Dev: 0.109\n",
      "Classifier: RandomForest, Mean Accuracy: 0.693, Std Dev: 0.091\n",
      "\n",
      "Transformations n°12: autoreg_k=3_shannon_encoding_low_fourier_crosscor (68, 1229)\n",
      "Classifier: SVM, Mean Accuracy: 0.736, Std Dev: 0.027\n",
      "Classifier: DecisionTree, Mean Accuracy: 0.560, Std Dev: 0.096\n",
      "Classifier: RandomForest, Mean Accuracy: 0.722, Std Dev: 0.093\n",
      "\n",
      "Transformations n°13: shannon_encoding (68, 8)\n",
      "Classifier: SVM, Mean Accuracy: 0.736, Std Dev: 0.027\n",
      "Classifier: DecisionTree, Mean Accuracy: 0.679, Std Dev: 0.161\n",
      "Classifier: RandomForest, Mean Accuracy: 0.781, Std Dev: 0.059\n",
      "\n",
      "Transformations n°14: low_psd (68, 1208)\n",
      "Classifier: SVM, Mean Accuracy: 0.736, Std Dev: 0.027\n",
      "Classifier: DecisionTree, Mean Accuracy: 0.532, Std Dev: 0.126\n",
      "Classifier: RandomForest, Mean Accuracy: 0.664, Std Dev: 0.105\n",
      "\n",
      "Transformations n°15: shannon_encoding (68, 8)\n",
      "Classifier: SVM, Mean Accuracy: 0.736, Std Dev: 0.027\n",
      "Classifier: DecisionTree, Mean Accuracy: 0.680, Std Dev: 0.213\n",
      "Classifier: RandomForest, Mean Accuracy: 0.752, Std Dev: 0.104\n",
      "\n",
      "Transformations n°16: low_psd_autoreg_k=5_autoreg_k=3 (68, 1216)\n",
      "Classifier: SVM, Mean Accuracy: 0.736, Std Dev: 0.027\n",
      "Classifier: DecisionTree, Mean Accuracy: 0.618, Std Dev: 0.084\n",
      "Classifier: RandomForest, Mean Accuracy: 0.721, Std Dev: 0.052\n",
      "\n",
      "Transformations n°17: autoreg_k=3 (68, 3)\n",
      "Classifier: SVM, Mean Accuracy: 0.826, Std Dev: 0.083\n",
      "Classifier: DecisionTree, Mean Accuracy: 0.797, Std Dev: 0.092\n",
      "Classifier: RandomForest, Mean Accuracy: 0.857, Std Dev: 0.120\n",
      "\n",
      "Transformations n°18: low_fourier_shannon_encoding_autoreg_k=3_crosscor (68, 1229)\n",
      "Classifier: SVM, Mean Accuracy: 0.736, Std Dev: 0.027\n",
      "Classifier: DecisionTree, Mean Accuracy: 0.604, Std Dev: 0.065\n",
      "Classifier: RandomForest, Mean Accuracy: 0.738, Std Dev: 0.102\n",
      "\n",
      "Transformations n°19: autoreg_k=3 (68, 3)\n",
      "Classifier: SVM, Mean Accuracy: 0.826, Std Dev: 0.083\n",
      "Classifier: DecisionTree, Mean Accuracy: 0.797, Std Dev: 0.092\n",
      "Classifier: RandomForest, Mean Accuracy: 0.857, Std Dev: 0.120\n",
      "\n",
      "Computing  multifracs_j1=1_j2=12 ..."
     ]
    },
    {
     "name": "stderr",
     "output_type": "stream",
     "text": [
      "C:\\Users\\ANT\\AppData\\Roaming\\Python\\Python311\\site-packages\\pymultifracs\\utils.py:87: RuntimeWarning: divide by zero encountered in power\n",
      "  return np.power(array, exponent)\n",
      "C:\\Users\\ANT\\AppData\\Roaming\\Python\\Python311\\site-packages\\pymultifracs\\utils.py:76: RuntimeWarning: divide by zero encountered in reciprocal\n",
      "  return array ** exponent\n",
      "C:\\Users\\ANT\\AppData\\Roaming\\Python\\Python311\\site-packages\\pymultifracs\\cumulants.py:265: RuntimeWarning: divide by zero encountered in log\n",
      "  log_T_X_j = np.log(T_X_j)\n",
      "C:\\Users\\ANT\\AppData\\Roaming\\Python\\Python311\\site-packages\\pymultifracs\\mfspectrum.py:117: RuntimeWarning: invalid value encountered in divide\n",
      "  R_j = temp / Z\n",
      "C:\\Users\\ANT\\AppData\\Roaming\\Python\\Python311\\site-packages\\pymultifracs\\mfspectrum.py:118: RuntimeWarning: divide by zero encountered in log2\n",
      "  V[:, ind_j, :] = fixednansum(R_j * np.log2(mrq_values_j), axis=1)\n",
      "C:\\Users\\ANT\\AppData\\Roaming\\Python\\Python311\\site-packages\\pymultifracs\\mfspectrum.py:118: RuntimeWarning: invalid value encountered in multiply\n",
      "  V[:, ind_j, :] = fixednansum(R_j * np.log2(mrq_values_j), axis=1)\n",
      "C:\\Users\\ANT\\AppData\\Roaming\\Python\\Python311\\site-packages\\pymultifracs\\mfspectrum.py:119: RuntimeWarning: divide by zero encountered in log2\n",
      "  U[:, ind_j, :] = np.log2(nj) + fixednansum((R_j * np.log2(R_j)),\n",
      "C:\\Users\\ANT\\AppData\\Roaming\\Python\\Python311\\site-packages\\pymultifracs\\mfspectrum.py:119: RuntimeWarning: invalid value encountered in multiply\n",
      "  U[:, ind_j, :] = np.log2(nj) + fixednansum((R_j * np.log2(R_j)),\n"
     ]
    },
    {
     "name": "stdout",
     "output_type": "stream",
     "text": [
      "Transformations n°20: autoreg_k=5_low_fourier_multifracs_j1=1_j2=12_shannon_encoding (68, 1224)\n",
      "Classifier: SVM, Mean Accuracy: 0.736, Std Dev: 0.027\n",
      "Classifier: DecisionTree, Mean Accuracy: 0.532, Std Dev: 0.088\n",
      "Classifier: RandomForest, Mean Accuracy: 0.736, Std Dev: 0.072\n"
     ]
    }
   ],
   "source": [
    "import random\n",
    "import itertools\n",
    "import json\n",
    "\n",
    "# Define the classifiers to be tested\n",
    "classifiers = {\n",
    "    'SVM': SVC(),\n",
    "    'DecisionTree': DecisionTreeClassifier(),\n",
    "    'RandomForest': RandomForestClassifier()\n",
    "}\n",
    "\n",
    "# Initialize the data transformer\n",
    "data_transformer = DataTransform(registry)\n",
    "\n",
    "# Define the transformations to be tested\n",
    "transformation_names = ['crosscor','low_psd','low_fourier',['autoreg',{'k':3}],['autoreg',{'k':5}], #'multifracs',\n",
    "                        ['multifracs', {'j1':1,'j2':j2max}],\n",
    "                        'shannon_encoding'] #list(registry.transformations.keys())\n",
    "\n",
    "\n",
    "\n",
    "\n",
    "# Function to evaluate a classifier using cross-validation\n",
    "def evaluate_classifier_cv(classifier, X, y):\n",
    "    scores = cross_val_score(classifier, X, y, cv=5)  # 5-fold cross-validation\n",
    "    return np.mean(scores), np.std(scores)\n",
    "\n",
    "# Function to randomly combine transformations\n",
    "def random_combination_transformations(transformation_list, n_combinations=10):\n",
    "    # all_combinations = []\n",
    "    # for r in range(1, len(transformation_names) + 1):\n",
    "    #     combinations = list(itertools.combinations(transformation_names, r))\n",
    "    #     all_combinations.extend(combinations)\n",
    "    \n",
    "    # return random.sample(all_combinations, min(n_combinations, len(all_combinations)))\n",
    "    nb_transformation = len(transformation_list)\n",
    "    combined_transformations = []\n",
    "    for _ in range(n_combinations):\n",
    "        nb_trans = np.random.randint(1,5)\n",
    "\n",
    "        already_drawn = []\n",
    "        transs = []\n",
    "        for _ in range(nb_trans):\n",
    "            while True:\n",
    "                random_ind = np.random.randint(nb_transformation)\n",
    "                if random_ind not in already_drawn:\n",
    "                    already_drawn.append(random_ind)\n",
    "                    break\n",
    "            trans = transformation_list[random_ind]\n",
    "            transs.append(trans)\n",
    "            \n",
    "        combined_transformations.append(transs)\n",
    "    return combined_transformations\n",
    "# Generate random combinations of transformations\n",
    "random_transformations = random_combination_transformations(transformation_names, n_combinations=20)\n",
    "print(random_transformations)\n",
    "# # Example input data\n",
    "# X = np.random.randn(100, 10)  # Example input data\n",
    "# y = np.random.randint(0, 2, 100)  # Example labels\n",
    "\n",
    "# Dictionary to store results\n",
    "results = {}\n",
    "\n",
    "i = 0\n",
    "# Loop over each random combination of transformations and each classifier\n",
    "for trans in random_transformations:\n",
    "    print()\n",
    "    trans_name_str = DataTransform.get_full_trans_kwargs_str(trans)\n",
    "    \n",
    "        \n",
    "    transformed_X = data_transformer.apply_transformation(X, trans)\n",
    "\n",
    "    # trans_name_str = '+'.join(trans_comb)\n",
    "    # transformed_X = data_transformer.apply_transformation(X, trans_comb)\n",
    "    \n",
    "    # Standardize the data (important for some classifiers like SVM)\n",
    "    scaler = StandardScaler()\n",
    "    transformed_X = scaler.fit_transform(transformed_X)\n",
    "    \n",
    "    results[trans_name_str] = {}\n",
    "    i += 1\n",
    "    print(f\"Transformations n°{i}: {trans_name_str} {transformed_X.shape}\")\n",
    "    for clf_name, clf in classifiers.items():\n",
    "        # Evaluate the classifier with cross-validation\n",
    "        mean_accuracy, std_accuracy = evaluate_classifier_cv(clf, transformed_X, y)\n",
    "        results[trans_name_str][clf_name] = {'mean_accuracy': mean_accuracy, 'std_accuracy': std_accuracy}\n",
    "        print(f\"Classifier: {clf_name}, Mean Accuracy: {mean_accuracy:.3f}, Std Dev: {std_accuracy:.3f}\")\n",
    "\n",
    "# Save results to a JSON file\n",
    "with open('transformation_results_hrv.json', 'w') as f:\n",
    "    json.dump(results, f, indent=4)\n"
   ]
  },
  {
   "cell_type": "code",
   "execution_count": 136,
   "metadata": {},
   "outputs": [],
   "source": [
    "# Save results to a JSON file\n",
    "with open('transformation_results_hrv_chall2002.json', 'w') as f:\n",
    "    json.dump(results, f, indent=4)"
   ]
  },
  {
   "cell_type": "code",
   "execution_count": 137,
   "metadata": {},
   "outputs": [
    {
     "name": "stdout",
     "output_type": "stream",
     "text": [
      "Best Transformation: autoreg_k=3\n",
      "Best Classifier: RandomForest\n",
      "Best Mean Accuracy: 0.8571428571428571\n"
     ]
    }
   ],
   "source": [
    "import json\n",
    "##\n",
    "# Load the results from the JSON file\n",
    "with open('transformation_results_hrv_chall2002.json', 'r') as f:\n",
    "    results = json.load(f)\n",
    "\n",
    "# Find the best transformation and classifier\n",
    "best_score = 0\n",
    "best_transformation = None\n",
    "best_classifier = None\n",
    "\n",
    "for trans_comb, clf_results in results.items():\n",
    "    for clf_name, scores in clf_results.items():\n",
    "        if scores['mean_accuracy'] > best_score:\n",
    "            best_score = scores['mean_accuracy']\n",
    "            best_transformation = trans_comb\n",
    "            best_classifier = clf_name\n",
    "\n",
    "print(f\"Best Transformation: {best_transformation}\")\n",
    "print(f\"Best Classifier: {best_classifier}\")\n",
    "print(f\"Best Mean Accuracy: {best_score}\")\n"
   ]
  }
 ],
 "metadata": {
  "kernelspec": {
   "display_name": "base",
   "language": "python",
   "name": "python3"
  },
  "language_info": {
   "codemirror_mode": {
    "name": "ipython",
    "version": 3
   },
   "file_extension": ".py",
   "mimetype": "text/x-python",
   "name": "python",
   "nbconvert_exporter": "python",
   "pygments_lexer": "ipython3",
   "version": "3.11.0"
  }
 },
 "nbformat": 4,
 "nbformat_minor": 2
}
