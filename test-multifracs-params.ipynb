{
 "cells": [
  {
   "cell_type": "code",
   "execution_count": 66,
   "metadata": {},
   "outputs": [],
   "source": [
    "import numpy as np\n",
    "from pymultifracs import mfa\n",
    "import matplotlib.pyplot as plt\n",
    "from pymultifracs.simul import mrw\n",
    "import pandas as pd\n",
    "from pymultifracs.utils import build_q_log\n",
    "from sklearn.svm import SVC\n",
    "from sklearn.preprocessing import StandardScaler\n",
    "import plotly.graph_objects as go"
   ]
  },
  {
   "cell_type": "code",
   "execution_count": 67,
   "metadata": {},
   "outputs": [],
   "source": [
    "import import_ipynb\n",
    "from prep_synth_data import create_synth_data"
   ]
  },
  {
   "cell_type": "code",
   "execution_count": 68,
   "metadata": {},
   "outputs": [],
   "source": [
    "pd.options.display.float_format = '{:,.2f}'.format"
   ]
  },
  {
   "cell_type": "code",
   "execution_count": 69,
   "metadata": {},
   "outputs": [],
   "source": [
    "H = .3\n",
    "lam = .17\n",
    "N = 1000\n",
    "length = 65536\n",
    "L = length\n",
    "X = mrw(shape=(length,N), H=H, lam=lam, L=L).T"
   ]
  },
  {
   "cell_type": "code",
   "execution_count": 70,
   "metadata": {},
   "outputs": [],
   "source": [
    "j2max = int(np.log2(length) - 3.1)"
   ]
  },
  {
   "cell_type": "code",
   "execution_count": 71,
   "metadata": {},
   "outputs": [],
   "source": [
    "def get_df_mfa(signals, n_cumul=2, j1=2, j2=7, q = [-10, -5, -4, -3, -2, -1, 1, 2, 3, 4, 5, 10],p_exp=np.inf):\n",
    "    results = []\n",
    "    for signal in signals:\n",
    "        result = dict()\n",
    "        dwt, lwt = mfa.mf_analysis_full(\n",
    "        signal,\n",
    "        scaling_ranges=[(j1, j2)],\n",
    "        q= q, #[-10, -5,-3,-2, 0,2,3, 5, 10], #[-4,-3,-2,1,0,1,2,3,4],# [-10, -5, -2, 0, 2, 5, 10],#build_q_log(1, 10, 20), # q=[-10, -5, 0, 5, 10],\n",
    "        n_cumul=n_cumul,\n",
    "        p_exp=p_exp,\n",
    "        gamint=0.0\n",
    "        )\n",
    "        lwt_sf, lwt_cumul, lwt_mfs, lwt_hmin = lwt\n",
    "        sf, cumul, mfs, hmin = dwt\n",
    "\n",
    "        def get_item(arr):\n",
    "            return arr.item() if isinstance(arr,np.ndarray) else lwt_hmin\n",
    "\n",
    "        result['std'] = signal.std()\n",
    "        result['hmin'] = hmin.item()\n",
    "        result['l_hmin'] = get_item(lwt_hmin) # lwt_hmin.item() if isinstance(lwt_hmin,np.ndarray) else lwt_hmin\n",
    "\n",
    "        result['deg_h'] = mfs.hq.max() - mfs.hq.min()\n",
    "        result['l_deg_h'] = lwt_mfs.hq.max() - lwt_mfs.hq.min()\n",
    "        result['H'] = get_item(sf.H)\n",
    "        result['l_H'] = get_item(lwt_sf.H)\n",
    "\n",
    "        for i in range(n_cumul):\n",
    "            result[f'cumul{i}'] = get_item(cumul.log_cumulants[i])\n",
    "            result[f'l_cumul{i}'] = get_item(lwt_cumul.log_cumulants[i])\n",
    "        \n",
    "        for i in range(sf.zeta.shape[0]):\n",
    "            result[f' zeta(q={sf.q[i]})'] = sf.zeta[i, 0, 0]\n",
    "            result[f' zeta(q={lwt_sf.q[i]})'] = lwt_sf.zeta[i, 0, 0]\n",
    "\n",
    "        results.append(result)\n",
    "    return pd.DataFrame(results)"
   ]
  },
  {
   "cell_type": "code",
   "execution_count": 72,
   "metadata": {},
   "outputs": [],
   "source": [
    "df_mfa = get_df_mfa(X,n_cumul=4)"
   ]
  },
  {
   "cell_type": "code",
   "execution_count": 73,
   "metadata": {},
   "outputs": [
    {
     "data": {
      "text/html": [
       "<div>\n",
       "<style scoped>\n",
       "    .dataframe tbody tr th:only-of-type {\n",
       "        vertical-align: middle;\n",
       "    }\n",
       "\n",
       "    .dataframe tbody tr th {\n",
       "        vertical-align: top;\n",
       "    }\n",
       "\n",
       "    .dataframe thead th {\n",
       "        text-align: right;\n",
       "    }\n",
       "</style>\n",
       "<table border=\"1\" class=\"dataframe\">\n",
       "  <thead>\n",
       "    <tr style=\"text-align: right;\">\n",
       "      <th></th>\n",
       "      <th>std</th>\n",
       "      <th>hmin</th>\n",
       "      <th>deg_h</th>\n",
       "      <th>l_deg_h</th>\n",
       "      <th>H</th>\n",
       "      <th>l_H</th>\n",
       "      <th>cumul0</th>\n",
       "      <th>l_cumul0</th>\n",
       "      <th>cumul1</th>\n",
       "      <th>l_cumul1</th>\n",
       "      <th>...</th>\n",
       "      <th>zeta(q=-4)</th>\n",
       "      <th>zeta(q=-3)</th>\n",
       "      <th>zeta(q=-2)</th>\n",
       "      <th>zeta(q=-1)</th>\n",
       "      <th>zeta(q=1)</th>\n",
       "      <th>zeta(q=2)</th>\n",
       "      <th>zeta(q=3)</th>\n",
       "      <th>zeta(q=4)</th>\n",
       "      <th>zeta(q=5)</th>\n",
       "      <th>zeta(q=10)</th>\n",
       "    </tr>\n",
       "  </thead>\n",
       "  <tbody>\n",
       "    <tr>\n",
       "      <th>mean</th>\n",
       "      <td>1.00</td>\n",
       "      <td>0.09</td>\n",
       "      <td>1.30</td>\n",
       "      <td>0.53</td>\n",
       "      <td>0.29</td>\n",
       "      <td>0.28</td>\n",
       "      <td>0.31</td>\n",
       "      <td>0.31</td>\n",
       "      <td>-0.02</td>\n",
       "      <td>-0.04</td>\n",
       "      <td>...</td>\n",
       "      <td>-1.59</td>\n",
       "      <td>-1.12</td>\n",
       "      <td>-0.71</td>\n",
       "      <td>-0.33</td>\n",
       "      <td>0.29</td>\n",
       "      <td>0.55</td>\n",
       "      <td>0.78</td>\n",
       "      <td>0.97</td>\n",
       "      <td>1.12</td>\n",
       "      <td>1.61</td>\n",
       "    </tr>\n",
       "    <tr>\n",
       "      <th>std</th>\n",
       "      <td>0.40</td>\n",
       "      <td>0.06</td>\n",
       "      <td>0.44</td>\n",
       "      <td>0.09</td>\n",
       "      <td>0.01</td>\n",
       "      <td>0.01</td>\n",
       "      <td>0.01</td>\n",
       "      <td>0.00</td>\n",
       "      <td>0.03</td>\n",
       "      <td>0.00</td>\n",
       "      <td>...</td>\n",
       "      <td>0.05</td>\n",
       "      <td>0.03</td>\n",
       "      <td>0.01</td>\n",
       "      <td>0.00</td>\n",
       "      <td>0.01</td>\n",
       "      <td>0.01</td>\n",
       "      <td>0.03</td>\n",
       "      <td>0.06</td>\n",
       "      <td>0.10</td>\n",
       "      <td>0.42</td>\n",
       "    </tr>\n",
       "  </tbody>\n",
       "</table>\n",
       "<p>2 rows × 26 columns</p>\n",
       "</div>"
      ],
      "text/plain": [
       "      std  hmin  deg_h  l_deg_h    H  l_H  cumul0  l_cumul0  cumul1  l_cumul1  \\\n",
       "mean 1.00  0.09   1.30     0.53 0.29 0.28    0.31      0.31   -0.02     -0.04   \n",
       "std  0.40  0.06   0.44     0.09 0.01 0.01    0.01      0.00    0.03      0.00   \n",
       "\n",
       "      ...   zeta(q=-4)   zeta(q=-3)   zeta(q=-2)   zeta(q=-1)   zeta(q=1)  \\\n",
       "mean  ...        -1.59        -1.12        -0.71        -0.33        0.29   \n",
       "std   ...         0.05         0.03         0.01         0.00        0.01   \n",
       "\n",
       "       zeta(q=2)   zeta(q=3)   zeta(q=4)   zeta(q=5)   zeta(q=10)  \n",
       "mean        0.55        0.78        0.97        1.12         1.61  \n",
       "std         0.01        0.03        0.06        0.10         0.42  \n",
       "\n",
       "[2 rows x 26 columns]"
      ]
     },
     "execution_count": 73,
     "metadata": {},
     "output_type": "execute_result"
    }
   ],
   "source": [
    "columns = df_mfa.columns\n",
    "df_mfa.describe()[1:3]"
   ]
  },
  {
   "cell_type": "code",
   "execution_count": 74,
   "metadata": {},
   "outputs": [],
   "source": [
    "def create_visibility_options(n):\n",
    "    visibility_options = {}\n",
    "\n",
    "    # Add the \"All\" option\n",
    "    visibility_options[\"All\"] = [True] * n\n",
    "    \n",
    "    # Add options for each individual curve\n",
    "    for i in range(n):\n",
    "        visibility = [False] * n\n",
    "        visibility[i] = True\n",
    "        visibility_options[f\"Curve {i + 1}\"] = visibility\n",
    "    \n",
    "    # Add the \"None\" option\n",
    "    visibility_options[\"None\"] = [False] * n\n",
    "\n",
    "    return visibility_options\n",
    "\n",
    "def create_buttons(n, labels = None):\n",
    "    visibility_options = create_visibility_options(n)\n",
    "    \n",
    "    if labels is None:\n",
    "        labels = list(visibility_options.keys())\n",
    "    labels = [\"All\"] + labels + [\"None\"]\n",
    "    buttons = list()\n",
    "    \n",
    "    for label, visibility in zip(labels,visibility_options.values()):\n",
    "        buttons.append(dict(label=label,method='update',args=[{\"visible\":visibility}]))\n",
    "    return buttons\n",
    "\n",
    "def dyn_plot(y, y_err, label=None, x=None):\n",
    "    fig = go.Figure()\n",
    "\n",
    "    y = np.squeeze(y)\n",
    "\n",
    "    if len(y.shape)<=1:\n",
    "        y = np.expand_dims(y,axis=0)\n",
    "\n",
    "    nb_curves = y.shape[0]\n",
    "\n",
    "    if x is None:\n",
    "        x = range(y.shape[-1])\n",
    "\n",
    "    if label is None:\n",
    "        label = ['Curve ' + str(i) for  i in range(nb_curves)]\n",
    "    \n",
    "    \n",
    "    buttons = create_buttons(nb_curves, labels=label)\n",
    "\n",
    "\n",
    "    # Create the figure\n",
    "    fig = go.Figure()\n",
    "    for i in range(nb_curves):\n",
    "        # Add the curves\n",
    "        fig.add_trace(go.Scatter(x=x, y=y[i], mode='lines', name=label[i],\n",
    "            error_y=dict(\n",
    "            type='data',\n",
    "            array=y_err[i],\n",
    "            visible=True\n",
    "        )))\n",
    "\n",
    "    nb_per_row = 15\n",
    "    len_buttons = len(buttons)\n",
    "    nb_rows = len_buttons // nb_per_row + 1 *(len_buttons % nb_per_row > 0)\n",
    "    updatemenus = [\n",
    "    dict(\n",
    "        type=\"buttons\",\n",
    "        direction=\"right\",\n",
    "        buttons=buttons[i*nb_per_row: (i+1)*nb_per_row],\n",
    "        x=0.1,\n",
    "        xanchor=\"left\",\n",
    "        y=1.15 - 0.1 * i,\n",
    "        yanchor=\"top\"\n",
    "    )\n",
    "        for i in range(nb_rows)\n",
    "    ]\n",
    "    update_menus = []\n",
    "    # Update layout with interactive options\n",
    "    fig.update_layout(\n",
    "    title=\"Interactive Plot with Toggle Curves\",\n",
    "    xaxis_title=\"X Axis\",\n",
    "    yaxis_title=\"Y Axis\",\n",
    "    legend_title=\"Curves\",\n",
    "    updatemenus=updatemenus\n",
    "    )\n",
    "\n",
    "    # Show the figure\n",
    "    fig.show()\n",
    "        "
   ]
  },
  {
   "cell_type": "code",
   "execution_count": 75,
   "metadata": {},
   "outputs": [
    {
     "data": {
      "text/plain": [
       "['All',\n",
       " 'std',\n",
       " 'hmin',\n",
       " 'l_hmin',\n",
       " 'deg_h',\n",
       " 'l_deg_h',\n",
       " 'H',\n",
       " 'l_H',\n",
       " 'cumul0',\n",
       " 'l_cumul0',\n",
       " 'cumul1',\n",
       " 'l_cumul1',\n",
       " 'cumul2',\n",
       " 'l_cumul2',\n",
       " 'cumul3',\n",
       " 'l_cumul3',\n",
       " ' zeta(q=-10)',\n",
       " ' zeta(q=-5)',\n",
       " ' zeta(q=-4)',\n",
       " ' zeta(q=-3)',\n",
       " ' zeta(q=-2)',\n",
       " ' zeta(q=-1)',\n",
       " ' zeta(q=1)',\n",
       " ' zeta(q=2)',\n",
       " ' zeta(q=3)',\n",
       " ' zeta(q=4)',\n",
       " ' zeta(q=5)',\n",
       " ' zeta(q=10)',\n",
       " 'None']"
      ]
     },
     "execution_count": 75,
     "metadata": {},
     "output_type": "execute_result"
    }
   ],
   "source": [
    "[\"All\"] + list(columns) + [\"None\"]"
   ]
  },
  {
   "cell_type": "code",
   "execution_count": 76,
   "metadata": {},
   "outputs": [
    {
     "data": {
      "text/plain": [
       "array([ 9.9927664e-01,  8.8889636e-02,            nan,  1.3040857e+00,\n",
       "        5.2860659e-01,  2.8543469e-01,  2.7605370e-01,  3.0948803e-01,\n",
       "        3.1268471e-01, -2.4842286e-02, -3.8221002e-02,  8.5426401e-03,\n",
       "        2.6250170e-03, -7.4401982e-02, -3.7032535e-04, -5.0034175e+00,\n",
       "       -2.0970318e+00, -1.5874854e+00, -1.1231318e+00, -7.0556903e-01,\n",
       "       -3.3224824e-01,  2.9399502e-01,  5.5210739e-01,  7.7582788e-01,\n",
       "        9.6530974e-01,  1.1213461e+00,  1.6089361e+00], dtype=float32)"
      ]
     },
     "execution_count": 76,
     "metadata": {},
     "output_type": "execute_result"
    }
   ],
   "source": [
    "np.array(df_mfa.mean(axis=0),dtype=np.float32)"
   ]
  },
  {
   "cell_type": "code",
   "execution_count": 77,
   "metadata": {},
   "outputs": [],
   "source": [
    "signals_mean = []\n",
    "signals_std = []\n",
    "j2s = range(4,j2max)\n",
    "for j2 in j2s:\n",
    "    df_mfa = get_df_mfa(X,n_cumul=4,j1=1,j2=j2)\n",
    "    y = np.array(np.mean(df_mfa, axis = 0),dtype=np.float32)\n",
    "    y_std = np.array(np.std(df_mfa, axis = 0),dtype=np.float32)\n",
    "    signals_mean.append(y)\n",
    "    signals_std.append(y_std)\n",
    "signals_mean = np.array(signals_mean).T\n",
    "signals_std = np.array(signals_std).T"
   ]
  },
  {
   "cell_type": "code",
   "execution_count": 78,
   "metadata": {},
   "outputs": [
    {
     "data": {
      "application/vnd.plotly.v1+json": {
       "config": {
        "plotlyServerURL": "https://plot.ly"
       },
       "data": [
        {
         "error_y": {
          "array": [
           0.39765119552612305,
           0.39765119552612305,
           0.39765119552612305,
           0.39765119552612305,
           0.39765119552612305,
           0.39765119552612305,
           0.39765119552612305,
           0.39765119552612305
          ],
          "type": "data",
          "visible": true
         },
         "mode": "lines",
         "name": "std",
         "type": "scatter",
         "x": [
          4,
          5,
          6,
          7,
          8,
          9,
          10,
          11
         ],
         "y": [
          0.9992766380310059,
          0.9992766380310059,
          0.9992766380310059,
          0.9992766380310059,
          0.9992766380310059,
          0.9992766380310059,
          0.9992766380310059,
          0.9992766380310059
         ]
        },
        {
         "error_y": {
          "array": [
           0.1064194068312645,
           0.07574968785047531,
           0.060081057250499725,
           0.0505119152367115,
           0.04310932755470276,
           0.03762563690543175,
           0.03466267138719559,
           0.03274181857705116
          ],
          "type": "data",
          "visible": true
         },
         "mode": "lines",
         "name": "hmin",
         "type": "scatter",
         "x": [
          4,
          5,
          6,
          7,
          8,
          9,
          10,
          11
         ],
         "y": [
          -0.04168638586997986,
          -0.00035640771966427565,
          0.029462380334734917,
          0.04921698570251465,
          0.06492724269628525,
          0.0774197205901146,
          0.08726731687784195,
          0.09380991756916046
         ]
        },
        {
         "error_y": {
          "array": [
           null,
           null,
           null,
           null,
           null,
           null,
           null,
           null
          ],
          "type": "data",
          "visible": true
         },
         "mode": "lines",
         "name": "l_hmin",
         "type": "scatter",
         "x": [
          4,
          5,
          6,
          7,
          8,
          9,
          10,
          11
         ],
         "y": [
          null,
          null,
          null,
          null,
          null,
          null,
          null,
          null
         ]
        },
        {
         "error_y": {
          "array": [
           0.8234750032424927,
           0.5657749176025391,
           0.4318035840988159,
           0.3606431484222412,
           0.3012405037879944,
           0.25343817472457886,
           0.21436022222042084,
           0.1852797567844391
          ],
          "type": "data",
          "visible": true
         },
         "mode": "lines",
         "name": "deg_h",
         "type": "scatter",
         "x": [
          4,
          5,
          6,
          7,
          8,
          9,
          10,
          11
         ],
         "y": [
          1.4855049848556519,
          1.3500406742095947,
          1.281203031539917,
          1.2599531412124634,
          1.240634799003601,
          1.2439357042312622,
          1.2463494539260864,
          1.2546361684799194
         ]
        },
        {
         "error_y": {
          "array": [
           0.24929097294807434,
           0.17144161462783813,
           0.12826834619045258,
           0.10296731442213058,
           0.08705643564462662,
           0.07496616244316101,
           0.06621620059013367,
           0.06034260615706444
          ],
          "type": "data",
          "visible": true
         },
         "mode": "lines",
         "name": "l_deg_h",
         "type": "scatter",
         "x": [
          4,
          5,
          6,
          7,
          8,
          9,
          10,
          11
         ],
         "y": [
          1.557124376296997,
          1.1945593357086182,
          0.9746150970458984,
          0.8336160182952881,
          0.7384094595909119,
          0.6703565120697021,
          0.6217160224914551,
          0.5873980522155762
         ]
        },
        {
         "error_y": {
          "array": [
           0.008863664232194424,
           0.008156035095453262,
           0.008208560757339,
           0.008524993434548378,
           0.00905781053006649,
           0.010376793332397938,
           0.012694690376520157,
           0.01575513742864132
          ],
          "type": "data",
          "visible": true
         },
         "mode": "lines",
         "name": "H",
         "type": "scatter",
         "x": [
          4,
          5,
          6,
          7,
          8,
          9,
          10,
          11
         ],
         "y": [
          0.1446300595998764,
          0.1897885501384735,
          0.22155344486236572,
          0.24420732259750366,
          0.26198676228523254,
          0.2767278850078583,
          0.288979172706604,
          0.2991884648799896
         ]
        },
        {
         "error_y": {
          "array": [
           0.003984624985605478,
           0.004140813834965229,
           0.004727478604763746,
           0.0054998560808598995,
           0.00653705932199955,
           0.007772540207952261,
           0.009615522809326649,
           0.012248008511960506
          ],
          "type": "data",
          "visible": true
         },
         "mode": "lines",
         "name": "l_H",
         "type": "scatter",
         "x": [
          4,
          5,
          6,
          7,
          8,
          9,
          10,
          11
         ],
         "y": [
          0.31878942251205444,
          0.3021332323551178,
          0.2938096225261688,
          0.29044362902641296,
          0.29058560729026794,
          0.2931514382362366,
          0.297346293926239,
          0.3022853136062622
         ]
        },
        {
         "error_y": {
          "array": [
           0.008776519447565079,
           0.00816989317536354,
           0.00854785367846489,
           0.009023848921060562,
           0.009849775582551956,
           0.01209366973489523,
           0.014861001633107662,
           0.018509579822421074
          ],
          "type": "data",
          "visible": true
         },
         "mode": "lines",
         "name": "cumul0",
         "type": "scatter",
         "x": [
          4,
          5,
          6,
          7,
          8,
          9,
          10,
          11
         ],
         "y": [
          0.1653498113155365,
          0.21116718649864197,
          0.24351297318935394,
          0.2674447298049927,
          0.2861299514770508,
          0.30192288756370544,
          0.3150818645954132,
          0.32746925950050354
         ]
        },
        {
         "error_y": {
          "array": [
           0.0030386087018996477,
           0.0029822688084095716,
           0.0031913374550640583,
           0.00366497621871531,
           0.004466546233743429,
           0.005526700988411903,
           0.007115923333913088,
           0.009601758792996407
          ],
          "type": "data",
          "visible": true
         },
         "mode": "lines",
         "name": "l_cumul0",
         "type": "scatter",
         "x": [
          4,
          5,
          6,
          7,
          8,
          9,
          10,
          11
         ],
         "y": [
          0.414298951625824,
          0.37847673892974854,
          0.35745760798454285,
          0.34544456005096436,
          0.3394668400287628,
          0.33756691217422485,
          0.3385782241821289,
          0.3416013717651367
         ]
        },
        {
         "error_y": {
          "array": [
           0.024471711367368698,
           0.02294590324163437,
           0.023638971149921417,
           0.024346886202692986,
           0.026189900934696198,
           0.03178440406918526,
           0.037958282977342606,
           0.04427892342209816
          ],
          "type": "data",
          "visible": true
         },
         "mode": "lines",
         "name": "cumul1",
         "type": "scatter",
         "x": [
          4,
          5,
          6,
          7,
          8,
          9,
          10,
          11
         ],
         "y": [
          -0.021176207810640335,
          -0.021800758317112923,
          -0.022562099620699883,
          -0.02392212301492691,
          -0.023984992876648903,
          -0.02536831609904766,
          -0.026809900999069214,
          -0.030404385179281235
         ]
        },
        {
         "error_y": {
          "array": [
           0.0032961424440145493,
           0.002976411720737815,
           0.003024395788088441,
           0.003217579796910286,
           0.0035656036343425512,
           0.004117893520742655,
           0.004745699465274811,
           0.005421914625912905
          ],
          "type": "data",
          "visible": true
         },
         "mode": "lines",
         "name": "l_cumul1",
         "type": "scatter",
         "x": [
          4,
          5,
          6,
          7,
          8,
          9,
          10,
          11
         ],
         "y": [
          -0.11826888471841812,
          -0.09201984852552414,
          -0.0751497894525528,
          -0.06379333883523941,
          -0.055812686681747437,
          -0.04999127238988876,
          -0.04573418200016022,
          -0.042899489402770996
         ]
        },
        {
         "error_y": {
          "array": [
           0.12053617089986801,
           0.11458887904882431,
           0.1108490526676178,
           0.12062866985797882,
           0.1304003894329071,
           0.14374029636383057,
           0.17787280678749084,
           0.20665588974952698
          ],
          "type": "data",
          "visible": true
         },
         "mode": "lines",
         "name": "cumul2",
         "type": "scatter",
         "x": [
          4,
          5,
          6,
          7,
          8,
          9,
          10,
          11
         ],
         "y": [
          0.0035422188229858875,
          0.0038243739400058985,
          0.004994455259293318,
          0.006982691586017609,
          0.0038239434361457825,
          0.009908940643072128,
          0.016110336408019066,
          0.02676835097372532
         ]
        },
        {
         "error_y": {
          "array": [
           0.0044562928378582,
           0.003589096013456583,
           0.0032292294781655073,
           0.003185588400810957,
           0.0033087797928601503,
           0.003472799900919199,
           0.003625549841672182,
           0.0037048431113362312
          ],
          "type": "data",
          "visible": true
         },
         "mode": "lines",
         "name": "l_cumul2",
         "type": "scatter",
         "x": [
          4,
          5,
          6,
          7,
          8,
          9,
          10,
          11
         ],
         "y": [
          0.046858515590429306,
          0.03204892948269844,
          0.023394875228405,
          0.01784508302807808,
          0.014122627675533295,
          0.01148742064833641,
          0.009456977248191833,
          0.007798133883625269
         ]
        },
        {
         "error_y": {
          "array": [
           0.844393789768219,
           0.8008931875228882,
           0.7316000461578369,
           0.8118879199028015,
           0.924582839012146,
           0.8789762854576111,
           1.1272422075271606,
           1.2196615934371948
          ],
          "type": "data",
          "visible": true
         },
         "mode": "lines",
         "name": "cumul3",
         "type": "scatter",
         "x": [
          4,
          5,
          6,
          7,
          8,
          9,
          10,
          11
         ],
         "y": [
          -0.01934981718659401,
          -0.029337001964449883,
          -0.04458983242511749,
          -0.058098096400499344,
          -0.045815933495759964,
          -0.11036409437656403,
          -0.1531640738248825,
          -0.2226174920797348
         ]
        },
        {
         "error_y": {
          "array": [
           0.00769847072660923,
           0.0055567543022334576,
           0.004582142923027277,
           0.004136445000767708,
           0.003778897924348712,
           0.0034024964552372694,
           0.0032214520033448935,
           0.003049920778721571
          ],
          "type": "data",
          "visible": true
         },
         "mode": "lines",
         "name": "l_cumul3",
         "type": "scatter",
         "x": [
          4,
          5,
          6,
          7,
          8,
          9,
          10,
          11
         ],
         "y": [
          -0.037511326372623444,
          -0.025094350799918175,
          -0.017981242388486862,
          -0.013515491969883442,
          -0.010634804144501686,
          -0.008728922344744205,
          -0.007380846422165632,
          -0.006448386702686548
         ]
        },
        {
         "error_y": {
          "array": [
           1.7443373203277588,
           1.179846167564392,
           0.8684878945350647,
           0.668086588382721,
           0.533076286315918,
           0.43260276317596436,
           0.3663724660873413,
           0.32657501101493835
          ],
          "type": "data",
          "visible": true
         },
         "mode": "lines",
         "name": " zeta(q=-10)",
         "type": "scatter",
         "x": [
          4,
          5,
          6,
          7,
          8,
          9,
          10,
          11
         ],
         "y": [
          -13.034761428833008,
          -10.346389770507812,
          -8.710354804992676,
          -7.654393672943115,
          -6.951809406280518,
          -6.469963073730469,
          -6.141039848327637,
          -5.921153545379639
         ]
        },
        {
         "error_y": {
          "array": [
           0.6925219297409058,
           0.4640546143054962,
           0.33690136671066284,
           0.25653302669525146,
           0.20348139107227325,
           0.16560690104961395,
           0.14143288135528564,
           0.1276325285434723
          ],
          "type": "data",
          "visible": true
         },
         "mode": "lines",
         "name": " zeta(q=-5)",
         "type": "scatter",
         "x": [
          4,
          5,
          6,
          7,
          8,
          9,
          10,
          11
         ],
         "y": [
          -5.290528774261475,
          -4.218811511993408,
          -3.576162338256836,
          -3.167363166809082,
          -2.8995249271392822,
          -2.7207019329071045,
          -2.601409673690796,
          -2.525512456893921
         ]
        },
        {
         "error_y": {
          "array": [
           0.45757555961608887,
           0.30600473284721375,
           0.22170916199684143,
           0.16855643689632416,
           0.13353846967220306,
           0.10925642400979996,
           0.09412424266338348,
           0.08646325021982193
          ],
          "type": "data",
          "visible": true
         },
         "mode": "lines",
         "name": " zeta(q=-4)",
         "type": "scatter",
         "x": [
          4,
          5,
          6,
          7,
          8,
          9,
          10,
          11
         ],
         "y": [
          -3.715484619140625,
          -3.0003840923309326,
          -2.5724198818206787,
          -2.3014557361602783,
          -2.1255180835723877,
          -2.0098366737365723,
          -1.9344799518585205,
          -1.8887404203414917
         ]
        },
        {
         "error_y": {
          "array": [
           0.2078593671321869,
           0.13897377252578735,
           0.1010047122836113,
           0.07712889462709427,
           0.06173266842961311,
           0.05186226963996887,
           0.046766672283411026,
           0.0462789349257946
          ],
          "type": "data",
          "visible": true
         },
         "mode": "lines",
         "name": " zeta(q=-3)",
         "type": "scatter",
         "x": [
          4,
          5,
          6,
          7,
          8,
          9,
          10,
          11
         ],
         "y": [
          -2.2635514736175537,
          -1.8789957761764526,
          -1.6482794284820557,
          -1.5031288862228394,
          -1.4105879068374634,
          -1.3517239093780518,
          -1.3156609535217285,
          -1.2965357303619385
         ]
        },
        {
         "error_y": {
          "array": [
           0.03173050656914711,
           0.021906323730945587,
           0.017084186896681786,
           0.01455136202275753,
           0.013858308084309101,
           0.014567912556231022,
           0.016697179526090622,
           0.020522408187389374
          ],
          "type": "data",
          "visible": true
         },
         "mode": "lines",
         "name": " zeta(q=-2)",
         "type": "scatter",
         "x": [
          4,
          5,
          6,
          7,
          8,
          9,
          10,
          11
         ],
         "y": [
          -1.175382375717163,
          -1.0156221389770508,
          -0.9192253947257996,
          -0.8593973517417908,
          -0.8227559328079224,
          -0.801230788230896,
          -0.7901971936225891,
          -0.7870201468467712
         ]
        },
        {
         "error_y": {
          "array": [
           0.003944211173802614,
           0.003544606501236558,
           0.00354263698682189,
           0.003930279053747654,
           0.004654648248106241,
           0.005636082962155342,
           0.007110027130693197,
           0.009389692917466164
          ],
          "type": "data",
          "visible": true
         },
         "mode": "lines",
         "name": " zeta(q=-1)",
         "type": "scatter",
         "x": [
          4,
          5,
          6,
          7,
          8,
          9,
          10,
          11
         ],
         "y": [
          -0.48331472277641296,
          -0.43121272325515747,
          -0.3999228775501251,
          -0.3810596764087677,
          -0.37030965089797974,
          -0.3649512231349945,
          -0.36341843008995056,
          -0.3646925985813141
         ]
        },
        {
         "error_y": {
          "array": [
           0.0031247034203261137,
           0.003188252914696932,
           0.0035566077567636967,
           0.004118327051401138,
           0.00502043915912509,
           0.006192663684487343,
           0.00793007854372263,
           0.010564642027020454
          ],
          "type": "data",
          "visible": true
         },
         "mode": "lines",
         "name": " zeta(q=1)",
         "type": "scatter",
         "x": [
          4,
          5,
          6,
          7,
          8,
          9,
          10,
          11
         ],
         "y": [
          0.36171403527259827,
          0.33696430921554565,
          0.32317620515823364,
          0.3160655200481415,
          0.31355246901512146,
          0.31418585777282715,
          0.31703078746795654,
          0.32122379541397095
         ]
        },
        {
         "error_y": {
          "array": [
           0.007969249971210957,
           0.008281627669930458,
           0.009454957209527493,
           0.010999712161719799,
           0.0130741186439991,
           0.015545080415904522,
           0.019231045618653297,
           0.024496017023921013
          ],
          "type": "data",
          "visible": true
         },
         "mode": "lines",
         "name": " zeta(q=2)",
         "type": "scatter",
         "x": [
          4,
          5,
          6,
          7,
          8,
          9,
          10,
          11
         ],
         "y": [
          0.6375788450241089,
          0.6042664647102356,
          0.5876192450523376,
          0.5808872580528259,
          0.5811712145805359,
          0.5863028764724731,
          0.594692587852478,
          0.6045706272125244
         ]
        },
        {
         "error_y": {
          "array": [
           0.018869027495384216,
           0.019135737791657448,
           0.021514123305678368,
           0.024686647579073906,
           0.027962030842900276,
           0.031228095293045044,
           0.03645579144358635,
           0.0435512512922287
          ],
          "type": "data",
          "visible": true
         },
         "mode": "lines",
         "name": " zeta(q=3)",
         "type": "scatter",
         "x": [
          4,
          5,
          6,
          7,
          8,
          9,
          10,
          11
         ],
         "y": [
          0.8472165465354919,
          0.8155208826065063,
          0.803276538848877,
          0.8018956184387207,
          0.8084251880645752,
          0.8204870820045471,
          0.8359474539756775,
          0.8520326614379883
         ]
        },
        {
         "error_y": {
          "array": [
           0.0434512197971344,
           0.04202043265104294,
           0.04507133364677429,
           0.049657080322504044,
           0.05313967540860176,
           0.055804118514060974,
           0.0612652413547039,
           0.06879717856645584
          ],
          "type": "data",
          "visible": true
         },
         "mode": "lines",
         "name": " zeta(q=4)",
         "type": "scatter",
         "x": [
          4,
          5,
          6,
          7,
          8,
          9,
          10,
          11
         ],
         "y": [
          1.0034152269363403,
          0.9794065952301025,
          0.9761265516281128,
          0.9831386804580688,
          0.9979760050773621,
          1.0183861255645752,
          1.0417197942733765,
          1.0641899108886719
         ]
        },
        {
         "error_y": {
          "array": [
           0.08673983812332153,
           0.08120787888765335,
           0.08314868062734604,
           0.08770022541284561,
           0.0896851047873497,
           0.09024837613105774,
           0.09443508833646774,
           0.10100948065519333
          ],
          "type": "data",
          "visible": true
         },
         "mode": "lines",
         "name": " zeta(q=5)",
         "type": "scatter",
         "x": [
          4,
          5,
          6,
          7,
          8,
          9,
          10,
          11
         ],
         "y": [
          1.116904377937317,
          1.1034497022628784,
          1.1114126443862915,
          1.1283739805221558,
          1.152724266052246,
          1.182407259941101,
          1.2142137289047241,
          1.243402123451233
         ]
        },
        {
         "error_y": {
          "array": [
           0.4177142083644867,
           0.38338062167167664,
           0.3691028654575348,
           0.36129093170166016,
           0.3454033136367798,
           0.32884761691093445,
           0.318920761346817,
           0.31347671151161194
          ],
          "type": "data",
          "visible": true
         },
         "mode": "lines",
         "name": " zeta(q=10)",
         "type": "scatter",
         "x": [
          4,
          5,
          6,
          7,
          8,
          9,
          10,
          11
         ],
         "y": [
          1.4074912071228027,
          1.439936637878418,
          1.5017626285552979,
          1.568332552909851,
          1.6432971954345703,
          1.7233633995056152,
          1.800984501838684,
          1.8672105073928833
         ]
        }
       ],
       "layout": {
        "legend": {
         "title": {
          "text": "Curves"
         }
        },
        "template": {
         "data": {
          "bar": [
           {
            "error_x": {
             "color": "#2a3f5f"
            },
            "error_y": {
             "color": "#2a3f5f"
            },
            "marker": {
             "line": {
              "color": "#E5ECF6",
              "width": 0.5
             },
             "pattern": {
              "fillmode": "overlay",
              "size": 10,
              "solidity": 0.2
             }
            },
            "type": "bar"
           }
          ],
          "barpolar": [
           {
            "marker": {
             "line": {
              "color": "#E5ECF6",
              "width": 0.5
             },
             "pattern": {
              "fillmode": "overlay",
              "size": 10,
              "solidity": 0.2
             }
            },
            "type": "barpolar"
           }
          ],
          "carpet": [
           {
            "aaxis": {
             "endlinecolor": "#2a3f5f",
             "gridcolor": "white",
             "linecolor": "white",
             "minorgridcolor": "white",
             "startlinecolor": "#2a3f5f"
            },
            "baxis": {
             "endlinecolor": "#2a3f5f",
             "gridcolor": "white",
             "linecolor": "white",
             "minorgridcolor": "white",
             "startlinecolor": "#2a3f5f"
            },
            "type": "carpet"
           }
          ],
          "choropleth": [
           {
            "colorbar": {
             "outlinewidth": 0,
             "ticks": ""
            },
            "type": "choropleth"
           }
          ],
          "contour": [
           {
            "colorbar": {
             "outlinewidth": 0,
             "ticks": ""
            },
            "colorscale": [
             [
              0,
              "#0d0887"
             ],
             [
              0.1111111111111111,
              "#46039f"
             ],
             [
              0.2222222222222222,
              "#7201a8"
             ],
             [
              0.3333333333333333,
              "#9c179e"
             ],
             [
              0.4444444444444444,
              "#bd3786"
             ],
             [
              0.5555555555555556,
              "#d8576b"
             ],
             [
              0.6666666666666666,
              "#ed7953"
             ],
             [
              0.7777777777777778,
              "#fb9f3a"
             ],
             [
              0.8888888888888888,
              "#fdca26"
             ],
             [
              1,
              "#f0f921"
             ]
            ],
            "type": "contour"
           }
          ],
          "contourcarpet": [
           {
            "colorbar": {
             "outlinewidth": 0,
             "ticks": ""
            },
            "type": "contourcarpet"
           }
          ],
          "heatmap": [
           {
            "colorbar": {
             "outlinewidth": 0,
             "ticks": ""
            },
            "colorscale": [
             [
              0,
              "#0d0887"
             ],
             [
              0.1111111111111111,
              "#46039f"
             ],
             [
              0.2222222222222222,
              "#7201a8"
             ],
             [
              0.3333333333333333,
              "#9c179e"
             ],
             [
              0.4444444444444444,
              "#bd3786"
             ],
             [
              0.5555555555555556,
              "#d8576b"
             ],
             [
              0.6666666666666666,
              "#ed7953"
             ],
             [
              0.7777777777777778,
              "#fb9f3a"
             ],
             [
              0.8888888888888888,
              "#fdca26"
             ],
             [
              1,
              "#f0f921"
             ]
            ],
            "type": "heatmap"
           }
          ],
          "heatmapgl": [
           {
            "colorbar": {
             "outlinewidth": 0,
             "ticks": ""
            },
            "colorscale": [
             [
              0,
              "#0d0887"
             ],
             [
              0.1111111111111111,
              "#46039f"
             ],
             [
              0.2222222222222222,
              "#7201a8"
             ],
             [
              0.3333333333333333,
              "#9c179e"
             ],
             [
              0.4444444444444444,
              "#bd3786"
             ],
             [
              0.5555555555555556,
              "#d8576b"
             ],
             [
              0.6666666666666666,
              "#ed7953"
             ],
             [
              0.7777777777777778,
              "#fb9f3a"
             ],
             [
              0.8888888888888888,
              "#fdca26"
             ],
             [
              1,
              "#f0f921"
             ]
            ],
            "type": "heatmapgl"
           }
          ],
          "histogram": [
           {
            "marker": {
             "pattern": {
              "fillmode": "overlay",
              "size": 10,
              "solidity": 0.2
             }
            },
            "type": "histogram"
           }
          ],
          "histogram2d": [
           {
            "colorbar": {
             "outlinewidth": 0,
             "ticks": ""
            },
            "colorscale": [
             [
              0,
              "#0d0887"
             ],
             [
              0.1111111111111111,
              "#46039f"
             ],
             [
              0.2222222222222222,
              "#7201a8"
             ],
             [
              0.3333333333333333,
              "#9c179e"
             ],
             [
              0.4444444444444444,
              "#bd3786"
             ],
             [
              0.5555555555555556,
              "#d8576b"
             ],
             [
              0.6666666666666666,
              "#ed7953"
             ],
             [
              0.7777777777777778,
              "#fb9f3a"
             ],
             [
              0.8888888888888888,
              "#fdca26"
             ],
             [
              1,
              "#f0f921"
             ]
            ],
            "type": "histogram2d"
           }
          ],
          "histogram2dcontour": [
           {
            "colorbar": {
             "outlinewidth": 0,
             "ticks": ""
            },
            "colorscale": [
             [
              0,
              "#0d0887"
             ],
             [
              0.1111111111111111,
              "#46039f"
             ],
             [
              0.2222222222222222,
              "#7201a8"
             ],
             [
              0.3333333333333333,
              "#9c179e"
             ],
             [
              0.4444444444444444,
              "#bd3786"
             ],
             [
              0.5555555555555556,
              "#d8576b"
             ],
             [
              0.6666666666666666,
              "#ed7953"
             ],
             [
              0.7777777777777778,
              "#fb9f3a"
             ],
             [
              0.8888888888888888,
              "#fdca26"
             ],
             [
              1,
              "#f0f921"
             ]
            ],
            "type": "histogram2dcontour"
           }
          ],
          "mesh3d": [
           {
            "colorbar": {
             "outlinewidth": 0,
             "ticks": ""
            },
            "type": "mesh3d"
           }
          ],
          "parcoords": [
           {
            "line": {
             "colorbar": {
              "outlinewidth": 0,
              "ticks": ""
             }
            },
            "type": "parcoords"
           }
          ],
          "pie": [
           {
            "automargin": true,
            "type": "pie"
           }
          ],
          "scatter": [
           {
            "fillpattern": {
             "fillmode": "overlay",
             "size": 10,
             "solidity": 0.2
            },
            "type": "scatter"
           }
          ],
          "scatter3d": [
           {
            "line": {
             "colorbar": {
              "outlinewidth": 0,
              "ticks": ""
             }
            },
            "marker": {
             "colorbar": {
              "outlinewidth": 0,
              "ticks": ""
             }
            },
            "type": "scatter3d"
           }
          ],
          "scattercarpet": [
           {
            "marker": {
             "colorbar": {
              "outlinewidth": 0,
              "ticks": ""
             }
            },
            "type": "scattercarpet"
           }
          ],
          "scattergeo": [
           {
            "marker": {
             "colorbar": {
              "outlinewidth": 0,
              "ticks": ""
             }
            },
            "type": "scattergeo"
           }
          ],
          "scattergl": [
           {
            "marker": {
             "colorbar": {
              "outlinewidth": 0,
              "ticks": ""
             }
            },
            "type": "scattergl"
           }
          ],
          "scattermapbox": [
           {
            "marker": {
             "colorbar": {
              "outlinewidth": 0,
              "ticks": ""
             }
            },
            "type": "scattermapbox"
           }
          ],
          "scatterpolar": [
           {
            "marker": {
             "colorbar": {
              "outlinewidth": 0,
              "ticks": ""
             }
            },
            "type": "scatterpolar"
           }
          ],
          "scatterpolargl": [
           {
            "marker": {
             "colorbar": {
              "outlinewidth": 0,
              "ticks": ""
             }
            },
            "type": "scatterpolargl"
           }
          ],
          "scatterternary": [
           {
            "marker": {
             "colorbar": {
              "outlinewidth": 0,
              "ticks": ""
             }
            },
            "type": "scatterternary"
           }
          ],
          "surface": [
           {
            "colorbar": {
             "outlinewidth": 0,
             "ticks": ""
            },
            "colorscale": [
             [
              0,
              "#0d0887"
             ],
             [
              0.1111111111111111,
              "#46039f"
             ],
             [
              0.2222222222222222,
              "#7201a8"
             ],
             [
              0.3333333333333333,
              "#9c179e"
             ],
             [
              0.4444444444444444,
              "#bd3786"
             ],
             [
              0.5555555555555556,
              "#d8576b"
             ],
             [
              0.6666666666666666,
              "#ed7953"
             ],
             [
              0.7777777777777778,
              "#fb9f3a"
             ],
             [
              0.8888888888888888,
              "#fdca26"
             ],
             [
              1,
              "#f0f921"
             ]
            ],
            "type": "surface"
           }
          ],
          "table": [
           {
            "cells": {
             "fill": {
              "color": "#EBF0F8"
             },
             "line": {
              "color": "white"
             }
            },
            "header": {
             "fill": {
              "color": "#C8D4E3"
             },
             "line": {
              "color": "white"
             }
            },
            "type": "table"
           }
          ]
         },
         "layout": {
          "annotationdefaults": {
           "arrowcolor": "#2a3f5f",
           "arrowhead": 0,
           "arrowwidth": 1
          },
          "autotypenumbers": "strict",
          "coloraxis": {
           "colorbar": {
            "outlinewidth": 0,
            "ticks": ""
           }
          },
          "colorscale": {
           "diverging": [
            [
             0,
             "#8e0152"
            ],
            [
             0.1,
             "#c51b7d"
            ],
            [
             0.2,
             "#de77ae"
            ],
            [
             0.3,
             "#f1b6da"
            ],
            [
             0.4,
             "#fde0ef"
            ],
            [
             0.5,
             "#f7f7f7"
            ],
            [
             0.6,
             "#e6f5d0"
            ],
            [
             0.7,
             "#b8e186"
            ],
            [
             0.8,
             "#7fbc41"
            ],
            [
             0.9,
             "#4d9221"
            ],
            [
             1,
             "#276419"
            ]
           ],
           "sequential": [
            [
             0,
             "#0d0887"
            ],
            [
             0.1111111111111111,
             "#46039f"
            ],
            [
             0.2222222222222222,
             "#7201a8"
            ],
            [
             0.3333333333333333,
             "#9c179e"
            ],
            [
             0.4444444444444444,
             "#bd3786"
            ],
            [
             0.5555555555555556,
             "#d8576b"
            ],
            [
             0.6666666666666666,
             "#ed7953"
            ],
            [
             0.7777777777777778,
             "#fb9f3a"
            ],
            [
             0.8888888888888888,
             "#fdca26"
            ],
            [
             1,
             "#f0f921"
            ]
           ],
           "sequentialminus": [
            [
             0,
             "#0d0887"
            ],
            [
             0.1111111111111111,
             "#46039f"
            ],
            [
             0.2222222222222222,
             "#7201a8"
            ],
            [
             0.3333333333333333,
             "#9c179e"
            ],
            [
             0.4444444444444444,
             "#bd3786"
            ],
            [
             0.5555555555555556,
             "#d8576b"
            ],
            [
             0.6666666666666666,
             "#ed7953"
            ],
            [
             0.7777777777777778,
             "#fb9f3a"
            ],
            [
             0.8888888888888888,
             "#fdca26"
            ],
            [
             1,
             "#f0f921"
            ]
           ]
          },
          "colorway": [
           "#636efa",
           "#EF553B",
           "#00cc96",
           "#ab63fa",
           "#FFA15A",
           "#19d3f3",
           "#FF6692",
           "#B6E880",
           "#FF97FF",
           "#FECB52"
          ],
          "font": {
           "color": "#2a3f5f"
          },
          "geo": {
           "bgcolor": "white",
           "lakecolor": "white",
           "landcolor": "#E5ECF6",
           "showlakes": true,
           "showland": true,
           "subunitcolor": "white"
          },
          "hoverlabel": {
           "align": "left"
          },
          "hovermode": "closest",
          "mapbox": {
           "style": "light"
          },
          "paper_bgcolor": "white",
          "plot_bgcolor": "#E5ECF6",
          "polar": {
           "angularaxis": {
            "gridcolor": "white",
            "linecolor": "white",
            "ticks": ""
           },
           "bgcolor": "#E5ECF6",
           "radialaxis": {
            "gridcolor": "white",
            "linecolor": "white",
            "ticks": ""
           }
          },
          "scene": {
           "xaxis": {
            "backgroundcolor": "#E5ECF6",
            "gridcolor": "white",
            "gridwidth": 2,
            "linecolor": "white",
            "showbackground": true,
            "ticks": "",
            "zerolinecolor": "white"
           },
           "yaxis": {
            "backgroundcolor": "#E5ECF6",
            "gridcolor": "white",
            "gridwidth": 2,
            "linecolor": "white",
            "showbackground": true,
            "ticks": "",
            "zerolinecolor": "white"
           },
           "zaxis": {
            "backgroundcolor": "#E5ECF6",
            "gridcolor": "white",
            "gridwidth": 2,
            "linecolor": "white",
            "showbackground": true,
            "ticks": "",
            "zerolinecolor": "white"
           }
          },
          "shapedefaults": {
           "line": {
            "color": "#2a3f5f"
           }
          },
          "ternary": {
           "aaxis": {
            "gridcolor": "white",
            "linecolor": "white",
            "ticks": ""
           },
           "baxis": {
            "gridcolor": "white",
            "linecolor": "white",
            "ticks": ""
           },
           "bgcolor": "#E5ECF6",
           "caxis": {
            "gridcolor": "white",
            "linecolor": "white",
            "ticks": ""
           }
          },
          "title": {
           "x": 0.05
          },
          "xaxis": {
           "automargin": true,
           "gridcolor": "white",
           "linecolor": "white",
           "ticks": "",
           "title": {
            "standoff": 15
           },
           "zerolinecolor": "white",
           "zerolinewidth": 2
          },
          "yaxis": {
           "automargin": true,
           "gridcolor": "white",
           "linecolor": "white",
           "ticks": "",
           "title": {
            "standoff": 15
           },
           "zerolinecolor": "white",
           "zerolinewidth": 2
          }
         }
        },
        "title": {
         "text": "Interactive Plot with Toggle Curves"
        },
        "updatemenus": [
         {
          "buttons": [
           {
            "args": [
             {
              "visible": [
               true,
               true,
               true,
               true,
               true,
               true,
               true,
               true,
               true,
               true,
               true,
               true,
               true,
               true,
               true,
               true,
               true,
               true,
               true,
               true,
               true,
               true,
               true,
               true,
               true,
               true,
               true
              ]
             }
            ],
            "label": "All",
            "method": "update"
           },
           {
            "args": [
             {
              "visible": [
               true,
               false,
               false,
               false,
               false,
               false,
               false,
               false,
               false,
               false,
               false,
               false,
               false,
               false,
               false,
               false,
               false,
               false,
               false,
               false,
               false,
               false,
               false,
               false,
               false,
               false,
               false
              ]
             }
            ],
            "label": "std",
            "method": "update"
           },
           {
            "args": [
             {
              "visible": [
               false,
               true,
               false,
               false,
               false,
               false,
               false,
               false,
               false,
               false,
               false,
               false,
               false,
               false,
               false,
               false,
               false,
               false,
               false,
               false,
               false,
               false,
               false,
               false,
               false,
               false,
               false
              ]
             }
            ],
            "label": "hmin",
            "method": "update"
           },
           {
            "args": [
             {
              "visible": [
               false,
               false,
               true,
               false,
               false,
               false,
               false,
               false,
               false,
               false,
               false,
               false,
               false,
               false,
               false,
               false,
               false,
               false,
               false,
               false,
               false,
               false,
               false,
               false,
               false,
               false,
               false
              ]
             }
            ],
            "label": "l_hmin",
            "method": "update"
           },
           {
            "args": [
             {
              "visible": [
               false,
               false,
               false,
               true,
               false,
               false,
               false,
               false,
               false,
               false,
               false,
               false,
               false,
               false,
               false,
               false,
               false,
               false,
               false,
               false,
               false,
               false,
               false,
               false,
               false,
               false,
               false
              ]
             }
            ],
            "label": "deg_h",
            "method": "update"
           },
           {
            "args": [
             {
              "visible": [
               false,
               false,
               false,
               false,
               true,
               false,
               false,
               false,
               false,
               false,
               false,
               false,
               false,
               false,
               false,
               false,
               false,
               false,
               false,
               false,
               false,
               false,
               false,
               false,
               false,
               false,
               false
              ]
             }
            ],
            "label": "l_deg_h",
            "method": "update"
           },
           {
            "args": [
             {
              "visible": [
               false,
               false,
               false,
               false,
               false,
               true,
               false,
               false,
               false,
               false,
               false,
               false,
               false,
               false,
               false,
               false,
               false,
               false,
               false,
               false,
               false,
               false,
               false,
               false,
               false,
               false,
               false
              ]
             }
            ],
            "label": "H",
            "method": "update"
           },
           {
            "args": [
             {
              "visible": [
               false,
               false,
               false,
               false,
               false,
               false,
               true,
               false,
               false,
               false,
               false,
               false,
               false,
               false,
               false,
               false,
               false,
               false,
               false,
               false,
               false,
               false,
               false,
               false,
               false,
               false,
               false
              ]
             }
            ],
            "label": "l_H",
            "method": "update"
           },
           {
            "args": [
             {
              "visible": [
               false,
               false,
               false,
               false,
               false,
               false,
               false,
               true,
               false,
               false,
               false,
               false,
               false,
               false,
               false,
               false,
               false,
               false,
               false,
               false,
               false,
               false,
               false,
               false,
               false,
               false,
               false
              ]
             }
            ],
            "label": "cumul0",
            "method": "update"
           },
           {
            "args": [
             {
              "visible": [
               false,
               false,
               false,
               false,
               false,
               false,
               false,
               false,
               true,
               false,
               false,
               false,
               false,
               false,
               false,
               false,
               false,
               false,
               false,
               false,
               false,
               false,
               false,
               false,
               false,
               false,
               false
              ]
             }
            ],
            "label": "l_cumul0",
            "method": "update"
           },
           {
            "args": [
             {
              "visible": [
               false,
               false,
               false,
               false,
               false,
               false,
               false,
               false,
               false,
               true,
               false,
               false,
               false,
               false,
               false,
               false,
               false,
               false,
               false,
               false,
               false,
               false,
               false,
               false,
               false,
               false,
               false
              ]
             }
            ],
            "label": "cumul1",
            "method": "update"
           },
           {
            "args": [
             {
              "visible": [
               false,
               false,
               false,
               false,
               false,
               false,
               false,
               false,
               false,
               false,
               true,
               false,
               false,
               false,
               false,
               false,
               false,
               false,
               false,
               false,
               false,
               false,
               false,
               false,
               false,
               false,
               false
              ]
             }
            ],
            "label": "l_cumul1",
            "method": "update"
           },
           {
            "args": [
             {
              "visible": [
               false,
               false,
               false,
               false,
               false,
               false,
               false,
               false,
               false,
               false,
               false,
               true,
               false,
               false,
               false,
               false,
               false,
               false,
               false,
               false,
               false,
               false,
               false,
               false,
               false,
               false,
               false
              ]
             }
            ],
            "label": "cumul2",
            "method": "update"
           },
           {
            "args": [
             {
              "visible": [
               false,
               false,
               false,
               false,
               false,
               false,
               false,
               false,
               false,
               false,
               false,
               false,
               true,
               false,
               false,
               false,
               false,
               false,
               false,
               false,
               false,
               false,
               false,
               false,
               false,
               false,
               false
              ]
             }
            ],
            "label": "l_cumul2",
            "method": "update"
           },
           {
            "args": [
             {
              "visible": [
               false,
               false,
               false,
               false,
               false,
               false,
               false,
               false,
               false,
               false,
               false,
               false,
               false,
               true,
               false,
               false,
               false,
               false,
               false,
               false,
               false,
               false,
               false,
               false,
               false,
               false,
               false
              ]
             }
            ],
            "label": "cumul3",
            "method": "update"
           }
          ],
          "direction": "right",
          "type": "buttons",
          "x": 0.1,
          "xanchor": "left",
          "y": 1.15,
          "yanchor": "top"
         },
         {
          "buttons": [
           {
            "args": [
             {
              "visible": [
               false,
               false,
               false,
               false,
               false,
               false,
               false,
               false,
               false,
               false,
               false,
               false,
               false,
               false,
               true,
               false,
               false,
               false,
               false,
               false,
               false,
               false,
               false,
               false,
               false,
               false,
               false
              ]
             }
            ],
            "label": "l_cumul3",
            "method": "update"
           },
           {
            "args": [
             {
              "visible": [
               false,
               false,
               false,
               false,
               false,
               false,
               false,
               false,
               false,
               false,
               false,
               false,
               false,
               false,
               false,
               true,
               false,
               false,
               false,
               false,
               false,
               false,
               false,
               false,
               false,
               false,
               false
              ]
             }
            ],
            "label": " zeta(q=-10)",
            "method": "update"
           },
           {
            "args": [
             {
              "visible": [
               false,
               false,
               false,
               false,
               false,
               false,
               false,
               false,
               false,
               false,
               false,
               false,
               false,
               false,
               false,
               false,
               true,
               false,
               false,
               false,
               false,
               false,
               false,
               false,
               false,
               false,
               false
              ]
             }
            ],
            "label": " zeta(q=-5)",
            "method": "update"
           },
           {
            "args": [
             {
              "visible": [
               false,
               false,
               false,
               false,
               false,
               false,
               false,
               false,
               false,
               false,
               false,
               false,
               false,
               false,
               false,
               false,
               false,
               true,
               false,
               false,
               false,
               false,
               false,
               false,
               false,
               false,
               false
              ]
             }
            ],
            "label": " zeta(q=-4)",
            "method": "update"
           },
           {
            "args": [
             {
              "visible": [
               false,
               false,
               false,
               false,
               false,
               false,
               false,
               false,
               false,
               false,
               false,
               false,
               false,
               false,
               false,
               false,
               false,
               false,
               true,
               false,
               false,
               false,
               false,
               false,
               false,
               false,
               false
              ]
             }
            ],
            "label": " zeta(q=-3)",
            "method": "update"
           },
           {
            "args": [
             {
              "visible": [
               false,
               false,
               false,
               false,
               false,
               false,
               false,
               false,
               false,
               false,
               false,
               false,
               false,
               false,
               false,
               false,
               false,
               false,
               false,
               true,
               false,
               false,
               false,
               false,
               false,
               false,
               false
              ]
             }
            ],
            "label": " zeta(q=-2)",
            "method": "update"
           },
           {
            "args": [
             {
              "visible": [
               false,
               false,
               false,
               false,
               false,
               false,
               false,
               false,
               false,
               false,
               false,
               false,
               false,
               false,
               false,
               false,
               false,
               false,
               false,
               false,
               true,
               false,
               false,
               false,
               false,
               false,
               false
              ]
             }
            ],
            "label": " zeta(q=-1)",
            "method": "update"
           },
           {
            "args": [
             {
              "visible": [
               false,
               false,
               false,
               false,
               false,
               false,
               false,
               false,
               false,
               false,
               false,
               false,
               false,
               false,
               false,
               false,
               false,
               false,
               false,
               false,
               false,
               true,
               false,
               false,
               false,
               false,
               false
              ]
             }
            ],
            "label": " zeta(q=1)",
            "method": "update"
           },
           {
            "args": [
             {
              "visible": [
               false,
               false,
               false,
               false,
               false,
               false,
               false,
               false,
               false,
               false,
               false,
               false,
               false,
               false,
               false,
               false,
               false,
               false,
               false,
               false,
               false,
               false,
               true,
               false,
               false,
               false,
               false
              ]
             }
            ],
            "label": " zeta(q=2)",
            "method": "update"
           },
           {
            "args": [
             {
              "visible": [
               false,
               false,
               false,
               false,
               false,
               false,
               false,
               false,
               false,
               false,
               false,
               false,
               false,
               false,
               false,
               false,
               false,
               false,
               false,
               false,
               false,
               false,
               false,
               true,
               false,
               false,
               false
              ]
             }
            ],
            "label": " zeta(q=3)",
            "method": "update"
           },
           {
            "args": [
             {
              "visible": [
               false,
               false,
               false,
               false,
               false,
               false,
               false,
               false,
               false,
               false,
               false,
               false,
               false,
               false,
               false,
               false,
               false,
               false,
               false,
               false,
               false,
               false,
               false,
               false,
               true,
               false,
               false
              ]
             }
            ],
            "label": " zeta(q=4)",
            "method": "update"
           },
           {
            "args": [
             {
              "visible": [
               false,
               false,
               false,
               false,
               false,
               false,
               false,
               false,
               false,
               false,
               false,
               false,
               false,
               false,
               false,
               false,
               false,
               false,
               false,
               false,
               false,
               false,
               false,
               false,
               false,
               true,
               false
              ]
             }
            ],
            "label": " zeta(q=5)",
            "method": "update"
           },
           {
            "args": [
             {
              "visible": [
               false,
               false,
               false,
               false,
               false,
               false,
               false,
               false,
               false,
               false,
               false,
               false,
               false,
               false,
               false,
               false,
               false,
               false,
               false,
               false,
               false,
               false,
               false,
               false,
               false,
               false,
               true
              ]
             }
            ],
            "label": " zeta(q=10)",
            "method": "update"
           },
           {
            "args": [
             {
              "visible": [
               false,
               false,
               false,
               false,
               false,
               false,
               false,
               false,
               false,
               false,
               false,
               false,
               false,
               false,
               false,
               false,
               false,
               false,
               false,
               false,
               false,
               false,
               false,
               false,
               false,
               false,
               false
              ]
             }
            ],
            "label": "None",
            "method": "update"
           }
          ],
          "direction": "right",
          "type": "buttons",
          "x": 0.1,
          "xanchor": "left",
          "y": 1.0499999999999998,
          "yanchor": "top"
         }
        ],
        "xaxis": {
         "title": {
          "text": "X Axis"
         }
        },
        "yaxis": {
         "title": {
          "text": "Y Axis"
         }
        }
       }
      }
     },
     "metadata": {},
     "output_type": "display_data"
    }
   ],
   "source": [
    "dyn_plot(signals_mean, signals_std, label=list(columns), x=list(j2s))"
   ]
  },
  {
   "cell_type": "code",
   "execution_count": 79,
   "metadata": {},
   "outputs": [],
   "source": [
    "qs = [[-10, -5, -4, -3, -2, -1, 1, 2, 3, 4, 5, 10], build_q_log(1, 10, 12)]\n",
    "\n",
    "signals_mean = []\n",
    "signals_std = []\n",
    "for q in qs:\n",
    "    df_mfa = get_df_mfa(X,n_cumul=4,j1=2,j2=j2,q=q)\n",
    "    y = np.array(np.mean(df_mfa, axis = 0),dtype=np.float32)[:15]\n",
    "    y_std = np.array(np.std(df_mfa, axis = 0),dtype=np.float32)[:15]\n",
    "    signals_mean.append(y)\n",
    "    signals_std.append(y_std)\n",
    "signals_mean = np.array(signals_mean).T\n",
    "signals_std = np.array(signals_std).T"
   ]
  },
  {
   "cell_type": "code",
   "execution_count": 80,
   "metadata": {},
   "outputs": [
    {
     "data": {
      "application/vnd.plotly.v1+json": {
       "config": {
        "plotlyServerURL": "https://plot.ly"
       },
       "data": [
        {
         "error_y": {
          "array": [
           0.39765119552612305,
           0.39765119552612305
          ],
          "type": "data",
          "visible": true
         },
         "mode": "lines",
         "name": "std",
         "type": "scatter",
         "x": [
          0,
          1
         ],
         "y": [
          0.9992766380310059,
          0.9992766380310059
         ]
        },
        {
         "error_y": {
          "array": [
           0.03734185919165611,
           0.03734185919165611
          ],
          "type": "data",
          "visible": true
         },
         "mode": "lines",
         "name": "hmin",
         "type": "scatter",
         "x": [
          0,
          1
         ],
         "y": [
          0.11413131654262543,
          0.11413131654262543
         ]
        },
        {
         "error_y": {
          "array": [
           null,
           null
          ],
          "type": "data",
          "visible": true
         },
         "mode": "lines",
         "name": "l_hmin",
         "type": "scatter",
         "x": [
          0,
          1
         ],
         "y": [
          null,
          null
         ]
        },
        {
         "error_y": {
          "array": [
           0.20703260600566864,
           0.2080855518579483
          ],
          "type": "data",
          "visible": true
         },
         "mode": "lines",
         "name": "deg_h",
         "type": "scatter",
         "x": [
          0,
          1
         ],
         "y": [
          1.2661352157592773,
          1.2669062614440918
         ]
        },
        {
         "error_y": {
          "array": [
           0.06214899569749832,
           0.0621664896607399
          ],
          "type": "data",
          "visible": true
         },
         "mode": "lines",
         "name": "l_deg_h",
         "type": "scatter",
         "x": [
          0,
          1
         ],
         "y": [
          0.4489058256149292,
          0.44891563057899475
         ]
        },
        {
         "error_y": {
          "array": [
           0.01852978952229023,
           0.01852978952229023
          ],
          "type": "data",
          "visible": true
         },
         "mode": "lines",
         "name": "H",
         "type": "scatter",
         "x": [
          0,
          1
         ],
         "y": [
          0.3218144476413727,
          0.3218144476413727
         ]
        },
        {
         "error_y": {
          "array": [
           0.014302138239145279,
           0.014302138239145279
          ],
          "type": "data",
          "visible": true
         },
         "mode": "lines",
         "name": "l_H",
         "type": "scatter",
         "x": [
          0,
          1
         ],
         "y": [
          0.2996402680873871,
          0.2996402680873871
         ]
        },
        {
         "error_y": {
          "array": [
           0.021879669278860092,
           0.021879669278860092
          ],
          "type": "data",
          "visible": true
         },
         "mode": "lines",
         "name": "cumul0",
         "type": "scatter",
         "x": [
          0,
          1
         ],
         "y": [
          0.351248562335968,
          0.351248562335968
         ]
        },
        {
         "error_y": {
          "array": [
           0.011249551549553871,
           0.011249551549553871
          ],
          "type": "data",
          "visible": true
         },
         "mode": "lines",
         "name": "l_cumul0",
         "type": "scatter",
         "x": [
          0,
          1
         ],
         "y": [
          0.33037325739860535,
          0.33037325739860535
         ]
        },
        {
         "error_y": {
          "array": [
           0.05243586003780365,
           0.05243586003780365
          ],
          "type": "data",
          "visible": true
         },
         "mode": "lines",
         "name": "cumul1",
         "type": "scatter",
         "x": [
          0,
          1
         ],
         "y": [
          -0.03190984949469566,
          -0.03190984949469566
         ]
        },
        {
         "error_y": {
          "array": [
           0.006316106300801039,
           0.006316106300801039
          ],
          "type": "data",
          "visible": true
         },
         "mode": "lines",
         "name": "l_cumul1",
         "type": "scatter",
         "x": [
          0,
          1
         ],
         "y": [
          -0.03108198009431362,
          -0.03108198009431362
         ]
        },
        {
         "error_y": {
          "array": [
           0.24444568157196045,
           0.24444568157196045
          ],
          "type": "data",
          "visible": true
         },
         "mode": "lines",
         "name": "cumul2",
         "type": "scatter",
         "x": [
          0,
          1
         ],
         "y": [
          0.031047794967889786,
          0.031047794967889786
         ]
        },
        {
         "error_y": {
          "array": [
           0.004230401013046503,
           0.004230401013046503
          ],
          "type": "data",
          "visible": true
         },
         "mode": "lines",
         "name": "l_cumul2",
         "type": "scatter",
         "x": [
          0,
          1
         ],
         "y": [
          0.0011257940204814076,
          0.0011257940204814076
         ]
        },
        {
         "error_y": {
          "array": [
           1.4403138160705566,
           1.4403138160705566
          ],
          "type": "data",
          "visible": true
         },
         "mode": "lines",
         "name": "cumul3",
         "type": "scatter",
         "x": [
          0,
          1
         ],
         "y": [
          -0.2579548954963684,
          -0.2579548954963684
         ]
        },
        {
         "error_y": {
          "array": [
           0.003247477114200592,
           0.003247477114200592
          ],
          "type": "data",
          "visible": true
         },
         "mode": "lines",
         "name": "l_cumul3",
         "type": "scatter",
         "x": [
          0,
          1
         ],
         "y": [
          -0.0009599526529200375,
          -0.0009599526529200375
         ]
        }
       ],
       "layout": {
        "legend": {
         "title": {
          "text": "Curves"
         }
        },
        "template": {
         "data": {
          "bar": [
           {
            "error_x": {
             "color": "#2a3f5f"
            },
            "error_y": {
             "color": "#2a3f5f"
            },
            "marker": {
             "line": {
              "color": "#E5ECF6",
              "width": 0.5
             },
             "pattern": {
              "fillmode": "overlay",
              "size": 10,
              "solidity": 0.2
             }
            },
            "type": "bar"
           }
          ],
          "barpolar": [
           {
            "marker": {
             "line": {
              "color": "#E5ECF6",
              "width": 0.5
             },
             "pattern": {
              "fillmode": "overlay",
              "size": 10,
              "solidity": 0.2
             }
            },
            "type": "barpolar"
           }
          ],
          "carpet": [
           {
            "aaxis": {
             "endlinecolor": "#2a3f5f",
             "gridcolor": "white",
             "linecolor": "white",
             "minorgridcolor": "white",
             "startlinecolor": "#2a3f5f"
            },
            "baxis": {
             "endlinecolor": "#2a3f5f",
             "gridcolor": "white",
             "linecolor": "white",
             "minorgridcolor": "white",
             "startlinecolor": "#2a3f5f"
            },
            "type": "carpet"
           }
          ],
          "choropleth": [
           {
            "colorbar": {
             "outlinewidth": 0,
             "ticks": ""
            },
            "type": "choropleth"
           }
          ],
          "contour": [
           {
            "colorbar": {
             "outlinewidth": 0,
             "ticks": ""
            },
            "colorscale": [
             [
              0,
              "#0d0887"
             ],
             [
              0.1111111111111111,
              "#46039f"
             ],
             [
              0.2222222222222222,
              "#7201a8"
             ],
             [
              0.3333333333333333,
              "#9c179e"
             ],
             [
              0.4444444444444444,
              "#bd3786"
             ],
             [
              0.5555555555555556,
              "#d8576b"
             ],
             [
              0.6666666666666666,
              "#ed7953"
             ],
             [
              0.7777777777777778,
              "#fb9f3a"
             ],
             [
              0.8888888888888888,
              "#fdca26"
             ],
             [
              1,
              "#f0f921"
             ]
            ],
            "type": "contour"
           }
          ],
          "contourcarpet": [
           {
            "colorbar": {
             "outlinewidth": 0,
             "ticks": ""
            },
            "type": "contourcarpet"
           }
          ],
          "heatmap": [
           {
            "colorbar": {
             "outlinewidth": 0,
             "ticks": ""
            },
            "colorscale": [
             [
              0,
              "#0d0887"
             ],
             [
              0.1111111111111111,
              "#46039f"
             ],
             [
              0.2222222222222222,
              "#7201a8"
             ],
             [
              0.3333333333333333,
              "#9c179e"
             ],
             [
              0.4444444444444444,
              "#bd3786"
             ],
             [
              0.5555555555555556,
              "#d8576b"
             ],
             [
              0.6666666666666666,
              "#ed7953"
             ],
             [
              0.7777777777777778,
              "#fb9f3a"
             ],
             [
              0.8888888888888888,
              "#fdca26"
             ],
             [
              1,
              "#f0f921"
             ]
            ],
            "type": "heatmap"
           }
          ],
          "heatmapgl": [
           {
            "colorbar": {
             "outlinewidth": 0,
             "ticks": ""
            },
            "colorscale": [
             [
              0,
              "#0d0887"
             ],
             [
              0.1111111111111111,
              "#46039f"
             ],
             [
              0.2222222222222222,
              "#7201a8"
             ],
             [
              0.3333333333333333,
              "#9c179e"
             ],
             [
              0.4444444444444444,
              "#bd3786"
             ],
             [
              0.5555555555555556,
              "#d8576b"
             ],
             [
              0.6666666666666666,
              "#ed7953"
             ],
             [
              0.7777777777777778,
              "#fb9f3a"
             ],
             [
              0.8888888888888888,
              "#fdca26"
             ],
             [
              1,
              "#f0f921"
             ]
            ],
            "type": "heatmapgl"
           }
          ],
          "histogram": [
           {
            "marker": {
             "pattern": {
              "fillmode": "overlay",
              "size": 10,
              "solidity": 0.2
             }
            },
            "type": "histogram"
           }
          ],
          "histogram2d": [
           {
            "colorbar": {
             "outlinewidth": 0,
             "ticks": ""
            },
            "colorscale": [
             [
              0,
              "#0d0887"
             ],
             [
              0.1111111111111111,
              "#46039f"
             ],
             [
              0.2222222222222222,
              "#7201a8"
             ],
             [
              0.3333333333333333,
              "#9c179e"
             ],
             [
              0.4444444444444444,
              "#bd3786"
             ],
             [
              0.5555555555555556,
              "#d8576b"
             ],
             [
              0.6666666666666666,
              "#ed7953"
             ],
             [
              0.7777777777777778,
              "#fb9f3a"
             ],
             [
              0.8888888888888888,
              "#fdca26"
             ],
             [
              1,
              "#f0f921"
             ]
            ],
            "type": "histogram2d"
           }
          ],
          "histogram2dcontour": [
           {
            "colorbar": {
             "outlinewidth": 0,
             "ticks": ""
            },
            "colorscale": [
             [
              0,
              "#0d0887"
             ],
             [
              0.1111111111111111,
              "#46039f"
             ],
             [
              0.2222222222222222,
              "#7201a8"
             ],
             [
              0.3333333333333333,
              "#9c179e"
             ],
             [
              0.4444444444444444,
              "#bd3786"
             ],
             [
              0.5555555555555556,
              "#d8576b"
             ],
             [
              0.6666666666666666,
              "#ed7953"
             ],
             [
              0.7777777777777778,
              "#fb9f3a"
             ],
             [
              0.8888888888888888,
              "#fdca26"
             ],
             [
              1,
              "#f0f921"
             ]
            ],
            "type": "histogram2dcontour"
           }
          ],
          "mesh3d": [
           {
            "colorbar": {
             "outlinewidth": 0,
             "ticks": ""
            },
            "type": "mesh3d"
           }
          ],
          "parcoords": [
           {
            "line": {
             "colorbar": {
              "outlinewidth": 0,
              "ticks": ""
             }
            },
            "type": "parcoords"
           }
          ],
          "pie": [
           {
            "automargin": true,
            "type": "pie"
           }
          ],
          "scatter": [
           {
            "fillpattern": {
             "fillmode": "overlay",
             "size": 10,
             "solidity": 0.2
            },
            "type": "scatter"
           }
          ],
          "scatter3d": [
           {
            "line": {
             "colorbar": {
              "outlinewidth": 0,
              "ticks": ""
             }
            },
            "marker": {
             "colorbar": {
              "outlinewidth": 0,
              "ticks": ""
             }
            },
            "type": "scatter3d"
           }
          ],
          "scattercarpet": [
           {
            "marker": {
             "colorbar": {
              "outlinewidth": 0,
              "ticks": ""
             }
            },
            "type": "scattercarpet"
           }
          ],
          "scattergeo": [
           {
            "marker": {
             "colorbar": {
              "outlinewidth": 0,
              "ticks": ""
             }
            },
            "type": "scattergeo"
           }
          ],
          "scattergl": [
           {
            "marker": {
             "colorbar": {
              "outlinewidth": 0,
              "ticks": ""
             }
            },
            "type": "scattergl"
           }
          ],
          "scattermapbox": [
           {
            "marker": {
             "colorbar": {
              "outlinewidth": 0,
              "ticks": ""
             }
            },
            "type": "scattermapbox"
           }
          ],
          "scatterpolar": [
           {
            "marker": {
             "colorbar": {
              "outlinewidth": 0,
              "ticks": ""
             }
            },
            "type": "scatterpolar"
           }
          ],
          "scatterpolargl": [
           {
            "marker": {
             "colorbar": {
              "outlinewidth": 0,
              "ticks": ""
             }
            },
            "type": "scatterpolargl"
           }
          ],
          "scatterternary": [
           {
            "marker": {
             "colorbar": {
              "outlinewidth": 0,
              "ticks": ""
             }
            },
            "type": "scatterternary"
           }
          ],
          "surface": [
           {
            "colorbar": {
             "outlinewidth": 0,
             "ticks": ""
            },
            "colorscale": [
             [
              0,
              "#0d0887"
             ],
             [
              0.1111111111111111,
              "#46039f"
             ],
             [
              0.2222222222222222,
              "#7201a8"
             ],
             [
              0.3333333333333333,
              "#9c179e"
             ],
             [
              0.4444444444444444,
              "#bd3786"
             ],
             [
              0.5555555555555556,
              "#d8576b"
             ],
             [
              0.6666666666666666,
              "#ed7953"
             ],
             [
              0.7777777777777778,
              "#fb9f3a"
             ],
             [
              0.8888888888888888,
              "#fdca26"
             ],
             [
              1,
              "#f0f921"
             ]
            ],
            "type": "surface"
           }
          ],
          "table": [
           {
            "cells": {
             "fill": {
              "color": "#EBF0F8"
             },
             "line": {
              "color": "white"
             }
            },
            "header": {
             "fill": {
              "color": "#C8D4E3"
             },
             "line": {
              "color": "white"
             }
            },
            "type": "table"
           }
          ]
         },
         "layout": {
          "annotationdefaults": {
           "arrowcolor": "#2a3f5f",
           "arrowhead": 0,
           "arrowwidth": 1
          },
          "autotypenumbers": "strict",
          "coloraxis": {
           "colorbar": {
            "outlinewidth": 0,
            "ticks": ""
           }
          },
          "colorscale": {
           "diverging": [
            [
             0,
             "#8e0152"
            ],
            [
             0.1,
             "#c51b7d"
            ],
            [
             0.2,
             "#de77ae"
            ],
            [
             0.3,
             "#f1b6da"
            ],
            [
             0.4,
             "#fde0ef"
            ],
            [
             0.5,
             "#f7f7f7"
            ],
            [
             0.6,
             "#e6f5d0"
            ],
            [
             0.7,
             "#b8e186"
            ],
            [
             0.8,
             "#7fbc41"
            ],
            [
             0.9,
             "#4d9221"
            ],
            [
             1,
             "#276419"
            ]
           ],
           "sequential": [
            [
             0,
             "#0d0887"
            ],
            [
             0.1111111111111111,
             "#46039f"
            ],
            [
             0.2222222222222222,
             "#7201a8"
            ],
            [
             0.3333333333333333,
             "#9c179e"
            ],
            [
             0.4444444444444444,
             "#bd3786"
            ],
            [
             0.5555555555555556,
             "#d8576b"
            ],
            [
             0.6666666666666666,
             "#ed7953"
            ],
            [
             0.7777777777777778,
             "#fb9f3a"
            ],
            [
             0.8888888888888888,
             "#fdca26"
            ],
            [
             1,
             "#f0f921"
            ]
           ],
           "sequentialminus": [
            [
             0,
             "#0d0887"
            ],
            [
             0.1111111111111111,
             "#46039f"
            ],
            [
             0.2222222222222222,
             "#7201a8"
            ],
            [
             0.3333333333333333,
             "#9c179e"
            ],
            [
             0.4444444444444444,
             "#bd3786"
            ],
            [
             0.5555555555555556,
             "#d8576b"
            ],
            [
             0.6666666666666666,
             "#ed7953"
            ],
            [
             0.7777777777777778,
             "#fb9f3a"
            ],
            [
             0.8888888888888888,
             "#fdca26"
            ],
            [
             1,
             "#f0f921"
            ]
           ]
          },
          "colorway": [
           "#636efa",
           "#EF553B",
           "#00cc96",
           "#ab63fa",
           "#FFA15A",
           "#19d3f3",
           "#FF6692",
           "#B6E880",
           "#FF97FF",
           "#FECB52"
          ],
          "font": {
           "color": "#2a3f5f"
          },
          "geo": {
           "bgcolor": "white",
           "lakecolor": "white",
           "landcolor": "#E5ECF6",
           "showlakes": true,
           "showland": true,
           "subunitcolor": "white"
          },
          "hoverlabel": {
           "align": "left"
          },
          "hovermode": "closest",
          "mapbox": {
           "style": "light"
          },
          "paper_bgcolor": "white",
          "plot_bgcolor": "#E5ECF6",
          "polar": {
           "angularaxis": {
            "gridcolor": "white",
            "linecolor": "white",
            "ticks": ""
           },
           "bgcolor": "#E5ECF6",
           "radialaxis": {
            "gridcolor": "white",
            "linecolor": "white",
            "ticks": ""
           }
          },
          "scene": {
           "xaxis": {
            "backgroundcolor": "#E5ECF6",
            "gridcolor": "white",
            "gridwidth": 2,
            "linecolor": "white",
            "showbackground": true,
            "ticks": "",
            "zerolinecolor": "white"
           },
           "yaxis": {
            "backgroundcolor": "#E5ECF6",
            "gridcolor": "white",
            "gridwidth": 2,
            "linecolor": "white",
            "showbackground": true,
            "ticks": "",
            "zerolinecolor": "white"
           },
           "zaxis": {
            "backgroundcolor": "#E5ECF6",
            "gridcolor": "white",
            "gridwidth": 2,
            "linecolor": "white",
            "showbackground": true,
            "ticks": "",
            "zerolinecolor": "white"
           }
          },
          "shapedefaults": {
           "line": {
            "color": "#2a3f5f"
           }
          },
          "ternary": {
           "aaxis": {
            "gridcolor": "white",
            "linecolor": "white",
            "ticks": ""
           },
           "baxis": {
            "gridcolor": "white",
            "linecolor": "white",
            "ticks": ""
           },
           "bgcolor": "#E5ECF6",
           "caxis": {
            "gridcolor": "white",
            "linecolor": "white",
            "ticks": ""
           }
          },
          "title": {
           "x": 0.05
          },
          "xaxis": {
           "automargin": true,
           "gridcolor": "white",
           "linecolor": "white",
           "ticks": "",
           "title": {
            "standoff": 15
           },
           "zerolinecolor": "white",
           "zerolinewidth": 2
          },
          "yaxis": {
           "automargin": true,
           "gridcolor": "white",
           "linecolor": "white",
           "ticks": "",
           "title": {
            "standoff": 15
           },
           "zerolinecolor": "white",
           "zerolinewidth": 2
          }
         }
        },
        "title": {
         "text": "Interactive Plot with Toggle Curves"
        },
        "updatemenus": [
         {
          "buttons": [
           {
            "args": [
             {
              "visible": [
               true,
               true,
               true,
               true,
               true,
               true,
               true,
               true,
               true,
               true,
               true,
               true,
               true,
               true,
               true
              ]
             }
            ],
            "label": "All",
            "method": "update"
           },
           {
            "args": [
             {
              "visible": [
               true,
               false,
               false,
               false,
               false,
               false,
               false,
               false,
               false,
               false,
               false,
               false,
               false,
               false,
               false
              ]
             }
            ],
            "label": "std",
            "method": "update"
           },
           {
            "args": [
             {
              "visible": [
               false,
               true,
               false,
               false,
               false,
               false,
               false,
               false,
               false,
               false,
               false,
               false,
               false,
               false,
               false
              ]
             }
            ],
            "label": "hmin",
            "method": "update"
           },
           {
            "args": [
             {
              "visible": [
               false,
               false,
               true,
               false,
               false,
               false,
               false,
               false,
               false,
               false,
               false,
               false,
               false,
               false,
               false
              ]
             }
            ],
            "label": "l_hmin",
            "method": "update"
           },
           {
            "args": [
             {
              "visible": [
               false,
               false,
               false,
               true,
               false,
               false,
               false,
               false,
               false,
               false,
               false,
               false,
               false,
               false,
               false
              ]
             }
            ],
            "label": "deg_h",
            "method": "update"
           },
           {
            "args": [
             {
              "visible": [
               false,
               false,
               false,
               false,
               true,
               false,
               false,
               false,
               false,
               false,
               false,
               false,
               false,
               false,
               false
              ]
             }
            ],
            "label": "l_deg_h",
            "method": "update"
           },
           {
            "args": [
             {
              "visible": [
               false,
               false,
               false,
               false,
               false,
               true,
               false,
               false,
               false,
               false,
               false,
               false,
               false,
               false,
               false
              ]
             }
            ],
            "label": "H",
            "method": "update"
           },
           {
            "args": [
             {
              "visible": [
               false,
               false,
               false,
               false,
               false,
               false,
               true,
               false,
               false,
               false,
               false,
               false,
               false,
               false,
               false
              ]
             }
            ],
            "label": "l_H",
            "method": "update"
           },
           {
            "args": [
             {
              "visible": [
               false,
               false,
               false,
               false,
               false,
               false,
               false,
               true,
               false,
               false,
               false,
               false,
               false,
               false,
               false
              ]
             }
            ],
            "label": "cumul0",
            "method": "update"
           },
           {
            "args": [
             {
              "visible": [
               false,
               false,
               false,
               false,
               false,
               false,
               false,
               false,
               true,
               false,
               false,
               false,
               false,
               false,
               false
              ]
             }
            ],
            "label": "l_cumul0",
            "method": "update"
           },
           {
            "args": [
             {
              "visible": [
               false,
               false,
               false,
               false,
               false,
               false,
               false,
               false,
               false,
               true,
               false,
               false,
               false,
               false,
               false
              ]
             }
            ],
            "label": "cumul1",
            "method": "update"
           },
           {
            "args": [
             {
              "visible": [
               false,
               false,
               false,
               false,
               false,
               false,
               false,
               false,
               false,
               false,
               true,
               false,
               false,
               false,
               false
              ]
             }
            ],
            "label": "l_cumul1",
            "method": "update"
           },
           {
            "args": [
             {
              "visible": [
               false,
               false,
               false,
               false,
               false,
               false,
               false,
               false,
               false,
               false,
               false,
               true,
               false,
               false,
               false
              ]
             }
            ],
            "label": "cumul2",
            "method": "update"
           },
           {
            "args": [
             {
              "visible": [
               false,
               false,
               false,
               false,
               false,
               false,
               false,
               false,
               false,
               false,
               false,
               false,
               true,
               false,
               false
              ]
             }
            ],
            "label": "l_cumul2",
            "method": "update"
           },
           {
            "args": [
             {
              "visible": [
               false,
               false,
               false,
               false,
               false,
               false,
               false,
               false,
               false,
               false,
               false,
               false,
               false,
               true,
               false
              ]
             }
            ],
            "label": "cumul3",
            "method": "update"
           }
          ],
          "direction": "right",
          "type": "buttons",
          "x": 0.1,
          "xanchor": "left",
          "y": 1.15,
          "yanchor": "top"
         },
         {
          "buttons": [
           {
            "args": [
             {
              "visible": [
               false,
               false,
               false,
               false,
               false,
               false,
               false,
               false,
               false,
               false,
               false,
               false,
               false,
               false,
               true
              ]
             }
            ],
            "label": "l_cumul3",
            "method": "update"
           },
           {
            "args": [
             {
              "visible": [
               false,
               false,
               false,
               false,
               false,
               false,
               false,
               false,
               false,
               false,
               false,
               false,
               false,
               false,
               false
              ]
             }
            ],
            "label": " zeta(q=-10)",
            "method": "update"
           }
          ],
          "direction": "right",
          "type": "buttons",
          "x": 0.1,
          "xanchor": "left",
          "y": 1.0499999999999998,
          "yanchor": "top"
         }
        ],
        "xaxis": {
         "title": {
          "text": "X Axis"
         }
        },
        "yaxis": {
         "title": {
          "text": "Y Axis"
         }
        }
       }
      }
     },
     "metadata": {},
     "output_type": "display_data"
    }
   ],
   "source": [
    "dyn_plot(signals_mean, signals_std, label=list(columns), x=list(range(len(qs))))"
   ]
  },
  {
   "cell_type": "code",
   "execution_count": 82,
   "metadata": {},
   "outputs": [
    {
     "data": {
      "application/vnd.plotly.v1+json": {
       "config": {
        "plotlyServerURL": "https://plot.ly"
       },
       "data": [
        {
         "error_y": {
          "array": [
           0.39765119552612305,
           0.39765119552612305,
           0.39765119552612305,
           0.39765119552612305
          ],
          "type": "data",
          "visible": true
         },
         "mode": "lines",
         "name": "std",
         "type": "scatter",
         "x": [
          0,
          1
         ],
         "y": [
          0.9992766380310059,
          0.9992766380310059,
          0.9992766380310059,
          0.9992766380310059
         ]
        },
        {
         "error_y": {
          "array": [
           0.03734185919165611,
           0.03734185919165611,
           0.03734185919165611,
           0.03734185919165611
          ],
          "type": "data",
          "visible": true
         },
         "mode": "lines",
         "name": "hmin",
         "type": "scatter",
         "x": [
          0,
          1
         ],
         "y": [
          0.11413131654262543,
          0.11413131654262543,
          0.11413131654262543,
          0.11413131654262543
         ]
        },
        {
         "error_y": {
          "array": [
           null,
           null,
           null,
           null
          ],
          "type": "data",
          "visible": true
         },
         "mode": "lines",
         "name": "l_hmin",
         "type": "scatter",
         "x": [
          0,
          1
         ],
         "y": [
          null,
          null,
          null,
          null
         ]
        },
        {
         "error_y": {
          "array": [
           0.20703260600566864,
           0.20703260600566864,
           0.20703260600566864,
           0.20703260600566864
          ],
          "type": "data",
          "visible": true
         },
         "mode": "lines",
         "name": "deg_h",
         "type": "scatter",
         "x": [
          0,
          1
         ],
         "y": [
          1.2661352157592773,
          1.2661352157592773,
          1.2661352157592773,
          1.2661352157592773
         ]
        },
        {
         "error_y": {
          "array": [
           0.05078153684735298,
           0.05320154130458832,
           0.05493858829140663,
           0.06214899569749832
          ],
          "type": "data",
          "visible": true
         },
         "mode": "lines",
         "name": "l_deg_h",
         "type": "scatter",
         "x": [
          0,
          1
         ],
         "y": [
          0.4735812842845917,
          0.4429980516433716,
          0.43089166283607483,
          0.4489058256149292
         ]
        },
        {
         "error_y": {
          "array": [
           0.01852978952229023,
           0.01852978952229023,
           0.01852978952229023,
           0.01852978952229023
          ],
          "type": "data",
          "visible": true
         },
         "mode": "lines",
         "name": "H",
         "type": "scatter",
         "x": [
          0,
          1
         ],
         "y": [
          0.3218144476413727,
          0.3218144476413727,
          0.3218144476413727,
          0.3218144476413727
         ]
        },
        {
         "error_y": {
          "array": [
           0.01322890818119049,
           0.013935161754488945,
           0.01473083533346653,
           0.014302138239145279
          ],
          "type": "data",
          "visible": true
         },
         "mode": "lines",
         "name": "l_H",
         "type": "scatter",
         "x": [
          0,
          1
         ],
         "y": [
          0.28945326805114746,
          0.29591700434684753,
          0.2994304895401001,
          0.2996402680873871
         ]
        },
        {
         "error_y": {
          "array": [
           0.021879669278860092,
           0.021879669278860092,
           0.021879669278860092,
           0.021879669278860092
          ],
          "type": "data",
          "visible": true
         },
         "mode": "lines",
         "name": "cumul0",
         "type": "scatter",
         "x": [
          0,
          1
         ],
         "y": [
          0.351248562335968,
          0.351248562335968,
          0.351248562335968,
          0.351248562335968
         ]
        },
        {
         "error_y": {
          "array": [
           0.012233688496053219,
           0.012060722336173058,
           0.012221300974488258,
           0.011249551549553871
          ],
          "type": "data",
          "visible": true
         },
         "mode": "lines",
         "name": "l_cumul0",
         "type": "scatter",
         "x": [
          0,
          1
         ],
         "y": [
          0.32445743680000305,
          0.3271602392196655,
          0.3285999000072479,
          0.33037325739860535
         ]
        },
        {
         "error_y": {
          "array": [
           0.05243586003780365,
           0.05243586003780365,
           0.05243586003780365,
           0.05243586003780365
          ],
          "type": "data",
          "visible": true
         },
         "mode": "lines",
         "name": "cumul1",
         "type": "scatter",
         "x": [
          0,
          1
         ],
         "y": [
          -0.03190984949469566,
          -0.03190984949469566,
          -0.03190984949469566,
          -0.03190984949469566
         ]
        },
        {
         "error_y": {
          "array": [
           0.003963910974562168,
           0.004866268485784531,
           0.005549558438360691,
           0.006316106300801039
          ],
          "type": "data",
          "visible": true
         },
         "mode": "lines",
         "name": "l_cumul1",
         "type": "scatter",
         "x": [
          0,
          1
         ],
         "y": [
          -0.03553197905421257,
          -0.03165889531373978,
          -0.02956986427307129,
          -0.03108198009431362
         ]
        },
        {
         "error_y": {
          "array": [
           0.24444568157196045,
           0.24444568157196045,
           0.24444568157196045,
           0.24444568157196045
          ],
          "type": "data",
          "visible": true
         },
         "mode": "lines",
         "name": "cumul2",
         "type": "scatter",
         "x": [
          0,
          1
         ],
         "y": [
          0.031047794967889786,
          0.031047794967889786,
          0.031047794967889786,
          0.031047794967889786
         ]
        },
        {
         "error_y": {
          "array": [
           0.0027147477958351374,
           0.0031736039090901613,
           0.0036275091115385294,
           0.004230401013046503
          ],
          "type": "data",
          "visible": true
         },
         "mode": "lines",
         "name": "l_cumul2",
         "type": "scatter",
         "x": [
          0,
          1
         ],
         "y": [
          0.0009546523215249181,
          0.0009366447920911014,
          0.001078842207789421,
          0.0011257940204814076
         ]
        },
        {
         "error_y": {
          "array": [
           1.4403138160705566,
           1.4403138160705566,
           1.4403138160705566,
           1.4403138160705566
          ],
          "type": "data",
          "visible": true
         },
         "mode": "lines",
         "name": "cumul3",
         "type": "scatter",
         "x": [
          0,
          1
         ],
         "y": [
          -0.2579548954963684,
          -0.2579548954963684,
          -0.2579548954963684,
          -0.2579548954963684
         ]
        },
        {
         "error_y": {
          "array": [
           0.002209726022556424,
           0.0024896615650504827,
           0.0028126260731369257,
           0.003247477114200592
          ],
          "type": "data",
          "visible": true
         },
         "mode": "lines",
         "name": "l_cumul3",
         "type": "scatter",
         "x": [
          0,
          1
         ],
         "y": [
          -0.00037251602043397725,
          -0.000599204795435071,
          -0.000827764393761754,
          -0.0009599526529200375
         ]
        },
        {
         "error_y": {
          "array": [
           0.2701738178730011,
           0.27512577176094055,
           0.2804178297519684,
           0.2849675714969635
          ],
          "type": "data",
          "visible": true
         },
         "mode": "lines",
         "name": " zeta(q=-10)",
         "type": "scatter",
         "x": [
          0,
          1
         ],
         "y": [
          -4.833244323730469,
          -4.730208873748779,
          -4.689705848693848,
          -4.766410827636719
         ]
        },
        {
         "error_y": {
          "array": [
           0.09239602088928223,
           0.09319925308227539,
           0.09533286839723587,
           0.0962706059217453
          ],
          "type": "data",
          "visible": true
         },
         "mode": "lines",
         "name": " zeta(q=-5)",
         "type": "scatter",
         "x": [
          0,
          1
         ],
         "y": [
          -2.0836143493652344,
          -2.0528173446655273,
          -2.0400242805480957,
          -2.068819522857666
         ]
        },
        {
         "error_y": {
          "array": [
           0.06379305571317673,
           0.0638311430811882,
           0.06515640020370483,
           0.0650196224451065
          ],
          "type": "data",
          "visible": true
         },
         "mode": "lines",
         "name": " zeta(q=-4)",
         "type": "scatter",
         "x": [
          0,
          1
         ],
         "y": [
          -1.5933171510696411,
          -1.5747785568237305,
          -1.5668071508407593,
          -1.5867525339126587
         ]
        },
        {
         "error_y": {
          "array": [
           0.04164969548583031,
           0.04106265306472778,
           0.041683129966259,
           0.040736567229032516
          ],
          "type": "data",
          "visible": true
         },
         "mode": "lines",
         "name": " zeta(q=-3)",
         "type": "scatter",
         "x": [
          0,
          1
         ],
         "y": [
          -1.1383824348449707,
          -1.1295838356018066,
          -1.1256626844406128,
          -1.1381384134292603
         ]
        },
        {
         "error_y": {
          "array": [
           0.025292888283729553,
           0.02456817403435707,
           0.02475563809275627,
           0.023521851748228073
          ],
          "type": "data",
          "visible": true
         },
         "mode": "lines",
         "name": " zeta(q=-2)",
         "type": "scatter",
         "x": [
          0,
          1
         ],
         "y": [
          -0.7214699387550354,
          -0.7192329168319702,
          -0.718239426612854,
          -0.7249132394790649
         ]
        },
        {
         "error_y": {
          "array": [
           0.012186472304165363,
           0.011818035505712032,
           0.01187959872186184,
           0.011012592352926731
          ],
          "type": "data",
          "visible": true
         },
         "mode": "lines",
         "name": " zeta(q=-1)",
         "type": "scatter",
         "x": [
          0,
          1
         ],
         "y": [
          -0.3423977494239807,
          -0.343169629573822,
          -0.3435966670513153,
          -0.3461376130580902
         ]
        },
        {
         "error_y": {
          "array": [
           0.012594650499522686,
           0.01279368158429861,
           0.0132016371935606,
           0.012363370507955551
          ],
          "type": "data",
          "visible": true
         },
         "mode": "lines",
         "name": " zeta(q=1)",
         "type": "scatter",
         "x": [
          0,
          1
         ],
         "y": [
          0.3068355917930603,
          0.3114611804485321,
          0.3139575719833374,
          0.3149747848510742
         ]
        },
        {
         "error_y": {
          "array": [
           0.02645781636238098,
           0.02787032350897789,
           0.02946167066693306,
           0.028604276478290558
          ],
          "type": "data",
          "visible": true
         },
         "mode": "lines",
         "name": " zeta(q=2)",
         "type": "scatter",
         "x": [
          0,
          1
         ],
         "y": [
          0.5789065361022949,
          0.5918340086936951,
          0.5988609790802002,
          0.5992805361747742
         ]
        },
        {
         "error_y": {
          "array": [
           0.04262092709541321,
           0.04641638696193695,
           0.05014384910464287,
           0.050622884184122086
          ],
          "type": "data",
          "visible": true
         },
         "mode": "lines",
         "name": " zeta(q=3)",
         "type": "scatter",
         "x": [
          0,
          1
         ],
         "y": [
          0.8168774843215942,
          0.8411909341812134,
          0.8542896509170532,
          0.8520559072494507
         ]
        },
        {
         "error_y": {
          "array": [
           0.06257875263690948,
           0.06962691247463226,
           0.07616100460290909,
           0.07933498173952103
          ],
          "type": "data",
          "visible": true
         },
         "mode": "lines",
         "name": " zeta(q=4)",
         "type": "scatter",
         "x": [
          0,
          1
         ],
         "y": [
          1.0219608545303345,
          1.0597435235977173,
          1.0795739889144897,
          1.072042465209961
         ]
        },
        {
         "error_y": {
          "array": [
           0.0876588448882103,
           0.09832894802093506,
           0.10788216441869736,
           0.11521582305431366
          ],
          "type": "data",
          "visible": true
         },
         "mode": "lines",
         "name": " zeta(q=5)",
         "type": "scatter",
         "x": [
          0,
          1
         ],
         "y": [
          1.1970603466033936,
          1.2494046688079834,
          1.2758868932724,
          1.2604156732559204
         ]
        },
        {
         "error_y": {
          "array": [
           0.2586893141269684,
           0.28533878922462463,
           0.3070771098136902,
           0.3477703332901001
          ],
          "type": "data",
          "visible": true
         },
         "mode": "lines",
         "name": " zeta(q=10)",
         "type": "scatter",
         "x": [
          0,
          1
         ],
         "y": [
          1.8056014776229858,
          1.9360027313232422,
          1.9940240383148193,
          1.9302394390106201
         ]
        }
       ],
       "layout": {
        "legend": {
         "title": {
          "text": "Curves"
         }
        },
        "template": {
         "data": {
          "bar": [
           {
            "error_x": {
             "color": "#2a3f5f"
            },
            "error_y": {
             "color": "#2a3f5f"
            },
            "marker": {
             "line": {
              "color": "#E5ECF6",
              "width": 0.5
             },
             "pattern": {
              "fillmode": "overlay",
              "size": 10,
              "solidity": 0.2
             }
            },
            "type": "bar"
           }
          ],
          "barpolar": [
           {
            "marker": {
             "line": {
              "color": "#E5ECF6",
              "width": 0.5
             },
             "pattern": {
              "fillmode": "overlay",
              "size": 10,
              "solidity": 0.2
             }
            },
            "type": "barpolar"
           }
          ],
          "carpet": [
           {
            "aaxis": {
             "endlinecolor": "#2a3f5f",
             "gridcolor": "white",
             "linecolor": "white",
             "minorgridcolor": "white",
             "startlinecolor": "#2a3f5f"
            },
            "baxis": {
             "endlinecolor": "#2a3f5f",
             "gridcolor": "white",
             "linecolor": "white",
             "minorgridcolor": "white",
             "startlinecolor": "#2a3f5f"
            },
            "type": "carpet"
           }
          ],
          "choropleth": [
           {
            "colorbar": {
             "outlinewidth": 0,
             "ticks": ""
            },
            "type": "choropleth"
           }
          ],
          "contour": [
           {
            "colorbar": {
             "outlinewidth": 0,
             "ticks": ""
            },
            "colorscale": [
             [
              0,
              "#0d0887"
             ],
             [
              0.1111111111111111,
              "#46039f"
             ],
             [
              0.2222222222222222,
              "#7201a8"
             ],
             [
              0.3333333333333333,
              "#9c179e"
             ],
             [
              0.4444444444444444,
              "#bd3786"
             ],
             [
              0.5555555555555556,
              "#d8576b"
             ],
             [
              0.6666666666666666,
              "#ed7953"
             ],
             [
              0.7777777777777778,
              "#fb9f3a"
             ],
             [
              0.8888888888888888,
              "#fdca26"
             ],
             [
              1,
              "#f0f921"
             ]
            ],
            "type": "contour"
           }
          ],
          "contourcarpet": [
           {
            "colorbar": {
             "outlinewidth": 0,
             "ticks": ""
            },
            "type": "contourcarpet"
           }
          ],
          "heatmap": [
           {
            "colorbar": {
             "outlinewidth": 0,
             "ticks": ""
            },
            "colorscale": [
             [
              0,
              "#0d0887"
             ],
             [
              0.1111111111111111,
              "#46039f"
             ],
             [
              0.2222222222222222,
              "#7201a8"
             ],
             [
              0.3333333333333333,
              "#9c179e"
             ],
             [
              0.4444444444444444,
              "#bd3786"
             ],
             [
              0.5555555555555556,
              "#d8576b"
             ],
             [
              0.6666666666666666,
              "#ed7953"
             ],
             [
              0.7777777777777778,
              "#fb9f3a"
             ],
             [
              0.8888888888888888,
              "#fdca26"
             ],
             [
              1,
              "#f0f921"
             ]
            ],
            "type": "heatmap"
           }
          ],
          "heatmapgl": [
           {
            "colorbar": {
             "outlinewidth": 0,
             "ticks": ""
            },
            "colorscale": [
             [
              0,
              "#0d0887"
             ],
             [
              0.1111111111111111,
              "#46039f"
             ],
             [
              0.2222222222222222,
              "#7201a8"
             ],
             [
              0.3333333333333333,
              "#9c179e"
             ],
             [
              0.4444444444444444,
              "#bd3786"
             ],
             [
              0.5555555555555556,
              "#d8576b"
             ],
             [
              0.6666666666666666,
              "#ed7953"
             ],
             [
              0.7777777777777778,
              "#fb9f3a"
             ],
             [
              0.8888888888888888,
              "#fdca26"
             ],
             [
              1,
              "#f0f921"
             ]
            ],
            "type": "heatmapgl"
           }
          ],
          "histogram": [
           {
            "marker": {
             "pattern": {
              "fillmode": "overlay",
              "size": 10,
              "solidity": 0.2
             }
            },
            "type": "histogram"
           }
          ],
          "histogram2d": [
           {
            "colorbar": {
             "outlinewidth": 0,
             "ticks": ""
            },
            "colorscale": [
             [
              0,
              "#0d0887"
             ],
             [
              0.1111111111111111,
              "#46039f"
             ],
             [
              0.2222222222222222,
              "#7201a8"
             ],
             [
              0.3333333333333333,
              "#9c179e"
             ],
             [
              0.4444444444444444,
              "#bd3786"
             ],
             [
              0.5555555555555556,
              "#d8576b"
             ],
             [
              0.6666666666666666,
              "#ed7953"
             ],
             [
              0.7777777777777778,
              "#fb9f3a"
             ],
             [
              0.8888888888888888,
              "#fdca26"
             ],
             [
              1,
              "#f0f921"
             ]
            ],
            "type": "histogram2d"
           }
          ],
          "histogram2dcontour": [
           {
            "colorbar": {
             "outlinewidth": 0,
             "ticks": ""
            },
            "colorscale": [
             [
              0,
              "#0d0887"
             ],
             [
              0.1111111111111111,
              "#46039f"
             ],
             [
              0.2222222222222222,
              "#7201a8"
             ],
             [
              0.3333333333333333,
              "#9c179e"
             ],
             [
              0.4444444444444444,
              "#bd3786"
             ],
             [
              0.5555555555555556,
              "#d8576b"
             ],
             [
              0.6666666666666666,
              "#ed7953"
             ],
             [
              0.7777777777777778,
              "#fb9f3a"
             ],
             [
              0.8888888888888888,
              "#fdca26"
             ],
             [
              1,
              "#f0f921"
             ]
            ],
            "type": "histogram2dcontour"
           }
          ],
          "mesh3d": [
           {
            "colorbar": {
             "outlinewidth": 0,
             "ticks": ""
            },
            "type": "mesh3d"
           }
          ],
          "parcoords": [
           {
            "line": {
             "colorbar": {
              "outlinewidth": 0,
              "ticks": ""
             }
            },
            "type": "parcoords"
           }
          ],
          "pie": [
           {
            "automargin": true,
            "type": "pie"
           }
          ],
          "scatter": [
           {
            "fillpattern": {
             "fillmode": "overlay",
             "size": 10,
             "solidity": 0.2
            },
            "type": "scatter"
           }
          ],
          "scatter3d": [
           {
            "line": {
             "colorbar": {
              "outlinewidth": 0,
              "ticks": ""
             }
            },
            "marker": {
             "colorbar": {
              "outlinewidth": 0,
              "ticks": ""
             }
            },
            "type": "scatter3d"
           }
          ],
          "scattercarpet": [
           {
            "marker": {
             "colorbar": {
              "outlinewidth": 0,
              "ticks": ""
             }
            },
            "type": "scattercarpet"
           }
          ],
          "scattergeo": [
           {
            "marker": {
             "colorbar": {
              "outlinewidth": 0,
              "ticks": ""
             }
            },
            "type": "scattergeo"
           }
          ],
          "scattergl": [
           {
            "marker": {
             "colorbar": {
              "outlinewidth": 0,
              "ticks": ""
             }
            },
            "type": "scattergl"
           }
          ],
          "scattermapbox": [
           {
            "marker": {
             "colorbar": {
              "outlinewidth": 0,
              "ticks": ""
             }
            },
            "type": "scattermapbox"
           }
          ],
          "scatterpolar": [
           {
            "marker": {
             "colorbar": {
              "outlinewidth": 0,
              "ticks": ""
             }
            },
            "type": "scatterpolar"
           }
          ],
          "scatterpolargl": [
           {
            "marker": {
             "colorbar": {
              "outlinewidth": 0,
              "ticks": ""
             }
            },
            "type": "scatterpolargl"
           }
          ],
          "scatterternary": [
           {
            "marker": {
             "colorbar": {
              "outlinewidth": 0,
              "ticks": ""
             }
            },
            "type": "scatterternary"
           }
          ],
          "surface": [
           {
            "colorbar": {
             "outlinewidth": 0,
             "ticks": ""
            },
            "colorscale": [
             [
              0,
              "#0d0887"
             ],
             [
              0.1111111111111111,
              "#46039f"
             ],
             [
              0.2222222222222222,
              "#7201a8"
             ],
             [
              0.3333333333333333,
              "#9c179e"
             ],
             [
              0.4444444444444444,
              "#bd3786"
             ],
             [
              0.5555555555555556,
              "#d8576b"
             ],
             [
              0.6666666666666666,
              "#ed7953"
             ],
             [
              0.7777777777777778,
              "#fb9f3a"
             ],
             [
              0.8888888888888888,
              "#fdca26"
             ],
             [
              1,
              "#f0f921"
             ]
            ],
            "type": "surface"
           }
          ],
          "table": [
           {
            "cells": {
             "fill": {
              "color": "#EBF0F8"
             },
             "line": {
              "color": "white"
             }
            },
            "header": {
             "fill": {
              "color": "#C8D4E3"
             },
             "line": {
              "color": "white"
             }
            },
            "type": "table"
           }
          ]
         },
         "layout": {
          "annotationdefaults": {
           "arrowcolor": "#2a3f5f",
           "arrowhead": 0,
           "arrowwidth": 1
          },
          "autotypenumbers": "strict",
          "coloraxis": {
           "colorbar": {
            "outlinewidth": 0,
            "ticks": ""
           }
          },
          "colorscale": {
           "diverging": [
            [
             0,
             "#8e0152"
            ],
            [
             0.1,
             "#c51b7d"
            ],
            [
             0.2,
             "#de77ae"
            ],
            [
             0.3,
             "#f1b6da"
            ],
            [
             0.4,
             "#fde0ef"
            ],
            [
             0.5,
             "#f7f7f7"
            ],
            [
             0.6,
             "#e6f5d0"
            ],
            [
             0.7,
             "#b8e186"
            ],
            [
             0.8,
             "#7fbc41"
            ],
            [
             0.9,
             "#4d9221"
            ],
            [
             1,
             "#276419"
            ]
           ],
           "sequential": [
            [
             0,
             "#0d0887"
            ],
            [
             0.1111111111111111,
             "#46039f"
            ],
            [
             0.2222222222222222,
             "#7201a8"
            ],
            [
             0.3333333333333333,
             "#9c179e"
            ],
            [
             0.4444444444444444,
             "#bd3786"
            ],
            [
             0.5555555555555556,
             "#d8576b"
            ],
            [
             0.6666666666666666,
             "#ed7953"
            ],
            [
             0.7777777777777778,
             "#fb9f3a"
            ],
            [
             0.8888888888888888,
             "#fdca26"
            ],
            [
             1,
             "#f0f921"
            ]
           ],
           "sequentialminus": [
            [
             0,
             "#0d0887"
            ],
            [
             0.1111111111111111,
             "#46039f"
            ],
            [
             0.2222222222222222,
             "#7201a8"
            ],
            [
             0.3333333333333333,
             "#9c179e"
            ],
            [
             0.4444444444444444,
             "#bd3786"
            ],
            [
             0.5555555555555556,
             "#d8576b"
            ],
            [
             0.6666666666666666,
             "#ed7953"
            ],
            [
             0.7777777777777778,
             "#fb9f3a"
            ],
            [
             0.8888888888888888,
             "#fdca26"
            ],
            [
             1,
             "#f0f921"
            ]
           ]
          },
          "colorway": [
           "#636efa",
           "#EF553B",
           "#00cc96",
           "#ab63fa",
           "#FFA15A",
           "#19d3f3",
           "#FF6692",
           "#B6E880",
           "#FF97FF",
           "#FECB52"
          ],
          "font": {
           "color": "#2a3f5f"
          },
          "geo": {
           "bgcolor": "white",
           "lakecolor": "white",
           "landcolor": "#E5ECF6",
           "showlakes": true,
           "showland": true,
           "subunitcolor": "white"
          },
          "hoverlabel": {
           "align": "left"
          },
          "hovermode": "closest",
          "mapbox": {
           "style": "light"
          },
          "paper_bgcolor": "white",
          "plot_bgcolor": "#E5ECF6",
          "polar": {
           "angularaxis": {
            "gridcolor": "white",
            "linecolor": "white",
            "ticks": ""
           },
           "bgcolor": "#E5ECF6",
           "radialaxis": {
            "gridcolor": "white",
            "linecolor": "white",
            "ticks": ""
           }
          },
          "scene": {
           "xaxis": {
            "backgroundcolor": "#E5ECF6",
            "gridcolor": "white",
            "gridwidth": 2,
            "linecolor": "white",
            "showbackground": true,
            "ticks": "",
            "zerolinecolor": "white"
           },
           "yaxis": {
            "backgroundcolor": "#E5ECF6",
            "gridcolor": "white",
            "gridwidth": 2,
            "linecolor": "white",
            "showbackground": true,
            "ticks": "",
            "zerolinecolor": "white"
           },
           "zaxis": {
            "backgroundcolor": "#E5ECF6",
            "gridcolor": "white",
            "gridwidth": 2,
            "linecolor": "white",
            "showbackground": true,
            "ticks": "",
            "zerolinecolor": "white"
           }
          },
          "shapedefaults": {
           "line": {
            "color": "#2a3f5f"
           }
          },
          "ternary": {
           "aaxis": {
            "gridcolor": "white",
            "linecolor": "white",
            "ticks": ""
           },
           "baxis": {
            "gridcolor": "white",
            "linecolor": "white",
            "ticks": ""
           },
           "bgcolor": "#E5ECF6",
           "caxis": {
            "gridcolor": "white",
            "linecolor": "white",
            "ticks": ""
           }
          },
          "title": {
           "x": 0.05
          },
          "xaxis": {
           "automargin": true,
           "gridcolor": "white",
           "linecolor": "white",
           "ticks": "",
           "title": {
            "standoff": 15
           },
           "zerolinecolor": "white",
           "zerolinewidth": 2
          },
          "yaxis": {
           "automargin": true,
           "gridcolor": "white",
           "linecolor": "white",
           "ticks": "",
           "title": {
            "standoff": 15
           },
           "zerolinecolor": "white",
           "zerolinewidth": 2
          }
         }
        },
        "title": {
         "text": "Interactive Plot with Toggle Curves"
        },
        "updatemenus": [
         {
          "buttons": [
           {
            "args": [
             {
              "visible": [
               true,
               true,
               true,
               true,
               true,
               true,
               true,
               true,
               true,
               true,
               true,
               true,
               true,
               true,
               true,
               true,
               true,
               true,
               true,
               true,
               true,
               true,
               true,
               true,
               true,
               true,
               true
              ]
             }
            ],
            "label": "All",
            "method": "update"
           },
           {
            "args": [
             {
              "visible": [
               true,
               false,
               false,
               false,
               false,
               false,
               false,
               false,
               false,
               false,
               false,
               false,
               false,
               false,
               false,
               false,
               false,
               false,
               false,
               false,
               false,
               false,
               false,
               false,
               false,
               false,
               false
              ]
             }
            ],
            "label": "std",
            "method": "update"
           },
           {
            "args": [
             {
              "visible": [
               false,
               true,
               false,
               false,
               false,
               false,
               false,
               false,
               false,
               false,
               false,
               false,
               false,
               false,
               false,
               false,
               false,
               false,
               false,
               false,
               false,
               false,
               false,
               false,
               false,
               false,
               false
              ]
             }
            ],
            "label": "hmin",
            "method": "update"
           },
           {
            "args": [
             {
              "visible": [
               false,
               false,
               true,
               false,
               false,
               false,
               false,
               false,
               false,
               false,
               false,
               false,
               false,
               false,
               false,
               false,
               false,
               false,
               false,
               false,
               false,
               false,
               false,
               false,
               false,
               false,
               false
              ]
             }
            ],
            "label": "l_hmin",
            "method": "update"
           },
           {
            "args": [
             {
              "visible": [
               false,
               false,
               false,
               true,
               false,
               false,
               false,
               false,
               false,
               false,
               false,
               false,
               false,
               false,
               false,
               false,
               false,
               false,
               false,
               false,
               false,
               false,
               false,
               false,
               false,
               false,
               false
              ]
             }
            ],
            "label": "deg_h",
            "method": "update"
           },
           {
            "args": [
             {
              "visible": [
               false,
               false,
               false,
               false,
               true,
               false,
               false,
               false,
               false,
               false,
               false,
               false,
               false,
               false,
               false,
               false,
               false,
               false,
               false,
               false,
               false,
               false,
               false,
               false,
               false,
               false,
               false
              ]
             }
            ],
            "label": "l_deg_h",
            "method": "update"
           },
           {
            "args": [
             {
              "visible": [
               false,
               false,
               false,
               false,
               false,
               true,
               false,
               false,
               false,
               false,
               false,
               false,
               false,
               false,
               false,
               false,
               false,
               false,
               false,
               false,
               false,
               false,
               false,
               false,
               false,
               false,
               false
              ]
             }
            ],
            "label": "H",
            "method": "update"
           },
           {
            "args": [
             {
              "visible": [
               false,
               false,
               false,
               false,
               false,
               false,
               true,
               false,
               false,
               false,
               false,
               false,
               false,
               false,
               false,
               false,
               false,
               false,
               false,
               false,
               false,
               false,
               false,
               false,
               false,
               false,
               false
              ]
             }
            ],
            "label": "l_H",
            "method": "update"
           },
           {
            "args": [
             {
              "visible": [
               false,
               false,
               false,
               false,
               false,
               false,
               false,
               true,
               false,
               false,
               false,
               false,
               false,
               false,
               false,
               false,
               false,
               false,
               false,
               false,
               false,
               false,
               false,
               false,
               false,
               false,
               false
              ]
             }
            ],
            "label": "cumul0",
            "method": "update"
           },
           {
            "args": [
             {
              "visible": [
               false,
               false,
               false,
               false,
               false,
               false,
               false,
               false,
               true,
               false,
               false,
               false,
               false,
               false,
               false,
               false,
               false,
               false,
               false,
               false,
               false,
               false,
               false,
               false,
               false,
               false,
               false
              ]
             }
            ],
            "label": "l_cumul0",
            "method": "update"
           },
           {
            "args": [
             {
              "visible": [
               false,
               false,
               false,
               false,
               false,
               false,
               false,
               false,
               false,
               true,
               false,
               false,
               false,
               false,
               false,
               false,
               false,
               false,
               false,
               false,
               false,
               false,
               false,
               false,
               false,
               false,
               false
              ]
             }
            ],
            "label": "cumul1",
            "method": "update"
           },
           {
            "args": [
             {
              "visible": [
               false,
               false,
               false,
               false,
               false,
               false,
               false,
               false,
               false,
               false,
               true,
               false,
               false,
               false,
               false,
               false,
               false,
               false,
               false,
               false,
               false,
               false,
               false,
               false,
               false,
               false,
               false
              ]
             }
            ],
            "label": "l_cumul1",
            "method": "update"
           },
           {
            "args": [
             {
              "visible": [
               false,
               false,
               false,
               false,
               false,
               false,
               false,
               false,
               false,
               false,
               false,
               true,
               false,
               false,
               false,
               false,
               false,
               false,
               false,
               false,
               false,
               false,
               false,
               false,
               false,
               false,
               false
              ]
             }
            ],
            "label": "cumul2",
            "method": "update"
           },
           {
            "args": [
             {
              "visible": [
               false,
               false,
               false,
               false,
               false,
               false,
               false,
               false,
               false,
               false,
               false,
               false,
               true,
               false,
               false,
               false,
               false,
               false,
               false,
               false,
               false,
               false,
               false,
               false,
               false,
               false,
               false
              ]
             }
            ],
            "label": "l_cumul2",
            "method": "update"
           },
           {
            "args": [
             {
              "visible": [
               false,
               false,
               false,
               false,
               false,
               false,
               false,
               false,
               false,
               false,
               false,
               false,
               false,
               true,
               false,
               false,
               false,
               false,
               false,
               false,
               false,
               false,
               false,
               false,
               false,
               false,
               false
              ]
             }
            ],
            "label": "cumul3",
            "method": "update"
           }
          ],
          "direction": "right",
          "type": "buttons",
          "x": 0.1,
          "xanchor": "left",
          "y": 1.15,
          "yanchor": "top"
         },
         {
          "buttons": [
           {
            "args": [
             {
              "visible": [
               false,
               false,
               false,
               false,
               false,
               false,
               false,
               false,
               false,
               false,
               false,
               false,
               false,
               false,
               true,
               false,
               false,
               false,
               false,
               false,
               false,
               false,
               false,
               false,
               false,
               false,
               false
              ]
             }
            ],
            "label": "l_cumul3",
            "method": "update"
           },
           {
            "args": [
             {
              "visible": [
               false,
               false,
               false,
               false,
               false,
               false,
               false,
               false,
               false,
               false,
               false,
               false,
               false,
               false,
               false,
               true,
               false,
               false,
               false,
               false,
               false,
               false,
               false,
               false,
               false,
               false,
               false
              ]
             }
            ],
            "label": " zeta(q=-10)",
            "method": "update"
           },
           {
            "args": [
             {
              "visible": [
               false,
               false,
               false,
               false,
               false,
               false,
               false,
               false,
               false,
               false,
               false,
               false,
               false,
               false,
               false,
               false,
               true,
               false,
               false,
               false,
               false,
               false,
               false,
               false,
               false,
               false,
               false
              ]
             }
            ],
            "label": " zeta(q=-5)",
            "method": "update"
           },
           {
            "args": [
             {
              "visible": [
               false,
               false,
               false,
               false,
               false,
               false,
               false,
               false,
               false,
               false,
               false,
               false,
               false,
               false,
               false,
               false,
               false,
               true,
               false,
               false,
               false,
               false,
               false,
               false,
               false,
               false,
               false
              ]
             }
            ],
            "label": " zeta(q=-4)",
            "method": "update"
           },
           {
            "args": [
             {
              "visible": [
               false,
               false,
               false,
               false,
               false,
               false,
               false,
               false,
               false,
               false,
               false,
               false,
               false,
               false,
               false,
               false,
               false,
               false,
               true,
               false,
               false,
               false,
               false,
               false,
               false,
               false,
               false
              ]
             }
            ],
            "label": " zeta(q=-3)",
            "method": "update"
           },
           {
            "args": [
             {
              "visible": [
               false,
               false,
               false,
               false,
               false,
               false,
               false,
               false,
               false,
               false,
               false,
               false,
               false,
               false,
               false,
               false,
               false,
               false,
               false,
               true,
               false,
               false,
               false,
               false,
               false,
               false,
               false
              ]
             }
            ],
            "label": " zeta(q=-2)",
            "method": "update"
           },
           {
            "args": [
             {
              "visible": [
               false,
               false,
               false,
               false,
               false,
               false,
               false,
               false,
               false,
               false,
               false,
               false,
               false,
               false,
               false,
               false,
               false,
               false,
               false,
               false,
               true,
               false,
               false,
               false,
               false,
               false,
               false
              ]
             }
            ],
            "label": " zeta(q=-1)",
            "method": "update"
           },
           {
            "args": [
             {
              "visible": [
               false,
               false,
               false,
               false,
               false,
               false,
               false,
               false,
               false,
               false,
               false,
               false,
               false,
               false,
               false,
               false,
               false,
               false,
               false,
               false,
               false,
               true,
               false,
               false,
               false,
               false,
               false
              ]
             }
            ],
            "label": " zeta(q=1)",
            "method": "update"
           },
           {
            "args": [
             {
              "visible": [
               false,
               false,
               false,
               false,
               false,
               false,
               false,
               false,
               false,
               false,
               false,
               false,
               false,
               false,
               false,
               false,
               false,
               false,
               false,
               false,
               false,
               false,
               true,
               false,
               false,
               false,
               false
              ]
             }
            ],
            "label": " zeta(q=2)",
            "method": "update"
           },
           {
            "args": [
             {
              "visible": [
               false,
               false,
               false,
               false,
               false,
               false,
               false,
               false,
               false,
               false,
               false,
               false,
               false,
               false,
               false,
               false,
               false,
               false,
               false,
               false,
               false,
               false,
               false,
               true,
               false,
               false,
               false
              ]
             }
            ],
            "label": " zeta(q=3)",
            "method": "update"
           },
           {
            "args": [
             {
              "visible": [
               false,
               false,
               false,
               false,
               false,
               false,
               false,
               false,
               false,
               false,
               false,
               false,
               false,
               false,
               false,
               false,
               false,
               false,
               false,
               false,
               false,
               false,
               false,
               false,
               true,
               false,
               false
              ]
             }
            ],
            "label": " zeta(q=4)",
            "method": "update"
           },
           {
            "args": [
             {
              "visible": [
               false,
               false,
               false,
               false,
               false,
               false,
               false,
               false,
               false,
               false,
               false,
               false,
               false,
               false,
               false,
               false,
               false,
               false,
               false,
               false,
               false,
               false,
               false,
               false,
               false,
               true,
               false
              ]
             }
            ],
            "label": " zeta(q=5)",
            "method": "update"
           },
           {
            "args": [
             {
              "visible": [
               false,
               false,
               false,
               false,
               false,
               false,
               false,
               false,
               false,
               false,
               false,
               false,
               false,
               false,
               false,
               false,
               false,
               false,
               false,
               false,
               false,
               false,
               false,
               false,
               false,
               false,
               true
              ]
             }
            ],
            "label": " zeta(q=10)",
            "method": "update"
           },
           {
            "args": [
             {
              "visible": [
               false,
               false,
               false,
               false,
               false,
               false,
               false,
               false,
               false,
               false,
               false,
               false,
               false,
               false,
               false,
               false,
               false,
               false,
               false,
               false,
               false,
               false,
               false,
               false,
               false,
               false,
               false
              ]
             }
            ],
            "label": "None",
            "method": "update"
           }
          ],
          "direction": "right",
          "type": "buttons",
          "x": 0.1,
          "xanchor": "left",
          "y": 1.0499999999999998,
          "yanchor": "top"
         }
        ],
        "xaxis": {
         "title": {
          "text": "X Axis"
         }
        },
        "yaxis": {
         "title": {
          "text": "Y Axis"
         }
        }
       }
      }
     },
     "metadata": {},
     "output_type": "display_data"
    }
   ],
   "source": [
    "p_exps = [1,2,3,np.inf]\n",
    "\n",
    "signals_mean = []\n",
    "signals_std = []\n",
    "for p_exp in p_exps:\n",
    "    df_mfa = get_df_mfa(X,n_cumul=4,j1=2,j2=j2,p_exp=p_exp)\n",
    "    y = np.array(np.mean(df_mfa, axis = 0),dtype=np.float32)\n",
    "    y_std = np.array(np.std(df_mfa, axis = 0),dtype=np.float32)\n",
    "    signals_mean.append(y)\n",
    "    signals_std.append(y_std)\n",
    "signals_mean = np.array(signals_mean).T\n",
    "signals_std = np.array(signals_std).T\n"
   ]
  },
  {
   "cell_type": "code",
   "execution_count": 84,
   "metadata": {},
   "outputs": [
    {
     "data": {
      "application/vnd.plotly.v1+json": {
       "config": {
        "plotlyServerURL": "https://plot.ly"
       },
       "data": [
        {
         "error_y": {
          "array": [
           0.39765119552612305,
           0.39765119552612305,
           0.39765119552612305,
           0.39765119552612305
          ],
          "type": "data",
          "visible": true
         },
         "mode": "lines",
         "name": "std",
         "type": "scatter",
         "x": [
          0,
          1,
          2,
          3
         ],
         "y": [
          0.9992766380310059,
          0.9992766380310059,
          0.9992766380310059,
          0.9992766380310059
         ]
        },
        {
         "error_y": {
          "array": [
           0.03734185919165611,
           0.03734185919165611,
           0.03734185919165611,
           0.03734185919165611
          ],
          "type": "data",
          "visible": true
         },
         "mode": "lines",
         "name": "hmin",
         "type": "scatter",
         "x": [
          0,
          1,
          2,
          3
         ],
         "y": [
          0.11413131654262543,
          0.11413131654262543,
          0.11413131654262543,
          0.11413131654262543
         ]
        },
        {
         "error_y": {
          "array": [
           null,
           null,
           null,
           null
          ],
          "type": "data",
          "visible": true
         },
         "mode": "lines",
         "name": "l_hmin",
         "type": "scatter",
         "x": [
          0,
          1,
          2,
          3
         ],
         "y": [
          null,
          null,
          null,
          null
         ]
        },
        {
         "error_y": {
          "array": [
           0.20703260600566864,
           0.20703260600566864,
           0.20703260600566864,
           0.20703260600566864
          ],
          "type": "data",
          "visible": true
         },
         "mode": "lines",
         "name": "deg_h",
         "type": "scatter",
         "x": [
          0,
          1,
          2,
          3
         ],
         "y": [
          1.2661352157592773,
          1.2661352157592773,
          1.2661352157592773,
          1.2661352157592773
         ]
        },
        {
         "error_y": {
          "array": [
           0.05078153684735298,
           0.05320154130458832,
           0.05493858829140663,
           0.06214899569749832
          ],
          "type": "data",
          "visible": true
         },
         "mode": "lines",
         "name": "l_deg_h",
         "type": "scatter",
         "x": [
          0,
          1,
          2,
          3
         ],
         "y": [
          0.4735812842845917,
          0.4429980516433716,
          0.43089166283607483,
          0.4489058256149292
         ]
        },
        {
         "error_y": {
          "array": [
           0.01852978952229023,
           0.01852978952229023,
           0.01852978952229023,
           0.01852978952229023
          ],
          "type": "data",
          "visible": true
         },
         "mode": "lines",
         "name": "H",
         "type": "scatter",
         "x": [
          0,
          1,
          2,
          3
         ],
         "y": [
          0.3218144476413727,
          0.3218144476413727,
          0.3218144476413727,
          0.3218144476413727
         ]
        },
        {
         "error_y": {
          "array": [
           0.01322890818119049,
           0.013935161754488945,
           0.01473083533346653,
           0.014302138239145279
          ],
          "type": "data",
          "visible": true
         },
         "mode": "lines",
         "name": "l_H",
         "type": "scatter",
         "x": [
          0,
          1,
          2,
          3
         ],
         "y": [
          0.28945326805114746,
          0.29591700434684753,
          0.2994304895401001,
          0.2996402680873871
         ]
        },
        {
         "error_y": {
          "array": [
           0.021879669278860092,
           0.021879669278860092,
           0.021879669278860092,
           0.021879669278860092
          ],
          "type": "data",
          "visible": true
         },
         "mode": "lines",
         "name": "cumul0",
         "type": "scatter",
         "x": [
          0,
          1,
          2,
          3
         ],
         "y": [
          0.351248562335968,
          0.351248562335968,
          0.351248562335968,
          0.351248562335968
         ]
        },
        {
         "error_y": {
          "array": [
           0.012233688496053219,
           0.012060722336173058,
           0.012221300974488258,
           0.011249551549553871
          ],
          "type": "data",
          "visible": true
         },
         "mode": "lines",
         "name": "l_cumul0",
         "type": "scatter",
         "x": [
          0,
          1,
          2,
          3
         ],
         "y": [
          0.32445743680000305,
          0.3271602392196655,
          0.3285999000072479,
          0.33037325739860535
         ]
        },
        {
         "error_y": {
          "array": [
           0.05243586003780365,
           0.05243586003780365,
           0.05243586003780365,
           0.05243586003780365
          ],
          "type": "data",
          "visible": true
         },
         "mode": "lines",
         "name": "cumul1",
         "type": "scatter",
         "x": [
          0,
          1,
          2,
          3
         ],
         "y": [
          -0.03190984949469566,
          -0.03190984949469566,
          -0.03190984949469566,
          -0.03190984949469566
         ]
        },
        {
         "error_y": {
          "array": [
           0.003963910974562168,
           0.004866268485784531,
           0.005549558438360691,
           0.006316106300801039
          ],
          "type": "data",
          "visible": true
         },
         "mode": "lines",
         "name": "l_cumul1",
         "type": "scatter",
         "x": [
          0,
          1,
          2,
          3
         ],
         "y": [
          -0.03553197905421257,
          -0.03165889531373978,
          -0.02956986427307129,
          -0.03108198009431362
         ]
        },
        {
         "error_y": {
          "array": [
           0.24444568157196045,
           0.24444568157196045,
           0.24444568157196045,
           0.24444568157196045
          ],
          "type": "data",
          "visible": true
         },
         "mode": "lines",
         "name": "cumul2",
         "type": "scatter",
         "x": [
          0,
          1,
          2,
          3
         ],
         "y": [
          0.031047794967889786,
          0.031047794967889786,
          0.031047794967889786,
          0.031047794967889786
         ]
        },
        {
         "error_y": {
          "array": [
           0.0027147477958351374,
           0.0031736039090901613,
           0.0036275091115385294,
           0.004230401013046503
          ],
          "type": "data",
          "visible": true
         },
         "mode": "lines",
         "name": "l_cumul2",
         "type": "scatter",
         "x": [
          0,
          1,
          2,
          3
         ],
         "y": [
          0.0009546523215249181,
          0.0009366447920911014,
          0.001078842207789421,
          0.0011257940204814076
         ]
        },
        {
         "error_y": {
          "array": [
           1.4403138160705566,
           1.4403138160705566,
           1.4403138160705566,
           1.4403138160705566
          ],
          "type": "data",
          "visible": true
         },
         "mode": "lines",
         "name": "cumul3",
         "type": "scatter",
         "x": [
          0,
          1,
          2,
          3
         ],
         "y": [
          -0.2579548954963684,
          -0.2579548954963684,
          -0.2579548954963684,
          -0.2579548954963684
         ]
        },
        {
         "error_y": {
          "array": [
           0.002209726022556424,
           0.0024896615650504827,
           0.0028126260731369257,
           0.003247477114200592
          ],
          "type": "data",
          "visible": true
         },
         "mode": "lines",
         "name": "l_cumul3",
         "type": "scatter",
         "x": [
          0,
          1,
          2,
          3
         ],
         "y": [
          -0.00037251602043397725,
          -0.000599204795435071,
          -0.000827764393761754,
          -0.0009599526529200375
         ]
        },
        {
         "error_y": {
          "array": [
           0.2701738178730011,
           0.27512577176094055,
           0.2804178297519684,
           0.2849675714969635
          ],
          "type": "data",
          "visible": true
         },
         "mode": "lines",
         "name": " zeta(q=-10)",
         "type": "scatter",
         "x": [
          0,
          1,
          2,
          3
         ],
         "y": [
          -4.833244323730469,
          -4.730208873748779,
          -4.689705848693848,
          -4.766410827636719
         ]
        },
        {
         "error_y": {
          "array": [
           0.09239602088928223,
           0.09319925308227539,
           0.09533286839723587,
           0.0962706059217453
          ],
          "type": "data",
          "visible": true
         },
         "mode": "lines",
         "name": " zeta(q=-5)",
         "type": "scatter",
         "x": [
          0,
          1,
          2,
          3
         ],
         "y": [
          -2.0836143493652344,
          -2.0528173446655273,
          -2.0400242805480957,
          -2.068819522857666
         ]
        },
        {
         "error_y": {
          "array": [
           0.06379305571317673,
           0.0638311430811882,
           0.06515640020370483,
           0.0650196224451065
          ],
          "type": "data",
          "visible": true
         },
         "mode": "lines",
         "name": " zeta(q=-4)",
         "type": "scatter",
         "x": [
          0,
          1,
          2,
          3
         ],
         "y": [
          -1.5933171510696411,
          -1.5747785568237305,
          -1.5668071508407593,
          -1.5867525339126587
         ]
        },
        {
         "error_y": {
          "array": [
           0.04164969548583031,
           0.04106265306472778,
           0.041683129966259,
           0.040736567229032516
          ],
          "type": "data",
          "visible": true
         },
         "mode": "lines",
         "name": " zeta(q=-3)",
         "type": "scatter",
         "x": [
          0,
          1,
          2,
          3
         ],
         "y": [
          -1.1383824348449707,
          -1.1295838356018066,
          -1.1256626844406128,
          -1.1381384134292603
         ]
        },
        {
         "error_y": {
          "array": [
           0.025292888283729553,
           0.02456817403435707,
           0.02475563809275627,
           0.023521851748228073
          ],
          "type": "data",
          "visible": true
         },
         "mode": "lines",
         "name": " zeta(q=-2)",
         "type": "scatter",
         "x": [
          0,
          1,
          2,
          3
         ],
         "y": [
          -0.7214699387550354,
          -0.7192329168319702,
          -0.718239426612854,
          -0.7249132394790649
         ]
        },
        {
         "error_y": {
          "array": [
           0.012186472304165363,
           0.011818035505712032,
           0.01187959872186184,
           0.011012592352926731
          ],
          "type": "data",
          "visible": true
         },
         "mode": "lines",
         "name": " zeta(q=-1)",
         "type": "scatter",
         "x": [
          0,
          1,
          2,
          3
         ],
         "y": [
          -0.3423977494239807,
          -0.343169629573822,
          -0.3435966670513153,
          -0.3461376130580902
         ]
        },
        {
         "error_y": {
          "array": [
           0.012594650499522686,
           0.01279368158429861,
           0.0132016371935606,
           0.012363370507955551
          ],
          "type": "data",
          "visible": true
         },
         "mode": "lines",
         "name": " zeta(q=1)",
         "type": "scatter",
         "x": [
          0,
          1,
          2,
          3
         ],
         "y": [
          0.3068355917930603,
          0.3114611804485321,
          0.3139575719833374,
          0.3149747848510742
         ]
        },
        {
         "error_y": {
          "array": [
           0.02645781636238098,
           0.02787032350897789,
           0.02946167066693306,
           0.028604276478290558
          ],
          "type": "data",
          "visible": true
         },
         "mode": "lines",
         "name": " zeta(q=2)",
         "type": "scatter",
         "x": [
          0,
          1,
          2,
          3
         ],
         "y": [
          0.5789065361022949,
          0.5918340086936951,
          0.5988609790802002,
          0.5992805361747742
         ]
        },
        {
         "error_y": {
          "array": [
           0.04262092709541321,
           0.04641638696193695,
           0.05014384910464287,
           0.050622884184122086
          ],
          "type": "data",
          "visible": true
         },
         "mode": "lines",
         "name": " zeta(q=3)",
         "type": "scatter",
         "x": [
          0,
          1,
          2,
          3
         ],
         "y": [
          0.8168774843215942,
          0.8411909341812134,
          0.8542896509170532,
          0.8520559072494507
         ]
        },
        {
         "error_y": {
          "array": [
           0.06257875263690948,
           0.06962691247463226,
           0.07616100460290909,
           0.07933498173952103
          ],
          "type": "data",
          "visible": true
         },
         "mode": "lines",
         "name": " zeta(q=4)",
         "type": "scatter",
         "x": [
          0,
          1,
          2,
          3
         ],
         "y": [
          1.0219608545303345,
          1.0597435235977173,
          1.0795739889144897,
          1.072042465209961
         ]
        },
        {
         "error_y": {
          "array": [
           0.0876588448882103,
           0.09832894802093506,
           0.10788216441869736,
           0.11521582305431366
          ],
          "type": "data",
          "visible": true
         },
         "mode": "lines",
         "name": " zeta(q=5)",
         "type": "scatter",
         "x": [
          0,
          1,
          2,
          3
         ],
         "y": [
          1.1970603466033936,
          1.2494046688079834,
          1.2758868932724,
          1.2604156732559204
         ]
        },
        {
         "error_y": {
          "array": [
           0.2586893141269684,
           0.28533878922462463,
           0.3070771098136902,
           0.3477703332901001
          ],
          "type": "data",
          "visible": true
         },
         "mode": "lines",
         "name": " zeta(q=10)",
         "type": "scatter",
         "x": [
          0,
          1,
          2,
          3
         ],
         "y": [
          1.8056014776229858,
          1.9360027313232422,
          1.9940240383148193,
          1.9302394390106201
         ]
        }
       ],
       "layout": {
        "legend": {
         "title": {
          "text": "Curves"
         }
        },
        "template": {
         "data": {
          "bar": [
           {
            "error_x": {
             "color": "#2a3f5f"
            },
            "error_y": {
             "color": "#2a3f5f"
            },
            "marker": {
             "line": {
              "color": "#E5ECF6",
              "width": 0.5
             },
             "pattern": {
              "fillmode": "overlay",
              "size": 10,
              "solidity": 0.2
             }
            },
            "type": "bar"
           }
          ],
          "barpolar": [
           {
            "marker": {
             "line": {
              "color": "#E5ECF6",
              "width": 0.5
             },
             "pattern": {
              "fillmode": "overlay",
              "size": 10,
              "solidity": 0.2
             }
            },
            "type": "barpolar"
           }
          ],
          "carpet": [
           {
            "aaxis": {
             "endlinecolor": "#2a3f5f",
             "gridcolor": "white",
             "linecolor": "white",
             "minorgridcolor": "white",
             "startlinecolor": "#2a3f5f"
            },
            "baxis": {
             "endlinecolor": "#2a3f5f",
             "gridcolor": "white",
             "linecolor": "white",
             "minorgridcolor": "white",
             "startlinecolor": "#2a3f5f"
            },
            "type": "carpet"
           }
          ],
          "choropleth": [
           {
            "colorbar": {
             "outlinewidth": 0,
             "ticks": ""
            },
            "type": "choropleth"
           }
          ],
          "contour": [
           {
            "colorbar": {
             "outlinewidth": 0,
             "ticks": ""
            },
            "colorscale": [
             [
              0,
              "#0d0887"
             ],
             [
              0.1111111111111111,
              "#46039f"
             ],
             [
              0.2222222222222222,
              "#7201a8"
             ],
             [
              0.3333333333333333,
              "#9c179e"
             ],
             [
              0.4444444444444444,
              "#bd3786"
             ],
             [
              0.5555555555555556,
              "#d8576b"
             ],
             [
              0.6666666666666666,
              "#ed7953"
             ],
             [
              0.7777777777777778,
              "#fb9f3a"
             ],
             [
              0.8888888888888888,
              "#fdca26"
             ],
             [
              1,
              "#f0f921"
             ]
            ],
            "type": "contour"
           }
          ],
          "contourcarpet": [
           {
            "colorbar": {
             "outlinewidth": 0,
             "ticks": ""
            },
            "type": "contourcarpet"
           }
          ],
          "heatmap": [
           {
            "colorbar": {
             "outlinewidth": 0,
             "ticks": ""
            },
            "colorscale": [
             [
              0,
              "#0d0887"
             ],
             [
              0.1111111111111111,
              "#46039f"
             ],
             [
              0.2222222222222222,
              "#7201a8"
             ],
             [
              0.3333333333333333,
              "#9c179e"
             ],
             [
              0.4444444444444444,
              "#bd3786"
             ],
             [
              0.5555555555555556,
              "#d8576b"
             ],
             [
              0.6666666666666666,
              "#ed7953"
             ],
             [
              0.7777777777777778,
              "#fb9f3a"
             ],
             [
              0.8888888888888888,
              "#fdca26"
             ],
             [
              1,
              "#f0f921"
             ]
            ],
            "type": "heatmap"
           }
          ],
          "heatmapgl": [
           {
            "colorbar": {
             "outlinewidth": 0,
             "ticks": ""
            },
            "colorscale": [
             [
              0,
              "#0d0887"
             ],
             [
              0.1111111111111111,
              "#46039f"
             ],
             [
              0.2222222222222222,
              "#7201a8"
             ],
             [
              0.3333333333333333,
              "#9c179e"
             ],
             [
              0.4444444444444444,
              "#bd3786"
             ],
             [
              0.5555555555555556,
              "#d8576b"
             ],
             [
              0.6666666666666666,
              "#ed7953"
             ],
             [
              0.7777777777777778,
              "#fb9f3a"
             ],
             [
              0.8888888888888888,
              "#fdca26"
             ],
             [
              1,
              "#f0f921"
             ]
            ],
            "type": "heatmapgl"
           }
          ],
          "histogram": [
           {
            "marker": {
             "pattern": {
              "fillmode": "overlay",
              "size": 10,
              "solidity": 0.2
             }
            },
            "type": "histogram"
           }
          ],
          "histogram2d": [
           {
            "colorbar": {
             "outlinewidth": 0,
             "ticks": ""
            },
            "colorscale": [
             [
              0,
              "#0d0887"
             ],
             [
              0.1111111111111111,
              "#46039f"
             ],
             [
              0.2222222222222222,
              "#7201a8"
             ],
             [
              0.3333333333333333,
              "#9c179e"
             ],
             [
              0.4444444444444444,
              "#bd3786"
             ],
             [
              0.5555555555555556,
              "#d8576b"
             ],
             [
              0.6666666666666666,
              "#ed7953"
             ],
             [
              0.7777777777777778,
              "#fb9f3a"
             ],
             [
              0.8888888888888888,
              "#fdca26"
             ],
             [
              1,
              "#f0f921"
             ]
            ],
            "type": "histogram2d"
           }
          ],
          "histogram2dcontour": [
           {
            "colorbar": {
             "outlinewidth": 0,
             "ticks": ""
            },
            "colorscale": [
             [
              0,
              "#0d0887"
             ],
             [
              0.1111111111111111,
              "#46039f"
             ],
             [
              0.2222222222222222,
              "#7201a8"
             ],
             [
              0.3333333333333333,
              "#9c179e"
             ],
             [
              0.4444444444444444,
              "#bd3786"
             ],
             [
              0.5555555555555556,
              "#d8576b"
             ],
             [
              0.6666666666666666,
              "#ed7953"
             ],
             [
              0.7777777777777778,
              "#fb9f3a"
             ],
             [
              0.8888888888888888,
              "#fdca26"
             ],
             [
              1,
              "#f0f921"
             ]
            ],
            "type": "histogram2dcontour"
           }
          ],
          "mesh3d": [
           {
            "colorbar": {
             "outlinewidth": 0,
             "ticks": ""
            },
            "type": "mesh3d"
           }
          ],
          "parcoords": [
           {
            "line": {
             "colorbar": {
              "outlinewidth": 0,
              "ticks": ""
             }
            },
            "type": "parcoords"
           }
          ],
          "pie": [
           {
            "automargin": true,
            "type": "pie"
           }
          ],
          "scatter": [
           {
            "fillpattern": {
             "fillmode": "overlay",
             "size": 10,
             "solidity": 0.2
            },
            "type": "scatter"
           }
          ],
          "scatter3d": [
           {
            "line": {
             "colorbar": {
              "outlinewidth": 0,
              "ticks": ""
             }
            },
            "marker": {
             "colorbar": {
              "outlinewidth": 0,
              "ticks": ""
             }
            },
            "type": "scatter3d"
           }
          ],
          "scattercarpet": [
           {
            "marker": {
             "colorbar": {
              "outlinewidth": 0,
              "ticks": ""
             }
            },
            "type": "scattercarpet"
           }
          ],
          "scattergeo": [
           {
            "marker": {
             "colorbar": {
              "outlinewidth": 0,
              "ticks": ""
             }
            },
            "type": "scattergeo"
           }
          ],
          "scattergl": [
           {
            "marker": {
             "colorbar": {
              "outlinewidth": 0,
              "ticks": ""
             }
            },
            "type": "scattergl"
           }
          ],
          "scattermapbox": [
           {
            "marker": {
             "colorbar": {
              "outlinewidth": 0,
              "ticks": ""
             }
            },
            "type": "scattermapbox"
           }
          ],
          "scatterpolar": [
           {
            "marker": {
             "colorbar": {
              "outlinewidth": 0,
              "ticks": ""
             }
            },
            "type": "scatterpolar"
           }
          ],
          "scatterpolargl": [
           {
            "marker": {
             "colorbar": {
              "outlinewidth": 0,
              "ticks": ""
             }
            },
            "type": "scatterpolargl"
           }
          ],
          "scatterternary": [
           {
            "marker": {
             "colorbar": {
              "outlinewidth": 0,
              "ticks": ""
             }
            },
            "type": "scatterternary"
           }
          ],
          "surface": [
           {
            "colorbar": {
             "outlinewidth": 0,
             "ticks": ""
            },
            "colorscale": [
             [
              0,
              "#0d0887"
             ],
             [
              0.1111111111111111,
              "#46039f"
             ],
             [
              0.2222222222222222,
              "#7201a8"
             ],
             [
              0.3333333333333333,
              "#9c179e"
             ],
             [
              0.4444444444444444,
              "#bd3786"
             ],
             [
              0.5555555555555556,
              "#d8576b"
             ],
             [
              0.6666666666666666,
              "#ed7953"
             ],
             [
              0.7777777777777778,
              "#fb9f3a"
             ],
             [
              0.8888888888888888,
              "#fdca26"
             ],
             [
              1,
              "#f0f921"
             ]
            ],
            "type": "surface"
           }
          ],
          "table": [
           {
            "cells": {
             "fill": {
              "color": "#EBF0F8"
             },
             "line": {
              "color": "white"
             }
            },
            "header": {
             "fill": {
              "color": "#C8D4E3"
             },
             "line": {
              "color": "white"
             }
            },
            "type": "table"
           }
          ]
         },
         "layout": {
          "annotationdefaults": {
           "arrowcolor": "#2a3f5f",
           "arrowhead": 0,
           "arrowwidth": 1
          },
          "autotypenumbers": "strict",
          "coloraxis": {
           "colorbar": {
            "outlinewidth": 0,
            "ticks": ""
           }
          },
          "colorscale": {
           "diverging": [
            [
             0,
             "#8e0152"
            ],
            [
             0.1,
             "#c51b7d"
            ],
            [
             0.2,
             "#de77ae"
            ],
            [
             0.3,
             "#f1b6da"
            ],
            [
             0.4,
             "#fde0ef"
            ],
            [
             0.5,
             "#f7f7f7"
            ],
            [
             0.6,
             "#e6f5d0"
            ],
            [
             0.7,
             "#b8e186"
            ],
            [
             0.8,
             "#7fbc41"
            ],
            [
             0.9,
             "#4d9221"
            ],
            [
             1,
             "#276419"
            ]
           ],
           "sequential": [
            [
             0,
             "#0d0887"
            ],
            [
             0.1111111111111111,
             "#46039f"
            ],
            [
             0.2222222222222222,
             "#7201a8"
            ],
            [
             0.3333333333333333,
             "#9c179e"
            ],
            [
             0.4444444444444444,
             "#bd3786"
            ],
            [
             0.5555555555555556,
             "#d8576b"
            ],
            [
             0.6666666666666666,
             "#ed7953"
            ],
            [
             0.7777777777777778,
             "#fb9f3a"
            ],
            [
             0.8888888888888888,
             "#fdca26"
            ],
            [
             1,
             "#f0f921"
            ]
           ],
           "sequentialminus": [
            [
             0,
             "#0d0887"
            ],
            [
             0.1111111111111111,
             "#46039f"
            ],
            [
             0.2222222222222222,
             "#7201a8"
            ],
            [
             0.3333333333333333,
             "#9c179e"
            ],
            [
             0.4444444444444444,
             "#bd3786"
            ],
            [
             0.5555555555555556,
             "#d8576b"
            ],
            [
             0.6666666666666666,
             "#ed7953"
            ],
            [
             0.7777777777777778,
             "#fb9f3a"
            ],
            [
             0.8888888888888888,
             "#fdca26"
            ],
            [
             1,
             "#f0f921"
            ]
           ]
          },
          "colorway": [
           "#636efa",
           "#EF553B",
           "#00cc96",
           "#ab63fa",
           "#FFA15A",
           "#19d3f3",
           "#FF6692",
           "#B6E880",
           "#FF97FF",
           "#FECB52"
          ],
          "font": {
           "color": "#2a3f5f"
          },
          "geo": {
           "bgcolor": "white",
           "lakecolor": "white",
           "landcolor": "#E5ECF6",
           "showlakes": true,
           "showland": true,
           "subunitcolor": "white"
          },
          "hoverlabel": {
           "align": "left"
          },
          "hovermode": "closest",
          "mapbox": {
           "style": "light"
          },
          "paper_bgcolor": "white",
          "plot_bgcolor": "#E5ECF6",
          "polar": {
           "angularaxis": {
            "gridcolor": "white",
            "linecolor": "white",
            "ticks": ""
           },
           "bgcolor": "#E5ECF6",
           "radialaxis": {
            "gridcolor": "white",
            "linecolor": "white",
            "ticks": ""
           }
          },
          "scene": {
           "xaxis": {
            "backgroundcolor": "#E5ECF6",
            "gridcolor": "white",
            "gridwidth": 2,
            "linecolor": "white",
            "showbackground": true,
            "ticks": "",
            "zerolinecolor": "white"
           },
           "yaxis": {
            "backgroundcolor": "#E5ECF6",
            "gridcolor": "white",
            "gridwidth": 2,
            "linecolor": "white",
            "showbackground": true,
            "ticks": "",
            "zerolinecolor": "white"
           },
           "zaxis": {
            "backgroundcolor": "#E5ECF6",
            "gridcolor": "white",
            "gridwidth": 2,
            "linecolor": "white",
            "showbackground": true,
            "ticks": "",
            "zerolinecolor": "white"
           }
          },
          "shapedefaults": {
           "line": {
            "color": "#2a3f5f"
           }
          },
          "ternary": {
           "aaxis": {
            "gridcolor": "white",
            "linecolor": "white",
            "ticks": ""
           },
           "baxis": {
            "gridcolor": "white",
            "linecolor": "white",
            "ticks": ""
           },
           "bgcolor": "#E5ECF6",
           "caxis": {
            "gridcolor": "white",
            "linecolor": "white",
            "ticks": ""
           }
          },
          "title": {
           "x": 0.05
          },
          "xaxis": {
           "automargin": true,
           "gridcolor": "white",
           "linecolor": "white",
           "ticks": "",
           "title": {
            "standoff": 15
           },
           "zerolinecolor": "white",
           "zerolinewidth": 2
          },
          "yaxis": {
           "automargin": true,
           "gridcolor": "white",
           "linecolor": "white",
           "ticks": "",
           "title": {
            "standoff": 15
           },
           "zerolinecolor": "white",
           "zerolinewidth": 2
          }
         }
        },
        "title": {
         "text": "Interactive Plot with Toggle Curves"
        },
        "updatemenus": [
         {
          "buttons": [
           {
            "args": [
             {
              "visible": [
               true,
               true,
               true,
               true,
               true,
               true,
               true,
               true,
               true,
               true,
               true,
               true,
               true,
               true,
               true,
               true,
               true,
               true,
               true,
               true,
               true,
               true,
               true,
               true,
               true,
               true,
               true
              ]
             }
            ],
            "label": "All",
            "method": "update"
           },
           {
            "args": [
             {
              "visible": [
               true,
               false,
               false,
               false,
               false,
               false,
               false,
               false,
               false,
               false,
               false,
               false,
               false,
               false,
               false,
               false,
               false,
               false,
               false,
               false,
               false,
               false,
               false,
               false,
               false,
               false,
               false
              ]
             }
            ],
            "label": "std",
            "method": "update"
           },
           {
            "args": [
             {
              "visible": [
               false,
               true,
               false,
               false,
               false,
               false,
               false,
               false,
               false,
               false,
               false,
               false,
               false,
               false,
               false,
               false,
               false,
               false,
               false,
               false,
               false,
               false,
               false,
               false,
               false,
               false,
               false
              ]
             }
            ],
            "label": "hmin",
            "method": "update"
           },
           {
            "args": [
             {
              "visible": [
               false,
               false,
               true,
               false,
               false,
               false,
               false,
               false,
               false,
               false,
               false,
               false,
               false,
               false,
               false,
               false,
               false,
               false,
               false,
               false,
               false,
               false,
               false,
               false,
               false,
               false,
               false
              ]
             }
            ],
            "label": "l_hmin",
            "method": "update"
           },
           {
            "args": [
             {
              "visible": [
               false,
               false,
               false,
               true,
               false,
               false,
               false,
               false,
               false,
               false,
               false,
               false,
               false,
               false,
               false,
               false,
               false,
               false,
               false,
               false,
               false,
               false,
               false,
               false,
               false,
               false,
               false
              ]
             }
            ],
            "label": "deg_h",
            "method": "update"
           },
           {
            "args": [
             {
              "visible": [
               false,
               false,
               false,
               false,
               true,
               false,
               false,
               false,
               false,
               false,
               false,
               false,
               false,
               false,
               false,
               false,
               false,
               false,
               false,
               false,
               false,
               false,
               false,
               false,
               false,
               false,
               false
              ]
             }
            ],
            "label": "l_deg_h",
            "method": "update"
           },
           {
            "args": [
             {
              "visible": [
               false,
               false,
               false,
               false,
               false,
               true,
               false,
               false,
               false,
               false,
               false,
               false,
               false,
               false,
               false,
               false,
               false,
               false,
               false,
               false,
               false,
               false,
               false,
               false,
               false,
               false,
               false
              ]
             }
            ],
            "label": "H",
            "method": "update"
           },
           {
            "args": [
             {
              "visible": [
               false,
               false,
               false,
               false,
               false,
               false,
               true,
               false,
               false,
               false,
               false,
               false,
               false,
               false,
               false,
               false,
               false,
               false,
               false,
               false,
               false,
               false,
               false,
               false,
               false,
               false,
               false
              ]
             }
            ],
            "label": "l_H",
            "method": "update"
           },
           {
            "args": [
             {
              "visible": [
               false,
               false,
               false,
               false,
               false,
               false,
               false,
               true,
               false,
               false,
               false,
               false,
               false,
               false,
               false,
               false,
               false,
               false,
               false,
               false,
               false,
               false,
               false,
               false,
               false,
               false,
               false
              ]
             }
            ],
            "label": "cumul0",
            "method": "update"
           },
           {
            "args": [
             {
              "visible": [
               false,
               false,
               false,
               false,
               false,
               false,
               false,
               false,
               true,
               false,
               false,
               false,
               false,
               false,
               false,
               false,
               false,
               false,
               false,
               false,
               false,
               false,
               false,
               false,
               false,
               false,
               false
              ]
             }
            ],
            "label": "l_cumul0",
            "method": "update"
           },
           {
            "args": [
             {
              "visible": [
               false,
               false,
               false,
               false,
               false,
               false,
               false,
               false,
               false,
               true,
               false,
               false,
               false,
               false,
               false,
               false,
               false,
               false,
               false,
               false,
               false,
               false,
               false,
               false,
               false,
               false,
               false
              ]
             }
            ],
            "label": "cumul1",
            "method": "update"
           },
           {
            "args": [
             {
              "visible": [
               false,
               false,
               false,
               false,
               false,
               false,
               false,
               false,
               false,
               false,
               true,
               false,
               false,
               false,
               false,
               false,
               false,
               false,
               false,
               false,
               false,
               false,
               false,
               false,
               false,
               false,
               false
              ]
             }
            ],
            "label": "l_cumul1",
            "method": "update"
           },
           {
            "args": [
             {
              "visible": [
               false,
               false,
               false,
               false,
               false,
               false,
               false,
               false,
               false,
               false,
               false,
               true,
               false,
               false,
               false,
               false,
               false,
               false,
               false,
               false,
               false,
               false,
               false,
               false,
               false,
               false,
               false
              ]
             }
            ],
            "label": "cumul2",
            "method": "update"
           },
           {
            "args": [
             {
              "visible": [
               false,
               false,
               false,
               false,
               false,
               false,
               false,
               false,
               false,
               false,
               false,
               false,
               true,
               false,
               false,
               false,
               false,
               false,
               false,
               false,
               false,
               false,
               false,
               false,
               false,
               false,
               false
              ]
             }
            ],
            "label": "l_cumul2",
            "method": "update"
           },
           {
            "args": [
             {
              "visible": [
               false,
               false,
               false,
               false,
               false,
               false,
               false,
               false,
               false,
               false,
               false,
               false,
               false,
               true,
               false,
               false,
               false,
               false,
               false,
               false,
               false,
               false,
               false,
               false,
               false,
               false,
               false
              ]
             }
            ],
            "label": "cumul3",
            "method": "update"
           }
          ],
          "direction": "right",
          "type": "buttons",
          "x": 0.1,
          "xanchor": "left",
          "y": 1.15,
          "yanchor": "top"
         },
         {
          "buttons": [
           {
            "args": [
             {
              "visible": [
               false,
               false,
               false,
               false,
               false,
               false,
               false,
               false,
               false,
               false,
               false,
               false,
               false,
               false,
               true,
               false,
               false,
               false,
               false,
               false,
               false,
               false,
               false,
               false,
               false,
               false,
               false
              ]
             }
            ],
            "label": "l_cumul3",
            "method": "update"
           },
           {
            "args": [
             {
              "visible": [
               false,
               false,
               false,
               false,
               false,
               false,
               false,
               false,
               false,
               false,
               false,
               false,
               false,
               false,
               false,
               true,
               false,
               false,
               false,
               false,
               false,
               false,
               false,
               false,
               false,
               false,
               false
              ]
             }
            ],
            "label": " zeta(q=-10)",
            "method": "update"
           },
           {
            "args": [
             {
              "visible": [
               false,
               false,
               false,
               false,
               false,
               false,
               false,
               false,
               false,
               false,
               false,
               false,
               false,
               false,
               false,
               false,
               true,
               false,
               false,
               false,
               false,
               false,
               false,
               false,
               false,
               false,
               false
              ]
             }
            ],
            "label": " zeta(q=-5)",
            "method": "update"
           },
           {
            "args": [
             {
              "visible": [
               false,
               false,
               false,
               false,
               false,
               false,
               false,
               false,
               false,
               false,
               false,
               false,
               false,
               false,
               false,
               false,
               false,
               true,
               false,
               false,
               false,
               false,
               false,
               false,
               false,
               false,
               false
              ]
             }
            ],
            "label": " zeta(q=-4)",
            "method": "update"
           },
           {
            "args": [
             {
              "visible": [
               false,
               false,
               false,
               false,
               false,
               false,
               false,
               false,
               false,
               false,
               false,
               false,
               false,
               false,
               false,
               false,
               false,
               false,
               true,
               false,
               false,
               false,
               false,
               false,
               false,
               false,
               false
              ]
             }
            ],
            "label": " zeta(q=-3)",
            "method": "update"
           },
           {
            "args": [
             {
              "visible": [
               false,
               false,
               false,
               false,
               false,
               false,
               false,
               false,
               false,
               false,
               false,
               false,
               false,
               false,
               false,
               false,
               false,
               false,
               false,
               true,
               false,
               false,
               false,
               false,
               false,
               false,
               false
              ]
             }
            ],
            "label": " zeta(q=-2)",
            "method": "update"
           },
           {
            "args": [
             {
              "visible": [
               false,
               false,
               false,
               false,
               false,
               false,
               false,
               false,
               false,
               false,
               false,
               false,
               false,
               false,
               false,
               false,
               false,
               false,
               false,
               false,
               true,
               false,
               false,
               false,
               false,
               false,
               false
              ]
             }
            ],
            "label": " zeta(q=-1)",
            "method": "update"
           },
           {
            "args": [
             {
              "visible": [
               false,
               false,
               false,
               false,
               false,
               false,
               false,
               false,
               false,
               false,
               false,
               false,
               false,
               false,
               false,
               false,
               false,
               false,
               false,
               false,
               false,
               true,
               false,
               false,
               false,
               false,
               false
              ]
             }
            ],
            "label": " zeta(q=1)",
            "method": "update"
           },
           {
            "args": [
             {
              "visible": [
               false,
               false,
               false,
               false,
               false,
               false,
               false,
               false,
               false,
               false,
               false,
               false,
               false,
               false,
               false,
               false,
               false,
               false,
               false,
               false,
               false,
               false,
               true,
               false,
               false,
               false,
               false
              ]
             }
            ],
            "label": " zeta(q=2)",
            "method": "update"
           },
           {
            "args": [
             {
              "visible": [
               false,
               false,
               false,
               false,
               false,
               false,
               false,
               false,
               false,
               false,
               false,
               false,
               false,
               false,
               false,
               false,
               false,
               false,
               false,
               false,
               false,
               false,
               false,
               true,
               false,
               false,
               false
              ]
             }
            ],
            "label": " zeta(q=3)",
            "method": "update"
           },
           {
            "args": [
             {
              "visible": [
               false,
               false,
               false,
               false,
               false,
               false,
               false,
               false,
               false,
               false,
               false,
               false,
               false,
               false,
               false,
               false,
               false,
               false,
               false,
               false,
               false,
               false,
               false,
               false,
               true,
               false,
               false
              ]
             }
            ],
            "label": " zeta(q=4)",
            "method": "update"
           },
           {
            "args": [
             {
              "visible": [
               false,
               false,
               false,
               false,
               false,
               false,
               false,
               false,
               false,
               false,
               false,
               false,
               false,
               false,
               false,
               false,
               false,
               false,
               false,
               false,
               false,
               false,
               false,
               false,
               false,
               true,
               false
              ]
             }
            ],
            "label": " zeta(q=5)",
            "method": "update"
           },
           {
            "args": [
             {
              "visible": [
               false,
               false,
               false,
               false,
               false,
               false,
               false,
               false,
               false,
               false,
               false,
               false,
               false,
               false,
               false,
               false,
               false,
               false,
               false,
               false,
               false,
               false,
               false,
               false,
               false,
               false,
               true
              ]
             }
            ],
            "label": " zeta(q=10)",
            "method": "update"
           },
           {
            "args": [
             {
              "visible": [
               false,
               false,
               false,
               false,
               false,
               false,
               false,
               false,
               false,
               false,
               false,
               false,
               false,
               false,
               false,
               false,
               false,
               false,
               false,
               false,
               false,
               false,
               false,
               false,
               false,
               false,
               false
              ]
             }
            ],
            "label": "None",
            "method": "update"
           }
          ],
          "direction": "right",
          "type": "buttons",
          "x": 0.1,
          "xanchor": "left",
          "y": 1.0499999999999998,
          "yanchor": "top"
         }
        ],
        "xaxis": {
         "title": {
          "text": "X Axis"
         }
        },
        "yaxis": {
         "title": {
          "text": "Y Axis"
         }
        }
       }
      }
     },
     "metadata": {},
     "output_type": "display_data"
    }
   ],
   "source": [
    "dyn_plot(signals_mean, signals_std, label=list(columns), x=list(range(len(p_exps))))"
   ]
  },
  {
   "cell_type": "code",
   "execution_count": null,
   "metadata": {},
   "outputs": [],
   "source": [
    "H1 = 0.8\n",
    "H2 = 0.3\n",
    "\n",
    "lamdba1 = .17\n",
    "lamdba2 = .17\n",
    "\n",
    "n_per_class = 1000\n",
    "length = 2048 #65536\n",
    "L = length\n",
    "X1 =  mrw(shape=(length,n_per_class), H=H1, lam=lamdba1, L=L).T\n",
    "X2 =  mrw(shape=(length,n_per_class), H=H2, lam=lamdba2, L=L).T"
   ]
  },
  {
   "cell_type": "code",
   "execution_count": null,
   "metadata": {},
   "outputs": [],
   "source": [
    "data = np.load('hrv_data_good.npy')\n",
    "X, y = data[:,:-1], data[:,-1]"
   ]
  },
  {
   "cell_type": "code",
   "execution_count": null,
   "metadata": {},
   "outputs": [],
   "source": [
    "X1 = X[np.where(1-y)]\n",
    "X2 = X[np.where(y)]"
   ]
  },
  {
   "cell_type": "code",
   "execution_count": null,
   "metadata": {},
   "outputs": [],
   "source": [
    "j2max = int(np.log2(X.shape[-1]) - 3.1)"
   ]
  },
  {
   "cell_type": "code",
   "execution_count": null,
   "metadata": {},
   "outputs": [
    {
     "name": "stderr",
     "output_type": "stream",
     "text": [
      "c:\\users\\ant\\documents\\info2\\bits2beat-tests\\pymultifracs\\pymultifracs\\utils.py:87: RuntimeWarning:\n",
      "\n",
      "divide by zero encountered in power\n",
      "\n",
      "c:\\users\\ant\\documents\\info2\\bits2beat-tests\\pymultifracs\\pymultifracs\\utils.py:76: RuntimeWarning:\n",
      "\n",
      "divide by zero encountered in reciprocal\n",
      "\n",
      "c:\\users\\ant\\documents\\info2\\bits2beat-tests\\pymultifracs\\pymultifracs\\cumulants.py:265: RuntimeWarning:\n",
      "\n",
      "divide by zero encountered in log\n",
      "\n",
      "c:\\users\\ant\\documents\\info2\\bits2beat-tests\\pymultifracs\\pymultifracs\\mfspectrum.py:117: RuntimeWarning:\n",
      "\n",
      "invalid value encountered in divide\n",
      "\n",
      "c:\\users\\ant\\documents\\info2\\bits2beat-tests\\pymultifracs\\pymultifracs\\mfspectrum.py:118: RuntimeWarning:\n",
      "\n",
      "divide by zero encountered in log2\n",
      "\n",
      "c:\\users\\ant\\documents\\info2\\bits2beat-tests\\pymultifracs\\pymultifracs\\mfspectrum.py:118: RuntimeWarning:\n",
      "\n",
      "invalid value encountered in multiply\n",
      "\n",
      "c:\\users\\ant\\documents\\info2\\bits2beat-tests\\pymultifracs\\pymultifracs\\mfspectrum.py:119: RuntimeWarning:\n",
      "\n",
      "divide by zero encountered in log2\n",
      "\n",
      "c:\\users\\ant\\documents\\info2\\bits2beat-tests\\pymultifracs\\pymultifracs\\mfspectrum.py:119: RuntimeWarning:\n",
      "\n",
      "invalid value encountered in multiply\n",
      "\n",
      "c:\\users\\ant\\documents\\info2\\bits2beat-tests\\pymultifracs\\pymultifracs\\utils.py:87: RuntimeWarning:\n",
      "\n",
      "divide by zero encountered in power\n",
      "\n",
      "c:\\users\\ant\\documents\\info2\\bits2beat-tests\\pymultifracs\\pymultifracs\\utils.py:76: RuntimeWarning:\n",
      "\n",
      "divide by zero encountered in reciprocal\n",
      "\n",
      "c:\\users\\ant\\documents\\info2\\bits2beat-tests\\pymultifracs\\pymultifracs\\cumulants.py:265: RuntimeWarning:\n",
      "\n",
      "divide by zero encountered in log\n",
      "\n",
      "c:\\users\\ant\\documents\\info2\\bits2beat-tests\\pymultifracs\\pymultifracs\\mfspectrum.py:117: RuntimeWarning:\n",
      "\n",
      "invalid value encountered in divide\n",
      "\n",
      "c:\\users\\ant\\documents\\info2\\bits2beat-tests\\pymultifracs\\pymultifracs\\mfspectrum.py:118: RuntimeWarning:\n",
      "\n",
      "divide by zero encountered in log2\n",
      "\n",
      "c:\\users\\ant\\documents\\info2\\bits2beat-tests\\pymultifracs\\pymultifracs\\mfspectrum.py:118: RuntimeWarning:\n",
      "\n",
      "invalid value encountered in multiply\n",
      "\n",
      "c:\\users\\ant\\documents\\info2\\bits2beat-tests\\pymultifracs\\pymultifracs\\mfspectrum.py:119: RuntimeWarning:\n",
      "\n",
      "divide by zero encountered in log2\n",
      "\n",
      "c:\\users\\ant\\documents\\info2\\bits2beat-tests\\pymultifracs\\pymultifracs\\mfspectrum.py:119: RuntimeWarning:\n",
      "\n",
      "invalid value encountered in multiply\n",
      "\n",
      "c:\\users\\ant\\documents\\info2\\bits2beat-tests\\pymultifracs\\pymultifracs\\utils.py:87: RuntimeWarning:\n",
      "\n",
      "divide by zero encountered in power\n",
      "\n",
      "c:\\users\\ant\\documents\\info2\\bits2beat-tests\\pymultifracs\\pymultifracs\\utils.py:76: RuntimeWarning:\n",
      "\n",
      "divide by zero encountered in reciprocal\n",
      "\n",
      "c:\\users\\ant\\documents\\info2\\bits2beat-tests\\pymultifracs\\pymultifracs\\cumulants.py:265: RuntimeWarning:\n",
      "\n",
      "divide by zero encountered in log\n",
      "\n",
      "c:\\users\\ant\\documents\\info2\\bits2beat-tests\\pymultifracs\\pymultifracs\\mfspectrum.py:117: RuntimeWarning:\n",
      "\n",
      "invalid value encountered in divide\n",
      "\n",
      "c:\\users\\ant\\documents\\info2\\bits2beat-tests\\pymultifracs\\pymultifracs\\mfspectrum.py:118: RuntimeWarning:\n",
      "\n",
      "divide by zero encountered in log2\n",
      "\n",
      "c:\\users\\ant\\documents\\info2\\bits2beat-tests\\pymultifracs\\pymultifracs\\mfspectrum.py:118: RuntimeWarning:\n",
      "\n",
      "invalid value encountered in multiply\n",
      "\n",
      "c:\\users\\ant\\documents\\info2\\bits2beat-tests\\pymultifracs\\pymultifracs\\mfspectrum.py:119: RuntimeWarning:\n",
      "\n",
      "divide by zero encountered in log2\n",
      "\n",
      "c:\\users\\ant\\documents\\info2\\bits2beat-tests\\pymultifracs\\pymultifracs\\mfspectrum.py:119: RuntimeWarning:\n",
      "\n",
      "invalid value encountered in multiply\n",
      "\n",
      "c:\\users\\ant\\documents\\info2\\bits2beat-tests\\pymultifracs\\pymultifracs\\utils.py:87: RuntimeWarning:\n",
      "\n",
      "divide by zero encountered in power\n",
      "\n",
      "c:\\users\\ant\\documents\\info2\\bits2beat-tests\\pymultifracs\\pymultifracs\\utils.py:76: RuntimeWarning:\n",
      "\n",
      "divide by zero encountered in reciprocal\n",
      "\n",
      "c:\\users\\ant\\documents\\info2\\bits2beat-tests\\pymultifracs\\pymultifracs\\cumulants.py:265: RuntimeWarning:\n",
      "\n",
      "divide by zero encountered in log\n",
      "\n",
      "c:\\users\\ant\\documents\\info2\\bits2beat-tests\\pymultifracs\\pymultifracs\\mfspectrum.py:117: RuntimeWarning:\n",
      "\n",
      "invalid value encountered in divide\n",
      "\n",
      "c:\\users\\ant\\documents\\info2\\bits2beat-tests\\pymultifracs\\pymultifracs\\mfspectrum.py:118: RuntimeWarning:\n",
      "\n",
      "divide by zero encountered in log2\n",
      "\n",
      "c:\\users\\ant\\documents\\info2\\bits2beat-tests\\pymultifracs\\pymultifracs\\mfspectrum.py:118: RuntimeWarning:\n",
      "\n",
      "invalid value encountered in multiply\n",
      "\n",
      "c:\\users\\ant\\documents\\info2\\bits2beat-tests\\pymultifracs\\pymultifracs\\mfspectrum.py:119: RuntimeWarning:\n",
      "\n",
      "divide by zero encountered in log2\n",
      "\n",
      "c:\\users\\ant\\documents\\info2\\bits2beat-tests\\pymultifracs\\pymultifracs\\mfspectrum.py:119: RuntimeWarning:\n",
      "\n",
      "invalid value encountered in multiply\n",
      "\n",
      "c:\\users\\ant\\documents\\info2\\bits2beat-tests\\pymultifracs\\pymultifracs\\utils.py:87: RuntimeWarning:\n",
      "\n",
      "divide by zero encountered in power\n",
      "\n",
      "c:\\users\\ant\\documents\\info2\\bits2beat-tests\\pymultifracs\\pymultifracs\\utils.py:76: RuntimeWarning:\n",
      "\n",
      "divide by zero encountered in reciprocal\n",
      "\n",
      "c:\\users\\ant\\documents\\info2\\bits2beat-tests\\pymultifracs\\pymultifracs\\cumulants.py:265: RuntimeWarning:\n",
      "\n",
      "divide by zero encountered in log\n",
      "\n",
      "c:\\users\\ant\\documents\\info2\\bits2beat-tests\\pymultifracs\\pymultifracs\\mfspectrum.py:117: RuntimeWarning:\n",
      "\n",
      "invalid value encountered in divide\n",
      "\n",
      "c:\\users\\ant\\documents\\info2\\bits2beat-tests\\pymultifracs\\pymultifracs\\mfspectrum.py:118: RuntimeWarning:\n",
      "\n",
      "divide by zero encountered in log2\n",
      "\n",
      "c:\\users\\ant\\documents\\info2\\bits2beat-tests\\pymultifracs\\pymultifracs\\mfspectrum.py:118: RuntimeWarning:\n",
      "\n",
      "invalid value encountered in multiply\n",
      "\n",
      "c:\\users\\ant\\documents\\info2\\bits2beat-tests\\pymultifracs\\pymultifracs\\mfspectrum.py:119: RuntimeWarning:\n",
      "\n",
      "divide by zero encountered in log2\n",
      "\n",
      "c:\\users\\ant\\documents\\info2\\bits2beat-tests\\pymultifracs\\pymultifracs\\mfspectrum.py:119: RuntimeWarning:\n",
      "\n",
      "invalid value encountered in multiply\n",
      "\n",
      "c:\\users\\ant\\documents\\info2\\bits2beat-tests\\pymultifracs\\pymultifracs\\utils.py:87: RuntimeWarning:\n",
      "\n",
      "divide by zero encountered in power\n",
      "\n",
      "c:\\users\\ant\\documents\\info2\\bits2beat-tests\\pymultifracs\\pymultifracs\\utils.py:76: RuntimeWarning:\n",
      "\n",
      "divide by zero encountered in reciprocal\n",
      "\n",
      "c:\\users\\ant\\documents\\info2\\bits2beat-tests\\pymultifracs\\pymultifracs\\cumulants.py:265: RuntimeWarning:\n",
      "\n",
      "divide by zero encountered in log\n",
      "\n",
      "c:\\users\\ant\\documents\\info2\\bits2beat-tests\\pymultifracs\\pymultifracs\\mfspectrum.py:117: RuntimeWarning:\n",
      "\n",
      "invalid value encountered in divide\n",
      "\n",
      "c:\\users\\ant\\documents\\info2\\bits2beat-tests\\pymultifracs\\pymultifracs\\mfspectrum.py:118: RuntimeWarning:\n",
      "\n",
      "divide by zero encountered in log2\n",
      "\n",
      "c:\\users\\ant\\documents\\info2\\bits2beat-tests\\pymultifracs\\pymultifracs\\mfspectrum.py:118: RuntimeWarning:\n",
      "\n",
      "invalid value encountered in multiply\n",
      "\n",
      "c:\\users\\ant\\documents\\info2\\bits2beat-tests\\pymultifracs\\pymultifracs\\mfspectrum.py:119: RuntimeWarning:\n",
      "\n",
      "divide by zero encountered in log2\n",
      "\n",
      "c:\\users\\ant\\documents\\info2\\bits2beat-tests\\pymultifracs\\pymultifracs\\mfspectrum.py:119: RuntimeWarning:\n",
      "\n",
      "invalid value encountered in multiply\n",
      "\n"
     ]
    },
    {
     "data": {
      "application/vnd.plotly.v1+json": {
       "config": {
        "plotlyServerURL": "https://plot.ly"
       },
       "data": [
        {
         "error_y": {
          "array": [
           0.06778620928525925,
           0.06778620928525925,
           0.06778620928525925,
           0.06778620928525925,
           0.06778620928525925,
           0.06778620928525925
          ],
          "type": "data",
          "visible": true
         },
         "mode": "lines",
         "name": "std",
         "type": "scatter",
         "x": [
          4,
          5,
          6,
          7,
          8,
          9
         ],
         "y": [
          0.15357565879821777,
          0.15357565879821777,
          0.15357565879821777,
          0.15357565879821777,
          0.15357565879821777,
          0.15357565879821777
         ]
        },
        {
         "error_y": {
          "array": [
           0.1895078867673874,
           0.16191667318344116,
           0.14657160639762878,
           0.1387755125761032,
           0.13245968520641327,
           0.12920837104320526
          ],
          "type": "data",
          "visible": true
         },
         "mode": "lines",
         "name": "hmin",
         "type": "scatter",
         "x": [
          4,
          5,
          6,
          7,
          8,
          9
         ],
         "y": [
          -0.6492029428482056,
          -0.5997825860977173,
          -0.5582935810089111,
          -0.523381769657135,
          -0.47903162240982056,
          -0.44819265604019165
         ]
        },
        {
         "error_y": {
          "array": [
           null,
           null,
           null,
           null,
           null,
           null
          ],
          "type": "data",
          "visible": true
         },
         "mode": "lines",
         "name": "l_hmin",
         "type": "scatter",
         "x": [
          4,
          5,
          6,
          7,
          8,
          9
         ],
         "y": [
          null,
          null,
          null,
          null,
          null,
          null
         ]
        },
        {
         "error_y": {
          "array": [
           2.9724695682525635,
           1.9132953882217407,
           1.352647066116333,
           1.0822060108184814,
           0.9226188659667969,
           0.8061766624450684
          ],
          "type": "data",
          "visible": true
         },
         "mode": "lines",
         "name": "deg_h",
         "type": "scatter",
         "x": [
          4,
          5,
          6,
          7,
          8,
          9
         ],
         "y": [
          3.0710458755493164,
          2.129384994506836,
          1.6299258470535278,
          1.32869291305542,
          1.143019676208496,
          1.0908828973770142
         ]
        },
        {
         "error_y": {
          "array": [
           2.7965071201324463,
           1.8687266111373901,
           1.3495242595672607,
           1.0377150774002075,
           0.8382871150970459,
           0.6980907320976257
          ],
          "type": "data",
          "visible": true
         },
         "mode": "lines",
         "name": "l_deg_h",
         "type": "scatter",
         "x": [
          4,
          5,
          6,
          7,
          8,
          9
         ],
         "y": [
          2.248483180999756,
          1.6676816940307617,
          1.3169217109680176,
          1.0966591835021973,
          0.9582049250602722,
          0.862460196018219
         ]
        },
        {
         "error_y": {
          "array": [
           0.22505676746368408,
           0.22218944132328033,
           0.20924201607704163,
           0.1980752944946289,
           0.18728560209274292,
           0.17878684401512146
          ],
          "type": "data",
          "visible": true
         },
         "mode": "lines",
         "name": "H",
         "type": "scatter",
         "x": [
          4,
          5,
          6,
          7,
          8,
          9
         ],
         "y": [
          -0.4380563497543335,
          -0.3931390643119812,
          -0.3625712990760803,
          -0.33401253819465637,
          -0.2970534861087799,
          -0.26291409134864807
         ]
        },
        {
         "error_y": {
          "array": [
           0.08692683279514313,
           0.08688455820083618,
           0.08600027859210968,
           0.08482695370912552,
           0.08329499512910843,
           0.08130383491516113
          ],
          "type": "data",
          "visible": true
         },
         "mode": "lines",
         "name": "l_H",
         "type": "scatter",
         "x": [
          4,
          5,
          6,
          7,
          8,
          9
         ],
         "y": [
          0.2858388125896454,
          0.2692594528198242,
          0.2545201778411865,
          0.2414740025997162,
          0.2299290895462036,
          0.2189870923757553
         ]
        },
        {
         "error_y": {
          "array": [
           0.30293717980384827,
           0.302033931016922,
           0.2793595790863037,
           0.26190757751464844,
           0.24657748639583588,
           0.23204006254673004
          ],
          "type": "data",
          "visible": true
         },
         "mode": "lines",
         "name": "cumul0",
         "type": "scatter",
         "x": [
          4,
          5,
          6,
          7,
          8,
          9
         ],
         "y": [
          -0.26100578904151917,
          -0.24418067932128906,
          -0.23896478116512299,
          -0.2327987253665924,
          -0.21634036302566528,
          -0.19549508392810822
         ]
        },
        {
         "error_y": {
          "array": [
           0.16669315099716187,
           0.17190036177635193,
           0.1704970747232437,
           0.16506771743297577,
           0.1580362319946289,
           0.15079504251480103
          ],
          "type": "data",
          "visible": true
         },
         "mode": "lines",
         "name": "l_cumul0",
         "type": "scatter",
         "x": [
          4,
          5,
          6,
          7,
          8,
          9
         ],
         "y": [
          0.4434700906276703,
          0.4119980037212372,
          0.3862898349761963,
          0.36402109265327454,
          0.34420275688171387,
          0.32578086853027344
         ]
        },
        {
         "error_y": {
          "array": [
           0.7343798875808716,
           0.5348849296569824,
           0.40419015288352966,
           0.321153461933136,
           0.26782676577568054,
           0.2344747930765152
          ],
          "type": "data",
          "visible": true
         },
         "mode": "lines",
         "name": "cumul1",
         "type": "scatter",
         "x": [
          4,
          5,
          6,
          7,
          8,
          9
         ],
         "y": [
          -0.45508477091789246,
          -0.3399704098701477,
          -0.26318395137786865,
          -0.20976872742176056,
          -0.173356831073761,
          -0.14222335815429688
         ]
        },
        {
         "error_y": {
          "array": [
           0.19778990745544434,
           0.19656053185462952,
           0.19778060913085938,
           0.1923130750656128,
           0.18038761615753174,
           0.16374018788337708
          ],
          "type": "data",
          "visible": true
         },
         "mode": "lines",
         "name": "l_cumul1",
         "type": "scatter",
         "x": [
          4,
          5,
          6,
          7,
          8,
          9
         ],
         "y": [
          -0.16338422894477844,
          -0.14743322134017944,
          -0.13988114893436432,
          -0.13449470698833466,
          -0.128535658121109,
          -0.12190113961696625
         ]
        },
        {
         "error_y": {
          "array": [
           21.22477149963379,
           14.183863639831543,
           10.110410690307617,
           7.6205034255981445,
           5.925634860992432,
           4.762800693511963
          ],
          "type": "data",
          "visible": true
         },
         "mode": "lines",
         "name": "cumul2",
         "type": "scatter",
         "x": [
          4,
          5,
          6,
          7,
          8,
          9
         ],
         "y": [
          9.673792839050293,
          6.436071872711182,
          4.598868370056152,
          3.46699857711792,
          2.746988296508789,
          2.2243599891662598
         ]
        },
        {
         "error_y": {
          "array": [
           2.2242860794067383,
           1.486399531364441,
           1.0597305297851562,
           0.7922849655151367,
           0.6189323663711548,
           0.5000642538070679
          ],
          "type": "data",
          "visible": true
         },
         "mode": "lines",
         "name": "l_cumul2",
         "type": "scatter",
         "x": [
          4,
          5,
          6,
          7,
          8,
          9
         ],
         "y": [
          0.4774405062198639,
          0.2897893786430359,
          0.20171234011650085,
          0.15658427774906158,
          0.1284453272819519,
          0.10703492164611816
         ]
        },
        {
         "error_y": {
          "array": [
           675.0260620117188,
           451.156494140625,
           322.60736083984375,
           242.45733642578125,
           188.72030639648438,
           151.08567810058594
          ],
          "type": "data",
          "visible": true
         },
         "mode": "lines",
         "name": "cumul3",
         "type": "scatter",
         "x": [
          4,
          5,
          6,
          7,
          8,
          9
         ],
         "y": [
          -313.922607421875,
          -209.4237823486328,
          -149.7856903076172,
          -112.47266387939453,
          -87.8062515258789,
          -70.53958892822266
         ]
        },
        {
         "error_y": {
          "array": [
           73.45059967041016,
           48.907928466796875,
           34.89449691772461,
           26.146778106689453,
           20.325942993164062,
           16.251564025878906
          ],
          "type": "data",
          "visible": true
         },
         "mode": "lines",
         "name": "l_cumul3",
         "type": "scatter",
         "x": [
          4,
          5,
          6,
          7,
          8,
          9
         ],
         "y": [
          -19.375062942504883,
          -12.776912689208984,
          -9.049192428588867,
          -6.754943370819092,
          -5.242920398712158,
          -4.1860737800598145
         ]
        },
        {
         "error_y": {
          "array": [
           29.001710891723633,
           19.405193328857422,
           13.89613151550293,
           10.583396911621094,
           8.494138717651367,
           7.041317939758301
          ],
          "type": "data",
          "visible": true
         },
         "mode": "lines",
         "name": " zeta(q=-10)",
         "type": "scatter",
         "x": [
          4,
          5,
          6,
          7,
          8,
          9
         ],
         "y": [
          -16.796127319335938,
          -12.88578987121582,
          -10.448843002319336,
          -9.047586441040039,
          -8.15137004852295,
          -7.440664291381836
         ]
        },
        {
         "error_y": {
          "array": [
           14.347865104675293,
           9.600762367248535,
           6.889530181884766,
           5.259921550750732,
           4.216479301452637,
           3.489687919616699
          ],
          "type": "data",
          "visible": true
         },
         "mode": "lines",
         "name": " zeta(q=-5)",
         "type": "scatter",
         "x": [
          4,
          5,
          6,
          7,
          8,
          9
         ],
         "y": [
          -7.251181125640869,
          -5.54973030090332,
          -4.51656436920166,
          -3.929720401763916,
          -3.5544168949127197,
          -3.2511396408081055
         ]
        },
        {
         "error_y": {
          "array": [
           11.406926155090332,
           7.6342267990112305,
           5.483006477355957,
           4.190104007720947,
           3.357062339782715,
           2.7756073474884033
          ],
          "type": "data",
          "visible": true
         },
         "mode": "lines",
         "name": " zeta(q=-4)",
         "type": "scatter",
         "x": [
          4,
          5,
          6,
          7,
          8,
          9
         ],
         "y": [
          -5.358571529388428,
          -4.119236469268799,
          -3.3733012676239014,
          -2.9503695964813232,
          -2.6778664588928223,
          -2.455115795135498
         ]
        },
        {
         "error_y": {
          "array": [
           8.449036598205566,
           5.656999588012695,
           4.068719863891602,
           3.1131372451782227,
           2.4922709465026855,
           2.057176351547241
          ],
          "type": "data",
          "visible": true
         },
         "mode": "lines",
         "name": " zeta(q=-3)",
         "type": "scatter",
         "x": [
          4,
          5,
          6,
          7,
          8,
          9
         ],
         "y": [
          -3.5658981800079346,
          -2.7699551582336426,
          -2.296767473220825,
          -2.0264463424682617,
          -1.8487075567245483,
          -1.7010165452957153
         ]
        },
        {
         "error_y": {
          "array": [
           5.4523162841796875,
           3.654927968978882,
           2.636538505554199,
           2.0206692218780518,
           1.6155128479003906,
           1.329583764076233
          ],
          "type": "data",
          "visible": true
         },
         "mode": "lines",
         "name": " zeta(q=-2)",
         "type": "scatter",
         "x": [
          4,
          5,
          6,
          7,
          8,
          9
         ],
         "y": [
          -2.040722370147705,
          -1.6152386665344238,
          -1.3667094707489014,
          -1.2178889513015747,
          -1.1148991584777832,
          -1.0284720659255981
         ]
        },
        {
         "error_y": {
          "array": [
           2.3987390995025635,
           1.6136412620544434,
           1.170545220375061,
           0.8990180492401123,
           0.7176238894462585,
           0.5886167883872986
          ],
          "type": "data",
          "visible": true
         },
         "mode": "lines",
         "name": " zeta(q=-1)",
         "type": "scatter",
         "x": [
          4,
          5,
          6,
          7,
          8,
          9
         ],
         "y": [
          -0.8587042689323425,
          -0.6995656490325928,
          -0.6048175692558289,
          -0.5418124794960022,
          -0.4948428273200989,
          -0.4560062289237976
         ]
        },
        {
         "error_y": {
          "array": [
           0.12125611305236816,
           0.12426445633172989,
           0.1237974688410759,
           0.12178795039653778,
           0.11904677003622055,
           0.11574230343103409
          ],
          "type": "data",
          "visible": true
         },
         "mode": "lines",
         "name": " zeta(q=1)",
         "type": "scatter",
         "x": [
          4,
          5,
          6,
          7,
          8,
          9
         ],
         "y": [
          0.3614145815372467,
          0.3371592164039612,
          0.3163883090019226,
          0.2982383966445923,
          0.282322496175766,
          0.26760953664779663
         ]
        },
        {
         "error_y": {
          "array": [
           0.17385366559028625,
           0.17376911640167236,
           0.17200055718421936,
           0.16965390741825104,
           0.16658999025821686,
           0.16260766983032227
          ],
          "type": "data",
          "visible": true
         },
         "mode": "lines",
         "name": " zeta(q=2)",
         "type": "scatter",
         "x": [
          4,
          5,
          6,
          7,
          8,
          9
         ],
         "y": [
          0.5716776251792908,
          0.5385189056396484,
          0.509040355682373,
          0.4829480051994324,
          0.4598581790924072,
          0.4379741847515106
         ]
        },
        {
         "error_y": {
          "array": [
           0.24394884705543518,
           0.20454321801662445,
           0.18522275984287262,
           0.1748877316713333,
           0.16864000260829926,
           0.16415025293827057
          ],
          "type": "data",
          "visible": true
         },
         "mode": "lines",
         "name": " zeta(q=3)",
         "type": "scatter",
         "x": [
          4,
          5,
          6,
          7,
          8,
          9
         ],
         "y": [
          0.6839809417724609,
          0.6529932022094727,
          0.6241198182106018,
          0.5977840423583984,
          0.5737124085426331,
          0.5496383309364319
         ]
        },
        {
         "error_y": {
          "array": [
           0.35885506868362427,
           0.268083393573761,
           0.2179805338382721,
           0.1896975040435791,
           0.173721045255661,
           0.1648702174425125
          ],
          "type": "data",
          "visible": true
         },
         "mode": "lines",
         "name": " zeta(q=4)",
         "type": "scatter",
         "x": [
          4,
          5,
          6,
          7,
          8,
          9
         ],
         "y": [
          0.7539733052253723,
          0.72900390625,
          0.7040626406669617,
          0.6801921129226685,
          0.6571075916290283,
          0.6322821378707886
         ]
        },
        {
         "error_y": {
          "array": [
           0.4890633821487427,
           0.3519286811351776,
           0.2707972526550293,
           0.22170163691043854,
           0.19245627522468567,
           0.17609424889087677
          ],
          "type": "data",
          "visible": true
         },
         "mode": "lines",
         "name": " zeta(q=5)",
         "type": "scatter",
         "x": [
          4,
          5,
          6,
          7,
          8,
          9
         ],
         "y": [
          0.8008409738540649,
          0.7830458879470825,
          0.763060450553894,
          0.7425084710121155,
          0.720973014831543,
          0.6957577466964722
         ]
        },
        {
         "error_y": {
          "array": [
           1.110473871231079,
           0.7850292921066284,
           0.580435037612915,
           0.4464898705482483,
           0.35972079634666443,
           0.3067781627178192
          ],
          "type": "data",
          "visible": true
         },
         "mode": "lines",
         "name": " zeta(q=10)",
         "type": "scatter",
         "x": [
          4,
          5,
          6,
          7,
          8,
          9
         ],
         "y": [
          0.869212806224823,
          0.8820172548294067,
          0.8843027949333191,
          0.8798365592956543,
          0.8669816851615906,
          0.8406611680984497
         ]
        }
       ],
       "layout": {
        "legend": {
         "title": {
          "text": "Curves"
         }
        },
        "template": {
         "data": {
          "bar": [
           {
            "error_x": {
             "color": "#2a3f5f"
            },
            "error_y": {
             "color": "#2a3f5f"
            },
            "marker": {
             "line": {
              "color": "#E5ECF6",
              "width": 0.5
             },
             "pattern": {
              "fillmode": "overlay",
              "size": 10,
              "solidity": 0.2
             }
            },
            "type": "bar"
           }
          ],
          "barpolar": [
           {
            "marker": {
             "line": {
              "color": "#E5ECF6",
              "width": 0.5
             },
             "pattern": {
              "fillmode": "overlay",
              "size": 10,
              "solidity": 0.2
             }
            },
            "type": "barpolar"
           }
          ],
          "carpet": [
           {
            "aaxis": {
             "endlinecolor": "#2a3f5f",
             "gridcolor": "white",
             "linecolor": "white",
             "minorgridcolor": "white",
             "startlinecolor": "#2a3f5f"
            },
            "baxis": {
             "endlinecolor": "#2a3f5f",
             "gridcolor": "white",
             "linecolor": "white",
             "minorgridcolor": "white",
             "startlinecolor": "#2a3f5f"
            },
            "type": "carpet"
           }
          ],
          "choropleth": [
           {
            "colorbar": {
             "outlinewidth": 0,
             "ticks": ""
            },
            "type": "choropleth"
           }
          ],
          "contour": [
           {
            "colorbar": {
             "outlinewidth": 0,
             "ticks": ""
            },
            "colorscale": [
             [
              0,
              "#0d0887"
             ],
             [
              0.1111111111111111,
              "#46039f"
             ],
             [
              0.2222222222222222,
              "#7201a8"
             ],
             [
              0.3333333333333333,
              "#9c179e"
             ],
             [
              0.4444444444444444,
              "#bd3786"
             ],
             [
              0.5555555555555556,
              "#d8576b"
             ],
             [
              0.6666666666666666,
              "#ed7953"
             ],
             [
              0.7777777777777778,
              "#fb9f3a"
             ],
             [
              0.8888888888888888,
              "#fdca26"
             ],
             [
              1,
              "#f0f921"
             ]
            ],
            "type": "contour"
           }
          ],
          "contourcarpet": [
           {
            "colorbar": {
             "outlinewidth": 0,
             "ticks": ""
            },
            "type": "contourcarpet"
           }
          ],
          "heatmap": [
           {
            "colorbar": {
             "outlinewidth": 0,
             "ticks": ""
            },
            "colorscale": [
             [
              0,
              "#0d0887"
             ],
             [
              0.1111111111111111,
              "#46039f"
             ],
             [
              0.2222222222222222,
              "#7201a8"
             ],
             [
              0.3333333333333333,
              "#9c179e"
             ],
             [
              0.4444444444444444,
              "#bd3786"
             ],
             [
              0.5555555555555556,
              "#d8576b"
             ],
             [
              0.6666666666666666,
              "#ed7953"
             ],
             [
              0.7777777777777778,
              "#fb9f3a"
             ],
             [
              0.8888888888888888,
              "#fdca26"
             ],
             [
              1,
              "#f0f921"
             ]
            ],
            "type": "heatmap"
           }
          ],
          "heatmapgl": [
           {
            "colorbar": {
             "outlinewidth": 0,
             "ticks": ""
            },
            "colorscale": [
             [
              0,
              "#0d0887"
             ],
             [
              0.1111111111111111,
              "#46039f"
             ],
             [
              0.2222222222222222,
              "#7201a8"
             ],
             [
              0.3333333333333333,
              "#9c179e"
             ],
             [
              0.4444444444444444,
              "#bd3786"
             ],
             [
              0.5555555555555556,
              "#d8576b"
             ],
             [
              0.6666666666666666,
              "#ed7953"
             ],
             [
              0.7777777777777778,
              "#fb9f3a"
             ],
             [
              0.8888888888888888,
              "#fdca26"
             ],
             [
              1,
              "#f0f921"
             ]
            ],
            "type": "heatmapgl"
           }
          ],
          "histogram": [
           {
            "marker": {
             "pattern": {
              "fillmode": "overlay",
              "size": 10,
              "solidity": 0.2
             }
            },
            "type": "histogram"
           }
          ],
          "histogram2d": [
           {
            "colorbar": {
             "outlinewidth": 0,
             "ticks": ""
            },
            "colorscale": [
             [
              0,
              "#0d0887"
             ],
             [
              0.1111111111111111,
              "#46039f"
             ],
             [
              0.2222222222222222,
              "#7201a8"
             ],
             [
              0.3333333333333333,
              "#9c179e"
             ],
             [
              0.4444444444444444,
              "#bd3786"
             ],
             [
              0.5555555555555556,
              "#d8576b"
             ],
             [
              0.6666666666666666,
              "#ed7953"
             ],
             [
              0.7777777777777778,
              "#fb9f3a"
             ],
             [
              0.8888888888888888,
              "#fdca26"
             ],
             [
              1,
              "#f0f921"
             ]
            ],
            "type": "histogram2d"
           }
          ],
          "histogram2dcontour": [
           {
            "colorbar": {
             "outlinewidth": 0,
             "ticks": ""
            },
            "colorscale": [
             [
              0,
              "#0d0887"
             ],
             [
              0.1111111111111111,
              "#46039f"
             ],
             [
              0.2222222222222222,
              "#7201a8"
             ],
             [
              0.3333333333333333,
              "#9c179e"
             ],
             [
              0.4444444444444444,
              "#bd3786"
             ],
             [
              0.5555555555555556,
              "#d8576b"
             ],
             [
              0.6666666666666666,
              "#ed7953"
             ],
             [
              0.7777777777777778,
              "#fb9f3a"
             ],
             [
              0.8888888888888888,
              "#fdca26"
             ],
             [
              1,
              "#f0f921"
             ]
            ],
            "type": "histogram2dcontour"
           }
          ],
          "mesh3d": [
           {
            "colorbar": {
             "outlinewidth": 0,
             "ticks": ""
            },
            "type": "mesh3d"
           }
          ],
          "parcoords": [
           {
            "line": {
             "colorbar": {
              "outlinewidth": 0,
              "ticks": ""
             }
            },
            "type": "parcoords"
           }
          ],
          "pie": [
           {
            "automargin": true,
            "type": "pie"
           }
          ],
          "scatter": [
           {
            "fillpattern": {
             "fillmode": "overlay",
             "size": 10,
             "solidity": 0.2
            },
            "type": "scatter"
           }
          ],
          "scatter3d": [
           {
            "line": {
             "colorbar": {
              "outlinewidth": 0,
              "ticks": ""
             }
            },
            "marker": {
             "colorbar": {
              "outlinewidth": 0,
              "ticks": ""
             }
            },
            "type": "scatter3d"
           }
          ],
          "scattercarpet": [
           {
            "marker": {
             "colorbar": {
              "outlinewidth": 0,
              "ticks": ""
             }
            },
            "type": "scattercarpet"
           }
          ],
          "scattergeo": [
           {
            "marker": {
             "colorbar": {
              "outlinewidth": 0,
              "ticks": ""
             }
            },
            "type": "scattergeo"
           }
          ],
          "scattergl": [
           {
            "marker": {
             "colorbar": {
              "outlinewidth": 0,
              "ticks": ""
             }
            },
            "type": "scattergl"
           }
          ],
          "scattermapbox": [
           {
            "marker": {
             "colorbar": {
              "outlinewidth": 0,
              "ticks": ""
             }
            },
            "type": "scattermapbox"
           }
          ],
          "scatterpolar": [
           {
            "marker": {
             "colorbar": {
              "outlinewidth": 0,
              "ticks": ""
             }
            },
            "type": "scatterpolar"
           }
          ],
          "scatterpolargl": [
           {
            "marker": {
             "colorbar": {
              "outlinewidth": 0,
              "ticks": ""
             }
            },
            "type": "scatterpolargl"
           }
          ],
          "scatterternary": [
           {
            "marker": {
             "colorbar": {
              "outlinewidth": 0,
              "ticks": ""
             }
            },
            "type": "scatterternary"
           }
          ],
          "surface": [
           {
            "colorbar": {
             "outlinewidth": 0,
             "ticks": ""
            },
            "colorscale": [
             [
              0,
              "#0d0887"
             ],
             [
              0.1111111111111111,
              "#46039f"
             ],
             [
              0.2222222222222222,
              "#7201a8"
             ],
             [
              0.3333333333333333,
              "#9c179e"
             ],
             [
              0.4444444444444444,
              "#bd3786"
             ],
             [
              0.5555555555555556,
              "#d8576b"
             ],
             [
              0.6666666666666666,
              "#ed7953"
             ],
             [
              0.7777777777777778,
              "#fb9f3a"
             ],
             [
              0.8888888888888888,
              "#fdca26"
             ],
             [
              1,
              "#f0f921"
             ]
            ],
            "type": "surface"
           }
          ],
          "table": [
           {
            "cells": {
             "fill": {
              "color": "#EBF0F8"
             },
             "line": {
              "color": "white"
             }
            },
            "header": {
             "fill": {
              "color": "#C8D4E3"
             },
             "line": {
              "color": "white"
             }
            },
            "type": "table"
           }
          ]
         },
         "layout": {
          "annotationdefaults": {
           "arrowcolor": "#2a3f5f",
           "arrowhead": 0,
           "arrowwidth": 1
          },
          "autotypenumbers": "strict",
          "coloraxis": {
           "colorbar": {
            "outlinewidth": 0,
            "ticks": ""
           }
          },
          "colorscale": {
           "diverging": [
            [
             0,
             "#8e0152"
            ],
            [
             0.1,
             "#c51b7d"
            ],
            [
             0.2,
             "#de77ae"
            ],
            [
             0.3,
             "#f1b6da"
            ],
            [
             0.4,
             "#fde0ef"
            ],
            [
             0.5,
             "#f7f7f7"
            ],
            [
             0.6,
             "#e6f5d0"
            ],
            [
             0.7,
             "#b8e186"
            ],
            [
             0.8,
             "#7fbc41"
            ],
            [
             0.9,
             "#4d9221"
            ],
            [
             1,
             "#276419"
            ]
           ],
           "sequential": [
            [
             0,
             "#0d0887"
            ],
            [
             0.1111111111111111,
             "#46039f"
            ],
            [
             0.2222222222222222,
             "#7201a8"
            ],
            [
             0.3333333333333333,
             "#9c179e"
            ],
            [
             0.4444444444444444,
             "#bd3786"
            ],
            [
             0.5555555555555556,
             "#d8576b"
            ],
            [
             0.6666666666666666,
             "#ed7953"
            ],
            [
             0.7777777777777778,
             "#fb9f3a"
            ],
            [
             0.8888888888888888,
             "#fdca26"
            ],
            [
             1,
             "#f0f921"
            ]
           ],
           "sequentialminus": [
            [
             0,
             "#0d0887"
            ],
            [
             0.1111111111111111,
             "#46039f"
            ],
            [
             0.2222222222222222,
             "#7201a8"
            ],
            [
             0.3333333333333333,
             "#9c179e"
            ],
            [
             0.4444444444444444,
             "#bd3786"
            ],
            [
             0.5555555555555556,
             "#d8576b"
            ],
            [
             0.6666666666666666,
             "#ed7953"
            ],
            [
             0.7777777777777778,
             "#fb9f3a"
            ],
            [
             0.8888888888888888,
             "#fdca26"
            ],
            [
             1,
             "#f0f921"
            ]
           ]
          },
          "colorway": [
           "#636efa",
           "#EF553B",
           "#00cc96",
           "#ab63fa",
           "#FFA15A",
           "#19d3f3",
           "#FF6692",
           "#B6E880",
           "#FF97FF",
           "#FECB52"
          ],
          "font": {
           "color": "#2a3f5f"
          },
          "geo": {
           "bgcolor": "white",
           "lakecolor": "white",
           "landcolor": "#E5ECF6",
           "showlakes": true,
           "showland": true,
           "subunitcolor": "white"
          },
          "hoverlabel": {
           "align": "left"
          },
          "hovermode": "closest",
          "mapbox": {
           "style": "light"
          },
          "paper_bgcolor": "white",
          "plot_bgcolor": "#E5ECF6",
          "polar": {
           "angularaxis": {
            "gridcolor": "white",
            "linecolor": "white",
            "ticks": ""
           },
           "bgcolor": "#E5ECF6",
           "radialaxis": {
            "gridcolor": "white",
            "linecolor": "white",
            "ticks": ""
           }
          },
          "scene": {
           "xaxis": {
            "backgroundcolor": "#E5ECF6",
            "gridcolor": "white",
            "gridwidth": 2,
            "linecolor": "white",
            "showbackground": true,
            "ticks": "",
            "zerolinecolor": "white"
           },
           "yaxis": {
            "backgroundcolor": "#E5ECF6",
            "gridcolor": "white",
            "gridwidth": 2,
            "linecolor": "white",
            "showbackground": true,
            "ticks": "",
            "zerolinecolor": "white"
           },
           "zaxis": {
            "backgroundcolor": "#E5ECF6",
            "gridcolor": "white",
            "gridwidth": 2,
            "linecolor": "white",
            "showbackground": true,
            "ticks": "",
            "zerolinecolor": "white"
           }
          },
          "shapedefaults": {
           "line": {
            "color": "#2a3f5f"
           }
          },
          "ternary": {
           "aaxis": {
            "gridcolor": "white",
            "linecolor": "white",
            "ticks": ""
           },
           "baxis": {
            "gridcolor": "white",
            "linecolor": "white",
            "ticks": ""
           },
           "bgcolor": "#E5ECF6",
           "caxis": {
            "gridcolor": "white",
            "linecolor": "white",
            "ticks": ""
           }
          },
          "title": {
           "x": 0.05
          },
          "xaxis": {
           "automargin": true,
           "gridcolor": "white",
           "linecolor": "white",
           "ticks": "",
           "title": {
            "standoff": 15
           },
           "zerolinecolor": "white",
           "zerolinewidth": 2
          },
          "yaxis": {
           "automargin": true,
           "gridcolor": "white",
           "linecolor": "white",
           "ticks": "",
           "title": {
            "standoff": 15
           },
           "zerolinecolor": "white",
           "zerolinewidth": 2
          }
         }
        },
        "title": {
         "text": "Interactive Plot with Toggle Curves"
        },
        "updatemenus": [
         {
          "buttons": [
           {
            "args": [
             {
              "visible": [
               true,
               true,
               true,
               true,
               true,
               true,
               true,
               true,
               true,
               true,
               true,
               true,
               true,
               true,
               true,
               true,
               true,
               true,
               true,
               true,
               true,
               true,
               true,
               true,
               true,
               true,
               true
              ]
             }
            ],
            "label": "AllstdNone",
            "method": "update"
           },
           {
            "args": [
             {
              "visible": [
               true,
               false,
               false,
               false,
               false,
               false,
               false,
               false,
               false,
               false,
               false,
               false,
               false,
               false,
               false,
               false,
               false,
               false,
               false,
               false,
               false,
               false,
               false,
               false,
               false,
               false,
               false
              ]
             }
            ],
            "label": "AllhminNone",
            "method": "update"
           },
           {
            "args": [
             {
              "visible": [
               false,
               true,
               false,
               false,
               false,
               false,
               false,
               false,
               false,
               false,
               false,
               false,
               false,
               false,
               false,
               false,
               false,
               false,
               false,
               false,
               false,
               false,
               false,
               false,
               false,
               false,
               false
              ]
             }
            ],
            "label": "Alll_hminNone",
            "method": "update"
           },
           {
            "args": [
             {
              "visible": [
               false,
               false,
               true,
               false,
               false,
               false,
               false,
               false,
               false,
               false,
               false,
               false,
               false,
               false,
               false,
               false,
               false,
               false,
               false,
               false,
               false,
               false,
               false,
               false,
               false,
               false,
               false
              ]
             }
            ],
            "label": "Alldeg_hNone",
            "method": "update"
           },
           {
            "args": [
             {
              "visible": [
               false,
               false,
               false,
               true,
               false,
               false,
               false,
               false,
               false,
               false,
               false,
               false,
               false,
               false,
               false,
               false,
               false,
               false,
               false,
               false,
               false,
               false,
               false,
               false,
               false,
               false,
               false
              ]
             }
            ],
            "label": "Alll_deg_hNone",
            "method": "update"
           },
           {
            "args": [
             {
              "visible": [
               false,
               false,
               false,
               false,
               true,
               false,
               false,
               false,
               false,
               false,
               false,
               false,
               false,
               false,
               false,
               false,
               false,
               false,
               false,
               false,
               false,
               false,
               false,
               false,
               false,
               false,
               false
              ]
             }
            ],
            "label": "AllHNone",
            "method": "update"
           },
           {
            "args": [
             {
              "visible": [
               false,
               false,
               false,
               false,
               false,
               true,
               false,
               false,
               false,
               false,
               false,
               false,
               false,
               false,
               false,
               false,
               false,
               false,
               false,
               false,
               false,
               false,
               false,
               false,
               false,
               false,
               false
              ]
             }
            ],
            "label": "Alll_HNone",
            "method": "update"
           },
           {
            "args": [
             {
              "visible": [
               false,
               false,
               false,
               false,
               false,
               false,
               true,
               false,
               false,
               false,
               false,
               false,
               false,
               false,
               false,
               false,
               false,
               false,
               false,
               false,
               false,
               false,
               false,
               false,
               false,
               false,
               false
              ]
             }
            ],
            "label": "Allcumul0None",
            "method": "update"
           },
           {
            "args": [
             {
              "visible": [
               false,
               false,
               false,
               false,
               false,
               false,
               false,
               true,
               false,
               false,
               false,
               false,
               false,
               false,
               false,
               false,
               false,
               false,
               false,
               false,
               false,
               false,
               false,
               false,
               false,
               false,
               false
              ]
             }
            ],
            "label": "Alll_cumul0None",
            "method": "update"
           },
           {
            "args": [
             {
              "visible": [
               false,
               false,
               false,
               false,
               false,
               false,
               false,
               false,
               true,
               false,
               false,
               false,
               false,
               false,
               false,
               false,
               false,
               false,
               false,
               false,
               false,
               false,
               false,
               false,
               false,
               false,
               false
              ]
             }
            ],
            "label": "Allcumul1None",
            "method": "update"
           },
           {
            "args": [
             {
              "visible": [
               false,
               false,
               false,
               false,
               false,
               false,
               false,
               false,
               false,
               true,
               false,
               false,
               false,
               false,
               false,
               false,
               false,
               false,
               false,
               false,
               false,
               false,
               false,
               false,
               false,
               false,
               false
              ]
             }
            ],
            "label": "Alll_cumul1None",
            "method": "update"
           },
           {
            "args": [
             {
              "visible": [
               false,
               false,
               false,
               false,
               false,
               false,
               false,
               false,
               false,
               false,
               true,
               false,
               false,
               false,
               false,
               false,
               false,
               false,
               false,
               false,
               false,
               false,
               false,
               false,
               false,
               false,
               false
              ]
             }
            ],
            "label": "Allcumul2None",
            "method": "update"
           },
           {
            "args": [
             {
              "visible": [
               false,
               false,
               false,
               false,
               false,
               false,
               false,
               false,
               false,
               false,
               false,
               true,
               false,
               false,
               false,
               false,
               false,
               false,
               false,
               false,
               false,
               false,
               false,
               false,
               false,
               false,
               false
              ]
             }
            ],
            "label": "Alll_cumul2None",
            "method": "update"
           },
           {
            "args": [
             {
              "visible": [
               false,
               false,
               false,
               false,
               false,
               false,
               false,
               false,
               false,
               false,
               false,
               false,
               true,
               false,
               false,
               false,
               false,
               false,
               false,
               false,
               false,
               false,
               false,
               false,
               false,
               false,
               false
              ]
             }
            ],
            "label": "Allcumul3None",
            "method": "update"
           },
           {
            "args": [
             {
              "visible": [
               false,
               false,
               false,
               false,
               false,
               false,
               false,
               false,
               false,
               false,
               false,
               false,
               false,
               true,
               false,
               false,
               false,
               false,
               false,
               false,
               false,
               false,
               false,
               false,
               false,
               false,
               false
              ]
             }
            ],
            "label": "Alll_cumul3None",
            "method": "update"
           },
           {
            "args": [
             {
              "visible": [
               false,
               false,
               false,
               false,
               false,
               false,
               false,
               false,
               false,
               false,
               false,
               false,
               false,
               false,
               true,
               false,
               false,
               false,
               false,
               false,
               false,
               false,
               false,
               false,
               false,
               false,
               false
              ]
             }
            ],
            "label": "All zeta(q=-10)None",
            "method": "update"
           },
           {
            "args": [
             {
              "visible": [
               false,
               false,
               false,
               false,
               false,
               false,
               false,
               false,
               false,
               false,
               false,
               false,
               false,
               false,
               false,
               true,
               false,
               false,
               false,
               false,
               false,
               false,
               false,
               false,
               false,
               false,
               false
              ]
             }
            ],
            "label": "All zeta(q=-5)None",
            "method": "update"
           },
           {
            "args": [
             {
              "visible": [
               false,
               false,
               false,
               false,
               false,
               false,
               false,
               false,
               false,
               false,
               false,
               false,
               false,
               false,
               false,
               false,
               true,
               false,
               false,
               false,
               false,
               false,
               false,
               false,
               false,
               false,
               false
              ]
             }
            ],
            "label": "All zeta(q=-4)None",
            "method": "update"
           },
           {
            "args": [
             {
              "visible": [
               false,
               false,
               false,
               false,
               false,
               false,
               false,
               false,
               false,
               false,
               false,
               false,
               false,
               false,
               false,
               false,
               false,
               true,
               false,
               false,
               false,
               false,
               false,
               false,
               false,
               false,
               false
              ]
             }
            ],
            "label": "All zeta(q=-3)None",
            "method": "update"
           },
           {
            "args": [
             {
              "visible": [
               false,
               false,
               false,
               false,
               false,
               false,
               false,
               false,
               false,
               false,
               false,
               false,
               false,
               false,
               false,
               false,
               false,
               false,
               true,
               false,
               false,
               false,
               false,
               false,
               false,
               false,
               false
              ]
             }
            ],
            "label": "All zeta(q=-2)None",
            "method": "update"
           },
           {
            "args": [
             {
              "visible": [
               false,
               false,
               false,
               false,
               false,
               false,
               false,
               false,
               false,
               false,
               false,
               false,
               false,
               false,
               false,
               false,
               false,
               false,
               false,
               true,
               false,
               false,
               false,
               false,
               false,
               false,
               false
              ]
             }
            ],
            "label": "All zeta(q=-1)None",
            "method": "update"
           },
           {
            "args": [
             {
              "visible": [
               false,
               false,
               false,
               false,
               false,
               false,
               false,
               false,
               false,
               false,
               false,
               false,
               false,
               false,
               false,
               false,
               false,
               false,
               false,
               false,
               true,
               false,
               false,
               false,
               false,
               false,
               false
              ]
             }
            ],
            "label": "All zeta(q=1)None",
            "method": "update"
           },
           {
            "args": [
             {
              "visible": [
               false,
               false,
               false,
               false,
               false,
               false,
               false,
               false,
               false,
               false,
               false,
               false,
               false,
               false,
               false,
               false,
               false,
               false,
               false,
               false,
               false,
               true,
               false,
               false,
               false,
               false,
               false
              ]
             }
            ],
            "label": "All zeta(q=2)None",
            "method": "update"
           },
           {
            "args": [
             {
              "visible": [
               false,
               false,
               false,
               false,
               false,
               false,
               false,
               false,
               false,
               false,
               false,
               false,
               false,
               false,
               false,
               false,
               false,
               false,
               false,
               false,
               false,
               false,
               true,
               false,
               false,
               false,
               false
              ]
             }
            ],
            "label": "All zeta(q=3)None",
            "method": "update"
           },
           {
            "args": [
             {
              "visible": [
               false,
               false,
               false,
               false,
               false,
               false,
               false,
               false,
               false,
               false,
               false,
               false,
               false,
               false,
               false,
               false,
               false,
               false,
               false,
               false,
               false,
               false,
               false,
               true,
               false,
               false,
               false
              ]
             }
            ],
            "label": "All zeta(q=4)None",
            "method": "update"
           },
           {
            "args": [
             {
              "visible": [
               false,
               false,
               false,
               false,
               false,
               false,
               false,
               false,
               false,
               false,
               false,
               false,
               false,
               false,
               false,
               false,
               false,
               false,
               false,
               false,
               false,
               false,
               false,
               false,
               true,
               false,
               false
              ]
             }
            ],
            "label": "All zeta(q=5)None",
            "method": "update"
           },
           {
            "args": [
             {
              "visible": [
               false,
               false,
               false,
               false,
               false,
               false,
               false,
               false,
               false,
               false,
               false,
               false,
               false,
               false,
               false,
               false,
               false,
               false,
               false,
               false,
               false,
               false,
               false,
               false,
               false,
               true,
               false
              ]
             }
            ],
            "label": "All zeta(q=10)None",
            "method": "update"
           }
          ],
          "direction": "right",
          "type": "buttons"
         }
        ],
        "xaxis": {
         "title": {
          "text": "X Axis"
         }
        },
        "yaxis": {
         "title": {
          "text": "Y Axis"
         }
        }
       }
      }
     },
     "metadata": {},
     "output_type": "display_data"
    }
   ],
   "source": [
    "signals_mean = []\n",
    "signals_std = []\n",
    "j2s = range(4,j2max)\n",
    "for j2 in j2s:\n",
    "    df_mfa = get_df_mfa(X1,n_cumul=4,j1=1,j2=j2)\n",
    "    y = np.array(np.mean(df_mfa, axis = 0),dtype=np.float32)\n",
    "    y_std = np.array(np.std(df_mfa, axis = 0),dtype=np.float32)\n",
    "    signals_mean.append(y)\n",
    "    signals_std.append(y_std)\n",
    "signals_mean = np.array(signals_mean).T\n",
    "signals_std = np.array(signals_std).T\n",
    "dyn_plot(signals_mean, signals_std, label=columns, x=list(j2s))\n"
   ]
  },
  {
   "cell_type": "code",
   "execution_count": null,
   "metadata": {},
   "outputs": [
    {
     "data": {
      "text/plain": [
       "(173, 10000)"
      ]
     },
     "execution_count": 21,
     "metadata": {},
     "output_type": "execute_result"
    }
   ],
   "source": [
    "X1.shape"
   ]
  },
  {
   "cell_type": "code",
   "execution_count": null,
   "metadata": {},
   "outputs": [],
   "source": [
    "# result = {'Transformation (shape)': trans_name_str}\n",
    "#         result[\"shape\"] = trans_X.shape[-1]\n",
    "#         result['nb_trans'] = len(trans)\n",
    "\n",
    "#         scaler = StandardScaler()\n",
    "#         trans_X = scaler.fit_transform(trans_X) \n",
    "#         print(f\"Transformation: {trans_name_str}, Shape: {trans_X.shape[-1]} \")\n",
    "#         for clf_name, clf in classifiers.items():\n",
    "#             kf = KFold(n_splits=5, shuffle=True, random_state=42)\n",
    "#             scores = cross_val_score(clf, trans_X, y, cv=kf, scoring='accuracy')\n",
    "#             result[f'{clf_name} accuracy'] = np.mean(scores)\n",
    "#             result[f'{clf_name} std'] = np.std(scores)\n",
    "#             print(f\"Classifier: {clf_name}, \"\n",
    "#                   f\"Mean Accuracy: {np.mean(scores):.3f}, Std Accuracy: {np.std(scores):.3f}\")\n",
    "        \n",
    "#         results.append(result)"
   ]
  },
  {
   "cell_type": "code",
   "execution_count": null,
   "metadata": {},
   "outputs": [],
   "source": []
  },
  {
   "cell_type": "code",
   "execution_count": null,
   "metadata": {},
   "outputs": [],
   "source": [
    "signal = X1[0]\n",
    "dwt, lwt = mfa.mf_analysis_full(\n",
    "        signal,\n",
    "        scaling_ranges=[(2, 4)],\n",
    "        q=[-10, -5, 0, 5, 10],\n",
    "        n_cumul=2,\n",
    "        p_exp=np.inf,\n",
    "        gamint=0.0\n",
    "        )\n",
    "lwt_sf, lwt_cumul, lw_mfs, lwt_hmin = lwt\n",
    "sf, cumul, mfs, hmin = dwt\n"
   ]
  },
  {
   "cell_type": "code",
   "execution_count": null,
   "metadata": {},
   "outputs": [
    {
     "data": {
      "text/plain": [
       "array([[[ 0.28961673]],\n",
       "\n",
       "       [[-0.08598032]]])"
      ]
     },
     "execution_count": 24,
     "metadata": {},
     "output_type": "execute_result"
    }
   ],
   "source": [
    "lwt_cumul.log_cumulants"
   ]
  },
  {
   "cell_type": "code",
   "execution_count": null,
   "metadata": {},
   "outputs": [
    {
     "data": {
      "text/plain": [
       "array([[-0.58835444]])"
      ]
     },
     "execution_count": 25,
     "metadata": {},
     "output_type": "execute_result"
    }
   ],
   "source": [
    "hmin"
   ]
  },
  {
   "cell_type": "code",
   "execution_count": null,
   "metadata": {},
   "outputs": [],
   "source": [
    "# sf.H"
   ]
  },
  {
   "cell_type": "code",
   "execution_count": null,
   "metadata": {},
   "outputs": [],
   "source": [
    "n_cumul = 4"
   ]
  },
  {
   "cell_type": "code",
   "execution_count": null,
   "metadata": {},
   "outputs": [],
   "source": [
    "scaler = StandardScaler()"
   ]
  },
  {
   "cell_type": "code",
   "execution_count": null,
   "metadata": {},
   "outputs": [
    {
     "name": "stderr",
     "output_type": "stream",
     "text": [
      "c:\\users\\ant\\documents\\info2\\bits2beat-tests\\pymultifracs\\pymultifracs\\utils.py:87: RuntimeWarning:\n",
      "\n",
      "divide by zero encountered in power\n",
      "\n",
      "c:\\users\\ant\\documents\\info2\\bits2beat-tests\\pymultifracs\\pymultifracs\\utils.py:76: RuntimeWarning:\n",
      "\n",
      "divide by zero encountered in reciprocal\n",
      "\n",
      "c:\\users\\ant\\documents\\info2\\bits2beat-tests\\pymultifracs\\pymultifracs\\cumulants.py:265: RuntimeWarning:\n",
      "\n",
      "divide by zero encountered in log\n",
      "\n",
      "c:\\users\\ant\\documents\\info2\\bits2beat-tests\\pymultifracs\\pymultifracs\\mfspectrum.py:117: RuntimeWarning:\n",
      "\n",
      "invalid value encountered in divide\n",
      "\n",
      "c:\\users\\ant\\documents\\info2\\bits2beat-tests\\pymultifracs\\pymultifracs\\mfspectrum.py:118: RuntimeWarning:\n",
      "\n",
      "divide by zero encountered in log2\n",
      "\n",
      "c:\\users\\ant\\documents\\info2\\bits2beat-tests\\pymultifracs\\pymultifracs\\mfspectrum.py:118: RuntimeWarning:\n",
      "\n",
      "invalid value encountered in multiply\n",
      "\n",
      "c:\\users\\ant\\documents\\info2\\bits2beat-tests\\pymultifracs\\pymultifracs\\mfspectrum.py:119: RuntimeWarning:\n",
      "\n",
      "divide by zero encountered in log2\n",
      "\n",
      "c:\\users\\ant\\documents\\info2\\bits2beat-tests\\pymultifracs\\pymultifracs\\mfspectrum.py:119: RuntimeWarning:\n",
      "\n",
      "invalid value encountered in multiply\n",
      "\n",
      "c:\\users\\ant\\documents\\info2\\bits2beat-tests\\pymultifracs\\pymultifracs\\utils.py:87: RuntimeWarning:\n",
      "\n",
      "divide by zero encountered in power\n",
      "\n",
      "c:\\users\\ant\\documents\\info2\\bits2beat-tests\\pymultifracs\\pymultifracs\\utils.py:76: RuntimeWarning:\n",
      "\n",
      "divide by zero encountered in reciprocal\n",
      "\n",
      "c:\\users\\ant\\documents\\info2\\bits2beat-tests\\pymultifracs\\pymultifracs\\cumulants.py:265: RuntimeWarning:\n",
      "\n",
      "divide by zero encountered in log\n",
      "\n",
      "c:\\users\\ant\\documents\\info2\\bits2beat-tests\\pymultifracs\\pymultifracs\\mfspectrum.py:117: RuntimeWarning:\n",
      "\n",
      "invalid value encountered in divide\n",
      "\n",
      "c:\\users\\ant\\documents\\info2\\bits2beat-tests\\pymultifracs\\pymultifracs\\mfspectrum.py:118: RuntimeWarning:\n",
      "\n",
      "divide by zero encountered in log2\n",
      "\n",
      "c:\\users\\ant\\documents\\info2\\bits2beat-tests\\pymultifracs\\pymultifracs\\mfspectrum.py:118: RuntimeWarning:\n",
      "\n",
      "invalid value encountered in multiply\n",
      "\n",
      "c:\\users\\ant\\documents\\info2\\bits2beat-tests\\pymultifracs\\pymultifracs\\mfspectrum.py:119: RuntimeWarning:\n",
      "\n",
      "divide by zero encountered in log2\n",
      "\n",
      "c:\\users\\ant\\documents\\info2\\bits2beat-tests\\pymultifracs\\pymultifracs\\mfspectrum.py:119: RuntimeWarning:\n",
      "\n",
      "invalid value encountered in multiply\n",
      "\n"
     ]
    }
   ],
   "source": [
    "df_mfa1 = get_df_mfa(X1, n_cumul=n_cumul)\n",
    "ndf_mfa1 = get_df_mfa(scaler.fit_transform(X1), n_cumul=n_cumul)\n",
    "df_mfa2 = get_df_mfa(X2, n_cumul=n_cumul)\n",
    "ndf_mfa2 = get_df_mfa(scaler.fit_transform(X2), n_cumul=n_cumul)"
   ]
  },
  {
   "cell_type": "code",
   "execution_count": null,
   "metadata": {},
   "outputs": [
    {
     "data": {
      "text/html": [
       "<div>\n",
       "<style scoped>\n",
       "    .dataframe tbody tr th:only-of-type {\n",
       "        vertical-align: middle;\n",
       "    }\n",
       "\n",
       "    .dataframe tbody tr th {\n",
       "        vertical-align: top;\n",
       "    }\n",
       "\n",
       "    .dataframe thead th {\n",
       "        text-align: right;\n",
       "    }\n",
       "</style>\n",
       "<table border=\"1\" class=\"dataframe\">\n",
       "  <thead>\n",
       "    <tr style=\"text-align: right;\">\n",
       "      <th></th>\n",
       "      <th>std</th>\n",
       "      <th>hmin</th>\n",
       "      <th>deg_h</th>\n",
       "      <th>l_deg_h</th>\n",
       "      <th>H</th>\n",
       "      <th>l_H</th>\n",
       "      <th>cumul0</th>\n",
       "      <th>l_cumul0</th>\n",
       "      <th>cumul1</th>\n",
       "      <th>l_cumul1</th>\n",
       "      <th>...</th>\n",
       "      <th>zeta(q=-4)</th>\n",
       "      <th>zeta(q=-3)</th>\n",
       "      <th>zeta(q=-2)</th>\n",
       "      <th>zeta(q=-1)</th>\n",
       "      <th>zeta(q=1)</th>\n",
       "      <th>zeta(q=2)</th>\n",
       "      <th>zeta(q=3)</th>\n",
       "      <th>zeta(q=4)</th>\n",
       "      <th>zeta(q=5)</th>\n",
       "      <th>zeta(q=10)</th>\n",
       "    </tr>\n",
       "  </thead>\n",
       "  <tbody>\n",
       "    <tr>\n",
       "      <th>count</th>\n",
       "      <td>173.00</td>\n",
       "      <td>173.00</td>\n",
       "      <td>173.00</td>\n",
       "      <td>173.00</td>\n",
       "      <td>173.00</td>\n",
       "      <td>173.00</td>\n",
       "      <td>173.00</td>\n",
       "      <td>173.00</td>\n",
       "      <td>173.00</td>\n",
       "      <td>173.00</td>\n",
       "      <td>...</td>\n",
       "      <td>173.00</td>\n",
       "      <td>173.00</td>\n",
       "      <td>173.00</td>\n",
       "      <td>173.00</td>\n",
       "      <td>173.00</td>\n",
       "      <td>173.00</td>\n",
       "      <td>173.00</td>\n",
       "      <td>173.00</td>\n",
       "      <td>173.00</td>\n",
       "      <td>173.00</td>\n",
       "    </tr>\n",
       "    <tr>\n",
       "      <th>mean</th>\n",
       "      <td>0.15</td>\n",
       "      <td>-0.48</td>\n",
       "      <td>1.42</td>\n",
       "      <td>0.63</td>\n",
       "      <td>-0.30</td>\n",
       "      <td>0.23</td>\n",
       "      <td>-0.22</td>\n",
       "      <td>0.33</td>\n",
       "      <td>-0.09</td>\n",
       "      <td>-0.11</td>\n",
       "      <td>...</td>\n",
       "      <td>-1.69</td>\n",
       "      <td>-1.21</td>\n",
       "      <td>-0.78</td>\n",
       "      <td>-0.37</td>\n",
       "      <td>0.27</td>\n",
       "      <td>0.45</td>\n",
       "      <td>0.57</td>\n",
       "      <td>0.65</td>\n",
       "      <td>0.72</td>\n",
       "      <td>0.88</td>\n",
       "    </tr>\n",
       "    <tr>\n",
       "      <th>std</th>\n",
       "      <td>0.07</td>\n",
       "      <td>0.16</td>\n",
       "      <td>0.86</td>\n",
       "      <td>0.24</td>\n",
       "      <td>0.22</td>\n",
       "      <td>0.09</td>\n",
       "      <td>0.27</td>\n",
       "      <td>0.17</td>\n",
       "      <td>0.18</td>\n",
       "      <td>0.21</td>\n",
       "      <td>...</td>\n",
       "      <td>0.87</td>\n",
       "      <td>0.64</td>\n",
       "      <td>0.43</td>\n",
       "      <td>0.21</td>\n",
       "      <td>0.13</td>\n",
       "      <td>0.17</td>\n",
       "      <td>0.17</td>\n",
       "      <td>0.15</td>\n",
       "      <td>0.15</td>\n",
       "      <td>0.21</td>\n",
       "    </tr>\n",
       "    <tr>\n",
       "      <th>min</th>\n",
       "      <td>0.03</td>\n",
       "      <td>-0.93</td>\n",
       "      <td>0.39</td>\n",
       "      <td>0.31</td>\n",
       "      <td>-0.55</td>\n",
       "      <td>0.12</td>\n",
       "      <td>-0.59</td>\n",
       "      <td>0.14</td>\n",
       "      <td>-0.73</td>\n",
       "      <td>-0.77</td>\n",
       "      <td>...</td>\n",
       "      <td>-4.69</td>\n",
       "      <td>-3.39</td>\n",
       "      <td>-2.10</td>\n",
       "      <td>-0.97</td>\n",
       "      <td>0.13</td>\n",
       "      <td>0.24</td>\n",
       "      <td>0.32</td>\n",
       "      <td>0.22</td>\n",
       "      <td>-0.06</td>\n",
       "      <td>-1.52</td>\n",
       "    </tr>\n",
       "    <tr>\n",
       "      <th>25%</th>\n",
       "      <td>0.11</td>\n",
       "      <td>-0.59</td>\n",
       "      <td>0.94</td>\n",
       "      <td>0.44</td>\n",
       "      <td>-0.45</td>\n",
       "      <td>0.17</td>\n",
       "      <td>-0.44</td>\n",
       "      <td>0.20</td>\n",
       "      <td>-0.16</td>\n",
       "      <td>-0.11</td>\n",
       "      <td>...</td>\n",
       "      <td>-2.08</td>\n",
       "      <td>-1.52</td>\n",
       "      <td>-1.04</td>\n",
       "      <td>-0.48</td>\n",
       "      <td>0.18</td>\n",
       "      <td>0.34</td>\n",
       "      <td>0.46</td>\n",
       "      <td>0.57</td>\n",
       "      <td>0.65</td>\n",
       "      <td>0.84</td>\n",
       "    </tr>\n",
       "    <tr>\n",
       "      <th>50%</th>\n",
       "      <td>0.15</td>\n",
       "      <td>-0.50</td>\n",
       "      <td>1.38</td>\n",
       "      <td>0.56</td>\n",
       "      <td>-0.37</td>\n",
       "      <td>0.19</td>\n",
       "      <td>-0.33</td>\n",
       "      <td>0.23</td>\n",
       "      <td>-0.05</td>\n",
       "      <td>-0.03</td>\n",
       "      <td>...</td>\n",
       "      <td>-1.35</td>\n",
       "      <td>-0.94</td>\n",
       "      <td>-0.58</td>\n",
       "      <td>-0.26</td>\n",
       "      <td>0.21</td>\n",
       "      <td>0.37</td>\n",
       "      <td>0.51</td>\n",
       "      <td>0.62</td>\n",
       "      <td>0.70</td>\n",
       "      <td>0.92</td>\n",
       "    </tr>\n",
       "    <tr>\n",
       "      <th>75%</th>\n",
       "      <td>0.20</td>\n",
       "      <td>-0.41</td>\n",
       "      <td>1.66</td>\n",
       "      <td>0.71</td>\n",
       "      <td>-0.22</td>\n",
       "      <td>0.25</td>\n",
       "      <td>0.04</td>\n",
       "      <td>0.46</td>\n",
       "      <td>0.02</td>\n",
       "      <td>-0.02</td>\n",
       "      <td>...</td>\n",
       "      <td>-1.05</td>\n",
       "      <td>-0.73</td>\n",
       "      <td>-0.46</td>\n",
       "      <td>-0.21</td>\n",
       "      <td>0.35</td>\n",
       "      <td>0.51</td>\n",
       "      <td>0.61</td>\n",
       "      <td>0.72</td>\n",
       "      <td>0.80</td>\n",
       "      <td>0.97</td>\n",
       "    </tr>\n",
       "    <tr>\n",
       "      <th>max</th>\n",
       "      <td>0.39</td>\n",
       "      <td>0.13</td>\n",
       "      <td>7.13</td>\n",
       "      <td>1.43</td>\n",
       "      <td>0.44</td>\n",
       "      <td>0.47</td>\n",
       "      <td>0.45</td>\n",
       "      <td>0.82</td>\n",
       "      <td>0.23</td>\n",
       "      <td>0.30</td>\n",
       "      <td>...</td>\n",
       "      <td>-0.79</td>\n",
       "      <td>-0.58</td>\n",
       "      <td>-0.35</td>\n",
       "      <td>-0.16</td>\n",
       "      <td>0.63</td>\n",
       "      <td>0.95</td>\n",
       "      <td>1.08</td>\n",
       "      <td>1.11</td>\n",
       "      <td>1.18</td>\n",
       "      <td>1.11</td>\n",
       "    </tr>\n",
       "  </tbody>\n",
       "</table>\n",
       "<p>8 rows × 26 columns</p>\n",
       "</div>"
      ],
      "text/plain": [
       "         std   hmin  deg_h  l_deg_h      H    l_H  cumul0  l_cumul0  cumul1  \\\n",
       "count 173.00 173.00 173.00   173.00 173.00 173.00  173.00    173.00  173.00   \n",
       "mean    0.15  -0.48   1.42     0.63  -0.30   0.23   -0.22      0.33   -0.09   \n",
       "std     0.07   0.16   0.86     0.24   0.22   0.09    0.27      0.17    0.18   \n",
       "min     0.03  -0.93   0.39     0.31  -0.55   0.12   -0.59      0.14   -0.73   \n",
       "25%     0.11  -0.59   0.94     0.44  -0.45   0.17   -0.44      0.20   -0.16   \n",
       "50%     0.15  -0.50   1.38     0.56  -0.37   0.19   -0.33      0.23   -0.05   \n",
       "75%     0.20  -0.41   1.66     0.71  -0.22   0.25    0.04      0.46    0.02   \n",
       "max     0.39   0.13   7.13     1.43   0.44   0.47    0.45      0.82    0.23   \n",
       "\n",
       "       l_cumul1  ...   zeta(q=-4)   zeta(q=-3)   zeta(q=-2)   zeta(q=-1)  \\\n",
       "count    173.00  ...       173.00       173.00       173.00       173.00   \n",
       "mean      -0.11  ...        -1.69        -1.21        -0.78        -0.37   \n",
       "std        0.21  ...         0.87         0.64         0.43         0.21   \n",
       "min       -0.77  ...        -4.69        -3.39        -2.10        -0.97   \n",
       "25%       -0.11  ...        -2.08        -1.52        -1.04        -0.48   \n",
       "50%       -0.03  ...        -1.35        -0.94        -0.58        -0.26   \n",
       "75%       -0.02  ...        -1.05        -0.73        -0.46        -0.21   \n",
       "max        0.30  ...        -0.79        -0.58        -0.35        -0.16   \n",
       "\n",
       "        zeta(q=1)   zeta(q=2)   zeta(q=3)   zeta(q=4)   zeta(q=5)   zeta(q=10)  \n",
       "count      173.00      173.00      173.00      173.00      173.00       173.00  \n",
       "mean         0.27        0.45        0.57        0.65        0.72         0.88  \n",
       "std          0.13        0.17        0.17        0.15        0.15         0.21  \n",
       "min          0.13        0.24        0.32        0.22       -0.06        -1.52  \n",
       "25%          0.18        0.34        0.46        0.57        0.65         0.84  \n",
       "50%          0.21        0.37        0.51        0.62        0.70         0.92  \n",
       "75%          0.35        0.51        0.61        0.72        0.80         0.97  \n",
       "max          0.63        0.95        1.08        1.11        1.18         1.11  \n",
       "\n",
       "[8 rows x 26 columns]"
      ]
     },
     "execution_count": 30,
     "metadata": {},
     "output_type": "execute_result"
    }
   ],
   "source": [
    "df_mfa1.describe() # include='all')"
   ]
  },
  {
   "cell_type": "code",
   "execution_count": null,
   "metadata": {},
   "outputs": [
    {
     "data": {
      "text/html": [
       "<div>\n",
       "<style scoped>\n",
       "    .dataframe tbody tr th:only-of-type {\n",
       "        vertical-align: middle;\n",
       "    }\n",
       "\n",
       "    .dataframe tbody tr th {\n",
       "        vertical-align: top;\n",
       "    }\n",
       "\n",
       "    .dataframe thead th {\n",
       "        text-align: right;\n",
       "    }\n",
       "</style>\n",
       "<table border=\"1\" class=\"dataframe\">\n",
       "  <thead>\n",
       "    <tr style=\"text-align: right;\">\n",
       "      <th></th>\n",
       "      <th>std</th>\n",
       "      <th>hmin</th>\n",
       "      <th>deg_h</th>\n",
       "      <th>l_deg_h</th>\n",
       "      <th>H</th>\n",
       "      <th>l_H</th>\n",
       "      <th>cumul0</th>\n",
       "      <th>l_cumul0</th>\n",
       "      <th>cumul1</th>\n",
       "      <th>l_cumul1</th>\n",
       "      <th>...</th>\n",
       "      <th>zeta(q=-4)</th>\n",
       "      <th>zeta(q=-3)</th>\n",
       "      <th>zeta(q=-2)</th>\n",
       "      <th>zeta(q=-1)</th>\n",
       "      <th>zeta(q=1)</th>\n",
       "      <th>zeta(q=2)</th>\n",
       "      <th>zeta(q=3)</th>\n",
       "      <th>zeta(q=4)</th>\n",
       "      <th>zeta(q=5)</th>\n",
       "      <th>zeta(q=10)</th>\n",
       "    </tr>\n",
       "  </thead>\n",
       "  <tbody>\n",
       "    <tr>\n",
       "      <th>count</th>\n",
       "      <td>173.00</td>\n",
       "      <td>173.00</td>\n",
       "      <td>173.00</td>\n",
       "      <td>173.00</td>\n",
       "      <td>173.00</td>\n",
       "      <td>173.00</td>\n",
       "      <td>173.00</td>\n",
       "      <td>173.00</td>\n",
       "      <td>173.00</td>\n",
       "      <td>173.00</td>\n",
       "      <td>...</td>\n",
       "      <td>173.00</td>\n",
       "      <td>173.00</td>\n",
       "      <td>173.00</td>\n",
       "      <td>173.00</td>\n",
       "      <td>173.00</td>\n",
       "      <td>173.00</td>\n",
       "      <td>173.00</td>\n",
       "      <td>173.00</td>\n",
       "      <td>173.00</td>\n",
       "      <td>173.00</td>\n",
       "    </tr>\n",
       "    <tr>\n",
       "      <th>mean</th>\n",
       "      <td>0.63</td>\n",
       "      <td>-0.48</td>\n",
       "      <td>1.33</td>\n",
       "      <td>0.55</td>\n",
       "      <td>-0.30</td>\n",
       "      <td>0.22</td>\n",
       "      <td>-0.26</td>\n",
       "      <td>0.29</td>\n",
       "      <td>-0.05</td>\n",
       "      <td>-0.07</td>\n",
       "      <td>...</td>\n",
       "      <td>-1.45</td>\n",
       "      <td>-1.04</td>\n",
       "      <td>-0.67</td>\n",
       "      <td>-0.32</td>\n",
       "      <td>0.25</td>\n",
       "      <td>0.43</td>\n",
       "      <td>0.56</td>\n",
       "      <td>0.65</td>\n",
       "      <td>0.72</td>\n",
       "      <td>0.90</td>\n",
       "    </tr>\n",
       "    <tr>\n",
       "      <th>std</th>\n",
       "      <td>0.27</td>\n",
       "      <td>0.16</td>\n",
       "      <td>0.47</td>\n",
       "      <td>0.19</td>\n",
       "      <td>0.20</td>\n",
       "      <td>0.07</td>\n",
       "      <td>0.22</td>\n",
       "      <td>0.13</td>\n",
       "      <td>0.13</td>\n",
       "      <td>0.14</td>\n",
       "      <td>...</td>\n",
       "      <td>0.66</td>\n",
       "      <td>0.48</td>\n",
       "      <td>0.32</td>\n",
       "      <td>0.16</td>\n",
       "      <td>0.10</td>\n",
       "      <td>0.15</td>\n",
       "      <td>0.15</td>\n",
       "      <td>0.14</td>\n",
       "      <td>0.13</td>\n",
       "      <td>0.10</td>\n",
       "    </tr>\n",
       "    <tr>\n",
       "      <th>min</th>\n",
       "      <td>0.12</td>\n",
       "      <td>-0.82</td>\n",
       "      <td>0.55</td>\n",
       "      <td>0.31</td>\n",
       "      <td>-0.54</td>\n",
       "      <td>0.12</td>\n",
       "      <td>-0.58</td>\n",
       "      <td>0.15</td>\n",
       "      <td>-0.51</td>\n",
       "      <td>-0.51</td>\n",
       "      <td>...</td>\n",
       "      <td>-3.86</td>\n",
       "      <td>-2.77</td>\n",
       "      <td>-1.70</td>\n",
       "      <td>-0.73</td>\n",
       "      <td>0.14</td>\n",
       "      <td>0.25</td>\n",
       "      <td>0.34</td>\n",
       "      <td>0.40</td>\n",
       "      <td>0.45</td>\n",
       "      <td>0.61</td>\n",
       "    </tr>\n",
       "    <tr>\n",
       "      <th>25%</th>\n",
       "      <td>0.45</td>\n",
       "      <td>-0.58</td>\n",
       "      <td>0.95</td>\n",
       "      <td>0.42</td>\n",
       "      <td>-0.45</td>\n",
       "      <td>0.17</td>\n",
       "      <td>-0.44</td>\n",
       "      <td>0.19</td>\n",
       "      <td>-0.12</td>\n",
       "      <td>-0.10</td>\n",
       "      <td>...</td>\n",
       "      <td>-1.62</td>\n",
       "      <td>-1.17</td>\n",
       "      <td>-0.79</td>\n",
       "      <td>-0.36</td>\n",
       "      <td>0.18</td>\n",
       "      <td>0.34</td>\n",
       "      <td>0.46</td>\n",
       "      <td>0.57</td>\n",
       "      <td>0.65</td>\n",
       "      <td>0.85</td>\n",
       "    </tr>\n",
       "    <tr>\n",
       "      <th>50%</th>\n",
       "      <td>0.61</td>\n",
       "      <td>-0.49</td>\n",
       "      <td>1.30</td>\n",
       "      <td>0.49</td>\n",
       "      <td>-0.37</td>\n",
       "      <td>0.19</td>\n",
       "      <td>-0.34</td>\n",
       "      <td>0.23</td>\n",
       "      <td>-0.05</td>\n",
       "      <td>-0.03</td>\n",
       "      <td>...</td>\n",
       "      <td>-1.19</td>\n",
       "      <td>-0.83</td>\n",
       "      <td>-0.52</td>\n",
       "      <td>-0.25</td>\n",
       "      <td>0.21</td>\n",
       "      <td>0.37</td>\n",
       "      <td>0.51</td>\n",
       "      <td>0.62</td>\n",
       "      <td>0.70</td>\n",
       "      <td>0.91</td>\n",
       "    </tr>\n",
       "    <tr>\n",
       "      <th>75%</th>\n",
       "      <td>0.80</td>\n",
       "      <td>-0.41</td>\n",
       "      <td>1.64</td>\n",
       "      <td>0.61</td>\n",
       "      <td>-0.23</td>\n",
       "      <td>0.24</td>\n",
       "      <td>-0.06</td>\n",
       "      <td>0.36</td>\n",
       "      <td>0.02</td>\n",
       "      <td>-0.02</td>\n",
       "      <td>...</td>\n",
       "      <td>-1.02</td>\n",
       "      <td>-0.72</td>\n",
       "      <td>-0.46</td>\n",
       "      <td>-0.21</td>\n",
       "      <td>0.31</td>\n",
       "      <td>0.48</td>\n",
       "      <td>0.60</td>\n",
       "      <td>0.71</td>\n",
       "      <td>0.79</td>\n",
       "      <td>0.97</td>\n",
       "    </tr>\n",
       "    <tr>\n",
       "      <th>max</th>\n",
       "      <td>1.52</td>\n",
       "      <td>0.18</td>\n",
       "      <td>2.68</td>\n",
       "      <td>1.25</td>\n",
       "      <td>0.32</td>\n",
       "      <td>0.42</td>\n",
       "      <td>0.26</td>\n",
       "      <td>0.64</td>\n",
       "      <td>0.30</td>\n",
       "      <td>0.16</td>\n",
       "      <td>...</td>\n",
       "      <td>-0.82</td>\n",
       "      <td>-0.57</td>\n",
       "      <td>-0.35</td>\n",
       "      <td>-0.16</td>\n",
       "      <td>0.55</td>\n",
       "      <td>0.83</td>\n",
       "      <td>1.01</td>\n",
       "      <td>1.06</td>\n",
       "      <td>1.05</td>\n",
       "      <td>1.20</td>\n",
       "    </tr>\n",
       "  </tbody>\n",
       "</table>\n",
       "<p>8 rows × 26 columns</p>\n",
       "</div>"
      ],
      "text/plain": [
       "         std   hmin  deg_h  l_deg_h      H    l_H  cumul0  l_cumul0  cumul1  \\\n",
       "count 173.00 173.00 173.00   173.00 173.00 173.00  173.00    173.00  173.00   \n",
       "mean    0.63  -0.48   1.33     0.55  -0.30   0.22   -0.26      0.29   -0.05   \n",
       "std     0.27   0.16   0.47     0.19   0.20   0.07    0.22      0.13    0.13   \n",
       "min     0.12  -0.82   0.55     0.31  -0.54   0.12   -0.58      0.15   -0.51   \n",
       "25%     0.45  -0.58   0.95     0.42  -0.45   0.17   -0.44      0.19   -0.12   \n",
       "50%     0.61  -0.49   1.30     0.49  -0.37   0.19   -0.34      0.23   -0.05   \n",
       "75%     0.80  -0.41   1.64     0.61  -0.23   0.24   -0.06      0.36    0.02   \n",
       "max     1.52   0.18   2.68     1.25   0.32   0.42    0.26      0.64    0.30   \n",
       "\n",
       "       l_cumul1  ...   zeta(q=-4)   zeta(q=-3)   zeta(q=-2)   zeta(q=-1)  \\\n",
       "count    173.00  ...       173.00       173.00       173.00       173.00   \n",
       "mean      -0.07  ...        -1.45        -1.04        -0.67        -0.32   \n",
       "std        0.14  ...         0.66         0.48         0.32         0.16   \n",
       "min       -0.51  ...        -3.86        -2.77        -1.70        -0.73   \n",
       "25%       -0.10  ...        -1.62        -1.17        -0.79        -0.36   \n",
       "50%       -0.03  ...        -1.19        -0.83        -0.52        -0.25   \n",
       "75%       -0.02  ...        -1.02        -0.72        -0.46        -0.21   \n",
       "max        0.16  ...        -0.82        -0.57        -0.35        -0.16   \n",
       "\n",
       "        zeta(q=1)   zeta(q=2)   zeta(q=3)   zeta(q=4)   zeta(q=5)   zeta(q=10)  \n",
       "count      173.00      173.00      173.00      173.00      173.00       173.00  \n",
       "mean         0.25        0.43        0.56        0.65        0.72         0.90  \n",
       "std          0.10        0.15        0.15        0.14        0.13         0.10  \n",
       "min          0.14        0.25        0.34        0.40        0.45         0.61  \n",
       "25%          0.18        0.34        0.46        0.57        0.65         0.85  \n",
       "50%          0.21        0.37        0.51        0.62        0.70         0.91  \n",
       "75%          0.31        0.48        0.60        0.71        0.79         0.97  \n",
       "max          0.55        0.83        1.01        1.06        1.05         1.20  \n",
       "\n",
       "[8 rows x 26 columns]"
      ]
     },
     "execution_count": 31,
     "metadata": {},
     "output_type": "execute_result"
    }
   ],
   "source": [
    "ndf_mfa1.describe() # include='all')"
   ]
  },
  {
   "cell_type": "code",
   "execution_count": null,
   "metadata": {},
   "outputs": [
    {
     "data": {
      "text/html": [
       "<div>\n",
       "<style scoped>\n",
       "    .dataframe tbody tr th:only-of-type {\n",
       "        vertical-align: middle;\n",
       "    }\n",
       "\n",
       "    .dataframe tbody tr th {\n",
       "        vertical-align: top;\n",
       "    }\n",
       "\n",
       "    .dataframe thead th {\n",
       "        text-align: right;\n",
       "    }\n",
       "</style>\n",
       "<table border=\"1\" class=\"dataframe\">\n",
       "  <thead>\n",
       "    <tr style=\"text-align: right;\">\n",
       "      <th></th>\n",
       "      <th>std</th>\n",
       "      <th>hmin</th>\n",
       "      <th>deg_h</th>\n",
       "      <th>l_deg_h</th>\n",
       "      <th>H</th>\n",
       "      <th>l_H</th>\n",
       "      <th>cumul0</th>\n",
       "      <th>l_cumul0</th>\n",
       "      <th>cumul1</th>\n",
       "      <th>l_cumul1</th>\n",
       "      <th>...</th>\n",
       "      <th>zeta(q=-4)</th>\n",
       "      <th>zeta(q=-3)</th>\n",
       "      <th>zeta(q=-2)</th>\n",
       "      <th>zeta(q=-1)</th>\n",
       "      <th>zeta(q=1)</th>\n",
       "      <th>zeta(q=2)</th>\n",
       "      <th>zeta(q=3)</th>\n",
       "      <th>zeta(q=4)</th>\n",
       "      <th>zeta(q=5)</th>\n",
       "      <th>zeta(q=10)</th>\n",
       "    </tr>\n",
       "  </thead>\n",
       "  <tbody>\n",
       "    <tr>\n",
       "      <th>count</th>\n",
       "      <td>173.00</td>\n",
       "      <td>173.00</td>\n",
       "      <td>173.00</td>\n",
       "      <td>173.00</td>\n",
       "      <td>173.00</td>\n",
       "      <td>173.00</td>\n",
       "      <td>173.00</td>\n",
       "      <td>173.00</td>\n",
       "      <td>173.00</td>\n",
       "      <td>173.00</td>\n",
       "      <td>...</td>\n",
       "      <td>173.00</td>\n",
       "      <td>173.00</td>\n",
       "      <td>173.00</td>\n",
       "      <td>173.00</td>\n",
       "      <td>173.00</td>\n",
       "      <td>173.00</td>\n",
       "      <td>173.00</td>\n",
       "      <td>173.00</td>\n",
       "      <td>173.00</td>\n",
       "      <td>173.00</td>\n",
       "    </tr>\n",
       "    <tr>\n",
       "      <th>mean</th>\n",
       "      <td>0.11</td>\n",
       "      <td>-0.33</td>\n",
       "      <td>1.42</td>\n",
       "      <td>0.73</td>\n",
       "      <td>-0.08</td>\n",
       "      <td>0.31</td>\n",
       "      <td>0.01</td>\n",
       "      <td>0.41</td>\n",
       "      <td>-0.05</td>\n",
       "      <td>-0.05</td>\n",
       "      <td>...</td>\n",
       "      <td>-2.18</td>\n",
       "      <td>-1.58</td>\n",
       "      <td>-1.01</td>\n",
       "      <td>-0.49</td>\n",
       "      <td>0.37</td>\n",
       "      <td>0.61</td>\n",
       "      <td>0.73</td>\n",
       "      <td>0.79</td>\n",
       "      <td>0.83</td>\n",
       "      <td>0.90</td>\n",
       "    </tr>\n",
       "    <tr>\n",
       "      <th>std</th>\n",
       "      <td>0.07</td>\n",
       "      <td>0.13</td>\n",
       "      <td>0.77</td>\n",
       "      <td>0.78</td>\n",
       "      <td>0.11</td>\n",
       "      <td>0.08</td>\n",
       "      <td>0.12</td>\n",
       "      <td>0.12</td>\n",
       "      <td>0.16</td>\n",
       "      <td>0.12</td>\n",
       "      <td>...</td>\n",
       "      <td>3.03</td>\n",
       "      <td>2.25</td>\n",
       "      <td>1.45</td>\n",
       "      <td>0.65</td>\n",
       "      <td>0.10</td>\n",
       "      <td>0.16</td>\n",
       "      <td>0.18</td>\n",
       "      <td>0.18</td>\n",
       "      <td>0.18</td>\n",
       "      <td>0.25</td>\n",
       "    </tr>\n",
       "    <tr>\n",
       "      <th>min</th>\n",
       "      <td>0.04</td>\n",
       "      <td>-0.85</td>\n",
       "      <td>0.45</td>\n",
       "      <td>0.32</td>\n",
       "      <td>-0.42</td>\n",
       "      <td>0.08</td>\n",
       "      <td>-0.37</td>\n",
       "      <td>0.09</td>\n",
       "      <td>-0.84</td>\n",
       "      <td>-0.61</td>\n",
       "      <td>...</td>\n",
       "      <td>-30.05</td>\n",
       "      <td>-22.22</td>\n",
       "      <td>-14.31</td>\n",
       "      <td>-6.43</td>\n",
       "      <td>0.09</td>\n",
       "      <td>0.17</td>\n",
       "      <td>0.24</td>\n",
       "      <td>0.15</td>\n",
       "      <td>-0.16</td>\n",
       "      <td>-1.75</td>\n",
       "    </tr>\n",
       "    <tr>\n",
       "      <th>25%</th>\n",
       "      <td>0.07</td>\n",
       "      <td>-0.42</td>\n",
       "      <td>1.11</td>\n",
       "      <td>0.55</td>\n",
       "      <td>-0.15</td>\n",
       "      <td>0.28</td>\n",
       "      <td>-0.08</td>\n",
       "      <td>0.34</td>\n",
       "      <td>-0.13</td>\n",
       "      <td>-0.10</td>\n",
       "      <td>...</td>\n",
       "      <td>-2.16</td>\n",
       "      <td>-1.55</td>\n",
       "      <td>-1.01</td>\n",
       "      <td>-0.50</td>\n",
       "      <td>0.31</td>\n",
       "      <td>0.55</td>\n",
       "      <td>0.67</td>\n",
       "      <td>0.76</td>\n",
       "      <td>0.78</td>\n",
       "      <td>0.86</td>\n",
       "    </tr>\n",
       "    <tr>\n",
       "      <th>50%</th>\n",
       "      <td>0.09</td>\n",
       "      <td>-0.33</td>\n",
       "      <td>1.32</td>\n",
       "      <td>0.63</td>\n",
       "      <td>-0.07</td>\n",
       "      <td>0.33</td>\n",
       "      <td>0.02</td>\n",
       "      <td>0.40</td>\n",
       "      <td>-0.04</td>\n",
       "      <td>-0.02</td>\n",
       "      <td>...</td>\n",
       "      <td>-1.81</td>\n",
       "      <td>-1.31</td>\n",
       "      <td>-0.85</td>\n",
       "      <td>-0.42</td>\n",
       "      <td>0.37</td>\n",
       "      <td>0.66</td>\n",
       "      <td>0.79</td>\n",
       "      <td>0.85</td>\n",
       "      <td>0.88</td>\n",
       "      <td>0.97</td>\n",
       "    </tr>\n",
       "    <tr>\n",
       "      <th>75%</th>\n",
       "      <td>0.13</td>\n",
       "      <td>-0.26</td>\n",
       "      <td>1.65</td>\n",
       "      <td>0.74</td>\n",
       "      <td>-0.00</td>\n",
       "      <td>0.36</td>\n",
       "      <td>0.08</td>\n",
       "      <td>0.50</td>\n",
       "      <td>0.06</td>\n",
       "      <td>0.03</td>\n",
       "      <td>...</td>\n",
       "      <td>-1.52</td>\n",
       "      <td>-1.09</td>\n",
       "      <td>-0.71</td>\n",
       "      <td>-0.34</td>\n",
       "      <td>0.45</td>\n",
       "      <td>0.72</td>\n",
       "      <td>0.85</td>\n",
       "      <td>0.91</td>\n",
       "      <td>0.94</td>\n",
       "      <td>1.00</td>\n",
       "    </tr>\n",
       "    <tr>\n",
       "      <th>max</th>\n",
       "      <td>0.48</td>\n",
       "      <td>0.02</td>\n",
       "      <td>7.69</td>\n",
       "      <td>7.89</td>\n",
       "      <td>0.17</td>\n",
       "      <td>0.44</td>\n",
       "      <td>0.24</td>\n",
       "      <td>0.67</td>\n",
       "      <td>0.29</td>\n",
       "      <td>0.16</td>\n",
       "      <td>...</td>\n",
       "      <td>-1.03</td>\n",
       "      <td>-0.54</td>\n",
       "      <td>-0.25</td>\n",
       "      <td>-0.10</td>\n",
       "      <td>0.55</td>\n",
       "      <td>0.89</td>\n",
       "      <td>1.10</td>\n",
       "      <td>1.16</td>\n",
       "      <td>1.18</td>\n",
       "      <td>1.28</td>\n",
       "    </tr>\n",
       "  </tbody>\n",
       "</table>\n",
       "<p>8 rows × 26 columns</p>\n",
       "</div>"
      ],
      "text/plain": [
       "         std   hmin  deg_h  l_deg_h      H    l_H  cumul0  l_cumul0  cumul1  \\\n",
       "count 173.00 173.00 173.00   173.00 173.00 173.00  173.00    173.00  173.00   \n",
       "mean    0.11  -0.33   1.42     0.73  -0.08   0.31    0.01      0.41   -0.05   \n",
       "std     0.07   0.13   0.77     0.78   0.11   0.08    0.12      0.12    0.16   \n",
       "min     0.04  -0.85   0.45     0.32  -0.42   0.08   -0.37      0.09   -0.84   \n",
       "25%     0.07  -0.42   1.11     0.55  -0.15   0.28   -0.08      0.34   -0.13   \n",
       "50%     0.09  -0.33   1.32     0.63  -0.07   0.33    0.02      0.40   -0.04   \n",
       "75%     0.13  -0.26   1.65     0.74  -0.00   0.36    0.08      0.50    0.06   \n",
       "max     0.48   0.02   7.69     7.89   0.17   0.44    0.24      0.67    0.29   \n",
       "\n",
       "       l_cumul1  ...   zeta(q=-4)   zeta(q=-3)   zeta(q=-2)   zeta(q=-1)  \\\n",
       "count    173.00  ...       173.00       173.00       173.00       173.00   \n",
       "mean      -0.05  ...        -2.18        -1.58        -1.01        -0.49   \n",
       "std        0.12  ...         3.03         2.25         1.45         0.65   \n",
       "min       -0.61  ...       -30.05       -22.22       -14.31        -6.43   \n",
       "25%       -0.10  ...        -2.16        -1.55        -1.01        -0.50   \n",
       "50%       -0.02  ...        -1.81        -1.31        -0.85        -0.42   \n",
       "75%        0.03  ...        -1.52        -1.09        -0.71        -0.34   \n",
       "max        0.16  ...        -1.03        -0.54        -0.25        -0.10   \n",
       "\n",
       "        zeta(q=1)   zeta(q=2)   zeta(q=3)   zeta(q=4)   zeta(q=5)   zeta(q=10)  \n",
       "count      173.00      173.00      173.00      173.00      173.00       173.00  \n",
       "mean         0.37        0.61        0.73        0.79        0.83         0.90  \n",
       "std          0.10        0.16        0.18        0.18        0.18         0.25  \n",
       "min          0.09        0.17        0.24        0.15       -0.16        -1.75  \n",
       "25%          0.31        0.55        0.67        0.76        0.78         0.86  \n",
       "50%          0.37        0.66        0.79        0.85        0.88         0.97  \n",
       "75%          0.45        0.72        0.85        0.91        0.94         1.00  \n",
       "max          0.55        0.89        1.10        1.16        1.18         1.28  \n",
       "\n",
       "[8 rows x 26 columns]"
      ]
     },
     "execution_count": 32,
     "metadata": {},
     "output_type": "execute_result"
    }
   ],
   "source": [
    "df_mfa2.describe()"
   ]
  },
  {
   "cell_type": "code",
   "execution_count": null,
   "metadata": {},
   "outputs": [
    {
     "data": {
      "text/html": [
       "<div>\n",
       "<style scoped>\n",
       "    .dataframe tbody tr th:only-of-type {\n",
       "        vertical-align: middle;\n",
       "    }\n",
       "\n",
       "    .dataframe tbody tr th {\n",
       "        vertical-align: top;\n",
       "    }\n",
       "\n",
       "    .dataframe thead th {\n",
       "        text-align: right;\n",
       "    }\n",
       "</style>\n",
       "<table border=\"1\" class=\"dataframe\">\n",
       "  <thead>\n",
       "    <tr style=\"text-align: right;\">\n",
       "      <th></th>\n",
       "      <th>std</th>\n",
       "      <th>hmin</th>\n",
       "      <th>deg_h</th>\n",
       "      <th>l_deg_h</th>\n",
       "      <th>H</th>\n",
       "      <th>l_H</th>\n",
       "      <th>cumul0</th>\n",
       "      <th>l_cumul0</th>\n",
       "      <th>cumul1</th>\n",
       "      <th>l_cumul1</th>\n",
       "      <th>...</th>\n",
       "      <th>zeta(q=-4)</th>\n",
       "      <th>zeta(q=-3)</th>\n",
       "      <th>zeta(q=-2)</th>\n",
       "      <th>zeta(q=-1)</th>\n",
       "      <th>zeta(q=1)</th>\n",
       "      <th>zeta(q=2)</th>\n",
       "      <th>zeta(q=3)</th>\n",
       "      <th>zeta(q=4)</th>\n",
       "      <th>zeta(q=5)</th>\n",
       "      <th>zeta(q=10)</th>\n",
       "    </tr>\n",
       "  </thead>\n",
       "  <tbody>\n",
       "    <tr>\n",
       "      <th>count</th>\n",
       "      <td>173.00</td>\n",
       "      <td>173.00</td>\n",
       "      <td>173.00</td>\n",
       "      <td>173.00</td>\n",
       "      <td>173.00</td>\n",
       "      <td>173.00</td>\n",
       "      <td>173.00</td>\n",
       "      <td>173.00</td>\n",
       "      <td>173.00</td>\n",
       "      <td>173.00</td>\n",
       "      <td>...</td>\n",
       "      <td>173.00</td>\n",
       "      <td>173.00</td>\n",
       "      <td>173.00</td>\n",
       "      <td>173.00</td>\n",
       "      <td>173.00</td>\n",
       "      <td>173.00</td>\n",
       "      <td>173.00</td>\n",
       "      <td>173.00</td>\n",
       "      <td>173.00</td>\n",
       "      <td>173.00</td>\n",
       "    </tr>\n",
       "    <tr>\n",
       "      <th>mean</th>\n",
       "      <td>0.64</td>\n",
       "      <td>-0.33</td>\n",
       "      <td>1.36</td>\n",
       "      <td>0.56</td>\n",
       "      <td>-0.07</td>\n",
       "      <td>0.30</td>\n",
       "      <td>-0.01</td>\n",
       "      <td>0.38</td>\n",
       "      <td>-0.03</td>\n",
       "      <td>-0.03</td>\n",
       "      <td>...</td>\n",
       "      <td>-1.61</td>\n",
       "      <td>-1.18</td>\n",
       "      <td>-0.77</td>\n",
       "      <td>-0.38</td>\n",
       "      <td>0.35</td>\n",
       "      <td>0.60</td>\n",
       "      <td>0.72</td>\n",
       "      <td>0.79</td>\n",
       "      <td>0.82</td>\n",
       "      <td>0.90</td>\n",
       "    </tr>\n",
       "    <tr>\n",
       "      <th>std</th>\n",
       "      <td>0.34</td>\n",
       "      <td>0.12</td>\n",
       "      <td>0.51</td>\n",
       "      <td>0.14</td>\n",
       "      <td>0.10</td>\n",
       "      <td>0.08</td>\n",
       "      <td>0.11</td>\n",
       "      <td>0.10</td>\n",
       "      <td>0.13</td>\n",
       "      <td>0.10</td>\n",
       "      <td>...</td>\n",
       "      <td>0.40</td>\n",
       "      <td>0.29</td>\n",
       "      <td>0.20</td>\n",
       "      <td>0.10</td>\n",
       "      <td>0.09</td>\n",
       "      <td>0.15</td>\n",
       "      <td>0.17</td>\n",
       "      <td>0.18</td>\n",
       "      <td>0.18</td>\n",
       "      <td>0.24</td>\n",
       "    </tr>\n",
       "    <tr>\n",
       "      <th>min</th>\n",
       "      <td>0.23</td>\n",
       "      <td>-0.56</td>\n",
       "      <td>0.49</td>\n",
       "      <td>0.37</td>\n",
       "      <td>-0.43</td>\n",
       "      <td>0.08</td>\n",
       "      <td>-0.35</td>\n",
       "      <td>0.09</td>\n",
       "      <td>-0.48</td>\n",
       "      <td>-0.44</td>\n",
       "      <td>...</td>\n",
       "      <td>-3.85</td>\n",
       "      <td>-2.68</td>\n",
       "      <td>-1.56</td>\n",
       "      <td>-0.68</td>\n",
       "      <td>0.08</td>\n",
       "      <td>0.16</td>\n",
       "      <td>0.23</td>\n",
       "      <td>0.16</td>\n",
       "      <td>-0.12</td>\n",
       "      <td>-1.58</td>\n",
       "    </tr>\n",
       "    <tr>\n",
       "      <th>25%</th>\n",
       "      <td>0.43</td>\n",
       "      <td>-0.41</td>\n",
       "      <td>0.97</td>\n",
       "      <td>0.48</td>\n",
       "      <td>-0.15</td>\n",
       "      <td>0.27</td>\n",
       "      <td>-0.08</td>\n",
       "      <td>0.32</td>\n",
       "      <td>-0.11</td>\n",
       "      <td>-0.08</td>\n",
       "      <td>...</td>\n",
       "      <td>-1.79</td>\n",
       "      <td>-1.32</td>\n",
       "      <td>-0.88</td>\n",
       "      <td>-0.44</td>\n",
       "      <td>0.30</td>\n",
       "      <td>0.54</td>\n",
       "      <td>0.66</td>\n",
       "      <td>0.75</td>\n",
       "      <td>0.79</td>\n",
       "      <td>0.86</td>\n",
       "    </tr>\n",
       "    <tr>\n",
       "      <th>50%</th>\n",
       "      <td>0.52</td>\n",
       "      <td>-0.33</td>\n",
       "      <td>1.35</td>\n",
       "      <td>0.53</td>\n",
       "      <td>-0.07</td>\n",
       "      <td>0.32</td>\n",
       "      <td>-0.00</td>\n",
       "      <td>0.38</td>\n",
       "      <td>-0.03</td>\n",
       "      <td>-0.00</td>\n",
       "      <td>...</td>\n",
       "      <td>-1.56</td>\n",
       "      <td>-1.16</td>\n",
       "      <td>-0.77</td>\n",
       "      <td>-0.39</td>\n",
       "      <td>0.36</td>\n",
       "      <td>0.63</td>\n",
       "      <td>0.78</td>\n",
       "      <td>0.84</td>\n",
       "      <td>0.88</td>\n",
       "      <td>0.97</td>\n",
       "    </tr>\n",
       "    <tr>\n",
       "      <th>75%</th>\n",
       "      <td>0.72</td>\n",
       "      <td>-0.25</td>\n",
       "      <td>1.71</td>\n",
       "      <td>0.60</td>\n",
       "      <td>-0.00</td>\n",
       "      <td>0.35</td>\n",
       "      <td>0.06</td>\n",
       "      <td>0.45</td>\n",
       "      <td>0.04</td>\n",
       "      <td>0.04</td>\n",
       "      <td>...</td>\n",
       "      <td>-1.30</td>\n",
       "      <td>-0.95</td>\n",
       "      <td>-0.62</td>\n",
       "      <td>-0.32</td>\n",
       "      <td>0.43</td>\n",
       "      <td>0.70</td>\n",
       "      <td>0.84</td>\n",
       "      <td>0.90</td>\n",
       "      <td>0.94</td>\n",
       "      <td>1.00</td>\n",
       "    </tr>\n",
       "    <tr>\n",
       "      <th>max</th>\n",
       "      <td>1.88</td>\n",
       "      <td>0.03</td>\n",
       "      <td>3.84</td>\n",
       "      <td>1.21</td>\n",
       "      <td>0.17</td>\n",
       "      <td>0.43</td>\n",
       "      <td>0.23</td>\n",
       "      <td>0.59</td>\n",
       "      <td>0.40</td>\n",
       "      <td>0.15</td>\n",
       "      <td>...</td>\n",
       "      <td>-0.96</td>\n",
       "      <td>-0.52</td>\n",
       "      <td>-0.24</td>\n",
       "      <td>-0.10</td>\n",
       "      <td>0.50</td>\n",
       "      <td>0.85</td>\n",
       "      <td>1.07</td>\n",
       "      <td>1.17</td>\n",
       "      <td>1.20</td>\n",
       "      <td>1.25</td>\n",
       "    </tr>\n",
       "  </tbody>\n",
       "</table>\n",
       "<p>8 rows × 26 columns</p>\n",
       "</div>"
      ],
      "text/plain": [
       "         std   hmin  deg_h  l_deg_h      H    l_H  cumul0  l_cumul0  cumul1  \\\n",
       "count 173.00 173.00 173.00   173.00 173.00 173.00  173.00    173.00  173.00   \n",
       "mean    0.64  -0.33   1.36     0.56  -0.07   0.30   -0.01      0.38   -0.03   \n",
       "std     0.34   0.12   0.51     0.14   0.10   0.08    0.11      0.10    0.13   \n",
       "min     0.23  -0.56   0.49     0.37  -0.43   0.08   -0.35      0.09   -0.48   \n",
       "25%     0.43  -0.41   0.97     0.48  -0.15   0.27   -0.08      0.32   -0.11   \n",
       "50%     0.52  -0.33   1.35     0.53  -0.07   0.32   -0.00      0.38   -0.03   \n",
       "75%     0.72  -0.25   1.71     0.60  -0.00   0.35    0.06      0.45    0.04   \n",
       "max     1.88   0.03   3.84     1.21   0.17   0.43    0.23      0.59    0.40   \n",
       "\n",
       "       l_cumul1  ...   zeta(q=-4)   zeta(q=-3)   zeta(q=-2)   zeta(q=-1)  \\\n",
       "count    173.00  ...       173.00       173.00       173.00       173.00   \n",
       "mean      -0.03  ...        -1.61        -1.18        -0.77        -0.38   \n",
       "std        0.10  ...         0.40         0.29         0.20         0.10   \n",
       "min       -0.44  ...        -3.85        -2.68        -1.56        -0.68   \n",
       "25%       -0.08  ...        -1.79        -1.32        -0.88        -0.44   \n",
       "50%       -0.00  ...        -1.56        -1.16        -0.77        -0.39   \n",
       "75%        0.04  ...        -1.30        -0.95        -0.62        -0.32   \n",
       "max        0.15  ...        -0.96        -0.52        -0.24        -0.10   \n",
       "\n",
       "        zeta(q=1)   zeta(q=2)   zeta(q=3)   zeta(q=4)   zeta(q=5)   zeta(q=10)  \n",
       "count      173.00      173.00      173.00      173.00      173.00       173.00  \n",
       "mean         0.35        0.60        0.72        0.79        0.82         0.90  \n",
       "std          0.09        0.15        0.17        0.18        0.18         0.24  \n",
       "min          0.08        0.16        0.23        0.16       -0.12        -1.58  \n",
       "25%          0.30        0.54        0.66        0.75        0.79         0.86  \n",
       "50%          0.36        0.63        0.78        0.84        0.88         0.97  \n",
       "75%          0.43        0.70        0.84        0.90        0.94         1.00  \n",
       "max          0.50        0.85        1.07        1.17        1.20         1.25  \n",
       "\n",
       "[8 rows x 26 columns]"
      ]
     },
     "execution_count": 33,
     "metadata": {},
     "output_type": "execute_result"
    }
   ],
   "source": [
    "ndf_mfa2.describe() "
   ]
  },
  {
   "cell_type": "code",
   "execution_count": null,
   "metadata": {},
   "outputs": [],
   "source": [
    "def get_mfa_representation(signals, n_cumul=2):\n",
    "    representations = []\n",
    "    for signal in signals:\n",
    "        representation = []\n",
    "       \n",
    "        dwt, lwt = mfa.mf_analysis_full(\n",
    "        signal,\n",
    "        scaling_ranges=[(2, 4)],\n",
    "        q= [-10, -5, -2, 0, 2, 5, 10],#build_q_log(1, 10, 20), # q=[-10, -5, 0, 5, 10],\n",
    "        n_cumul=n_cumul,\n",
    "        p_exp=np.inf,\n",
    "        gamint=0.0\n",
    "        )\n",
    "        lwt_sf, lwt_cumul, lwt_mfs, lwt_hmin = lwt\n",
    "        sf, cumul, mfs, hmin = dwt\n",
    "\n",
    "        def get_item(arr):\n",
    "            return arr.item() if isinstance(arr,np.ndarray) else lwt_hmin\n",
    "\n",
    "        representation.append(signal.std())\n",
    "\n",
    "        representation.append(lwt_mfs.hq.max() - lwt_mfs.hq.min())\n",
    "        representation.append(lwt_sf.H.item())\n",
    "\n",
    "        for i in range(n_cumul):\n",
    "            representation.append(lwt_cumul.log_cumulants[i].item())\n",
    "            \n",
    "        representations.append(representation)\n",
    "    return np.array(representations)"
   ]
  },
  {
   "cell_type": "code",
   "execution_count": null,
   "metadata": {},
   "outputs": [],
   "source": [
    "X_mfa = get_mfa_representation(scaler.fit_transform(X),n_cumul=3)\n"
   ]
  },
  {
   "cell_type": "code",
   "execution_count": null,
   "metadata": {},
   "outputs": [],
   "source": [
    "# x1 = np.array(df_mfa1)\n",
    "# y1 = np.zeros((x1.shape[0],1))\n",
    "# x2 = np.array(df_mfa2)\n",
    "# y2 = np.zeros((x2.shape[0],1))\n",
    "\n",
    "# x = np.concatenate([x1,x2],axis=0)\n",
    "# y = np.concatenate([y1,y2],axis=0)\n"
   ]
  },
  {
   "cell_type": "code",
   "execution_count": null,
   "metadata": {},
   "outputs": [
    {
     "ename": "ValueError",
     "evalue": "Input y contains NaN.",
     "output_type": "error",
     "traceback": [
      "\u001b[1;31m---------------------------------------------------------------------------\u001b[0m",
      "\u001b[1;31mValueError\u001b[0m                                Traceback (most recent call last)",
      "Cell \u001b[1;32mIn[37], line 4\u001b[0m\n\u001b[0;32m      2\u001b[0m scaler \u001b[38;5;241m=\u001b[39m StandardScaler()\n\u001b[0;32m      3\u001b[0m nX_mfa \u001b[38;5;241m=\u001b[39m scaler\u001b[38;5;241m.\u001b[39mfit_transform(X_mfa)\n\u001b[1;32m----> 4\u001b[0m \u001b[43msvc\u001b[49m\u001b[38;5;241;43m.\u001b[39;49m\u001b[43mfit\u001b[49m\u001b[43m(\u001b[49m\u001b[43mnX_mfa\u001b[49m\u001b[43m,\u001b[49m\u001b[43my\u001b[49m\u001b[43m)\u001b[49m\n",
      "File \u001b[1;32mc:\\Python311\\Lib\\site-packages\\sklearn\\base.py:1152\u001b[0m, in \u001b[0;36m_fit_context.<locals>.decorator.<locals>.wrapper\u001b[1;34m(estimator, *args, **kwargs)\u001b[0m\n\u001b[0;32m   1145\u001b[0m     estimator\u001b[38;5;241m.\u001b[39m_validate_params()\n\u001b[0;32m   1147\u001b[0m \u001b[38;5;28;01mwith\u001b[39;00m config_context(\n\u001b[0;32m   1148\u001b[0m     skip_parameter_validation\u001b[38;5;241m=\u001b[39m(\n\u001b[0;32m   1149\u001b[0m         prefer_skip_nested_validation \u001b[38;5;129;01mor\u001b[39;00m global_skip_validation\n\u001b[0;32m   1150\u001b[0m     )\n\u001b[0;32m   1151\u001b[0m ):\n\u001b[1;32m-> 1152\u001b[0m     \u001b[38;5;28;01mreturn\u001b[39;00m \u001b[43mfit_method\u001b[49m\u001b[43m(\u001b[49m\u001b[43mestimator\u001b[49m\u001b[43m,\u001b[49m\u001b[43m \u001b[49m\u001b[38;5;241;43m*\u001b[39;49m\u001b[43margs\u001b[49m\u001b[43m,\u001b[49m\u001b[43m \u001b[49m\u001b[38;5;241;43m*\u001b[39;49m\u001b[38;5;241;43m*\u001b[39;49m\u001b[43mkwargs\u001b[49m\u001b[43m)\u001b[49m\n",
      "File \u001b[1;32mc:\\Python311\\Lib\\site-packages\\sklearn\\svm\\_base.py:190\u001b[0m, in \u001b[0;36mBaseLibSVM.fit\u001b[1;34m(self, X, y, sample_weight)\u001b[0m\n\u001b[0;32m    188\u001b[0m     check_consistent_length(X, y)\n\u001b[0;32m    189\u001b[0m \u001b[38;5;28;01melse\u001b[39;00m:\n\u001b[1;32m--> 190\u001b[0m     X, y \u001b[38;5;241m=\u001b[39m \u001b[38;5;28;43mself\u001b[39;49m\u001b[38;5;241;43m.\u001b[39;49m\u001b[43m_validate_data\u001b[49m\u001b[43m(\u001b[49m\n\u001b[0;32m    191\u001b[0m \u001b[43m        \u001b[49m\u001b[43mX\u001b[49m\u001b[43m,\u001b[49m\n\u001b[0;32m    192\u001b[0m \u001b[43m        \u001b[49m\u001b[43my\u001b[49m\u001b[43m,\u001b[49m\n\u001b[0;32m    193\u001b[0m \u001b[43m        \u001b[49m\u001b[43mdtype\u001b[49m\u001b[38;5;241;43m=\u001b[39;49m\u001b[43mnp\u001b[49m\u001b[38;5;241;43m.\u001b[39;49m\u001b[43mfloat64\u001b[49m\u001b[43m,\u001b[49m\n\u001b[0;32m    194\u001b[0m \u001b[43m        \u001b[49m\u001b[43morder\u001b[49m\u001b[38;5;241;43m=\u001b[39;49m\u001b[38;5;124;43m\"\u001b[39;49m\u001b[38;5;124;43mC\u001b[39;49m\u001b[38;5;124;43m\"\u001b[39;49m\u001b[43m,\u001b[49m\n\u001b[0;32m    195\u001b[0m \u001b[43m        \u001b[49m\u001b[43maccept_sparse\u001b[49m\u001b[38;5;241;43m=\u001b[39;49m\u001b[38;5;124;43m\"\u001b[39;49m\u001b[38;5;124;43mcsr\u001b[39;49m\u001b[38;5;124;43m\"\u001b[39;49m\u001b[43m,\u001b[49m\n\u001b[0;32m    196\u001b[0m \u001b[43m        \u001b[49m\u001b[43maccept_large_sparse\u001b[49m\u001b[38;5;241;43m=\u001b[39;49m\u001b[38;5;28;43;01mFalse\u001b[39;49;00m\u001b[43m,\u001b[49m\n\u001b[0;32m    197\u001b[0m \u001b[43m    \u001b[49m\u001b[43m)\u001b[49m\n\u001b[0;32m    199\u001b[0m y \u001b[38;5;241m=\u001b[39m \u001b[38;5;28mself\u001b[39m\u001b[38;5;241m.\u001b[39m_validate_targets(y)\n\u001b[0;32m    201\u001b[0m sample_weight \u001b[38;5;241m=\u001b[39m np\u001b[38;5;241m.\u001b[39masarray(\n\u001b[0;32m    202\u001b[0m     [] \u001b[38;5;28;01mif\u001b[39;00m sample_weight \u001b[38;5;129;01mis\u001b[39;00m \u001b[38;5;28;01mNone\u001b[39;00m \u001b[38;5;28;01melse\u001b[39;00m sample_weight, dtype\u001b[38;5;241m=\u001b[39mnp\u001b[38;5;241m.\u001b[39mfloat64\n\u001b[0;32m    203\u001b[0m )\n",
      "File \u001b[1;32mc:\\Python311\\Lib\\site-packages\\sklearn\\base.py:622\u001b[0m, in \u001b[0;36mBaseEstimator._validate_data\u001b[1;34m(self, X, y, reset, validate_separately, cast_to_ndarray, **check_params)\u001b[0m\n\u001b[0;32m    620\u001b[0m         y \u001b[38;5;241m=\u001b[39m check_array(y, input_name\u001b[38;5;241m=\u001b[39m\u001b[38;5;124m\"\u001b[39m\u001b[38;5;124my\u001b[39m\u001b[38;5;124m\"\u001b[39m, \u001b[38;5;241m*\u001b[39m\u001b[38;5;241m*\u001b[39mcheck_y_params)\n\u001b[0;32m    621\u001b[0m     \u001b[38;5;28;01melse\u001b[39;00m:\n\u001b[1;32m--> 622\u001b[0m         X, y \u001b[38;5;241m=\u001b[39m \u001b[43mcheck_X_y\u001b[49m\u001b[43m(\u001b[49m\u001b[43mX\u001b[49m\u001b[43m,\u001b[49m\u001b[43m \u001b[49m\u001b[43my\u001b[49m\u001b[43m,\u001b[49m\u001b[43m \u001b[49m\u001b[38;5;241;43m*\u001b[39;49m\u001b[38;5;241;43m*\u001b[39;49m\u001b[43mcheck_params\u001b[49m\u001b[43m)\u001b[49m\n\u001b[0;32m    623\u001b[0m     out \u001b[38;5;241m=\u001b[39m X, y\n\u001b[0;32m    625\u001b[0m \u001b[38;5;28;01mif\u001b[39;00m \u001b[38;5;129;01mnot\u001b[39;00m no_val_X \u001b[38;5;129;01mand\u001b[39;00m check_params\u001b[38;5;241m.\u001b[39mget(\u001b[38;5;124m\"\u001b[39m\u001b[38;5;124mensure_2d\u001b[39m\u001b[38;5;124m\"\u001b[39m, \u001b[38;5;28;01mTrue\u001b[39;00m):\n",
      "File \u001b[1;32mc:\\Python311\\Lib\\site-packages\\sklearn\\utils\\validation.py:1162\u001b[0m, in \u001b[0;36mcheck_X_y\u001b[1;34m(X, y, accept_sparse, accept_large_sparse, dtype, order, copy, force_all_finite, ensure_2d, allow_nd, multi_output, ensure_min_samples, ensure_min_features, y_numeric, estimator)\u001b[0m\n\u001b[0;32m   1142\u001b[0m     \u001b[38;5;28;01mraise\u001b[39;00m \u001b[38;5;167;01mValueError\u001b[39;00m(\n\u001b[0;32m   1143\u001b[0m         \u001b[38;5;124mf\u001b[39m\u001b[38;5;124m\"\u001b[39m\u001b[38;5;132;01m{\u001b[39;00mestimator_name\u001b[38;5;132;01m}\u001b[39;00m\u001b[38;5;124m requires y to be passed, but the target y is None\u001b[39m\u001b[38;5;124m\"\u001b[39m\n\u001b[0;32m   1144\u001b[0m     )\n\u001b[0;32m   1146\u001b[0m X \u001b[38;5;241m=\u001b[39m check_array(\n\u001b[0;32m   1147\u001b[0m     X,\n\u001b[0;32m   1148\u001b[0m     accept_sparse\u001b[38;5;241m=\u001b[39maccept_sparse,\n\u001b[1;32m   (...)\u001b[0m\n\u001b[0;32m   1159\u001b[0m     input_name\u001b[38;5;241m=\u001b[39m\u001b[38;5;124m\"\u001b[39m\u001b[38;5;124mX\u001b[39m\u001b[38;5;124m\"\u001b[39m,\n\u001b[0;32m   1160\u001b[0m )\n\u001b[1;32m-> 1162\u001b[0m y \u001b[38;5;241m=\u001b[39m \u001b[43m_check_y\u001b[49m\u001b[43m(\u001b[49m\u001b[43my\u001b[49m\u001b[43m,\u001b[49m\u001b[43m \u001b[49m\u001b[43mmulti_output\u001b[49m\u001b[38;5;241;43m=\u001b[39;49m\u001b[43mmulti_output\u001b[49m\u001b[43m,\u001b[49m\u001b[43m \u001b[49m\u001b[43my_numeric\u001b[49m\u001b[38;5;241;43m=\u001b[39;49m\u001b[43my_numeric\u001b[49m\u001b[43m,\u001b[49m\u001b[43m \u001b[49m\u001b[43mestimator\u001b[49m\u001b[38;5;241;43m=\u001b[39;49m\u001b[43mestimator\u001b[49m\u001b[43m)\u001b[49m\n\u001b[0;32m   1164\u001b[0m check_consistent_length(X, y)\n\u001b[0;32m   1166\u001b[0m \u001b[38;5;28;01mreturn\u001b[39;00m X, y\n",
      "File \u001b[1;32mc:\\Python311\\Lib\\site-packages\\sklearn\\utils\\validation.py:1184\u001b[0m, in \u001b[0;36m_check_y\u001b[1;34m(y, multi_output, y_numeric, estimator)\u001b[0m\n\u001b[0;32m   1182\u001b[0m     estimator_name \u001b[38;5;241m=\u001b[39m _check_estimator_name(estimator)\n\u001b[0;32m   1183\u001b[0m     y \u001b[38;5;241m=\u001b[39m column_or_1d(y, warn\u001b[38;5;241m=\u001b[39m\u001b[38;5;28;01mTrue\u001b[39;00m)\n\u001b[1;32m-> 1184\u001b[0m     \u001b[43m_assert_all_finite\u001b[49m\u001b[43m(\u001b[49m\u001b[43my\u001b[49m\u001b[43m,\u001b[49m\u001b[43m \u001b[49m\u001b[43minput_name\u001b[49m\u001b[38;5;241;43m=\u001b[39;49m\u001b[38;5;124;43m\"\u001b[39;49m\u001b[38;5;124;43my\u001b[39;49m\u001b[38;5;124;43m\"\u001b[39;49m\u001b[43m,\u001b[49m\u001b[43m \u001b[49m\u001b[43mestimator_name\u001b[49m\u001b[38;5;241;43m=\u001b[39;49m\u001b[43mestimator_name\u001b[49m\u001b[43m)\u001b[49m\n\u001b[0;32m   1185\u001b[0m     _ensure_no_complex_data(y)\n\u001b[0;32m   1186\u001b[0m \u001b[38;5;28;01mif\u001b[39;00m y_numeric \u001b[38;5;129;01mand\u001b[39;00m y\u001b[38;5;241m.\u001b[39mdtype\u001b[38;5;241m.\u001b[39mkind \u001b[38;5;241m==\u001b[39m \u001b[38;5;124m\"\u001b[39m\u001b[38;5;124mO\u001b[39m\u001b[38;5;124m\"\u001b[39m:\n",
      "File \u001b[1;32mc:\\Python311\\Lib\\site-packages\\sklearn\\utils\\validation.py:122\u001b[0m, in \u001b[0;36m_assert_all_finite\u001b[1;34m(X, allow_nan, msg_dtype, estimator_name, input_name)\u001b[0m\n\u001b[0;32m    119\u001b[0m \u001b[38;5;28;01mif\u001b[39;00m first_pass_isfinite:\n\u001b[0;32m    120\u001b[0m     \u001b[38;5;28;01mreturn\u001b[39;00m\n\u001b[1;32m--> 122\u001b[0m \u001b[43m_assert_all_finite_element_wise\u001b[49m\u001b[43m(\u001b[49m\n\u001b[0;32m    123\u001b[0m \u001b[43m    \u001b[49m\u001b[43mX\u001b[49m\u001b[43m,\u001b[49m\n\u001b[0;32m    124\u001b[0m \u001b[43m    \u001b[49m\u001b[43mxp\u001b[49m\u001b[38;5;241;43m=\u001b[39;49m\u001b[43mxp\u001b[49m\u001b[43m,\u001b[49m\n\u001b[0;32m    125\u001b[0m \u001b[43m    \u001b[49m\u001b[43mallow_nan\u001b[49m\u001b[38;5;241;43m=\u001b[39;49m\u001b[43mallow_nan\u001b[49m\u001b[43m,\u001b[49m\n\u001b[0;32m    126\u001b[0m \u001b[43m    \u001b[49m\u001b[43mmsg_dtype\u001b[49m\u001b[38;5;241;43m=\u001b[39;49m\u001b[43mmsg_dtype\u001b[49m\u001b[43m,\u001b[49m\n\u001b[0;32m    127\u001b[0m \u001b[43m    \u001b[49m\u001b[43mestimator_name\u001b[49m\u001b[38;5;241;43m=\u001b[39;49m\u001b[43mestimator_name\u001b[49m\u001b[43m,\u001b[49m\n\u001b[0;32m    128\u001b[0m \u001b[43m    \u001b[49m\u001b[43minput_name\u001b[49m\u001b[38;5;241;43m=\u001b[39;49m\u001b[43minput_name\u001b[49m\u001b[43m,\u001b[49m\n\u001b[0;32m    129\u001b[0m \u001b[43m\u001b[49m\u001b[43m)\u001b[49m\n",
      "File \u001b[1;32mc:\\Python311\\Lib\\site-packages\\sklearn\\utils\\validation.py:171\u001b[0m, in \u001b[0;36m_assert_all_finite_element_wise\u001b[1;34m(X, xp, allow_nan, msg_dtype, estimator_name, input_name)\u001b[0m\n\u001b[0;32m    154\u001b[0m \u001b[38;5;28;01mif\u001b[39;00m estimator_name \u001b[38;5;129;01mand\u001b[39;00m input_name \u001b[38;5;241m==\u001b[39m \u001b[38;5;124m\"\u001b[39m\u001b[38;5;124mX\u001b[39m\u001b[38;5;124m\"\u001b[39m \u001b[38;5;129;01mand\u001b[39;00m has_nan_error:\n\u001b[0;32m    155\u001b[0m     \u001b[38;5;66;03m# Improve the error message on how to handle missing values in\u001b[39;00m\n\u001b[0;32m    156\u001b[0m     \u001b[38;5;66;03m# scikit-learn.\u001b[39;00m\n\u001b[0;32m    157\u001b[0m     msg_err \u001b[38;5;241m+\u001b[39m\u001b[38;5;241m=\u001b[39m (\n\u001b[0;32m    158\u001b[0m         \u001b[38;5;124mf\u001b[39m\u001b[38;5;124m\"\u001b[39m\u001b[38;5;130;01m\\n\u001b[39;00m\u001b[38;5;132;01m{\u001b[39;00mestimator_name\u001b[38;5;132;01m}\u001b[39;00m\u001b[38;5;124m does not accept missing values\u001b[39m\u001b[38;5;124m\"\u001b[39m\n\u001b[0;32m    159\u001b[0m         \u001b[38;5;124m\"\u001b[39m\u001b[38;5;124m encoded as NaN natively. For supervised learning, you might want\u001b[39m\u001b[38;5;124m\"\u001b[39m\n\u001b[1;32m   (...)\u001b[0m\n\u001b[0;32m    169\u001b[0m         \u001b[38;5;124m\"\u001b[39m\u001b[38;5;124m#estimators-that-handle-nan-values\u001b[39m\u001b[38;5;124m\"\u001b[39m\n\u001b[0;32m    170\u001b[0m     )\n\u001b[1;32m--> 171\u001b[0m \u001b[38;5;28;01mraise\u001b[39;00m \u001b[38;5;167;01mValueError\u001b[39;00m(msg_err)\n",
      "\u001b[1;31mValueError\u001b[0m: Input y contains NaN."
     ]
    }
   ],
   "source": [
    "svc = SVC(kernel='linear')\n",
    "scaler = StandardScaler()\n",
    "nX_mfa = scaler.fit_transform(X_mfa)\n",
    "svc.fit(nX_mfa,y)"
   ]
  },
  {
   "cell_type": "code",
   "execution_count": null,
   "metadata": {},
   "outputs": [
    {
     "name": "stdout",
     "output_type": "stream",
     "text": [
      "        Weight\n",
      "std      -0.26\n",
      "deg_h     0.01\n",
      "H         0.77\n",
      "cumul0    0.45\n",
      "cumul1   -0.29\n",
      "cumul2    0.79\n"
     ]
    },
    {
     "data": {
      "image/png": "[encoded data removed]",
      "text/plain": [
       "<Figure size 640x480 with 1 Axes>"
      ]
     },
     "metadata": {},
     "output_type": "display_data"
    }
   ],
   "source": [
    "# Step 5: Access and Analyze Weights\n",
    "# The coefficients (weights) of the features for a linear SVM\n",
    "weights = svc.coef_\n",
    "\n",
    "# For visualization purposes\n",
    "features = ['std','deg_h','H'] + [f'cumul{i}' for i in range(X_mfa.shape[-1] - 3)]\n",
    "weights_df = pd.DataFrame(weights.T, index=features, columns=['Weight'])\n",
    "print(weights_df)\n",
    "\n",
    "# Step 6: Visualize Weights\n",
    "weights_df.plot(kind='barh', legend=False)\n",
    "plt.title('Feature Weights in SVM Classifier')\n",
    "plt.xlabel('Weight')\n",
    "plt.ylabel('Feature')\n",
    "plt.show()"
   ]
  }
 ],
 "metadata": {
  "kernelspec": {
   "display_name": "Python 3",
   "language": "python",
   "name": "python3"
  },
  "language_info": {
   "codemirror_mode": {
    "name": "ipython",
    "version": 3
   },
   "file_extension": ".py",
   "mimetype": "text/x-python",
   "name": "python",
   "nbconvert_exporter": "python",
   "pygments_lexer": "ipython3",
   "version": "3.11.0"
  }
 },
 "nbformat": 4,
 "nbformat_minor": 2
}
