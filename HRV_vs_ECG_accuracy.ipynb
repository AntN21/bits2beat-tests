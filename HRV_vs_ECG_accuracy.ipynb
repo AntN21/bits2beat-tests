{
 "cells": [
  {
   "cell_type": "code",
   "execution_count": 9,
   "metadata": {},
   "outputs": [],
   "source": [
    "import numpy as np \n",
    "import matplotlib.pyplot as plt\n",
    "import pandas as pd\n",
    "import random\n",
    "import itertools\n",
    "from apyori import apriori\n",
    "\n",
    "# import pywt\n",
    "\n",
    "# import pymultifracs.mfa as mfa\n",
    "# from pymultifracs.utils import build_q_log\n",
    "# from statsmodels.tsa.ar_model import AutoReg, ar_select_order\n"
   ]
  },
  {
   "cell_type": "code",
   "execution_count": 10,
   "metadata": {},
   "outputs": [],
   "source": [
    "from sklearn.svm import SVC\n",
    "from sklearn.tree import DecisionTreeClassifier\n",
    "from sklearn.ensemble import RandomForestClassifier\n",
    "from sklearn.model_selection import cross_val_score, KFold\n",
    "from sklearn.preprocessing import StandardScaler\n",
    "from sklearn.neural_network import MLPClassifier"
   ]
  },
  {
   "cell_type": "code",
   "execution_count": 11,
   "metadata": {},
   "outputs": [],
   "source": [
    "\n",
    "# from sklearn.model_selection import  KFold"
   ]
  },
  {
   "cell_type": "code",
   "execution_count": 12,
   "metadata": {},
   "outputs": [],
   "source": [
    "# %pip install import_ipynb\n",
    "# %pip install  --user git+https://github.com/neurospin/pymultifracs"
   ]
  },
  {
   "cell_type": "code",
   "execution_count": 13,
   "metadata": {},
   "outputs": [],
   "source": [
    "import import_ipynb\n",
    "#from transformations import DataTransform,TransformationRegistry, IdentityTransform, FourierTransform, LowFourierTransform, LowPsdTransform, WaveDecTransform, DwtTransform, CwtTransform, AutoRegTransform, ShannonEncodingTransform, WaveletLeadersTransform, CrossCorTransform, AutoCorTransform, MultiFracsTransform, AutoEncoderTransform  \n",
    "from transformations import *\n",
    "from prep_synth_data import create_synth_data"
   ]
  },
  {
   "cell_type": "code",
   "execution_count": 14,
   "metadata": {},
   "outputs": [],
   "source": [
    "# Initialize the registry\n",
    "registry = initialize_registry()#TransformationRegistry()\n"
   ]
  },
  {
   "cell_type": "code",
   "execution_count": 36,
   "metadata": {},
   "outputs": [],
   "source": [
    "hrv_data = np.load('med_hrv_data.npy')\n",
    "ecg_data = np.load('med_ecg_data.npy')\n",
    "\n",
    "X_hrv, y_hrv = hrv_data[:,:-1], hrv_data[:,-1]\n",
    "X_ecg, y_ecg = ecg_data[:,:-1], ecg_data[:,-1]\n",
    "\n",
    "hrv_data = np.load('better_hrv_data.npy')\n",
    "ecg_data = np.load('better_ecg_data.npy')\n",
    "\n",
    "X_hrv, y_hrv = hrv_data[:,:-1], hrv_data[:,-1]\n",
    "X_ecg, y_ecg = ecg_data[:,:-1], ecg_data[:,-1]"
   ]
  },
  {
   "cell_type": "code",
   "execution_count": 37,
   "metadata": {},
   "outputs": [],
   "source": [
    "def evaluate_transformations(X, y, transformations, classifiers):\n",
    "    dt = DataTransform(registry)\n",
    "    results = []\n",
    "\n",
    "    for trans in transformations:\n",
    "        trans_name_str = DataTransform.get_full_trans_kwargs_str(trans)\n",
    "        trans_X = dt.apply_transformation(X, trans)\n",
    "\n",
    "        result = {'Transformation (shape)': trans_name_str}\n",
    "        result[\"shape\"] = trans_X.shape[-1]\n",
    "        result['nb_trans'] = len(trans)\n",
    "\n",
    "        scaler = StandardScaler()\n",
    "        trans_X = scaler.fit_transform(trans_X) \n",
    "        print(f\"Transformation: {trans_name_str}, Shape: {trans_X.shape[-1]} \")\n",
    "        for clf_name, clf in classifiers.items():\n",
    "            kf = KFold(n_splits=5, shuffle=True, random_state=42)\n",
    "            scores = cross_val_score(clf, trans_X, y, cv=kf, scoring='accuracy')\n",
    "            result[f'{clf_name} accuracy'] = np.mean(scores)\n",
    "            result[f'{clf_name} std'] = np.std(scores)\n",
    "            print(f\"Classifier: {clf_name}, \"\n",
    "                  f\"Mean Accuracy: {np.mean(scores):.3f}, Std Accuracy: {np.std(scores):.3f}\")\n",
    "        \n",
    "        results.append(result)\n",
    "\n",
    "    return pd.DataFrame(results)"
   ]
  },
  {
   "cell_type": "code",
   "execution_count": 41,
   "metadata": {},
   "outputs": [],
   "source": [
    "transformations = [[['multifracs',{'j1':2,'j2':10}],['autoreg',{'k':5}], 'shannon_encoding'],'waveletscattering',['waveletscattering',['multifracs',{'j1':2,'j2':10}],['autoreg',{'k':5}], 'shannon_encoding']]\n",
    "\n",
    "classifiers = {\n",
    "    'SVM': SVC(kernel='linear'),\n",
    "    'DecisionTree': DecisionTreeClassifier(),\n",
    "    'RandomForest': RandomForestClassifier(),\n",
    "    'MLPClassifier': MLPClassifier(max_iter=500),\n",
    "}"
   ]
  },
  {
   "cell_type": "code",
   "execution_count": 42,
   "metadata": {},
   "outputs": [
    {
     "name": "stdout",
     "output_type": "stream",
     "text": [
      "Computing  multifracs_j1=2_j2=10 ..."
     ]
    },
    {
     "name": "stderr",
     "output_type": "stream",
     "text": [
      "c:\\users\\ant\\documents\\info2\\bits2beat-tests\\pymultifracs\\pymultifracs\\utils.py:87: RuntimeWarning: divide by zero encountered in power\n",
      "  return np.power(array, exponent)\n",
      "c:\\users\\ant\\documents\\info2\\bits2beat-tests\\pymultifracs\\pymultifracs\\utils.py:76: RuntimeWarning: divide by zero encountered in reciprocal\n",
      "  return array ** exponent\n",
      "c:\\users\\ant\\documents\\info2\\bits2beat-tests\\pymultifracs\\pymultifracs\\cumulants.py:265: RuntimeWarning: divide by zero encountered in log\n",
      "  log_T_X_j = np.log(T_X_j)\n",
      "c:\\users\\ant\\documents\\info2\\bits2beat-tests\\pymultifracs\\pymultifracs\\mfspectrum.py:117: RuntimeWarning: invalid value encountered in divide\n",
      "  R_j = temp / Z\n",
      "c:\\users\\ant\\documents\\info2\\bits2beat-tests\\pymultifracs\\pymultifracs\\mfspectrum.py:118: RuntimeWarning: divide by zero encountered in log2\n",
      "  V[:, ind_j, :] = fixednansum(R_j * np.log2(mrq_values_j), axis=1)\n",
      "c:\\users\\ant\\documents\\info2\\bits2beat-tests\\pymultifracs\\pymultifracs\\mfspectrum.py:118: RuntimeWarning: invalid value encountered in multiply\n",
      "  V[:, ind_j, :] = fixednansum(R_j * np.log2(mrq_values_j), axis=1)\n",
      "c:\\users\\ant\\documents\\info2\\bits2beat-tests\\pymultifracs\\pymultifracs\\mfspectrum.py:119: RuntimeWarning: divide by zero encountered in log2\n",
      "  U[:, ind_j, :] = np.log2(nj) + fixednansum((R_j * np.log2(R_j)),\n",
      "c:\\users\\ant\\documents\\info2\\bits2beat-tests\\pymultifracs\\pymultifracs\\mfspectrum.py:119: RuntimeWarning: invalid value encountered in multiply\n",
      "  U[:, ind_j, :] = np.log2(nj) + fixednansum((R_j * np.log2(R_j)),\n"
     ]
    },
    {
     "name": "stdout",
     "output_type": "stream",
     "text": [
      "Transformation: multifracs_j1=2_j2=10_autoreg_k=5_shannon_encoding, Shape: 16 \n",
      "Classifier: SVM, Mean Accuracy: 0.965, Std Accuracy: 0.018\n",
      "Classifier: DecisionTree, Mean Accuracy: 0.972, Std Accuracy: 0.020\n",
      "Classifier: RandomForest, Mean Accuracy: 0.967, Std Accuracy: 0.023\n",
      "Classifier: MLPClassifier, Mean Accuracy: 0.968, Std Accuracy: 0.015\n",
      "Transformation: waveletscattering, Shape: 78150 \n",
      "Classifier: SVM, Mean Accuracy: 0.922, Std Accuracy: 0.035\n",
      "Classifier: DecisionTree, Mean Accuracy: 0.835, Std Accuracy: 0.027\n",
      "Classifier: RandomForest, Mean Accuracy: 0.900, Std Accuracy: 0.026\n",
      "Classifier: MLPClassifier, Mean Accuracy: 0.945, Std Accuracy: 0.027\n"
     ]
    }
   ],
   "source": [
    "results_df = evaluate_transformations(X_hrv, y_hrv, transformations, classifiers)"
   ]
  },
  {
   "cell_type": "code",
   "execution_count": 43,
   "metadata": {},
   "outputs": [
    {
     "name": "stdout",
     "output_type": "stream",
     "text": [
      "Computing  multifracs_j1=2_j2=10 ..."
     ]
    },
    {
     "name": "stderr",
     "output_type": "stream",
     "text": [
      "c:\\users\\ant\\documents\\info2\\bits2beat-tests\\pymultifracs\\pymultifracs\\utils.py:87: RuntimeWarning: divide by zero encountered in power\n",
      "  return np.power(array, exponent)\n",
      "c:\\users\\ant\\documents\\info2\\bits2beat-tests\\pymultifracs\\pymultifracs\\utils.py:76: RuntimeWarning: divide by zero encountered in reciprocal\n",
      "  return array ** exponent\n",
      "c:\\users\\ant\\documents\\info2\\bits2beat-tests\\pymultifracs\\pymultifracs\\cumulants.py:265: RuntimeWarning: divide by zero encountered in log\n",
      "  log_T_X_j = np.log(T_X_j)\n",
      "c:\\users\\ant\\documents\\info2\\bits2beat-tests\\pymultifracs\\pymultifracs\\mfspectrum.py:117: RuntimeWarning: invalid value encountered in divide\n",
      "  R_j = temp / Z\n",
      "c:\\users\\ant\\documents\\info2\\bits2beat-tests\\pymultifracs\\pymultifracs\\mfspectrum.py:118: RuntimeWarning: divide by zero encountered in log2\n",
      "  V[:, ind_j, :] = fixednansum(R_j * np.log2(mrq_values_j), axis=1)\n",
      "c:\\users\\ant\\documents\\info2\\bits2beat-tests\\pymultifracs\\pymultifracs\\mfspectrum.py:118: RuntimeWarning: invalid value encountered in multiply\n",
      "  V[:, ind_j, :] = fixednansum(R_j * np.log2(mrq_values_j), axis=1)\n",
      "c:\\users\\ant\\documents\\info2\\bits2beat-tests\\pymultifracs\\pymultifracs\\mfspectrum.py:119: RuntimeWarning: divide by zero encountered in log2\n",
      "  U[:, ind_j, :] = np.log2(nj) + fixednansum((R_j * np.log2(R_j)),\n",
      "c:\\users\\ant\\documents\\info2\\bits2beat-tests\\pymultifracs\\pymultifracs\\mfspectrum.py:119: RuntimeWarning: invalid value encountered in multiply\n",
      "  U[:, ind_j, :] = np.log2(nj) + fixednansum((R_j * np.log2(R_j)),\n"
     ]
    },
    {
     "name": "stdout",
     "output_type": "stream",
     "text": [
      "Transformation: multifracs_j1=2_j2=10_autoreg_k=5_shannon_encoding, Shape: 16 \n",
      "Classifier: SVM, Mean Accuracy: 0.930, Std Accuracy: 0.019\n",
      "Classifier: DecisionTree, Mean Accuracy: 0.910, Std Accuracy: 0.040\n",
      "Classifier: RandomForest, Mean Accuracy: 0.938, Std Accuracy: 0.027\n"
     ]
    },
    {
     "name": "stderr",
     "output_type": "stream",
     "text": [
      "c:\\Python311\\Lib\\site-packages\\sklearn\\neural_network\\_multilayer_perceptron.py:691: ConvergenceWarning: Stochastic Optimizer: Maximum iterations (500) reached and the optimization hasn't converged yet.\n",
      "  warnings.warn(\n",
      "c:\\Python311\\Lib\\site-packages\\sklearn\\neural_network\\_multilayer_perceptron.py:691: ConvergenceWarning: Stochastic Optimizer: Maximum iterations (500) reached and the optimization hasn't converged yet.\n",
      "  warnings.warn(\n",
      "c:\\Python311\\Lib\\site-packages\\sklearn\\neural_network\\_multilayer_perceptron.py:691: ConvergenceWarning: Stochastic Optimizer: Maximum iterations (500) reached and the optimization hasn't converged yet.\n",
      "  warnings.warn(\n",
      "c:\\Python311\\Lib\\site-packages\\sklearn\\neural_network\\_multilayer_perceptron.py:691: ConvergenceWarning: Stochastic Optimizer: Maximum iterations (500) reached and the optimization hasn't converged yet.\n",
      "  warnings.warn(\n"
     ]
    },
    {
     "name": "stdout",
     "output_type": "stream",
     "text": [
      "Classifier: MLPClassifier, Mean Accuracy: 0.950, Std Accuracy: 0.026\n",
      "Computing  waveletscattering ..."
     ]
    },
    {
     "name": "stderr",
     "output_type": "stream",
     "text": [
      "c:\\Python311\\Lib\\site-packages\\sklearn\\neural_network\\_multilayer_perceptron.py:691: ConvergenceWarning: Stochastic Optimizer: Maximum iterations (500) reached and the optimization hasn't converged yet.\n",
      "  warnings.warn(\n"
     ]
    },
    {
     "name": "stdout",
     "output_type": "stream",
     "text": [
      "Transformation: waveletscattering, Shape: 156250 \n",
      "Classifier: SVM, Mean Accuracy: 0.955, Std Accuracy: 0.024\n",
      "Classifier: DecisionTree, Mean Accuracy: 0.825, Std Accuracy: 0.049\n",
      "Classifier: RandomForest, Mean Accuracy: 0.915, Std Accuracy: 0.024\n",
      "Classifier: MLPClassifier, Mean Accuracy: 0.950, Std Accuracy: 0.032\n"
     ]
    }
   ],
   "source": [
    "results_df = evaluate_transformations(X_ecg, y_ecg, transformations, classifiers)"
   ]
  },
  {
   "cell_type": "code",
   "execution_count": null,
   "metadata": {},
   "outputs": [],
   "source": []
  }
 ],
 "metadata": {
  "kernelspec": {
   "display_name": "Python 3",
   "language": "python",
   "name": "python3"
  },
  "language_info": {
   "codemirror_mode": {
    "name": "ipython",
    "version": 3
   },
   "file_extension": ".py",
   "mimetype": "text/x-python",
   "name": "python",
   "nbconvert_exporter": "python",
   "pygments_lexer": "ipython3",
   "version": "3.11.0"
  }
 },
 "nbformat": 4,
 "nbformat_minor": 2
}
