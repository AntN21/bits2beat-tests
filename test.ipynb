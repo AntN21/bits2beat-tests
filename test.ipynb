{
 "cells": [
  {
   "cell_type": "code",
   "execution_count": 1,
   "metadata": {},
   "outputs": [],
   "source": [
    "import numpy as np"
   ]
  },
  {
   "cell_type": "code",
   "execution_count": 3,
   "metadata": {},
   "outputs": [],
   "source": [
    "def transform(X, fs=250, cutoff_ratio=3, n=None, **kwargs):\n",
    "        fourier_transform = np.fft.fft(X,n=n,axis=-1)\n",
    "        print(fourier_transform.shape)\n",
    "        if n is None:\n",
    "            n = X.shape[1]\n",
    "        frequencies = np.fft.fftfreq(n, d=1/fs)\n",
    "        print(frequencies.shape)\n",
    "        mask = frequencies < cutoff_ratio\n",
    "        fourier_transform = fourier_transform[:, mask]\n",
    "        print(fourier_transform.shape)\n",
    "        modulus = np.abs(fourier_transform)\n",
    "        return modulus"
   ]
  },
  {
   "cell_type": "code",
   "execution_count": 4,
   "metadata": {},
   "outputs": [],
   "source": [
    "ecgs_labels = np.load('ecgs_labels.npy')\n",
    "\n",
    "X, y = ecgs_labels[:,:-1], ecgs_labels[:,-1]"
   ]
  },
  {
   "cell_type": "code",
   "execution_count": 5,
   "metadata": {},
   "outputs": [
    {
     "name": "stdout",
     "output_type": "stream",
     "text": [
      "(1165, 100)\n",
      "(100,)\n",
      "(1165, 52)\n"
     ]
    },
    {
     "data": {
      "text/plain": [
       "array([[5.34850000e+01, 1.26303559e+01, 2.15000000e-01, ...,\n",
       "        6.45386685e+00, 1.08272599e+01, 1.26303559e+01],\n",
       "       [4.18350000e+01, 2.77530198e+00, 1.35000000e-01, ...,\n",
       "        6.79347070e-01, 6.09187907e-01, 2.77530198e+00],\n",
       "       [6.16250000e+01, 1.43080195e+01, 6.50000000e-02, ...,\n",
       "        4.45545090e+00, 9.93875225e+00, 1.43080195e+01],\n",
       "       ...,\n",
       "       [7.09629547e+00, 7.40712702e-02, 1.70977948e-04, ...,\n",
       "        1.09389495e-02, 3.00672160e-02, 7.40712702e-02],\n",
       "       [4.07654777e+00, 6.51494857e-02, 5.42771523e-04, ...,\n",
       "        9.24169452e-02, 5.64705130e-02, 6.51494857e-02],\n",
       "       [4.01419811e+00, 2.48305106e-02, 4.55895437e-03, ...,\n",
       "        2.45614128e-02, 1.44354294e-02, 2.48305106e-02]])"
      ]
     },
     "execution_count": 5,
     "metadata": {},
     "output_type": "execute_result"
    }
   ],
   "source": [
    "transform(X,n=100)"
   ]
  }
 ],
 "metadata": {
  "kernelspec": {
   "display_name": "base",
   "language": "python",
   "name": "python3"
  },
  "language_info": {
   "codemirror_mode": {
    "name": "ipython",
    "version": 3
   },
   "file_extension": ".py",
   "mimetype": "text/x-python",
   "name": "python",
   "nbconvert_exporter": "python",
   "pygments_lexer": "ipython3",
   "version": "3.11.5"
  }
 },
 "nbformat": 4,
 "nbformat_minor": 2
}
