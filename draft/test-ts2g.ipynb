{
 "cells": [
  {
   "cell_type": "code",
   "execution_count": 6,
   "metadata": {},
   "outputs": [],
   "source": [
    "import ts2g\n",
    "import numpy as np"
   ]
  },
  {
   "cell_type": "code",
   "execution_count": 7,
   "metadata": {},
   "outputs": [
    {
     "ename": "TypeError",
     "evalue": "'tuple' object cannot be interpreted as an integer",
     "output_type": "error",
     "traceback": [
      "\u001b[1;31m---------------------------------------------------------------------------\u001b[0m",
      "\u001b[1;31mTypeError\u001b[0m                                 Traceback (most recent call last)",
      "Cell \u001b[1;32mIn[7], line 1\u001b[0m\n\u001b[1;32m----> 1\u001b[0m data \u001b[38;5;241m=\u001b[39m \u001b[43mnp\u001b[49m\u001b[38;5;241;43m.\u001b[39;49m\u001b[43mrandom\u001b[49m\u001b[38;5;241;43m.\u001b[39;49m\u001b[43mrandn\u001b[49m\u001b[43m(\u001b[49m\u001b[43m(\u001b[49m\u001b[38;5;241;43m100\u001b[39;49m\u001b[43m,\u001b[49m\u001b[38;5;241;43m1_000\u001b[39;49m\u001b[43m)\u001b[49m\u001b[43m)\u001b[49m\n",
      "File \u001b[1;32mnumpy\\\\random\\\\mtrand.pyx:1286\u001b[0m, in \u001b[0;36mnumpy.random.mtrand.RandomState.randn\u001b[1;34m()\u001b[0m\n",
      "File \u001b[1;32mnumpy\\\\random\\\\mtrand.pyx:1447\u001b[0m, in \u001b[0;36mnumpy.random.mtrand.RandomState.standard_normal\u001b[1;34m()\u001b[0m\n",
      "File \u001b[1;32m_common.pyx:636\u001b[0m, in \u001b[0;36mnumpy.random._common.cont\u001b[1;34m()\u001b[0m\n",
      "\u001b[1;31mTypeError\u001b[0m: 'tuple' object cannot be interpreted as an integer"
     ]
    }
   ],
   "source": [
    "# data = np.random.randn((100,1_000))"
   ]
  },
  {
   "cell_type": "code",
   "execution_count": 17,
   "metadata": {},
   "outputs": [],
   "source": [
    "#import your data! data should be .csv or .xlsx file \n",
    "#for example:\n",
    "# data = ts2g.importData(\"data.csv\") # this function will return a matrix of data\n",
    "#replace you data file with data.csv\n",
    "\n",
    "#then calculate the data:\n",
    "data = np.random.randn((100*69)).reshape((100,69))\n",
    "#for vertical visibility graph, example:\n",
    "result = ts2g.vg(data) # this function will return a matrix of results\n",
    "\n",
    "#for horisantal visibility graph, example:\n",
    "result = ts2g.hg(data) # this function will return a matrix of results\n",
    "\n",
    "#for quantile graph, example:\n",
    "q = 10\n",
    "result = ts2g.qg(data, q) # this function will return a matrix of results\n",
    "\n",
    "\n",
    "#then save result!\n",
    "\n",
    "# ts2g.save(result, \"name\") #this funtion will save results in .txt files!"
   ]
  },
  {
   "cell_type": "code",
   "execution_count": 18,
   "metadata": {},
   "outputs": [
    {
     "data": {
      "text/plain": [
       "dict_keys(['A', 'graph_indicator', 'node_labels', 'edge_attributes', 'q', 'type'])"
      ]
     },
     "execution_count": 18,
     "metadata": {},
     "output_type": "execute_result"
    }
   ],
   "source": [
    "result.keys()"
   ]
  },
  {
   "cell_type": "code",
   "execution_count": 24,
   "metadata": {},
   "outputs": [],
   "source": [
    "hrv_data = np.load('hrv_data_good.npy')\n",
    "ecg_data = np.load('ecg_data_good.npy')\n",
    "\n",
    "X_hrv, y_hrv = hrv_data[:,:-1], hrv_data[:,-1]\n",
    "X_ecg, y_ecg = ecg_data[:,:-1], ecg_data[:,-1]"
   ]
  },
  {
   "cell_type": "code",
   "execution_count": 25,
   "metadata": {},
   "outputs": [
    {
     "data": {
      "text/plain": [
       "(102, 2826240)"
      ]
     },
     "execution_count": 25,
     "metadata": {},
     "output_type": "execute_result"
    }
   ],
   "source": [
    "X_ecg.shape"
   ]
  },
  {
   "cell_type": "code",
   "execution_count": 23,
   "metadata": {},
   "outputs": [
    {
     "data": {
      "text/plain": [
       "[53,\n",
       " 53,\n",
       " 56,\n",
       " 54,\n",
       " 57,\n",
       " 56,\n",
       " 55,\n",
       " 52,\n",
       " 57,\n",
       " 48,\n",
       " 59,\n",
       " 48,\n",
       " 51,\n",
       " 50,\n",
       " 51,\n",
       " 51,\n",
       " 53,\n",
       " 47,\n",
       " 56,\n",
       " 52,\n",
       " 51,\n",
       " 51,\n",
       " 54,\n",
       " 53,\n",
       " 55,\n",
       " 56,\n",
       " 49,\n",
       " 54,\n",
       " 52,\n",
       " 53,\n",
       " 55,\n",
       " 46,\n",
       " 52,\n",
       " 56,\n",
       " 59,\n",
       " 49,\n",
       " 50,\n",
       " 55,\n",
       " 54,\n",
       " 51,\n",
       " 51,\n",
       " 52,\n",
       " 50,\n",
       " 49,\n",
       " 53,\n",
       " 57,\n",
       " 51,\n",
       " 54,\n",
       " 54,\n",
       " 52,\n",
       " 50,\n",
       " 48,\n",
       " 52,\n",
       " 53,\n",
       " 57,\n",
       " 52,\n",
       " 52,\n",
       " 52,\n",
       " 48,\n",
       " 49,\n",
       " 56,\n",
       " 53,\n",
       " 52,\n",
       " 54,\n",
       " 53,\n",
       " 49,\n",
       " 50,\n",
       " 50,\n",
       " 53,\n",
       " 52,\n",
       " 52,\n",
       " 54,\n",
       " 53,\n",
       " 51,\n",
       " 49,\n",
       " 51,\n",
       " 58,\n",
       " 51,\n",
       " 55,\n",
       " 54,\n",
       " 56,\n",
       " 55,\n",
       " 56,\n",
       " 57,\n",
       " 51,\n",
       " 54,\n",
       " 55,\n",
       " 53,\n",
       " 57,\n",
       " 52,\n",
       " 51,\n",
       " 49,\n",
       " 53,\n",
       " 54,\n",
       " 56,\n",
       " 48,\n",
       " 49,\n",
       " 54,\n",
       " 50,\n",
       " 48]"
      ]
     },
     "execution_count": 23,
     "metadata": {},
     "output_type": "execute_result"
    }
   ],
   "source": [
    "[len(d) for d in  result['edge_attributes']]"
   ]
  },
  {
   "cell_type": "code",
   "execution_count": 20,
   "metadata": {},
   "outputs": [
    {
     "data": {
      "text/plain": [
       "1000"
      ]
     },
     "execution_count": 20,
     "metadata": {},
     "output_type": "execute_result"
    }
   ],
   "source": [
    "len(result[\"node_labels\"])"
   ]
  }
 ],
 "metadata": {
  "kernelspec": {
   "display_name": "Python 3",
   "language": "python",
   "name": "python3"
  },
  "language_info": {
   "codemirror_mode": {
    "name": "ipython",
    "version": 3
   },
   "file_extension": ".py",
   "mimetype": "text/x-python",
   "name": "python",
   "nbconvert_exporter": "python",
   "pygments_lexer": "ipython3",
   "version": "3.11.0"
  }
 },
 "nbformat": 4,
 "nbformat_minor": 2
}
