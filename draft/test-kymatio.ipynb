{
 "cells": [
  {
   "cell_type": "code",
   "execution_count": 34,
   "metadata": {},
   "outputs": [],
   "source": [
    "# %pip install kymatio"
   ]
  },
  {
   "cell_type": "code",
   "execution_count": 35,
   "metadata": {},
   "outputs": [],
   "source": [
    "hrvs_labels = np.load('hrv_data.npy')\n",
    "\n",
    "X, y = hrvs_labels[:,:-1], hrvs_labels[:,-1]"
   ]
  },
  {
   "cell_type": "code",
   "execution_count": 36,
   "metadata": {},
   "outputs": [
    {
     "data": {
      "text/plain": [
       "(68, 71933)"
      ]
     },
     "execution_count": 36,
     "metadata": {},
     "output_type": "execute_result"
    }
   ],
   "source": [
    "X.shape"
   ]
  },
  {
   "cell_type": "code",
   "execution_count": 37,
   "metadata": {},
   "outputs": [
    {
     "ename": "ValueError",
     "evalue": "cannot reshape array of size 2048 into shape (4096,0)",
     "output_type": "error",
     "traceback": [
      "\u001b[1;31m---------------------------------------------------------------------------\u001b[0m",
      "\u001b[1;31mRuntimeError\u001b[0m                              Traceback (most recent call last)",
      "\u001b[1;31mRuntimeError\u001b[0m: \nThe frontend 'NumPy' could not be correctly imported.",
      "\nThe above exception was the direct cause of the following exception:\n",
      "\u001b[1;31mValueError\u001b[0m                                Traceback (most recent call last)",
      "Cell \u001b[1;32mIn[37], line 16\u001b[0m\n\u001b[0;32m     13\u001b[0m Q \u001b[38;5;241m=\u001b[39m \u001b[38;5;241m8\u001b[39m  \u001b[38;5;66;03m# number of wavelets per octave\u001b[39;00m\n\u001b[0;32m     15\u001b[0m \u001b[38;5;66;03m# Create the scattering transform object\u001b[39;00m\n\u001b[1;32m---> 16\u001b[0m scattering \u001b[38;5;241m=\u001b[39m Scattering1D(J\u001b[38;5;241m=\u001b[39mJ, shape\u001b[38;5;241m=\u001b[39mN, Q\u001b[38;5;241m=\u001b[39mQ)\n\u001b[0;32m     18\u001b[0m \u001b[38;5;66;03m# Perform the scattering transform\u001b[39;00m\n\u001b[0;32m     19\u001b[0m Sx \u001b[38;5;241m=\u001b[39m scattering(signal)\n",
      "File \u001b[1;32mc:\\Users\\aejog\\anaconda3\\Lib\\site-packages\\kymatio\\scattering1d\\frontend\\entry.py:5\u001b[0m, in \u001b[0;36mScatteringEntry1D.__init__\u001b[1;34m(self, *args, **kwargs)\u001b[0m\n\u001b[0;32m      4\u001b[0m \u001b[38;5;28;01mdef\u001b[39;00m \u001b[38;5;21m__init__\u001b[39m(\u001b[38;5;28mself\u001b[39m, \u001b[38;5;241m*\u001b[39margs, \u001b[38;5;241m*\u001b[39m\u001b[38;5;241m*\u001b[39mkwargs):\n\u001b[1;32m----> 5\u001b[0m     \u001b[38;5;28msuper\u001b[39m()\u001b[38;5;241m.\u001b[39m\u001b[38;5;21m__init__\u001b[39m(name\u001b[38;5;241m=\u001b[39m\u001b[38;5;124m'\u001b[39m\u001b[38;5;124m1D\u001b[39m\u001b[38;5;124m'\u001b[39m, class_name\u001b[38;5;241m=\u001b[39m\u001b[38;5;124m'\u001b[39m\u001b[38;5;124mscattering1d\u001b[39m\u001b[38;5;124m'\u001b[39m, \u001b[38;5;241m*\u001b[39margs, \u001b[38;5;241m*\u001b[39m\u001b[38;5;241m*\u001b[39mkwargs)\n",
      "File \u001b[1;32mc:\\Users\\aejog\\anaconda3\\Lib\\site-packages\\kymatio\\frontend\\entry.py:51\u001b[0m, in \u001b[0;36mScatteringEntry.__init__\u001b[1;34m(self, *args, **kwargs)\u001b[0m\n\u001b[0;32m     49\u001b[0m     \u001b[38;5;28mself\u001b[39m\u001b[38;5;241m.\u001b[39m\u001b[38;5;21m__init__\u001b[39m(\u001b[38;5;241m*\u001b[39margs, \u001b[38;5;241m*\u001b[39m\u001b[38;5;241m*\u001b[39mkwargs)\n\u001b[0;32m     50\u001b[0m \u001b[38;5;28;01mexcept\u001b[39;00m \u001b[38;5;167;01mException\u001b[39;00m \u001b[38;5;28;01mas\u001b[39;00m e:\n\u001b[1;32m---> 51\u001b[0m     \u001b[38;5;28;01mraise\u001b[39;00m e \u001b[38;5;28;01mfrom\u001b[39;00m \u001b[38;5;21;01mRuntimeError\u001b[39;00m(\u001b[38;5;124m'\u001b[39m\u001b[38;5;130;01m\\n\u001b[39;00m\u001b[38;5;124mThe frontend \u001b[39m\u001b[38;5;130;01m\\'\u001b[39;00m\u001b[38;5;124m'\u001b[39m \u001b[38;5;241m+\u001b[39m frontend \u001b[38;5;241m+\u001b[39m \u001b[38;5;124m'\u001b[39m\u001b[38;5;130;01m\\'\u001b[39;00m\u001b[38;5;124m could not be correctly imported.\u001b[39m\u001b[38;5;124m'\u001b[39m)\n\u001b[0;32m     53\u001b[0m logging\u001b[38;5;241m.\u001b[39minfo(\u001b[38;5;124m'\u001b[39m\u001b[38;5;124mThe \u001b[39m\u001b[38;5;124m'\u001b[39m \u001b[38;5;241m+\u001b[39m \u001b[38;5;28mself\u001b[39m\u001b[38;5;241m.\u001b[39mname \u001b[38;5;241m+\u001b[39m \u001b[38;5;124m'\u001b[39m\u001b[38;5;124m frontend \u001b[39m\u001b[38;5;124m'\u001b[39m \u001b[38;5;241m+\u001b[39m frontend \u001b[38;5;241m+\u001b[39m \u001b[38;5;124m'\u001b[39m\u001b[38;5;124m was imported.\u001b[39m\u001b[38;5;124m'\u001b[39m)\n",
      "File \u001b[1;32mc:\\Users\\aejog\\anaconda3\\Lib\\site-packages\\kymatio\\frontend\\entry.py:49\u001b[0m, in \u001b[0;36mScatteringEntry.__init__\u001b[1;34m(self, *args, **kwargs)\u001b[0m\n\u001b[0;32m     46\u001b[0m     class_name \u001b[38;5;241m=\u001b[39m base_name \u001b[38;5;241m+\u001b[39m frontend \u001b[38;5;241m+\u001b[39m dim_suffix\n\u001b[0;32m     48\u001b[0m     \u001b[38;5;28mself\u001b[39m\u001b[38;5;241m.\u001b[39m\u001b[38;5;18m__class__\u001b[39m \u001b[38;5;241m=\u001b[39m \u001b[38;5;28mgetattr\u001b[39m(module, class_name)\n\u001b[1;32m---> 49\u001b[0m     \u001b[38;5;28mself\u001b[39m\u001b[38;5;241m.\u001b[39m\u001b[38;5;21m__init__\u001b[39m(\u001b[38;5;241m*\u001b[39margs, \u001b[38;5;241m*\u001b[39m\u001b[38;5;241m*\u001b[39mkwargs)\n\u001b[0;32m     50\u001b[0m \u001b[38;5;28;01mexcept\u001b[39;00m \u001b[38;5;167;01mException\u001b[39;00m \u001b[38;5;28;01mas\u001b[39;00m e:\n\u001b[0;32m     51\u001b[0m     \u001b[38;5;28;01mraise\u001b[39;00m e \u001b[38;5;28;01mfrom\u001b[39;00m \u001b[38;5;21;01mRuntimeError\u001b[39;00m(\u001b[38;5;124m'\u001b[39m\u001b[38;5;130;01m\\n\u001b[39;00m\u001b[38;5;124mThe frontend \u001b[39m\u001b[38;5;130;01m\\'\u001b[39;00m\u001b[38;5;124m'\u001b[39m \u001b[38;5;241m+\u001b[39m frontend \u001b[38;5;241m+\u001b[39m \u001b[38;5;124m'\u001b[39m\u001b[38;5;130;01m\\'\u001b[39;00m\u001b[38;5;124m could not be correctly imported.\u001b[39m\u001b[38;5;124m'\u001b[39m)\n",
      "File \u001b[1;32mc:\\Users\\aejog\\anaconda3\\Lib\\site-packages\\kymatio\\scattering1d\\frontend\\numpy_frontend.py:16\u001b[0m, in \u001b[0;36mScatteringNumPy1D.__init__\u001b[1;34m(self, J, shape, Q, T, max_order, average, oversampling, out_type, backend)\u001b[0m\n\u001b[0;32m     14\u001b[0m ScatteringBase1D\u001b[38;5;241m.\u001b[39m_instantiate_backend(\u001b[38;5;28mself\u001b[39m, \u001b[38;5;124m'\u001b[39m\u001b[38;5;124mkymatio.scattering1d.backend.\u001b[39m\u001b[38;5;124m'\u001b[39m)\n\u001b[0;32m     15\u001b[0m ScatteringBase1D\u001b[38;5;241m.\u001b[39mbuild(\u001b[38;5;28mself\u001b[39m)\n\u001b[1;32m---> 16\u001b[0m ScatteringBase1D\u001b[38;5;241m.\u001b[39mcreate_filters(\u001b[38;5;28mself\u001b[39m)\n",
      "File \u001b[1;32mc:\\Users\\aejog\\anaconda3\\Lib\\site-packages\\kymatio\\scattering1d\\frontend\\base_frontend.py:122\u001b[0m, in \u001b[0;36mScatteringBase1D.create_filters\u001b[1;34m(self)\u001b[0m\n\u001b[0;32m    120\u001b[0m \u001b[38;5;28;01mdef\u001b[39;00m \u001b[38;5;21mcreate_filters\u001b[39m(\u001b[38;5;28mself\u001b[39m):\n\u001b[0;32m    121\u001b[0m     \u001b[38;5;66;03m# Create the filters\u001b[39;00m\n\u001b[1;32m--> 122\u001b[0m     \u001b[38;5;28mself\u001b[39m\u001b[38;5;241m.\u001b[39mphi_f, \u001b[38;5;28mself\u001b[39m\u001b[38;5;241m.\u001b[39mpsi1_f, \u001b[38;5;28mself\u001b[39m\u001b[38;5;241m.\u001b[39mpsi2_f \u001b[38;5;241m=\u001b[39m scattering_filter_factory(\n\u001b[0;32m    123\u001b[0m         \u001b[38;5;28mself\u001b[39m\u001b[38;5;241m.\u001b[39m_N_padded, \u001b[38;5;28mself\u001b[39m\u001b[38;5;241m.\u001b[39mJ, \u001b[38;5;28mself\u001b[39m\u001b[38;5;241m.\u001b[39mQ, \u001b[38;5;28mself\u001b[39m\u001b[38;5;241m.\u001b[39mT,\n\u001b[0;32m    124\u001b[0m         r_psi\u001b[38;5;241m=\u001b[39m\u001b[38;5;28mself\u001b[39m\u001b[38;5;241m.\u001b[39mr_psi, sigma0\u001b[38;5;241m=\u001b[39m\u001b[38;5;28mself\u001b[39m\u001b[38;5;241m.\u001b[39msigma0, alpha\u001b[38;5;241m=\u001b[39m\u001b[38;5;28mself\u001b[39m\u001b[38;5;241m.\u001b[39malpha)\n\u001b[0;32m    125\u001b[0m     ScatteringBase\u001b[38;5;241m.\u001b[39m_check_filterbanks(\u001b[38;5;28mself\u001b[39m\u001b[38;5;241m.\u001b[39mpsi1_f, \u001b[38;5;28mself\u001b[39m\u001b[38;5;241m.\u001b[39mpsi2_f)\n",
      "File \u001b[1;32mc:\\Users\\aejog\\anaconda3\\Lib\\site-packages\\kymatio\\scattering1d\\filter_bank.py:452\u001b[0m, in \u001b[0;36mscattering_filter_factory\u001b[1;34m(N, J, Q, T, r_psi, max_subsampling, sigma0, alpha, **kwargs)\u001b[0m\n\u001b[0;32m    450\u001b[0m     \u001b[38;5;28;01mfor\u001b[39;00m level \u001b[38;5;129;01min\u001b[39;00m \u001b[38;5;28mrange\u001b[39m(\u001b[38;5;241m1\u001b[39m, max_sub_psi2 \u001b[38;5;241m+\u001b[39m \u001b[38;5;241m1\u001b[39m):\n\u001b[0;32m    451\u001b[0m         nperiods \u001b[38;5;241m=\u001b[39m \u001b[38;5;241m2\u001b[39m\u001b[38;5;241m*\u001b[39m\u001b[38;5;241m*\u001b[39mlevel\n\u001b[1;32m--> 452\u001b[0m         psi_levels\u001b[38;5;241m.\u001b[39mappend(periodize_filter_fourier(psi_levels[\u001b[38;5;241m0\u001b[39m], nperiods))\n\u001b[0;32m    453\u001b[0m     psi2_f\u001b[38;5;241m.\u001b[39mappend({\u001b[38;5;124m'\u001b[39m\u001b[38;5;124mlevels\u001b[39m\u001b[38;5;124m'\u001b[39m: psi_levels, \u001b[38;5;124m'\u001b[39m\u001b[38;5;124mxi\u001b[39m\u001b[38;5;124m'\u001b[39m: xi2, \u001b[38;5;124m'\u001b[39m\u001b[38;5;124msigma\u001b[39m\u001b[38;5;124m'\u001b[39m: sigma2, \u001b[38;5;124m'\u001b[39m\u001b[38;5;124mj\u001b[39m\u001b[38;5;124m'\u001b[39m: j2})\n\u001b[0;32m    455\u001b[0m \u001b[38;5;66;03m# for the 1st order filters, the input is not subsampled so we\u001b[39;00m\n\u001b[0;32m    456\u001b[0m \u001b[38;5;66;03m# can only compute them with N=2**J_support\u001b[39;00m\n",
      "File \u001b[1;32mc:\\Users\\aejog\\anaconda3\\Lib\\site-packages\\kymatio\\scattering1d\\filter_bank.py:70\u001b[0m, in \u001b[0;36mperiodize_filter_fourier\u001b[1;34m(h_f, nperiods)\u001b[0m\n\u001b[0;32m     52\u001b[0m \u001b[38;5;250m\u001b[39m\u001b[38;5;124;03m\"\"\"\u001b[39;00m\n\u001b[0;32m     53\u001b[0m \u001b[38;5;124;03mComputes a periodization of a filter provided in the Fourier domain.\u001b[39;00m\n\u001b[0;32m     54\u001b[0m \n\u001b[1;32m   (...)\u001b[0m\n\u001b[0;32m     67\u001b[0m \u001b[38;5;124;03m    v_f[k] = sum_{i=0}^{n_periods - 1} h_f[i * N + k]\u001b[39;00m\n\u001b[0;32m     68\u001b[0m \u001b[38;5;124;03m\"\"\"\u001b[39;00m\n\u001b[0;32m     69\u001b[0m N \u001b[38;5;241m=\u001b[39m h_f\u001b[38;5;241m.\u001b[39mshape[\u001b[38;5;241m0\u001b[39m] \u001b[38;5;241m/\u001b[39m\u001b[38;5;241m/\u001b[39m nperiods\n\u001b[1;32m---> 70\u001b[0m v_f \u001b[38;5;241m=\u001b[39m h_f\u001b[38;5;241m.\u001b[39mreshape(nperiods, N)\u001b[38;5;241m.\u001b[39mmean(axis\u001b[38;5;241m=\u001b[39m\u001b[38;5;241m0\u001b[39m)\n\u001b[0;32m     71\u001b[0m \u001b[38;5;28;01mreturn\u001b[39;00m v_f\n",
      "\u001b[1;31mValueError\u001b[0m: cannot reshape array of size 2048 into shape (4096,0)"
     ]
    }
   ],
   "source": [
    "import numpy as np\n",
    "import matplotlib.pyplot as plt\n",
    "from kymatio import Scattering1D\n",
    "\n",
    "# Generate a 1-D signal (for example, a simple sine wave)\n",
    "N = 1024  # length of the signal\n",
    "x = np.linspace(0, 1, N)\n",
    "signal = np.sin(2 * np.pi * 30 * x) + 0.5 * np.sin(2 * np.pi * 90 * x)\n",
    "signal = X[0,:N]\n",
    "# N = 71932\n",
    "# Define the scattering transform parameters\n",
    "J = 26  # scale of the scattering transform\n",
    "Q = 8  # number of wavelets per octave\n",
    "\n",
    "# Create the scattering transform object\n",
    "scattering = Scattering1D(J=J, shape=N, Q=Q)\n",
    "\n",
    "# Perform the scattering transform\n",
    "Sx = scattering(signal)\n",
    "\n",
    "# Plot the original signal\n",
    "plt.figure(figsize=(12, 4))\n",
    "plt.plot(signal)\n",
    "plt.title('Original Signal')\n",
    "plt.xlabel('Time')\n",
    "plt.ylabel('Amplitude')\n",
    "plt.show()\n",
    "\n",
    "# Display the scattering coefficients\n",
    "# Sx is a tensor of shape (number of scattering coefficients, signal length)\n",
    "print('Scattering Coefficients Shape:', Sx.shape)\n",
    "plt.figure(figsize=(12, 6))\n",
    "plt.imshow(Sx, aspect='auto', cmap='viridis')\n",
    "plt.colorbar()\n",
    "plt.title('Scattering Coefficients')\n",
    "plt.xlabel('Time')\n",
    "plt.ylabel('Coefficient Index')\n",
    "plt.show()\n"
   ]
  },
  {
   "cell_type": "code",
   "execution_count": null,
   "metadata": {},
   "outputs": [
    {
     "data": {
      "text/plain": [
       "(126, 16)"
      ]
     },
     "execution_count": 6,
     "metadata": {},
     "output_type": "execute_result"
    }
   ],
   "source": [
    "Sx.shape"
   ]
  }
 ],
 "metadata": {
  "kernelspec": {
   "display_name": "base",
   "language": "python",
   "name": "python3"
  },
  "language_info": {
   "codemirror_mode": {
    "name": "ipython",
    "version": 3
   },
   "file_extension": ".py",
   "mimetype": "text/x-python",
   "name": "python",
   "nbconvert_exporter": "python",
   "pygments_lexer": "ipython3",
   "version": "3.11.5"
  }
 },
 "nbformat": 4,
 "nbformat_minor": 2
}
