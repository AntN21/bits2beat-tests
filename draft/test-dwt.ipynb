{
 "cells": [
  {
   "cell_type": "code",
   "execution_count": 19,
   "metadata": {},
   "outputs": [],
   "source": [
    "import numpy as np\n",
    "import pywt"
   ]
  },
  {
   "cell_type": "code",
   "execution_count": 20,
   "metadata": {},
   "outputs": [],
   "source": [
    "ecgs_labels = np.load('ecgs_labels.npy')\n",
    "\n",
    "# X, y = ecgs_labels[:,:-1], ecgs_labels[:,-1]"
   ]
  },
  {
   "cell_type": "code",
   "execution_count": 21,
   "metadata": {},
   "outputs": [],
   "source": [
    "n,p = ecgs_labels[:,:-1].shape\n",
    "\n",
    "rand_index = np.random.randint(n)"
   ]
  },
  {
   "cell_type": "code",
   "execution_count": 22,
   "metadata": {},
   "outputs": [],
   "source": [
    "X = ecgs_labels[rand_index,:-1]"
   ]
  },
  {
   "cell_type": "code",
   "execution_count": 23,
   "metadata": {},
   "outputs": [
    {
     "name": "stdout",
     "output_type": "stream",
     "text": [
      "2\n"
     ]
    },
    {
     "data": {
      "text/plain": [
       "(array([-0.13446952, -0.1150638 , -0.15802058, ..., -1.18636108,\n",
       "        -1.19511647, -1.15726868]),\n",
       " array([-0.02699424,  0.02337442,  0.01076863, ...,  0.00129068,\n",
       "        -0.00835664, -0.00286494]))"
      ]
     },
     "execution_count": 23,
     "metadata": {},
     "output_type": "execute_result"
    }
   ],
   "source": [
    "res_dwt = pywt.dwt(X,wavelet='db1')\n",
    "print(len(res_dwt))\n",
    "res_dwt"
   ]
  },
  {
   "cell_type": "code",
   "execution_count": 24,
   "metadata": {},
   "outputs": [
    {
     "name": "stdout",
     "output_type": "stream",
     "text": [
      "2\n"
     ]
    },
    {
     "data": {
      "text/plain": [
       "(array([[ 8.91898827e-02,  4.80858149e-04, -9.72200342e-03, ...,\n",
       "         -1.32052966e-02, -3.50293854e-02, -2.79841546e-01],\n",
       "        [ 1.06032837e-01,  6.98682116e-02,  3.88565813e-02, ...,\n",
       "         -1.29977178e-01, -4.14988649e-01, -8.31843424e-01],\n",
       "        [ 1.34322485e-01,  1.23055023e-01,  1.01523197e-01, ...,\n",
       "         -4.68074526e-01, -8.39360620e-01, -1.16452717e+00],\n",
       "        ...,\n",
       "        [ 2.51354192e+00,  2.49251113e+00,  2.48511847e+00, ...,\n",
       "         -1.95788944e+00, -1.98870017e+00, -1.97979428e+00],\n",
       "        [ 2.49938703e+00,  2.50755238e+00,  2.51906548e+00, ...,\n",
       "         -1.98303037e+00, -1.96449699e+00, -1.95643922e+00],\n",
       "        [ 2.51326228e+00,  2.50899310e+00,  2.51655040e+00, ...,\n",
       "         -1.96778883e+00, -1.96114136e+00, -1.97720086e+00]]),\n",
       " array([0.2       , 0.1       , 0.06666667, 0.05      , 0.04      ,\n",
       "        0.03333333, 0.02857143, 0.025     , 0.02222222, 0.02      ,\n",
       "        0.01818182, 0.01666667, 0.01538462, 0.01428571, 0.01333333,\n",
       "        0.0125    , 0.01176471, 0.01111111, 0.01052632, 0.01      ,\n",
       "        0.00952381, 0.00909091, 0.00869565, 0.00833333, 0.008     ,\n",
       "        0.00769231, 0.00740741, 0.00714286, 0.00689655, 0.00666667,\n",
       "        0.00645161, 0.00625   , 0.00606061, 0.00588235, 0.00571429,\n",
       "        0.00555556, 0.00540541, 0.00526316, 0.00512821, 0.005     ,\n",
       "        0.00487805, 0.0047619 , 0.00465116, 0.00454545, 0.00444444,\n",
       "        0.00434783, 0.00425532, 0.00416667, 0.00408163, 0.004     ,\n",
       "        0.00392157, 0.00384615, 0.00377358, 0.0037037 , 0.00363636,\n",
       "        0.00357143, 0.00350877, 0.00344828, 0.00338983, 0.00333333,\n",
       "        0.00327869, 0.00322581, 0.0031746 , 0.003125  , 0.00307692,\n",
       "        0.0030303 , 0.00298507, 0.00294118, 0.00289855, 0.00285714,\n",
       "        0.0028169 , 0.00277778, 0.00273973, 0.0027027 , 0.00266667,\n",
       "        0.00263158, 0.0025974 , 0.0025641 , 0.00253165, 0.0025    ,\n",
       "        0.00246914, 0.00243902, 0.00240964, 0.00238095, 0.00235294,\n",
       "        0.00232558, 0.00229885, 0.00227273, 0.00224719, 0.00222222,\n",
       "        0.0021978 , 0.00217391, 0.00215054, 0.00212766, 0.00210526,\n",
       "        0.00208333, 0.00206186, 0.00204082, 0.0020202 , 0.002     ,\n",
       "        0.0019802 , 0.00196078, 0.00194175, 0.00192308, 0.00190476,\n",
       "        0.00188679, 0.00186916, 0.00185185, 0.00183486, 0.00181818,\n",
       "        0.0018018 , 0.00178571, 0.00176991, 0.00175439, 0.00173913,\n",
       "        0.00172414, 0.0017094 , 0.00169492, 0.00168067, 0.00166667,\n",
       "        0.00165289, 0.00163934, 0.00162602, 0.0016129 , 0.0016    ,\n",
       "        0.0015873 , 0.0015748 , 0.0015625 ]))"
      ]
     },
     "execution_count": 24,
     "metadata": {},
     "output_type": "execute_result"
    }
   ],
   "source": [
    "res_wavedec = pywt.cwt(X,np.arange(1,129),'gaus1')\n",
    "print(len(res_wavedec))\n",
    "res_wavedec"
   ]
  },
  {
   "cell_type": "code",
   "execution_count": 25,
   "metadata": {},
   "outputs": [
    {
     "data": {
      "text/plain": [
       "(array([1.76776695, 2.31078903, 5.13921616, 8.13172798]),\n",
       " array([-6.12372436e-01,  1.66533454e-16,  3.33066907e-16,  6.12372436e-01]))"
      ]
     },
     "execution_count": 25,
     "metadata": {},
     "output_type": "execute_result"
    }
   ],
   "source": [
    "pywt.dwt([1, 2, 3, 4, 5, 6], 'db2')"
   ]
  },
  {
   "cell_type": "code",
   "execution_count": 27,
   "metadata": {},
   "outputs": [],
   "source": [
    "# pywt.wavedec([1,2,3,4,5,6], 'gaus2')"
   ]
  },
  {
   "cell_type": "code",
   "execution_count": 28,
   "metadata": {},
   "outputs": [
    {
     "data": {
      "text/plain": [
       "['bior1.1',\n",
       " 'bior1.3',\n",
       " 'bior1.5',\n",
       " 'bior2.2',\n",
       " 'bior2.4',\n",
       " 'bior2.6',\n",
       " 'bior2.8',\n",
       " 'bior3.1',\n",
       " 'bior3.3',\n",
       " 'bior3.5',\n",
       " 'bior3.7',\n",
       " 'bior3.9',\n",
       " 'bior4.4',\n",
       " 'bior5.5',\n",
       " 'bior6.8',\n",
       " 'coif1',\n",
       " 'coif2',\n",
       " 'coif3',\n",
       " 'coif4',\n",
       " 'coif5',\n",
       " 'coif6',\n",
       " 'coif7',\n",
       " 'coif8',\n",
       " 'coif9',\n",
       " 'coif10',\n",
       " 'coif11',\n",
       " 'coif12',\n",
       " 'coif13',\n",
       " 'coif14',\n",
       " 'coif15',\n",
       " 'coif16',\n",
       " 'coif17',\n",
       " 'db1',\n",
       " 'db2',\n",
       " 'db3',\n",
       " 'db4',\n",
       " 'db5',\n",
       " 'db6',\n",
       " 'db7',\n",
       " 'db8',\n",
       " 'db9',\n",
       " 'db10',\n",
       " 'db11',\n",
       " 'db12',\n",
       " 'db13',\n",
       " 'db14',\n",
       " 'db15',\n",
       " 'db16',\n",
       " 'db17',\n",
       " 'db18',\n",
       " 'db19',\n",
       " 'db20',\n",
       " 'db21',\n",
       " 'db22',\n",
       " 'db23',\n",
       " 'db24',\n",
       " 'db25',\n",
       " 'db26',\n",
       " 'db27',\n",
       " 'db28',\n",
       " 'db29',\n",
       " 'db30',\n",
       " 'db31',\n",
       " 'db32',\n",
       " 'db33',\n",
       " 'db34',\n",
       " 'db35',\n",
       " 'db36',\n",
       " 'db37',\n",
       " 'db38',\n",
       " 'dmey',\n",
       " 'haar',\n",
       " 'rbio1.1',\n",
       " 'rbio1.3',\n",
       " 'rbio1.5',\n",
       " 'rbio2.2',\n",
       " 'rbio2.4',\n",
       " 'rbio2.6',\n",
       " 'rbio2.8',\n",
       " 'rbio3.1',\n",
       " 'rbio3.3',\n",
       " 'rbio3.5',\n",
       " 'rbio3.7',\n",
       " 'rbio3.9',\n",
       " 'rbio4.4',\n",
       " 'rbio5.5',\n",
       " 'rbio6.8',\n",
       " 'sym2',\n",
       " 'sym3',\n",
       " 'sym4',\n",
       " 'sym5',\n",
       " 'sym6',\n",
       " 'sym7',\n",
       " 'sym8',\n",
       " 'sym9',\n",
       " 'sym10',\n",
       " 'sym11',\n",
       " 'sym12',\n",
       " 'sym13',\n",
       " 'sym14',\n",
       " 'sym15',\n",
       " 'sym16',\n",
       " 'sym17',\n",
       " 'sym18',\n",
       " 'sym19',\n",
       " 'sym20']"
      ]
     },
     "execution_count": 28,
     "metadata": {},
     "output_type": "execute_result"
    }
   ],
   "source": [
    "pywt.wavelist(kind='discrete')"
   ]
  },
  {
   "cell_type": "code",
   "execution_count": 29,
   "metadata": {},
   "outputs": [
    {
     "data": {
      "text/plain": [
       "['gaus1', 'gaus2', 'gaus3', 'gaus4', 'gaus5', 'gaus6', 'gaus7', 'gaus8']"
      ]
     },
     "execution_count": 29,
     "metadata": {},
     "output_type": "execute_result"
    }
   ],
   "source": [
    "pywt.wavelist('gaus')\n"
   ]
  },
  {
   "cell_type": "code",
   "execution_count": 37,
   "metadata": {},
   "outputs": [
    {
     "data": {
      "image/png": "[encoded data removed]",
      "text/plain": [
       "<Figure size 640x480 with 2 Axes>"
      ]
     },
     "metadata": {},
     "output_type": "display_data"
    }
   ],
   "source": [
    "import numpy as np\n",
    "import pywt\n",
    "\n",
    "# Generate a sample signal\n",
    "t = np.linspace(0, 1, 65000, endpoint=False)\n",
    "sig = np.cos(2 * np.pi * 7 * t) + np.sin(2 * np.pi * 13 * t)\n",
    "\n",
    "# Define scales and wavelet\n",
    "scales = np.arange(1,50,10) #np.arange(1,5_001,2500)\n",
    "wavelet = 'morl'\n",
    "\n",
    "# Perform the CWT\n",
    "coefs, freqs = pywt.cwt(X, scales, wavelet)\n",
    "\n",
    "# Display the results\n",
    "import matplotlib.pyplot as plt\n",
    "\n",
    "plt.imshow(np.abs(coefs), extent=[0, 1, 1, 31], interpolation='bilinear', aspect='auto',\n",
    "           vmax=abs(coefs).max(), vmin=-abs(coefs).max())\n",
    "plt.colorbar(label='Magnitude')\n",
    "plt.ylabel('Scale')\n",
    "plt.xlabel('Time')\n",
    "plt.show()\n"
   ]
  },
  {
   "cell_type": "code",
   "execution_count": 31,
   "metadata": {},
   "outputs": [
    {
     "data": {
      "text/plain": [
       "(2, 65000)"
      ]
     },
     "execution_count": 31,
     "metadata": {},
     "output_type": "execute_result"
    }
   ],
   "source": [
    "coefs.shape"
   ]
  }
 ],
 "metadata": {
  "kernelspec": {
   "display_name": "Python 3",
   "language": "python",
   "name": "python3"
  },
  "language_info": {
   "codemirror_mode": {
    "name": "ipython",
    "version": 3
   },
   "file_extension": ".py",
   "mimetype": "text/x-python",
   "name": "python",
   "nbconvert_exporter": "python",
   "pygments_lexer": "ipython3",
   "version": "3.11.0"
  }
 },
 "nbformat": 4,
 "nbformat_minor": 2
}
