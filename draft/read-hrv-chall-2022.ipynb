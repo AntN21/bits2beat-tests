{
 "cells": [
  {
   "cell_type": "markdown",
   "metadata": {},
   "source": [
    "# RR Interval Time Series Modeling: The PhysioNet/Computing in Cardiology Challenge 2002"
   ]
  },
  {
   "cell_type": "code",
   "execution_count": 41,
   "metadata": {},
   "outputs": [],
   "source": [
    "import os\n",
    "import numpy as np"
   ]
  },
  {
   "cell_type": "code",
   "execution_count": 42,
   "metadata": {},
   "outputs": [],
   "source": [
    "def read_numbers_from_files(folder_path):\n",
    "    hrvs = []\n",
    "    # List all files in the given folder\n",
    "    for file_name in os.listdir(folder_path):\n",
    "        file_path = os.path.join(folder_path, file_name)\n",
    "        \n",
    "        # Check if it's a file (and not a directory)\n",
    "        \n",
    "        if os.path.isfile(file_path):\n",
    "            with open(file_path, 'r') as file:\n",
    "                hrv = []\n",
    "                for line in file:\n",
    "                    # Strip any surrounding whitespace and convert to a number\n",
    "                    number = line.strip()\n",
    "                    hrv.append(float(number))\n",
    "        hrvs.append(hrv)\n",
    "    \n",
    "    return hrvs\n",
    "\n",
    "# Path to the folder containing the text files\n",
    "folder_path = 'dataset'\n",
    "\n",
    "# Read the numbers from the files\n",
    "hrvs = read_numbers_from_files(folder_path)\n",
    "\n",
    "gen_hrvs = read_numbers_from_files('nsrdb-rr')\n",
    "# # Print the list of numbers\n",
    "# print(numbers)\n",
    "y = np.array( [0] * len(hrvs) + [1] * len(gen_hrvs))\n",
    "\n",
    "hrvs = hrvs + gen_hrvs"
   ]
  },
  {
   "cell_type": "code",
   "execution_count": 43,
   "metadata": {},
   "outputs": [],
   "source": [
    "hrv_lengths = [len(hrv) for hrv in gen_hrvs]\n",
    "# hrv_lengths"
   ]
  },
  {
   "cell_type": "code",
   "execution_count": 44,
   "metadata": {},
   "outputs": [
    {
     "data": {
      "text/plain": [
       "(68, 71933)"
      ]
     },
     "execution_count": 44,
     "metadata": {},
     "output_type": "execute_result"
    }
   ],
   "source": [
    "hrv_lengths = [len(hrv) for hrv in hrvs]\n",
    "min_length = min(hrv_lengths)\n",
    "hrv_arrays = np.array([hrv[10:(min_length -10)] for hrv in hrvs])\n",
    "hrv_arrays.shape"
   ]
  },
  {
   "cell_type": "code",
   "execution_count": 45,
   "metadata": {},
   "outputs": [
    {
     "data": {
      "text/plain": [
       "array([[0.711, 0.688, 0.68 , ..., 0.945, 0.945, 0.953],\n",
       "       [0.844, 0.82 , 0.781, ..., 0.781, 0.781, 0.734],\n",
       "       [0.805, 0.836, 0.891, ..., 0.867, 0.867, 0.781],\n",
       "       ...,\n",
       "       [0.859, 0.867, 0.891, ..., 0.781, 0.766, 0.781],\n",
       "       [0.695, 0.672, 0.711, ..., 0.734, 0.742, 0.727],\n",
       "       [0.562, 0.555, 0.562, ..., 0.875, 0.828, 0.797]])"
      ]
     },
     "execution_count": 45,
     "metadata": {},
     "output_type": "execute_result"
    }
   ],
   "source": [
    "hrv_arrays"
   ]
  },
  {
   "cell_type": "code",
   "execution_count": 46,
   "metadata": {},
   "outputs": [],
   "source": [
    "data = np.concatenate([hrv_arrays,y[:,None]],axis=-1)\n",
    "\n",
    "np.save('hrv_data',data)"
   ]
  }
 ],
 "metadata": {
  "kernelspec": {
   "display_name": "Python 3",
   "language": "python",
   "name": "python3"
  },
  "language_info": {
   "codemirror_mode": {
    "name": "ipython",
    "version": 3
   },
   "file_extension": ".py",
   "mimetype": "text/x-python",
   "name": "python",
   "nbconvert_exporter": "python",
   "pygments_lexer": "ipython3",
   "version": "3.11.0"
  }
 },
 "nbformat": 4,
 "nbformat_minor": 2
}
