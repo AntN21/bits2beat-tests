{
 "cells": [
  {
   "cell_type": "code",
   "execution_count": 1,
   "metadata": {},
   "outputs": [],
   "source": [
    "import os\n",
    "import wfdb\n",
    "import random\n",
    "import numpy as np\n",
    "import matplotlib.pyplot as plt"
   ]
  },
  {
   "cell_type": "code",
   "execution_count": 2,
   "metadata": {},
   "outputs": [
    {
     "name": "stdout",
     "output_type": "stream",
     "text": [
      "There are 84 records in the folder long-term-af.\n",
      "There are 18 records in the folder mit-bih-normal-sinus-rhythm-database-1.0.0.\n",
      "Total number of unique records: 102\n"
     ]
    }
   ],
   "source": [
    "def count_unique_records(base_folder):\n",
    "    unique_records = set()\n",
    "\n",
    "    for folder_name in os.listdir(base_folder):\n",
    "        folder_path = os.path.join(base_folder, folder_name)\n",
    "        record_per_file = 0\n",
    "        if os.path.isdir(folder_path):\n",
    "            for file_name in os.listdir(folder_path):\n",
    "                if file_name.endswith('.atr'):\n",
    "                    record_name = file_name.split('.atr')[0]\n",
    "                    unique_records.add(record_name)\n",
    "                    record_per_file+=1\n",
    "\n",
    "        print(f'There are {record_per_file} records in the folder {folder_name}.')\n",
    "    return len(unique_records)\n",
    "\n",
    "# Path to your data folder\n",
    "data_folder = 'data'\n",
    "\n",
    "# Count the unique records\n",
    "num_records = count_unique_records(data_folder)\n",
    "print(f'Total number of unique records: {num_records}')\n"
   ]
  },
  {
   "cell_type": "code",
   "execution_count": 34,
   "metadata": {},
   "outputs": [
    {
     "name": "stdout",
     "output_type": "stream",
     "text": [
      "There are 84 records in the folder long-term-af.\n",
      "There are 18 records in the folder mit-bih-normal-sinus-rhythm-database-1.0.0.\n",
      "Total number of unique records: 102.\n",
      "HRV_LENGTH = 31169.\n",
      "ECG_LENGTH = 2826240.\n"
     ]
    }
   ],
   "source": [
    "def count_unique_records_plus(base_folder):\n",
    "    unique_records = set()\n",
    "    hrv_lengths = []\n",
    "    ecg_lengths = []\n",
    "    for folder_name in os.listdir(base_folder):\n",
    "        folder_path = os.path.join(base_folder, folder_name)\n",
    "        record_per_file = 0\n",
    "        if os.path.isdir(folder_path):\n",
    "            for file_name in os.listdir(folder_path):\n",
    "                if file_name.endswith('.atr'):\n",
    "                    record_name = file_name.split('.atr')[0]\n",
    "                    unique_records.add(record_name)\n",
    "                    record_path = os.path.join(folder_path, record_name)\n",
    "\n",
    "                    try:\n",
    "                        # Read annotations\n",
    "                        ann = wfdb.rdann(record_path, extension='atr')\n",
    "                        record = wfdb.rdsamp(record_path)\n",
    "                        # Extract RR intervals (in seconds)\n",
    "                        rr_intervals = np.diff(ann.sample / ann.fs)[10:-10]\n",
    "                        \n",
    "                        hrv_lengths.append(len(rr_intervals))\n",
    "\n",
    "                        # Extract the signals\n",
    "                        signal, fs = record[0][:,0], record[1]['fs']\n",
    "                        # print(fs)\n",
    "                        ecg_lengths.append(len(signal))\n",
    "\n",
    "                        \n",
    "\n",
    "                    except Exception as e:\n",
    "                        print(f\"Error processing {record_path}: {e}\")\n",
    "                    record_per_file+=1\n",
    "\n",
    "        print(f'There are {record_per_file} records in the folder {folder_name}.')\n",
    "    return len(unique_records), min(hrv_lengths), min(ecg_lengths)\n",
    "\n",
    "# Path to your data folder\n",
    "data_folder = 'data'\n",
    "\n",
    "# Count the unique records\n",
    "num_records, hrv_min_length, ecg_min_length = count_unique_records_plus(data_folder)\n",
    "print(f'Total number of unique records: {num_records}.\\n\\\n",
    "HRV_LENGTH = {hrv_min_length}.\\n\\\n",
    "ECG_LENGTH = {ecg_min_length}.')"
   ]
  },
  {
   "cell_type": "code",
   "execution_count": 4,
   "metadata": {},
   "outputs": [],
   "source": [
    "HRV_LENGTH = hrv_min_length - 100\n",
    "ECG_LENGTH = ecg_min_length - 100 # 2_826_240"
   ]
  },
  {
   "cell_type": "code",
   "execution_count": 5,
   "metadata": {},
   "outputs": [],
   "source": [
    "def get_random_hrv_and_ecg(record_path, hrv_length = 20_000, ecg_length = 50_000):\n",
    "    ann = wfdb.rdann(record_path, extension='atr')\n",
    "    record = wfdb.rdsamp(record_path)\n",
    "    # Extract RR intervals (in seconds)\n",
    "    rr_intervals = np.diff(ann.sample / ann.fs)[10:-10]\n",
    "\n",
    "    length = len(rr_intervals)\n",
    "    # print(length)\n",
    "    start_index = np.random.randint(0,length-hrv_length)\n",
    "    rr_intervals = rr_intervals[start_index : (start_index+hrv_length)]\n",
    "    # hrv_signals.append(rr_intervals)\n",
    "\n",
    "    # Extract the signals\n",
    "    signal, fs = record[0][:,0], record[1]['fs']\n",
    "    length = len(signal)\n",
    "    start_index = np.random.randint(0,length-ecg_length)\n",
    "    signal = signal[start_index : (start_index+ecg_length)]\n",
    "    # ecg_signals.append(signal)\n",
    "    return rr_intervals, signal"
   ]
  },
  {
   "cell_type": "code",
   "execution_count": 6,
   "metadata": {},
   "outputs": [],
   "source": [
    "def better_better_calculate_ecg_and_hrv_signals(base_folder, nb_train_examples=200, nb_test_examples=100, hrv_length = 20_000, ecg_length = 50_000, test_ratio=0.2):\n",
    "    assert(hrv_length < HRV_LENGTH)\n",
    "    assert(ecg_length < ECG_LENGTH)\n",
    "    train_hrv_signals = []\n",
    "    test_hrv_signals = []\n",
    "    train_ecg_signals = []\n",
    "    test_ecg_signals = []\n",
    "    label = 0\n",
    "    y_train = []\n",
    "    y_test = []\n",
    "    for folder_name in os.listdir(base_folder):\n",
    "        folder_path = os.path.join(base_folder, folder_name)\n",
    "        file_names = os.listdir(folder_path)\n",
    "        file_names = [file_name.split('.atr')[0] for file_name in file_names if file_name.endswith('.atr')]\n",
    "        random.shuffle(file_names)\n",
    "        nb_files = len(file_names)\n",
    "        n_test = int(test_ratio*nb_files)\n",
    "        n_train = nb_files - n_test\n",
    "        \n",
    "        test_files = file_names[:n_test]\n",
    "        train_files = file_names[n_test:]\n",
    "        \n",
    "        nb_files = len(file_names)\n",
    "        for _ in range(nb_train_examples):\n",
    "            record_name = train_files[np.random.randint(len(train_files))]\n",
    "            record_path = os.path.join(folder_path, record_name)\n",
    "            hrv, ecg = get_random_hrv_and_ecg(record_path, hrv_length=hrv_length,ecg_length=ecg_length)\n",
    "            train_hrv_signals.append(hrv)\n",
    "            train_ecg_signals.append(ecg)\n",
    "            y_train.append(label)\n",
    "\n",
    "        for _ in range(nb_test_examples):\n",
    "            record_name = test_files[np.random.randint(len(test_files))]\n",
    "            record_path = os.path.join(folder_path, record_name)\n",
    "            hrv, ecg = get_random_hrv_and_ecg(record_path, hrv_length=hrv_length,ecg_length=ecg_length)\n",
    "            test_hrv_signals.append(hrv)\n",
    "            test_ecg_signals.append(ecg)\n",
    "            y_test.append(label)\n",
    "\n",
    "        label += 1\n",
    "    # Convert the list of HRV features to a numpy array\n",
    "    train_hrv_array = np.array(train_hrv_signals)\n",
    "    test_hrv_array = np.array(test_hrv_signals)\n",
    "    train_ecg_array = np.array(train_ecg_signals)\n",
    "    test_ecg_array = np.array(test_ecg_signals)\n",
    "\n",
    "    y_train = np.array(y_train)\n",
    "    y_test = np.array(y_test)\n",
    "    \n",
    "    return train_ecg_array, train_hrv_array, y_train,\\\n",
    "           test_ecg_array, test_hrv_array, y_test\n",
    "\n",
    "# Example usage\n",
    "data_folder = 'data'\n",
    "ecg_train, hrv_train, y_train, ecg_test, hrv_test, y_test = better_better_calculate_ecg_and_hrv_signals(data_folder, hrv_length = 25_000, ecg_length = 50_000)"
   ]
  },
  {
   "cell_type": "code",
   "execution_count": 7,
   "metadata": {},
   "outputs": [],
   "source": [
    "def plot_mean_std(arr):\n",
    "    plt.errorbar(range(arr.shape[0]),arr.mean(axis=-1),arr.std(axis=-1))"
   ]
  },
  {
   "cell_type": "code",
   "execution_count": 8,
   "metadata": {},
   "outputs": [
    {
     "data": {
      "image/png": "[encoded data removed]",
      "text/plain": [
       "<Figure size 640x480 with 1 Axes>"
      ]
     },
     "metadata": {},
     "output_type": "display_data"
    }
   ],
   "source": [
    "plot_mean_std(ecg_train)"
   ]
  },
  {
   "cell_type": "code",
   "execution_count": 9,
   "metadata": {},
   "outputs": [
    {
     "data": {
      "image/png": "[encoded data removed]",
      "text/plain": [
       "<Figure size 640x480 with 1 Axes>"
      ]
     },
     "metadata": {},
     "output_type": "display_data"
    }
   ],
   "source": [
    "plot_mean_std(hrv_train)"
   ]
  },
  {
   "cell_type": "code",
   "execution_count": 10,
   "metadata": {},
   "outputs": [
    {
     "data": {
      "image/png": "[encoded data removed]",
      "text/plain": [
       "<Figure size 640x480 with 1 Axes>"
      ]
     },
     "metadata": {},
     "output_type": "display_data"
    }
   ],
   "source": [
    "plot_mean_std(ecg_test)"
   ]
  },
  {
   "cell_type": "code",
   "execution_count": 17,
   "metadata": {},
   "outputs": [
    {
     "data": {
      "text/plain": [
       "(1, 30, 50000)"
      ]
     },
     "execution_count": 17,
     "metadata": {},
     "output_type": "execute_result"
    }
   ],
   "source": [
    "ecg_test[indices,:].shape"
   ]
  },
  {
   "cell_type": "code",
   "execution_count": 32,
   "metadata": {},
   "outputs": [
    {
     "data": {
      "image/png": "[encoded data removed]",
      "text/plain": [
       "<Figure size 640x480 with 1 Axes>"
      ]
     },
     "metadata": {},
     "output_type": "display_data"
    }
   ],
   "source": [
    "indices = np.where(ecg_test.std(axis=-1) < 0.1)\n",
    "\n",
    "plt.plot(ecg_test[indices,:].squeeze()[28,12_000:15_000]);"
   ]
  },
  {
   "cell_type": "code",
   "execution_count": 12,
   "metadata": {},
   "outputs": [
    {
     "data": {
      "image/png": "[encoded data removed]",
      "text/plain": [
       "<Figure size 640x480 with 1 Axes>"
      ]
     },
     "metadata": {},
     "output_type": "display_data"
    }
   ],
   "source": [
    "plot_mean_std(hrv_test)"
   ]
  },
  {
   "cell_type": "code",
   "execution_count": 13,
   "metadata": {},
   "outputs": [],
   "source": [
    "train_hrv_data = np.concatenate([hrv_train,y_train[:,None]], axis=-1)\n",
    "train_ecg_data = np.concatenate([ecg_train,y_train[:,None]], axis=-1)\n",
    "\n",
    "np.save('train_hrv_data', train_hrv_data)\n",
    "np.save('train_ecg_data', train_ecg_data)\n",
    "\n",
    "test_hrv_data = np.concatenate([hrv_test,y_test[:,None]], axis=-1)\n",
    "test_ecg_data = np.concatenate([ecg_test,y_test[:,None]], axis=-1)\n",
    "\n",
    "np.save('test_hrv_data', test_hrv_data)\n",
    "np.save('test_ecg_data', test_ecg_data)"
   ]
  },
  {
   "cell_type": "code",
   "execution_count": 14,
   "metadata": {},
   "outputs": [
    {
     "ename": "NameError",
     "evalue": "name 'stop' is not defined",
     "output_type": "error",
     "traceback": [
      "\u001b[1;31m---------------------------------------------------------------------------\u001b[0m",
      "\u001b[1;31mNameError\u001b[0m                                 Traceback (most recent call last)",
      "Cell \u001b[1;32mIn[14], line 1\u001b[0m\n\u001b[1;32m----> 1\u001b[0m \u001b[43mstop\u001b[49m\n",
      "\u001b[1;31mNameError\u001b[0m: name 'stop' is not defined"
     ]
    }
   ],
   "source": [
    "stop"
   ]
  },
  {
   "cell_type": "code",
   "execution_count": null,
   "metadata": {},
   "outputs": [],
   "source": [
    "def better_calculate_ecg_and_hrv_signals(base_folder, example_per_file = 200, hrv_length = 20_000, ecg_length = 1_000_000):\n",
    "    assert(hrv_length < HRV_LENGTH)\n",
    "    assert(ecg_length < ECG_LENGTH)\n",
    "    hrv_signals = []\n",
    "    ecg_signals = []\n",
    "    label = 0\n",
    "    y = []\n",
    "    for folder_name in os.listdir(base_folder):\n",
    "        folder_path = os.path.join(base_folder, folder_name)\n",
    "        file_names = os.listdir(folder_path)\n",
    "        file_names = [file_name.split('.atr')[0] for file_name in file_names if file_name.endswith('.atr')]\n",
    "        nb_files = len(file_names)\n",
    "        for _ in range(example_per_file):\n",
    "            record_name = file_names[np.random.randint(nb_files)]\n",
    "            record_path = os.path.join(folder_path, record_name)\n",
    "\n",
    "\n",
    "            # try:\n",
    "            if True:\n",
    "                # Read annotations\n",
    "                ann = wfdb.rdann(record_path, extension='atr')\n",
    "                record = wfdb.rdsamp(record_path)\n",
    "                # Extract RR intervals (in seconds)\n",
    "                rr_intervals = np.diff(ann.sample / ann.fs)[10:-10]\n",
    "\n",
    "                length = len(rr_intervals)\n",
    "                # print(length)\n",
    "                start_index = np.random.randint(0,length-hrv_length)\n",
    "                rr_intervals = rr_intervals[start_index : (start_index+hrv_length)]\n",
    "                hrv_signals.append(rr_intervals)\n",
    "\n",
    "                # Extract the signals\n",
    "                signal, fs = record[0][:,0], record[1]['fs']\n",
    "                length = len(signal)\n",
    "                start_index = np.random.randint(0,length-ecg_length)\n",
    "                signal = signal[start_index : (start_index+ecg_length)]\n",
    "                ecg_signals.append(signal)\n",
    "                y.append(label)\n",
    "                \n",
    "\n",
    "            # except Exception as e:\n",
    "            #     print(f\"Error processing {record_path}: {e}\")\n",
    "        label += 1\n",
    "    # Convert the list of HRV features to a numpy array\n",
    "    hrv_array = np.array(hrv_signals)\n",
    "    ecg_array = np.array(ecg_signals)\n",
    "    return   ecg_array, hrv_array, np.array(y)\n",
    "\n",
    "# Example usage\n",
    "data_folder = 'data'\n",
    "ecgs, hrvs, labels = better_calculate_ecg_and_hrv_signals(data_folder, example_per_file = 200, hrv_length = 25_000, ecg_length = 50_000)"
   ]
  },
  {
   "cell_type": "code",
   "execution_count": null,
   "metadata": {},
   "outputs": [
    {
     "data": {
      "text/plain": [
       "(400, 50000)"
      ]
     },
     "execution_count": 6,
     "metadata": {},
     "output_type": "execute_result"
    }
   ],
   "source": [
    "ecgs.shape"
   ]
  },
  {
   "cell_type": "code",
   "execution_count": null,
   "metadata": {},
   "outputs": [],
   "source": [
    "hrv_data = np.concatenate([hrvs,labels[:,None]], axis=-1)\n",
    "ecg_data = np.concatenate([ecgs,labels[:,None]], axis=-1)\n",
    "np.save('better_hrv_data', hrv_data)\n",
    "np.save('better_ecg_data', ecg_data)"
   ]
  },
  {
   "cell_type": "code",
   "execution_count": null,
   "metadata": {},
   "outputs": [],
   "source": [
    "def calculate_ecg_and_hrv_signals(base_folder, hrv_length = 20_000, ecg_length = 1_000_000):\n",
    "    hrv_signals = []\n",
    "    ecg_signals = []\n",
    "    label = 0\n",
    "    y = []\n",
    "    for folder_name in os.listdir(base_folder):\n",
    "        folder_path = os.path.join(base_folder, folder_name)\n",
    "        file_names = os.listdir(folder_path)\n",
    "        for file_name in file_names:\n",
    "            if file_name.endswith('.atr'):\n",
    "                record_name = file_name.split('.atr')[0]\n",
    "                record_path = os.path.join(folder_path, record_name)\n",
    "\n",
    "                try:\n",
    "                    # Read annotations\n",
    "                    ann = wfdb.rdann(record_path, extension='atr')\n",
    "                    record = wfdb.rdsamp(record_path)\n",
    "                    # Extract RR intervals (in seconds)\n",
    "                    rr_intervals = np.diff(ann.sample / ann.fs)[10:-10]\n",
    "                    rr_intervals = rr_intervals[:hrv_length]\n",
    "                    hrv_signals.append(rr_intervals)\n",
    "\n",
    "                    # Extract the signals\n",
    "                    signal, fs = record[0][:ecg_length,0], record[1]['fs']\n",
    "                    ecg_signals.append(signal)\n",
    "                    y.append(label)\n",
    "                    \n",
    "\n",
    "                except Exception as e:\n",
    "                    print(f\"Error processing {record_path}: {e}\")\n",
    "        label += 1\n",
    "    # Convert the list of HRV features to a numpy array\n",
    "    hrv_array = np.array(hrv_signals)\n",
    "    ecg_array = np.array(ecg_signals)\n",
    "    return   ecg_array, hrv_array, np.array(y)\n",
    "\n",
    "# Example usage\n",
    "data_folder = 'data'\n",
    "ecgs, hrvs, labels = calculate_ecg_and_hrv_signals(data_folder, hrv_length = 30_000, ecg_length = 50_000)"
   ]
  },
  {
   "cell_type": "code",
   "execution_count": null,
   "metadata": {},
   "outputs": [],
   "source": [
    "def plot_mean_std(arr):\n",
    "    plt.errorbar(arr.mean(axis=-1),arr.std(axis=-1))"
   ]
  },
  {
   "cell_type": "code",
   "execution_count": null,
   "metadata": {},
   "outputs": [
    {
     "data": {
      "image/png": "[encoded data removed]",
      "text/plain": [
       "<Figure size 640x480 with 1 Axes>"
      ]
     },
     "metadata": {},
     "output_type": "display_data"
    }
   ],
   "source": [
    "plot_mean_std(ecgs)"
   ]
  },
  {
   "cell_type": "code",
   "execution_count": null,
   "metadata": {},
   "outputs": [
    {
     "data": {
      "image/png": "[encoded data removed]",
      "text/plain": [
       "<Figure size 640x480 with 1 Axes>"
      ]
     },
     "metadata": {},
     "output_type": "display_data"
    }
   ],
   "source": [
    "plot_mean_std(hrvs)"
   ]
  },
  {
   "cell_type": "code",
   "execution_count": null,
   "metadata": {},
   "outputs": [
    {
     "data": {
      "text/plain": [
       "(102, 50000)"
      ]
     },
     "execution_count": 12,
     "metadata": {},
     "output_type": "execute_result"
    }
   ],
   "source": [
    "ecgs.shape"
   ]
  },
  {
   "cell_type": "code",
   "execution_count": null,
   "metadata": {},
   "outputs": [],
   "source": [
    "hrv_data = np.concatenate([hrvs,labels[:,None]], axis=-1)\n",
    "ecg_data = np.concatenate([ecgs,labels[:,None]], axis=-1)\n",
    "np.save('med_hrv_data', hrv_data)\n",
    "np.save('med_ecg_data', ecg_data)"
   ]
  },
  {
   "cell_type": "code",
   "execution_count": null,
   "metadata": {},
   "outputs": [],
   "source": []
  },
  {
   "cell_type": "code",
   "execution_count": null,
   "metadata": {},
   "outputs": [
    {
     "ename": "NameError",
     "evalue": "name 'stop' is not defined",
     "output_type": "error",
     "traceback": [
      "\u001b[1;31m---------------------------------------------------------------------------\u001b[0m",
      "\u001b[1;31mNameError\u001b[0m                                 Traceback (most recent call last)",
      "Cell \u001b[1;32mIn[14], line 1\u001b[0m\n\u001b[1;32m----> 1\u001b[0m \u001b[43mstop\u001b[49m\n",
      "\u001b[1;31mNameError\u001b[0m: name 'stop' is not defined"
     ]
    }
   ],
   "source": [
    "stop"
   ]
  },
  {
   "cell_type": "code",
   "execution_count": null,
   "metadata": {},
   "outputs": [],
   "source": [
    "def calculate_ecg_signals(base_folder):\n",
    "    hrv_batches = []\n",
    "    label = 0\n",
    "    y = []\n",
    "    fss = list()\n",
    "    min_length = np.inf\n",
    "    signals = []\n",
    "    for folder_name in os.listdir(base_folder):\n",
    "        folder_path = os.path.join(base_folder, folder_name)\n",
    "        file_names = os.listdir(folder_path)\n",
    "        for file_name in file_names:\n",
    "            if file_name.endswith('.hea'):\n",
    "                record_name = file_name.split('.hea')[0]\n",
    "                record_path = os.path.join(folder_path, record_name)\n",
    "\n",
    "                # try:\n",
    "                if True:\n",
    "                    # Read the record\n",
    "                    record = wfdb.rdsamp(record_path)\n",
    "\n",
    "                    # Extract the signals\n",
    "                    signal, fs = record[0][:LENGTH,0], record[1]['fs']\n",
    "                    signals.append(signal)\n",
    "                    y.append(label)\n",
    "                # except Exception as e:\n",
    "                #     print(f\"Error processing {record_path}: {e}\")\n",
    "        label += 1\n",
    "    return np.array(signals), np.array(y)"
   ]
  },
  {
   "cell_type": "code",
   "execution_count": null,
   "metadata": {},
   "outputs": [
    {
     "name": "stdout",
     "output_type": "stream",
     "text": [
      "Shape of HRV signals array: (1036, 10000)\n",
      "(1036, 10000)\n"
     ]
    }
   ],
   "source": [
    "def reshape_to_batches(array, m):\n",
    "    \"\"\"\n",
    "    Transform an array of shape (n,) into a list of arrays of shape (m,).\n",
    "    \"\"\"\n",
    "    array = np.asarray(array)\n",
    "    n = array.shape[0]\n",
    "    num_batches = n // m\n",
    "    return [array[i * m:(i + 1) * m] for i in range(num_batches)]\n",
    "\n",
    "def calculate_hrv_signals(base_folder, batch_size=10_000):\n",
    "    hrv_batches = []\n",
    "    label = 0\n",
    "    y = []\n",
    "    for folder_name in os.listdir(base_folder):\n",
    "        folder_path = os.path.join(base_folder, folder_name)\n",
    "        file_names = os.listdir(folder_path)\n",
    "        for file_name in file_names:\n",
    "            if file_name.endswith('.atr'):\n",
    "                record_name = file_name.split('.atr')[0]\n",
    "                record_path = os.path.join(folder_path, record_name)\n",
    "\n",
    "                try:\n",
    "                    # Read annotations\n",
    "                    ann = wfdb.rdann(record_path, extension='atr')\n",
    "\n",
    "                    # Extract RR intervals (in seconds)\n",
    "                    rr_intervals = np.diff(ann.sample / ann.fs)[10:-10]\n",
    "                    # print(rr_intervals.shape)\n",
    "\n",
    "                    # Batch the RR intervals\n",
    "                    rr_batches = reshape_to_batches(rr_intervals, batch_size)\n",
    "\n",
    "                    # Calculate HRV features for each batch and store them\n",
    "                    for batch in rr_batches:\n",
    "                        # sdnn = np.std(batch)\n",
    "                        # rmssd = np.sqrt(np.mean(np.diff(batch)**2))\n",
    "                        # mean_rr = np.mean(batch)\n",
    "                        hrv_batches.append(batch)\n",
    "                        y.append(label)\n",
    "\n",
    "                except Exception as e:\n",
    "                    print(f\"Error processing {record_path}: {e}\")\n",
    "        label += 1\n",
    "    # Convert the list of HRV features to a numpy array\n",
    "    hrv_batches_array = np.array(hrv_batches)\n",
    "\n",
    "    return hrv_batches_array, np.array(y)\n",
    "\n",
    "# Example usage\n",
    "data_folder = 'data'\n",
    "hrv_signals_array,y = calculate_hrv_signals(data_folder, batch_size=10_000)\n",
    "\n",
    "# Print the shape of the concatenated HRV features array\n",
    "print(f\"Shape of HRV signals array: {hrv_signals_array.shape}\")\n",
    "\n",
    "# Print the first few HRV feature sets\n",
    "print(hrv_signals_array.shape)\n"
   ]
  },
  {
   "cell_type": "markdown",
   "metadata": {},
   "source": [
    "## Remove outliers"
   ]
  },
  {
   "cell_type": "code",
   "execution_count": null,
   "metadata": {},
   "outputs": [
    {
     "data": {
      "text/plain": [
       "<ErrorbarContainer object of 3 artists>"
      ]
     },
     "execution_count": 43,
     "metadata": {},
     "output_type": "execute_result"
    },
    {
     "data": {
      "image/png": "[encoded data removed]",
      "text/plain": [
       "<Figure size 640x480 with 1 Axes>"
      ]
     },
     "metadata": {},
     "output_type": "display_data"
    }
   ],
   "source": [
    "plt.errorbar(np.arange(hrv_signals_array.shape[0]),hrv_signals_array.mean(axis=-1),hrv_signals_array.std(axis=-1))"
   ]
  },
  {
   "cell_type": "code",
   "execution_count": null,
   "metadata": {},
   "outputs": [
    {
     "data": {
      "text/plain": [
       "(array([179, 181, 842], dtype=int64),)"
      ]
     },
     "execution_count": 44,
     "metadata": {},
     "output_type": "execute_result"
    }
   ],
   "source": [
    "outliers = np.where(hrv_signals_array.std(axis=-1) > 0.5)\n",
    "outliers"
   ]
  },
  {
   "cell_type": "code",
   "execution_count": null,
   "metadata": {},
   "outputs": [],
   "source": [
    "hrvs = np.delete(hrv_signals_array,outliers,axis= 0)\n",
    "y = np.delete(y,outliers,axis= 0)"
   ]
  },
  {
   "cell_type": "code",
   "execution_count": null,
   "metadata": {},
   "outputs": [
    {
     "data": {
      "text/plain": [
       "<ErrorbarContainer object of 3 artists>"
      ]
     },
     "execution_count": 46,
     "metadata": {},
     "output_type": "execute_result"
    },
    {
     "data": {
      "image/png": "[encoded data removed]",
      "text/plain": [
       "<Figure size 640x480 with 1 Axes>"
      ]
     },
     "metadata": {},
     "output_type": "display_data"
    }
   ],
   "source": [
    "plt.errorbar(np.arange(hrvs.shape[0]),hrvs.mean(axis=-1),hrvs.std(axis=-1))"
   ]
  },
  {
   "cell_type": "markdown",
   "metadata": {},
   "source": [
    "## Balance classes"
   ]
  },
  {
   "cell_type": "code",
   "execution_count": null,
   "metadata": {},
   "outputs": [
    {
     "data": {
      "text/plain": [
       "173"
      ]
     },
     "execution_count": 47,
     "metadata": {},
     "output_type": "execute_result"
    }
   ],
   "source": [
    "examples_per_class = int(min(y.sum(),y.shape[0]-y.sum()))\n",
    "examples_per_class "
   ]
  },
  {
   "cell_type": "code",
   "execution_count": null,
   "metadata": {},
   "outputs": [],
   "source": [
    "data = np.concatenate([hrvs,np.expand_dims(y,-1)],axis=-1)"
   ]
  },
  {
   "cell_type": "code",
   "execution_count": null,
   "metadata": {},
   "outputs": [
    {
     "data": {
      "text/plain": [
       "(1033, 10001)"
      ]
     },
     "execution_count": 49,
     "metadata": {},
     "output_type": "execute_result"
    }
   ],
   "source": [
    "data.shape"
   ]
  },
  {
   "cell_type": "code",
   "execution_count": null,
   "metadata": {},
   "outputs": [
    {
     "data": {
      "text/plain": [
       "(860, 10001)"
      ]
     },
     "execution_count": 50,
     "metadata": {},
     "output_type": "execute_result"
    }
   ],
   "source": [
    "data0 = data[np.where(1 - y),:].squeeze()\n",
    "data1 = data[np.where(y),:].squeeze()\n",
    "data0.shape"
   ]
  },
  {
   "cell_type": "code",
   "execution_count": null,
   "metadata": {},
   "outputs": [],
   "source": [
    "reduced_data0 = data0[np.random.permutation(data0.shape[0]),:][:examples_per_class,:]\n",
    "reduced_data1 = data1[np.random.permutation(data1.shape[0]),:][:examples_per_class,:]"
   ]
  },
  {
   "cell_type": "code",
   "execution_count": null,
   "metadata": {},
   "outputs": [
    {
     "data": {
      "text/plain": [
       "(173, 10001)"
      ]
     },
     "execution_count": 52,
     "metadata": {},
     "output_type": "execute_result"
    }
   ],
   "source": [
    "reduced_data0.shape"
   ]
  },
  {
   "cell_type": "code",
   "execution_count": null,
   "metadata": {},
   "outputs": [],
   "source": [
    "balanced_data = np.concatenate([reduced_data0,reduced_data1],axis=0)"
   ]
  },
  {
   "cell_type": "code",
   "execution_count": null,
   "metadata": {},
   "outputs": [
    {
     "name": "stdout",
     "output_type": "stream",
     "text": [
      "(346, 10001)\n"
     ]
    }
   ],
   "source": [
    "print(balanced_data.shape)"
   ]
  },
  {
   "cell_type": "code",
   "execution_count": null,
   "metadata": {},
   "outputs": [],
   "source": [
    "np.save('hrv_data_good', balanced_data)"
   ]
  },
  {
   "cell_type": "code",
   "execution_count": null,
   "metadata": {},
   "outputs": [],
   "source": [
    "# n0, n1 = hrvs.shape"
   ]
  },
  {
   "cell_type": "code",
   "execution_count": null,
   "metadata": {},
   "outputs": [
    {
     "data": {
      "image/png": "[encoded data removed]",
      "text/plain": [
       "<Figure size 640x480 with 1 Axes>"
      ]
     },
     "metadata": {},
     "output_type": "display_data"
    }
   ],
   "source": [
    "plt.plot(hrvs[np.random.permutation(100),:][:1,:].T);"
   ]
  },
  {
   "cell_type": "code",
   "execution_count": null,
   "metadata": {},
   "outputs": [],
   "source": [
    "# plt.plot(hrv_signals_array[842][10:])"
   ]
  },
  {
   "cell_type": "markdown",
   "metadata": {},
   "source": [
    "## Prep ECG"
   ]
  },
  {
   "cell_type": "code",
   "execution_count": null,
   "metadata": {},
   "outputs": [
    {
     "name": "stdout",
     "output_type": "stream",
     "text": [
      "There are 84 records in the folder long-term-af.\n",
      "There are 18 records in the folder mit-bih-normal-sinus-rhythm-database-1.0.0.\n",
      "Total number of unique records: 102\n"
     ]
    }
   ],
   "source": [
    "def count_unique_records(base_folder):\n",
    "    unique_records = set()\n",
    "\n",
    "    for folder_name in os.listdir(base_folder):\n",
    "        folder_path = os.path.join(base_folder, folder_name)\n",
    "        record_per_file = 0\n",
    "        if os.path.isdir(folder_path):\n",
    "            for file_name in os.listdir(folder_path):\n",
    "                if file_name.endswith('.hea'):\n",
    "                    record_name = file_name.split('.hea')[0]\n",
    "                    unique_records.add(record_name)\n",
    "                    record_per_file+=1\n",
    "\n",
    "        print(f'There are {record_per_file} records in the folder {folder_name}.')\n",
    "    return len(unique_records)\n",
    "\n",
    "# Path to your data folder\n",
    "data_folder = 'data'\n",
    "\n",
    "# Count the unique records\n",
    "num_records = count_unique_records(data_folder)\n",
    "print(f'Total number of unique records: {num_records}')\n"
   ]
  },
  {
   "cell_type": "code",
   "execution_count": null,
   "metadata": {},
   "outputs": [
    {
     "name": "stdout",
     "output_type": "stream",
     "text": [
      "Error processing data\\long-term-af\\00: \n",
      "Error processing data\\long-term-af\\01: \n",
      "Error processing data\\long-term-af\\03: \n",
      "Error processing data\\long-term-af\\05: \n",
      "Error processing data\\long-term-af\\06: \n",
      "Error processing data\\long-term-af\\07: \n",
      "Error processing data\\long-term-af\\08: \n",
      "Error processing data\\long-term-af\\10: \n",
      "Error processing data\\long-term-af\\100: \n",
      "Error processing data\\long-term-af\\101: \n",
      "Error processing data\\long-term-af\\102: \n",
      "Error processing data\\long-term-af\\103: \n",
      "Error processing data\\long-term-af\\104: \n",
      "Error processing data\\long-term-af\\105: \n",
      "Error processing data\\long-term-af\\11: \n",
      "Error processing data\\long-term-af\\110: \n",
      "Error processing data\\long-term-af\\111: \n",
      "Error processing data\\long-term-af\\112: \n",
      "Error processing data\\long-term-af\\113: \n",
      "Error processing data\\long-term-af\\114: \n",
      "Error processing data\\long-term-af\\115: \n",
      "Error processing data\\long-term-af\\116: \n",
      "Error processing data\\long-term-af\\117: \n",
      "Error processing data\\long-term-af\\118: \n",
      "Error processing data\\long-term-af\\119: \n",
      "Error processing data\\long-term-af\\12: \n",
      "Error processing data\\long-term-af\\120: \n",
      "Error processing data\\long-term-af\\121: \n",
      "Error processing data\\long-term-af\\122: \n",
      "Error processing data\\long-term-af\\13: \n",
      "Error processing data\\long-term-af\\15: \n",
      "Error processing data\\long-term-af\\16: \n",
      "Error processing data\\long-term-af\\17: \n",
      "Error processing data\\long-term-af\\18: \n",
      "Error processing data\\long-term-af\\19: \n",
      "Error processing data\\long-term-af\\20: \n",
      "Error processing data\\long-term-af\\200: \n",
      "Error processing data\\long-term-af\\201: \n",
      "Error processing data\\long-term-af\\202: \n",
      "Error processing data\\long-term-af\\203: \n",
      "Error processing data\\long-term-af\\204: \n",
      "Error processing data\\long-term-af\\205: \n",
      "Error processing data\\long-term-af\\206: \n",
      "Error processing data\\long-term-af\\207: \n",
      "Error processing data\\long-term-af\\208: \n",
      "Error processing data\\long-term-af\\21: \n",
      "Error processing data\\long-term-af\\22: \n",
      "Error processing data\\long-term-af\\23: \n",
      "Error processing data\\long-term-af\\24: \n",
      "Error processing data\\long-term-af\\25: \n",
      "Error processing data\\long-term-af\\26: \n",
      "Error processing data\\long-term-af\\28: \n",
      "Error processing data\\long-term-af\\30: \n",
      "Error processing data\\long-term-af\\32: \n",
      "Error processing data\\long-term-af\\33: \n",
      "Error processing data\\long-term-af\\34: \n",
      "Error processing data\\long-term-af\\35: \n",
      "Error processing data\\long-term-af\\37: \n",
      "Error processing data\\long-term-af\\38: \n",
      "Error processing data\\long-term-af\\39: \n",
      "Error processing data\\long-term-af\\42: \n",
      "Error processing data\\long-term-af\\43: \n",
      "Error processing data\\long-term-af\\44: \n",
      "Error processing data\\long-term-af\\45: \n",
      "Error processing data\\long-term-af\\47: \n",
      "Error processing data\\long-term-af\\48: \n",
      "Error processing data\\long-term-af\\49: \n",
      "Error processing data\\long-term-af\\51: \n",
      "Error processing data\\long-term-af\\53: \n",
      "Error processing data\\long-term-af\\54: \n",
      "Error processing data\\long-term-af\\55: \n",
      "Error processing data\\long-term-af\\56: \n",
      "Error processing data\\long-term-af\\58: \n",
      "Error processing data\\long-term-af\\60: \n",
      "Error processing data\\long-term-af\\62: \n",
      "Error processing data\\long-term-af\\64: \n",
      "Error processing data\\long-term-af\\65: \n",
      "Error processing data\\long-term-af\\68: \n",
      "Error processing data\\long-term-af\\69: \n",
      "Error processing data\\long-term-af\\70: \n",
      "Error processing data\\long-term-af\\71: \n",
      "Error processing data\\long-term-af\\72: \n",
      "Error processing data\\long-term-af\\74: \n",
      "Error processing data\\long-term-af\\75: \n",
      "Error processing data\\mit-bih-normal-sinus-rhythm-database-1.0.0\\16265: \n",
      "Error processing data\\mit-bih-normal-sinus-rhythm-database-1.0.0\\16272: \n",
      "Error processing data\\mit-bih-normal-sinus-rhythm-database-1.0.0\\16273: \n",
      "Error processing data\\mit-bih-normal-sinus-rhythm-database-1.0.0\\16420: \n",
      "Error processing data\\mit-bih-normal-sinus-rhythm-database-1.0.0\\16483: \n",
      "Error processing data\\mit-bih-normal-sinus-rhythm-database-1.0.0\\16539: \n",
      "Error processing data\\mit-bih-normal-sinus-rhythm-database-1.0.0\\16773: \n",
      "Error processing data\\mit-bih-normal-sinus-rhythm-database-1.0.0\\16786: \n",
      "Error processing data\\mit-bih-normal-sinus-rhythm-database-1.0.0\\16795: \n",
      "Error processing data\\mit-bih-normal-sinus-rhythm-database-1.0.0\\17052: \n",
      "Error processing data\\mit-bih-normal-sinus-rhythm-database-1.0.0\\17453: \n",
      "Error processing data\\mit-bih-normal-sinus-rhythm-database-1.0.0\\18177: \n",
      "Error processing data\\mit-bih-normal-sinus-rhythm-database-1.0.0\\18184: \n",
      "Error processing data\\mit-bih-normal-sinus-rhythm-database-1.0.0\\19088: \n",
      "Error processing data\\mit-bih-normal-sinus-rhythm-database-1.0.0\\19090: \n",
      "Error processing data\\mit-bih-normal-sinus-rhythm-database-1.0.0\\19093: \n",
      "Error processing data\\mit-bih-normal-sinus-rhythm-database-1.0.0\\19140: \n",
      "Error processing data\\mit-bih-normal-sinus-rhythm-database-1.0.0\\19830: \n",
      "(10000,)\n",
      "(10000,)\n",
      "(10000,)\n",
      "(10000,)\n",
      "(10000,)\n",
      "(10000,)\n",
      "(10000,)\n",
      "(10000,)\n",
      "(10000,)\n",
      "(10000,)\n",
      "(10000,)\n",
      "(10000,)\n",
      "(10000,)\n",
      "(10000,)\n",
      "(10000,)\n",
      "(10000,)\n",
      "(10000,)\n",
      "(10000,)\n",
      "(10000,)\n",
      "(10000,)\n",
      "(10000,)\n",
      "(10000,)\n",
      "(10000,)\n",
      "(10000,)\n",
      "(10000,)\n",
      "(10000,)\n",
      "(10000,)\n",
      "(10000,)\n",
      "(10000,)\n",
      "(10000,)\n",
      "(10000,)\n",
      "(10000,)\n",
      "(10000,)\n",
      "(10000,)\n",
      "(10000,)\n",
      "(10000,)\n",
      "(10000,)\n",
      "(10000,)\n",
      "(10000,)\n",
      "(10000,)\n",
      "(10000,)\n",
      "(10000,)\n",
      "(10000,)\n",
      "(10000,)\n",
      "(10000,)\n",
      "(10000,)\n",
      "(10000,)\n",
      "(10000,)\n",
      "(10000,)\n",
      "(10000,)\n",
      "(10000,)\n",
      "(10000,)\n",
      "(10000,)\n",
      "(10000,)\n",
      "(10000,)\n",
      "(10000,)\n",
      "(10000,)\n",
      "(10000,)\n",
      "(10000,)\n",
      "(10000,)\n",
      "(10000,)\n",
      "(10000,)\n",
      "(10000,)\n",
      "(10000,)\n",
      "(10000,)\n",
      "(10000,)\n",
      "(10000,)\n",
      "(10000,)\n",
      "(10000,)\n",
      "(10000,)\n",
      "(10000,)\n",
      "(10000,)\n",
      "(10000,)\n",
      "(10000,)\n",
      "(10000,)\n",
      "(10000,)\n",
      "(10000,)\n",
      "(10000,)\n",
      "(10000,)\n",
      "(10000,)\n",
      "(10000,)\n",
      "(10000,)\n",
      "(10000,)\n",
      "(10000,)\n",
      "(10000,)\n",
      "(10000,)\n",
      "(10000,)\n",
      "(10000,)\n",
      "(10000,)\n",
      "(10000,)\n",
      "(10000,)\n",
      "(10000,)\n",
      "(10000,)\n",
      "(10000,)\n",
      "(10000,)\n",
      "(10000,)\n",
      "(10000,)\n",
      "(10000,)\n",
      "(10000,)\n",
      "(10000,)\n",
      "(10000,)\n",
      "(10000,)\n",
      "(10000,)\n",
      "(10000,)\n",
      "(10000,)\n",
      "(10000,)\n",
      "(10000,)\n",
      "(10000,)\n",
      "(10000,)\n",
      "(10000,)\n",
      "(10000,)\n",
      "(10000,)\n",
      "(10000,)\n",
      "(10000,)\n",
      "(10000,)\n",
      "(10000,)\n",
      "(10000,)\n",
      "(10000,)\n",
      "(10000,)\n",
      "(10000,)\n",
      "(10000,)\n",
      "(10000,)\n",
      "(10000,)\n",
      "(10000,)\n",
      "(10000,)\n",
      "(10000,)\n",
      "(10000,)\n",
      "(10000,)\n",
      "(10000,)\n",
      "(10000,)\n",
      "(10000,)\n",
      "(10000,)\n",
      "(10000,)\n",
      "(10000,)\n",
      "(10000,)\n",
      "(10000,)\n",
      "(10000,)\n",
      "(10000,)\n",
      "(10000,)\n",
      "(10000,)\n",
      "(10000,)\n",
      "(10000,)\n",
      "(10000,)\n",
      "(10000,)\n",
      "(10000,)\n",
      "(10000,)\n",
      "(10000,)\n",
      "(10000,)\n",
      "(10000,)\n",
      "(10000,)\n",
      "(10000,)\n",
      "(10000,)\n",
      "(10000,)\n",
      "(10000,)\n",
      "(10000,)\n",
      "(10000,)\n",
      "(10000,)\n",
      "(10000,)\n",
      "(10000,)\n",
      "(10000,)\n",
      "(10000,)\n",
      "(10000,)\n",
      "(10000,)\n",
      "(10000,)\n",
      "(10000,)\n",
      "(10000,)\n",
      "(10000,)\n",
      "(10000,)\n",
      "(10000,)\n",
      "(10000,)\n",
      "(10000,)\n",
      "(10000,)\n",
      "(10000,)\n",
      "(10000,)\n",
      "(10000,)\n",
      "(10000,)\n",
      "(10000,)\n",
      "(10000,)\n",
      "(10000,)\n",
      "(10000,)\n",
      "(10000,)\n",
      "(10000,)\n",
      "(10000,)\n",
      "(10000,)\n",
      "(10000,)\n",
      "(10000,)\n",
      "(10000,)\n",
      "(10000,)\n",
      "(10000,)\n",
      "(10000,)\n",
      "(10000,)\n",
      "(10000,)\n",
      "(10000,)\n",
      "(10000,)\n",
      "(10000,)\n",
      "(10000,)\n",
      "(10000,)\n",
      "(10000,)\n",
      "(10000,)\n",
      "(10000,)\n",
      "(10000,)\n",
      "(10000,)\n",
      "(10000,)\n",
      "(10000,)\n",
      "(10000,)\n",
      "(10000,)\n",
      "(10000,)\n",
      "(10000,)\n",
      "(10000,)\n",
      "(10000,)\n",
      "(10000,)\n",
      "(10000,)\n",
      "(10000,)\n",
      "(10000,)\n",
      "(10000,)\n",
      "(10000,)\n",
      "(10000,)\n",
      "(10000,)\n",
      "(10000,)\n",
      "(10000,)\n",
      "(10000,)\n",
      "(10000,)\n",
      "(10000,)\n",
      "(10000,)\n",
      "(10000,)\n",
      "(10000,)\n",
      "(10000,)\n",
      "(10000,)\n",
      "(10000,)\n",
      "(10000,)\n",
      "(10000,)\n",
      "(10000,)\n",
      "(10000,)\n",
      "(10000,)\n",
      "(10000,)\n",
      "(10000,)\n",
      "(10000,)\n",
      "(10000,)\n",
      "(10000,)\n",
      "(10000,)\n",
      "(10000,)\n",
      "(10000,)\n",
      "(10000,)\n",
      "(10000,)\n",
      "(10000,)\n",
      "(10000,)\n",
      "(10000,)\n",
      "(10000,)\n",
      "(10000,)\n",
      "(10000,)\n",
      "(10000,)\n",
      "(10000,)\n",
      "(10000,)\n",
      "(10000,)\n",
      "(10000,)\n",
      "(10000,)\n",
      "(10000,)\n",
      "(10000,)\n",
      "(10000,)\n",
      "(10000,)\n",
      "(10000,)\n",
      "(10000,)\n",
      "(10000,)\n",
      "(10000,)\n",
      "(10000,)\n",
      "(10000,)\n",
      "(10000,)\n",
      "(10000,)\n",
      "(10000,)\n",
      "(10000,)\n",
      "(10000,)\n",
      "(10000,)\n",
      "(10000,)\n",
      "(10000,)\n",
      "(10000,)\n",
      "(10000,)\n",
      "(10000,)\n",
      "(10000,)\n",
      "(10000,)\n",
      "(10000,)\n",
      "(10000,)\n",
      "(10000,)\n",
      "(10000,)\n",
      "(10000,)\n",
      "(10000,)\n",
      "(10000,)\n",
      "(10000,)\n",
      "(10000,)\n",
      "(10000,)\n",
      "(10000,)\n",
      "(10000,)\n",
      "(10000,)\n",
      "(10000,)\n",
      "(10000,)\n",
      "(10000,)\n",
      "(10000,)\n",
      "(10000,)\n",
      "(10000,)\n",
      "(10000,)\n",
      "(10000,)\n",
      "(10000,)\n",
      "(10000,)\n",
      "(10000,)\n",
      "(10000,)\n",
      "(10000,)\n",
      "(10000,)\n",
      "(10000,)\n",
      "(10000,)\n",
      "(10000,)\n",
      "(10000,)\n",
      "(10000,)\n",
      "(10000,)\n",
      "(10000,)\n",
      "(10000,)\n",
      "(10000,)\n",
      "(10000,)\n",
      "(10000,)\n",
      "(10000,)\n",
      "(10000,)\n",
      "(10000,)\n",
      "(10000,)\n",
      "(10000,)\n",
      "(10000,)\n",
      "(10000,)\n",
      "(10000,)\n",
      "(10000,)\n",
      "(10000,)\n",
      "(10000,)\n",
      "(10000,)\n",
      "(10000,)\n",
      "(10000,)\n",
      "(10000,)\n",
      "(10000,)\n",
      "(10000,)\n",
      "(10000,)\n",
      "(10000,)\n",
      "(10000,)\n",
      "(10000,)\n",
      "(10000,)\n",
      "(10000,)\n",
      "(10000,)\n",
      "(10000,)\n",
      "(10000,)\n",
      "(10000,)\n",
      "(10000,)\n",
      "(10000,)\n",
      "(10000,)\n",
      "(10000,)\n",
      "(10000,)\n",
      "(10000,)\n",
      "(10000,)\n",
      "(10000,)\n",
      "(10000,)\n",
      "(10000,)\n",
      "(10000,)\n",
      "(10000,)\n",
      "(10000,)\n",
      "(10000,)\n",
      "(10000,)\n",
      "(10000,)\n",
      "(10000,)\n",
      "(10000,)\n",
      "(10000,)\n",
      "(10000,)\n",
      "(10000,)\n",
      "(10000,)\n",
      "(10000,)\n",
      "(10000,)\n",
      "(10000,)\n",
      "(10000,)\n",
      "(10000,)\n",
      "(10000,)\n",
      "(10000,)\n",
      "(10000,)\n",
      "(10000,)\n",
      "(10000,)\n",
      "(10000,)\n",
      "(10000,)\n",
      "(10000,)\n",
      "(10000,)\n",
      "(10000,)\n",
      "(10000,)\n",
      "(10000,)\n",
      "(10000,)\n",
      "(10000,)\n",
      "(10000,)\n",
      "(10000,)\n",
      "(10000,)\n",
      "(10000,)\n",
      "(10000,)\n",
      "(10000,)\n",
      "(10000,)\n",
      "(10000,)\n",
      "(10000,)\n",
      "(10000,)\n",
      "(10000,)\n",
      "(10000,)\n",
      "(10000,)\n",
      "(10000,)\n",
      "(10000,)\n",
      "(10000,)\n",
      "(10000,)\n",
      "(10000,)\n",
      "(10000,)\n",
      "(10000,)\n",
      "(10000,)\n",
      "(10000,)\n",
      "(10000,)\n",
      "(10000,)\n",
      "(10000,)\n",
      "(10000,)\n",
      "(10000,)\n",
      "(10000,)\n",
      "(10000,)\n",
      "(10000,)\n",
      "(10000,)\n",
      "(10000,)\n",
      "(10000,)\n",
      "(10000,)\n",
      "(10000,)\n",
      "(10000,)\n",
      "(10000,)\n",
      "(10000,)\n",
      "(10000,)\n",
      "(10000,)\n",
      "(10000,)\n",
      "(10000,)\n",
      "(10000,)\n",
      "(10000,)\n",
      "(10000,)\n",
      "(10000,)\n",
      "(10000,)\n",
      "(10000,)\n",
      "(10000,)\n",
      "(10000,)\n",
      "(10000,)\n",
      "(10000,)\n",
      "(10000,)\n",
      "(10000,)\n",
      "(10000,)\n",
      "(10000,)\n",
      "(10000,)\n",
      "(10000,)\n",
      "(10000,)\n",
      "(10000,)\n",
      "(10000,)\n",
      "(10000,)\n",
      "(10000,)\n",
      "(10000,)\n",
      "(10000,)\n",
      "(10000,)\n",
      "(10000,)\n",
      "(10000,)\n",
      "(10000,)\n",
      "(10000,)\n",
      "(10000,)\n",
      "(10000,)\n",
      "(10000,)\n",
      "(10000,)\n",
      "(10000,)\n",
      "(10000,)\n",
      "(10000,)\n",
      "(10000,)\n",
      "(10000,)\n",
      "(10000,)\n",
      "(10000,)\n",
      "(10000,)\n",
      "(10000,)\n",
      "(10000,)\n",
      "(10000,)\n",
      "(10000,)\n",
      "(10000,)\n",
      "(10000,)\n",
      "(10000,)\n",
      "(10000,)\n",
      "(10000,)\n",
      "(10000,)\n",
      "(10000,)\n",
      "(10000,)\n",
      "(10000,)\n",
      "(10000,)\n",
      "(10000,)\n",
      "(10000,)\n",
      "(10000,)\n",
      "(10000,)\n",
      "(10000,)\n",
      "(10000,)\n",
      "(10000,)\n",
      "(10000,)\n",
      "(10000,)\n",
      "(10000,)\n",
      "(10000,)\n",
      "(10000,)\n",
      "(10000,)\n",
      "(10000,)\n",
      "(10000,)\n",
      "(10000,)\n",
      "(10000,)\n",
      "(10000,)\n",
      "(10000,)\n",
      "(10000,)\n",
      "(10000,)\n",
      "(10000,)\n",
      "(10000,)\n",
      "(10000,)\n",
      "(10000,)\n",
      "(10000,)\n",
      "(10000,)\n",
      "(10000,)\n",
      "(10000,)\n",
      "(10000,)\n",
      "(10000,)\n",
      "(10000,)\n",
      "(10000,)\n",
      "(10000,)\n",
      "(10000,)\n",
      "(10000,)\n",
      "(10000,)\n",
      "(10000,)\n",
      "(10000,)\n",
      "(10000,)\n",
      "(10000,)\n",
      "(10000,)\n",
      "(10000,)\n",
      "(10000,)\n",
      "(10000,)\n",
      "(10000,)\n",
      "(10000,)\n",
      "(10000,)\n",
      "(10000,)\n",
      "(10000,)\n",
      "(10000,)\n",
      "(10000,)\n",
      "(10000,)\n",
      "(10000,)\n",
      "(10000,)\n",
      "(10000,)\n",
      "(10000,)\n",
      "(10000,)\n",
      "(10000,)\n",
      "(10000,)\n",
      "(10000,)\n",
      "(10000,)\n",
      "(10000,)\n",
      "(10000,)\n",
      "(10000,)\n",
      "(10000,)\n",
      "(10000,)\n",
      "(10000,)\n",
      "(10000,)\n",
      "(10000,)\n",
      "(10000,)\n",
      "(10000,)\n",
      "(10000,)\n",
      "(10000,)\n",
      "(10000,)\n",
      "(10000,)\n",
      "(10000,)\n",
      "(10000,)\n",
      "(10000,)\n",
      "(10000,)\n",
      "(10000,)\n",
      "(10000,)\n",
      "(10000,)\n",
      "(10000,)\n",
      "(10000,)\n",
      "(10000,)\n",
      "(10000,)\n",
      "(10000,)\n",
      "(10000,)\n",
      "(10000,)\n",
      "(10000,)\n",
      "(10000,)\n",
      "(10000,)\n",
      "(10000,)\n",
      "(10000,)\n",
      "(10000,)\n",
      "(10000,)\n",
      "(10000,)\n",
      "(10000,)\n",
      "(10000,)\n",
      "(10000,)\n",
      "(10000,)\n",
      "(10000,)\n",
      "(10000,)\n",
      "(10000,)\n",
      "(10000,)\n",
      "(10000,)\n",
      "(10000,)\n",
      "(10000,)\n",
      "(10000,)\n",
      "(10000,)\n",
      "(10000,)\n",
      "(10000,)\n",
      "(10000,)\n",
      "(10000,)\n",
      "(10000,)\n",
      "(10000,)\n",
      "(10000,)\n",
      "(10000,)\n",
      "(10000,)\n",
      "(10000,)\n",
      "(10000,)\n",
      "(10000,)\n",
      "(10000,)\n",
      "(10000,)\n",
      "(10000,)\n",
      "(10000,)\n",
      "(10000,)\n",
      "(10000,)\n",
      "(10000,)\n",
      "(10000,)\n",
      "(10000,)\n",
      "(10000,)\n",
      "(10000,)\n",
      "(10000,)\n",
      "(10000,)\n",
      "(10000,)\n",
      "(10000,)\n",
      "(10000,)\n",
      "(10000,)\n",
      "(10000,)\n",
      "(10000,)\n",
      "(10000,)\n",
      "(10000,)\n",
      "(10000,)\n",
      "(10000,)\n",
      "(10000,)\n",
      "(10000,)\n",
      "(10000,)\n",
      "(10000,)\n",
      "(10000,)\n",
      "(10000,)\n",
      "(10000,)\n",
      "(10000,)\n",
      "(10000,)\n",
      "(10000,)\n",
      "(10000,)\n",
      "(10000,)\n",
      "(10000,)\n",
      "(10000,)\n",
      "(10000,)\n",
      "(10000,)\n",
      "(10000,)\n",
      "(10000,)\n",
      "(10000,)\n",
      "(10000,)\n",
      "(10000,)\n",
      "(10000,)\n",
      "(10000,)\n",
      "(10000,)\n",
      "(10000,)\n",
      "(10000,)\n",
      "(10000,)\n",
      "(10000,)\n",
      "(10000,)\n",
      "(10000,)\n",
      "(10000,)\n",
      "(10000,)\n",
      "(10000,)\n",
      "(10000,)\n",
      "(10000,)\n",
      "(10000,)\n",
      "(10000,)\n",
      "(10000,)\n",
      "(10000,)\n",
      "(10000,)\n",
      "(10000,)\n",
      "(10000,)\n",
      "(10000,)\n",
      "(10000,)\n",
      "(10000,)\n",
      "(10000,)\n",
      "(10000,)\n",
      "(10000,)\n",
      "(10000,)\n",
      "(10000,)\n",
      "(10000,)\n",
      "(10000,)\n",
      "(10000,)\n",
      "(10000,)\n",
      "(10000,)\n",
      "(10000,)\n",
      "(10000,)\n",
      "(10000,)\n",
      "(10000,)\n",
      "(10000,)\n",
      "(10000,)\n",
      "(10000,)\n",
      "(10000,)\n",
      "(10000,)\n",
      "(10000,)\n",
      "(10000,)\n",
      "(10000,)\n",
      "(10000,)\n",
      "(10000,)\n",
      "(10000,)\n",
      "(10000,)\n",
      "(10000,)\n",
      "(10000,)\n",
      "(10000,)\n",
      "(10000,)\n",
      "(10000,)\n",
      "(10000,)\n",
      "(10000,)\n",
      "(10000,)\n",
      "(10000,)\n",
      "(10000,)\n",
      "(10000,)\n",
      "(10000,)\n",
      "(10000,)\n",
      "(10000,)\n",
      "(10000,)\n",
      "(10000,)\n",
      "(10000,)\n",
      "(10000,)\n",
      "(10000,)\n",
      "(10000,)\n",
      "(10000,)\n",
      "(10000,)\n",
      "(10000,)\n",
      "(10000,)\n",
      "(10000,)\n",
      "(10000,)\n",
      "(10000,)\n",
      "(10000,)\n",
      "(10000,)\n",
      "(10000,)\n",
      "(10000,)\n",
      "(10000,)\n",
      "(10000,)\n",
      "(10000,)\n",
      "(10000,)\n",
      "(10000,)\n",
      "(10000,)\n",
      "(10000,)\n",
      "(10000,)\n",
      "(10000,)\n",
      "(10000,)\n",
      "(10000,)\n",
      "(10000,)\n",
      "(10000,)\n",
      "(10000,)\n",
      "(10000,)\n",
      "(10000,)\n",
      "(10000,)\n",
      "(10000,)\n",
      "(10000,)\n",
      "(10000,)\n",
      "(10000,)\n",
      "(10000,)\n",
      "(10000,)\n",
      "(10000,)\n",
      "(10000,)\n",
      "(10000,)\n",
      "(10000,)\n",
      "(10000,)\n",
      "(10000,)\n",
      "(10000,)\n",
      "(10000,)\n",
      "(10000,)\n",
      "(10000,)\n",
      "(10000,)\n",
      "(10000,)\n",
      "(10000,)\n",
      "(10000,)\n",
      "(10000,)\n",
      "(10000,)\n",
      "(10000,)\n",
      "(10000,)\n",
      "(10000,)\n",
      "(10000,)\n",
      "(10000,)\n",
      "(10000,)\n",
      "(10000,)\n",
      "(10000,)\n",
      "(10000,)\n",
      "(10000,)\n",
      "(10000,)\n",
      "(10000,)\n",
      "(10000,)\n",
      "(10000,)\n",
      "(10000,)\n",
      "(10000,)\n",
      "(10000,)\n",
      "(10000,)\n",
      "(10000,)\n",
      "(10000,)\n",
      "(10000,)\n",
      "(10000,)\n",
      "(10000,)\n",
      "(10000,)\n",
      "(10000,)\n",
      "(10000,)\n",
      "(10000,)\n",
      "(10000,)\n",
      "(10000,)\n",
      "(10000,)\n",
      "(10000,)\n",
      "(10000,)\n",
      "(10000,)\n",
      "(10000,)\n",
      "(10000,)\n",
      "(10000,)\n",
      "(10000,)\n",
      "(10000,)\n",
      "(10000,)\n",
      "(10000,)\n",
      "(10000,)\n",
      "(10000,)\n",
      "(10000,)\n",
      "(10000,)\n",
      "(10000,)\n",
      "(10000,)\n",
      "(10000,)\n",
      "(10000,)\n",
      "(10000,)\n",
      "(10000,)\n",
      "(10000,)\n",
      "(10000,)\n",
      "(10000,)\n",
      "(10000,)\n",
      "(10000,)\n",
      "(10000,)\n",
      "(10000,)\n",
      "(10000,)\n",
      "(10000,)\n",
      "(10000,)\n",
      "(10000,)\n",
      "(10000,)\n",
      "(10000,)\n",
      "(10000,)\n",
      "(10000,)\n",
      "(10000,)\n",
      "(10000,)\n",
      "(10000,)\n",
      "(10000,)\n",
      "(10000,)\n",
      "(10000,)\n",
      "(10000,)\n",
      "(10000,)\n",
      "(10000,)\n",
      "(10000,)\n",
      "(10000,)\n",
      "(10000,)\n",
      "(10000,)\n",
      "(10000,)\n",
      "(10000,)\n",
      "(10000,)\n",
      "(10000,)\n",
      "(10000,)\n",
      "(10000,)\n",
      "(10000,)\n",
      "(10000,)\n",
      "(10000,)\n",
      "(10000,)\n",
      "(10000,)\n",
      "(10000,)\n",
      "(10000,)\n",
      "(10000,)\n",
      "(10000,)\n",
      "(10000,)\n",
      "(10000,)\n",
      "(10000,)\n",
      "(10000,)\n",
      "(10000,)\n",
      "(10000,)\n",
      "(10000,)\n",
      "(10000,)\n",
      "(10000,)\n",
      "(10000,)\n",
      "(10000,)\n",
      "(10000,)\n",
      "(10000,)\n",
      "(10000,)\n",
      "(10000,)\n",
      "(10000,)\n",
      "(10000,)\n",
      "(10000,)\n",
      "(10000,)\n",
      "(10000,)\n",
      "(10000,)\n",
      "(10000,)\n",
      "(10000,)\n",
      "(10000,)\n",
      "(10000,)\n",
      "(10000,)\n",
      "(10000,)\n",
      "(10000,)\n",
      "(10000,)\n",
      "(10000,)\n",
      "(10000,)\n",
      "(10000,)\n",
      "(10000,)\n",
      "(10000,)\n",
      "(10000,)\n",
      "(10000,)\n",
      "(10000,)\n",
      "(10000,)\n",
      "(10000,)\n",
      "(10000,)\n",
      "(10000,)\n",
      "(10000,)\n",
      "(10000,)\n",
      "(10000,)\n",
      "(10000,)\n",
      "(10000,)\n",
      "(10000,)\n",
      "(10000,)\n",
      "(10000,)\n",
      "(10000,)\n",
      "(10000,)\n",
      "(10000,)\n",
      "(10000,)\n",
      "(10000,)\n",
      "(10000,)\n",
      "(10000,)\n",
      "(10000,)\n",
      "(10000,)\n",
      "(10000,)\n",
      "(10000,)\n",
      "(10000,)\n",
      "(10000,)\n",
      "(10000,)\n",
      "(10000,)\n",
      "(10000,)\n",
      "(10000,)\n",
      "(10000,)\n",
      "(10000,)\n",
      "(10000,)\n",
      "(10000,)\n",
      "(10000,)\n",
      "(10000,)\n",
      "(10000,)\n",
      "(10000,)\n",
      "(10000,)\n",
      "(10000,)\n",
      "(10000,)\n",
      "(10000,)\n",
      "(10000,)\n",
      "(10000,)\n",
      "(10000,)\n",
      "(10000,)\n",
      "(10000,)\n",
      "(10000,)\n",
      "(10000,)\n",
      "(10000,)\n",
      "(10000,)\n",
      "(10000,)\n",
      "(10000,)\n",
      "(10000,)\n",
      "(10000,)\n",
      "(10000,)\n",
      "(10000,)\n",
      "(10000,)\n",
      "(10000,)\n",
      "(10000,)\n",
      "(10000,)\n",
      "(10000,)\n",
      "(10000,)\n",
      "(10000,)\n",
      "(10000,)\n",
      "(10000,)\n",
      "(10000,)\n",
      "(10000,)\n",
      "(10000,)\n",
      "(10000,)\n",
      "(10000,)\n",
      "(10000,)\n",
      "(10000,)\n",
      "(10000,)\n",
      "(10000,)\n",
      "(10000,)\n",
      "(10000,)\n",
      "(10000,)\n",
      "(10000,)\n",
      "(10000,)\n",
      "(10000,)\n",
      "(10000,)\n",
      "(10000,)\n",
      "(10000,)\n",
      "(10000,)\n",
      "(10000,)\n",
      "(10000,)\n",
      "(10000,)\n",
      "(10000,)\n",
      "(10000,)\n",
      "(10000,)\n",
      "(10000,)\n",
      "(10000,)\n",
      "(10000,)\n",
      "(10000,)\n",
      "(10000,)\n",
      "(10000,)\n",
      "(10000,)\n",
      "(10000,)\n",
      "(10000,)\n",
      "(10000,)\n",
      "(10000,)\n",
      "(10000,)\n",
      "(10000,)\n",
      "(10000,)\n",
      "(10000,)\n",
      "(10000,)\n",
      "(10000,)\n",
      "(10000,)\n",
      "(10000,)\n",
      "(10000,)\n",
      "(10000,)\n",
      "(10000,)\n",
      "(10000,)\n",
      "(10000,)\n",
      "(10000,)\n",
      "(10000,)\n",
      "(10000,)\n",
      "(10000,)\n",
      "(10000,)\n",
      "(10000,)\n",
      "(10000,)\n",
      "(10000,)\n",
      "(10000,)\n",
      "(10000,)\n",
      "(10000,)\n",
      "(10000,)\n",
      "(10000,)\n",
      "(10000,)\n",
      "(10000,)\n",
      "(10000,)\n",
      "(10000,)\n",
      "(10000,)\n",
      "(10000,)\n",
      "(10000,)\n",
      "(10000,)\n",
      "(10000,)\n",
      "(10000,)\n",
      "(10000,)\n",
      "(10000,)\n",
      "(10000,)\n",
      "(10000,)\n",
      "(10000,)\n",
      "(10000,)\n",
      "(10000,)\n",
      "(10000,)\n",
      "(10000,)\n",
      "(10000,)\n",
      "(10000,)\n",
      "(10000,)\n",
      "(10000,)\n",
      "(10000,)\n",
      "(10000,)\n",
      "(10000,)\n",
      "(10000,)\n",
      "(10000,)\n",
      "(10000,)\n",
      "(10000,)\n",
      "(10000,)\n",
      "(10000,)\n",
      "(10000,)\n",
      "(10000,)\n",
      "(10000,)\n",
      "(10000,)\n",
      "(10000,)\n",
      "(10000,)\n",
      "(10000,)\n",
      "(10000,)\n",
      "(10000,)\n",
      "(10000,)\n",
      "(10000,)\n",
      "(10000,)\n",
      "(10000,)\n",
      "(10000,)\n",
      "[128]\n"
     ]
    }
   ],
   "source": [
    "def reshape_to_batches(array, m):\n",
    "    \"\"\"\n",
    "    Transform an array of shape (n,) into a list of arrays of shape (m,).\n",
    "    \"\"\"\n",
    "    array = np.asarray(array)\n",
    "    n = array.shape[0]\n",
    "    num_batches = n // m\n",
    "    return [array[i * m:(i + 1) * m] for i in range(num_batches)]\n",
    "\n",
    "def calculate_hrv_signals(base_folder, batch_size=10_000):\n",
    "    hrv_batches = []\n",
    "    label = 0\n",
    "    y = []\n",
    "    fss = list()\n",
    "    for folder_name in os.listdir(base_folder):\n",
    "        folder_path = os.path.join(base_folder, folder_name)\n",
    "        file_names = os.listdir(folder_path)\n",
    "        for file_name in file_names:\n",
    "            if file_name.endswith('.hea'):\n",
    "                record_name = file_name.split('.hea')[0]\n",
    "                record_path = os.path.join(folder_path, record_name)\n",
    "\n",
    "                try:\n",
    "                #if True:\n",
    "                    # Read the record\n",
    "                    # print(record_path)\n",
    "                    record = wfdb.rdsamp(record_path)\n",
    "                    # print(record)\n",
    "                    # Extract the signals\n",
    "                    signals, fs = record[0][:,0], record[1]['fs']\n",
    "                    # print(signals.shape)\n",
    "                    fss.append(fs)\n",
    "                    # resampled_signal = resample_signal(signals, fs, target_fs)\n",
    "                    # Extract RR intervals (in seconds)\n",
    "                    # rr_intervals = np.diff(ann.sample / ann.fs)[10:-10]\n",
    "                    # print(rr_intervals.shape)\n",
    "\n",
    "                    # Batch the RR intervals\n",
    "                    signal_batches = reshape_to_batches(signals, batch_size)\n",
    "                    # signal_batches = [signals]\n",
    "                    # Calculate HRV features for each batch and store them\n",
    "                    for batch in signal_batches:\n",
    "                        # sdnn = np.std(batch)\n",
    "                        # rmssd = np.sqrt(np.mean(np.diff(batch)**2))\n",
    "                        # mean_rr = np.mean(batch)\n",
    "                        signal_batches.append(batch)\n",
    "                        y.append(label)\n",
    "\n",
    "                except Exception as e:\n",
    "                    print(f\"Error processing {record_path}: {e}\")\n",
    "        label += 1\n",
    "    for signal in signal_batches:\n",
    "        print(signal.shape)\n",
    "    # # Convert the list of HRV features to a numpy array\n",
    "    print(np.unique(fss))\n",
    "    hrv_batches_array = np.array(signal_batches)\n",
    "    \n",
    "    return hrv_batches_array, np.array(y)\n",
    "\n",
    "# # Example usage\n",
    "# data_folder = 'data'\n",
    "hrv_signals_array,y = calculate_hrv_signals(data_folder, batch_size=10_000)\n",
    "\n",
    "# # Print the shape of the concatenated HRV features array\n",
    "# print(f\"Shape of HRV signals array: {hrv_signals_array.shape}\")\n",
    "\n",
    "# # Print the first few HRV feature sets\n",
    "# print(hrv_signals_array.shape)\n"
   ]
  },
  {
   "cell_type": "code",
   "execution_count": null,
   "metadata": {},
   "outputs": [],
   "source": [
    "LENGTH = 2826240"
   ]
  },
  {
   "cell_type": "code",
   "execution_count": null,
   "metadata": {},
   "outputs": [],
   "source": []
  },
  {
   "cell_type": "code",
   "execution_count": null,
   "metadata": {},
   "outputs": [],
   "source": [
    "def calculate_ecg_signals(base_folder):\n",
    "    hrv_batches = []\n",
    "    label = 0\n",
    "    y = []\n",
    "    fss = list()\n",
    "    min_length = np.inf\n",
    "    signals = []\n",
    "    for folder_name in os.listdir(base_folder):\n",
    "        folder_path = os.path.join(base_folder, folder_name)\n",
    "        file_names = os.listdir(folder_path)\n",
    "        for file_name in file_names:\n",
    "            if file_name.endswith('.hea'):\n",
    "                record_name = file_name.split('.hea')[0]\n",
    "                record_path = os.path.join(folder_path, record_name)\n",
    "\n",
    "                # try:\n",
    "                if True:\n",
    "                    # Read the record\n",
    "                    record = wfdb.rdsamp(record_path)\n",
    "\n",
    "                    # Extract the signals\n",
    "                    signal, fs = record[0][:LENGTH,0], record[1]['fs']\n",
    "                    signals.append(signal)\n",
    "                    y.append(label)\n",
    "                # except Exception as e:\n",
    "                #     print(f\"Error processing {record_path}: {e}\")\n",
    "        label += 1\n",
    "    return np.array(signals), np.array(y)\n",
    "\n",
    "# # Example usage\n",
    "# data_folder = 'data'\n",
    "signals_array,y = calculate_ecg_signals(data_folder)\n",
    "# calculate_hrv_signals(data_folder)\n",
    "ecg_data_good = np.concatenate([signals_array,y[:,None]],axis=-1)"
   ]
  },
  {
   "cell_type": "code",
   "execution_count": null,
   "metadata": {},
   "outputs": [
    {
     "data": {
      "text/plain": [
       "array([1, 2, 3, 2, 3, 4])"
      ]
     },
     "execution_count": 69,
     "metadata": {},
     "output_type": "execute_result"
    }
   ],
   "source": [
    "np.concatenate([np.array([1,2,3]),np.array([2,3,4])],axis=0)"
   ]
  },
  {
   "cell_type": "code",
   "execution_count": null,
   "metadata": {},
   "outputs": [
    {
     "data": {
      "text/plain": [
       "(102, 2826240)"
      ]
     },
     "execution_count": 73,
     "metadata": {},
     "output_type": "execute_result"
    }
   ],
   "source": [
    "signals_array.shape"
   ]
  },
  {
   "cell_type": "code",
   "execution_count": null,
   "metadata": {},
   "outputs": [],
   "source": [
    "np.save('ecg_data_good',ecg_data_good)"
   ]
  },
  {
   "cell_type": "code",
   "execution_count": null,
   "metadata": {},
   "outputs": [
    {
     "data": {
      "text/plain": [
       "(1071, 10000)"
      ]
     },
     "execution_count": 29,
     "metadata": {},
     "output_type": "execute_result"
    }
   ],
   "source": [
    "hrv_signals_array.shape"
   ]
  },
  {
   "cell_type": "code",
   "execution_count": null,
   "metadata": {},
   "outputs": [
    {
     "name": "stdout",
     "output_type": "stream",
     "text": [
      "(array([[ 0.03458003, -0.00494   ],\n",
      "       [ 0.03458003, -0.00494   ],\n",
      "       [ 0.04940004, -0.00494   ],\n",
      "       ...,\n",
      "       [ 0.07410005,  0.09880007],\n",
      "       [ 0.06916005,  0.08892007],\n",
      "       [ 0.06916005,  0.11362008]]), {'fs': 128, 'sig_len': 11182080, 'n_sig': 2, 'base_date': datetime.date(2003, 7, 18), 'base_time': datetime.time(17, 55, 42), 'units': ['mV', 'mV'], 'sig_name': ['ECG', 'ECG'], 'comments': []})\n"
     ]
    }
   ],
   "source": [
    "record_path = \"data/long-term-af/03\"\n",
    "record1 = wfdb.rdsamp(record_path)\n",
    "# print(record)\n",
    "# Extract the signals\n",
    "signals1, fs1 = record1[0], record1[1]['fs']\n",
    "print(record1)"
   ]
  },
  {
   "cell_type": "code",
   "execution_count": null,
   "metadata": {},
   "outputs": [
    {
     "data": {
      "text/plain": [
       "[<matplotlib.lines.Line2D at 0x136fda46290>,\n",
       " <matplotlib.lines.Line2D at 0x136fdfdbdd0>]"
      ]
     },
     "execution_count": 31,
     "metadata": {},
     "output_type": "execute_result"
    },
    {
     "data": {
      "image/png": "[encoded data removed]",
      "text/plain": [
       "<Figure size 640x480 with 1 Axes>"
      ]
     },
     "metadata": {},
     "output_type": "display_data"
    }
   ],
   "source": [
    "plt.plot(signals1[29_000:30_000])"
   ]
  },
  {
   "cell_type": "code",
   "execution_count": null,
   "metadata": {},
   "outputs": [
    {
     "name": "stdout",
     "output_type": "stream",
     "text": [
      "(array([[-0.435, -0.425],\n",
      "       [-0.435, -0.415],\n",
      "       [-0.415, -0.405],\n",
      "       ...,\n",
      "       [-0.1  ,  0.   ],\n",
      "       [-0.09 ,  0.   ],\n",
      "       [-0.1  ,  0.   ]]), {'fs': 128, 'sig_len': 10701824, 'n_sig': 2, 'base_date': None, 'base_time': datetime.time(9, 56), 'units': ['mV', 'mV'], 'sig_name': ['ECG1', 'ECG2'], 'comments': ['50 F']})\n"
     ]
    }
   ],
   "source": [
    "record_path = \"data/mit-bih-normal-sinus-rhythm-database-1.0.0/19830\"\n",
    "record2 = wfdb.rdsamp(record_path)\n",
    "# print(record)\n",
    "# Extract the signals\n",
    "signals2, fs2 = record2[0], record2[1]['fs']\n",
    "print(record2)"
   ]
  },
  {
   "cell_type": "code",
   "execution_count": null,
   "metadata": {},
   "outputs": [
    {
     "data": {
      "text/plain": [
       "[<matplotlib.lines.Line2D at 0x13682500d10>,\n",
       " <matplotlib.lines.Line2D at 0x13682503c10>]"
      ]
     },
     "execution_count": 33,
     "metadata": {},
     "output_type": "execute_result"
    },
    {
     "data": {
      "image/png": "[encoded data removed]",
      "text/plain": [
       "<Figure size 640x480 with 1 Axes>"
      ]
     },
     "metadata": {},
     "output_type": "display_data"
    }
   ],
   "source": [
    "plt.plot(signals2[30_500:31000])"
   ]
  },
  {
   "cell_type": "code",
   "execution_count": null,
   "metadata": {},
   "outputs": [
    {
     "ename": "NameError",
     "evalue": "name 'record' is not defined",
     "output_type": "error",
     "traceback": [
      "\u001b[1;31m---------------------------------------------------------------------------\u001b[0m",
      "\u001b[1;31mNameError\u001b[0m                                 Traceback (most recent call last)",
      "Cell \u001b[1;32mIn[34], line 1\u001b[0m\n\u001b[1;32m----> 1\u001b[0m \u001b[43mrecord\u001b[49m\n",
      "\u001b[1;31mNameError\u001b[0m: name 'record' is not defined"
     ]
    }
   ],
   "source": [
    "record"
   ]
  }
 ],
 "metadata": {
  "kernelspec": {
   "display_name": "Python 3",
   "language": "python",
   "name": "python3"
  },
  "language_info": {
   "codemirror_mode": {
    "name": "ipython",
    "version": 3
   },
   "file_extension": ".py",
   "mimetype": "text/x-python",
   "name": "python",
   "nbconvert_exporter": "python",
   "pygments_lexer": "ipython3",
   "version": "3.11.0"
  }
 },
 "nbformat": 4,
 "nbformat_minor": 2
}
