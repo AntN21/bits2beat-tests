{
 "cells": [
  {
   "cell_type": "code",
   "execution_count": 21,
   "metadata": {},
   "outputs": [],
   "source": [
    "import numpy as np\n",
    "from sklearn.preprocessing import MinMaxScaler\n",
    "import matplotlib.pyplot as plt"
   ]
  },
  {
   "cell_type": "code",
   "execution_count": 22,
   "metadata": {},
   "outputs": [],
   "source": [
    "data = np.load('ptb-xl-data.npy')\n",
    "X, y = data[:,:-1], data[:,-1]"
   ]
  },
  {
   "cell_type": "code",
   "execution_count": 23,
   "metadata": {},
   "outputs": [
    {
     "data": {
      "text/plain": [
       "(16244, 1000)"
      ]
     },
     "execution_count": 23,
     "metadata": {},
     "output_type": "execute_result"
    }
   ],
   "source": [
    "X.shape"
   ]
  },
  {
   "cell_type": "code",
   "execution_count": 24,
   "metadata": {},
   "outputs": [],
   "source": [
    "scaler = MinMaxScaler()"
   ]
  },
  {
   "cell_type": "code",
   "execution_count": 25,
   "metadata": {},
   "outputs": [
    {
     "data": {
      "text/plain": [
       "(16244, 1000)"
      ]
     },
     "execution_count": 25,
     "metadata": {},
     "output_type": "execute_result"
    }
   ],
   "source": [
    "X.shape"
   ]
  },
  {
   "cell_type": "code",
   "execution_count": 26,
   "metadata": {},
   "outputs": [],
   "source": [
    "nX = scaler.fit_transform(X.T).T"
   ]
  },
  {
   "cell_type": "code",
   "execution_count": 27,
   "metadata": {},
   "outputs": [
    {
     "data": {
      "text/plain": [
       "array([2, 4, 9], dtype=int64)"
      ]
     },
     "execution_count": 27,
     "metadata": {},
     "output_type": "execute_result"
    }
   ],
   "source": [
    "\n",
    "from scipy.signal import argrelextrema\n",
    "\n",
    "x = np.random.random(12)\n",
    "\n",
    "# for local maxima\n",
    "argrelextrema(x, np.greater)[0]\n"
   ]
  },
  {
   "cell_type": "code",
   "execution_count": 28,
   "metadata": {},
   "outputs": [],
   "source": [
    "# indexes"
   ]
  },
  {
   "cell_type": "code",
   "execution_count": 29,
   "metadata": {},
   "outputs": [
    {
     "data": {
      "text/plain": [
       "(16244, 1000)"
      ]
     },
     "execution_count": 29,
     "metadata": {},
     "output_type": "execute_result"
    }
   ],
   "source": [
    "nX.shape"
   ]
  },
  {
   "cell_type": "code",
   "execution_count": 30,
   "metadata": {},
   "outputs": [],
   "source": [
    "# nX[[],:].shape"
   ]
  },
  {
   "cell_type": "code",
   "execution_count": 31,
   "metadata": {},
   "outputs": [],
   "source": [
    "def moving_average(a, n=3):\n",
    "    ret = np.cumsum(a, dtype=float)\n",
    "    ret[n:] = ret[n:] - ret[:-n]\n",
    "    return ret[n - 1:] / n"
   ]
  },
  {
   "cell_type": "code",
   "execution_count": null,
   "metadata": {},
   "outputs": [],
   "source": []
  },
  {
   "cell_type": "code",
   "execution_count": 37,
   "metadata": {},
   "outputs": [],
   "source": [
    "randint = np.random.randint(10,X.shape[0]-10)\n",
    "\n",
    "# x = nX[randint,:]\n",
    "# indexes = argrelextrema(x,np.greater)[0]\n",
    "# plt.plot(x)\n",
    "\n",
    "# tresh = 0.2\n",
    "# print(indexes)\n",
    "# mov = moving_average(x,n=10)\n",
    "# plt.plot(mov)\n",
    "# for ind in indexes:\n",
    "#     if x[ind]  - mov[ind]> tresh:\n",
    "#         plt.plot([ind,ind],[0,x[ind]],color='r')"
   ]
  },
  {
   "cell_type": "code",
   "execution_count": 38,
   "metadata": {},
   "outputs": [],
   "source": [
    "import matplotlib.pyplot as plt\n",
    "from scipy.misc import electrocardiogram\n",
    "from scipy.signal import find_peaks\n",
    "import numpy as np"
   ]
  },
  {
   "cell_type": "code",
   "execution_count": 39,
   "metadata": {},
   "outputs": [],
   "source": [
    "def moving_average(a, n=3):\n",
    "    ret = np.cumsum(a, dtype=float)\n",
    "    ret[n:] = ret[n:] - ret[:-n]\n",
    "    \n",
    "    return ret[n - 1:] / n"
   ]
  },
  {
   "cell_type": "code",
   "execution_count": 40,
   "metadata": {},
   "outputs": [],
   "source": [
    "# def make_X(X_data,\n",
    "#            d2,\n",
    "#            m,\n",
    "#            N,\n",
    "#            subsample=1):\n",
    "    \n",
    "#     X = np.zeros((N,m,d1,d2))\n",
    "#     dim1, dim2 = X_data.shape\n",
    "#     mid = dim2 // 2\n",
    "    \n",
    "#     assert(mid - m > d2)\n",
    "#     for i_d in range(d2):\n",
    "#         X[:,:,0,i_d] = np.roll(X_data[:N,(mid - m //2 ) :(mid + m //2)], -i_d, axis=-1)\n",
    "#     plt.plot( X[0,:,0, 0])\n",
    "#     return X.reshape((N,m,d))"
   ]
  },
  {
   "cell_type": "code",
   "execution_count": 43,
   "metadata": {},
   "outputs": [
    {
     "data": {
      "text/plain": [
       "(1000,)"
      ]
     },
     "execution_count": 43,
     "metadata": {},
     "output_type": "execute_result"
    }
   ],
   "source": [
    "signal.shape"
   ]
  },
  {
   "cell_type": "code",
   "execution_count": 42,
   "metadata": {},
   "outputs": [
    {
     "ename": "ValueError",
     "evalue": "The length of the input vector x must be greater than padlen, which is 4503.",
     "output_type": "error",
     "traceback": [
      "\u001b[1;31m---------------------------------------------------------------------------\u001b[0m",
      "\u001b[1;31mValueError\u001b[0m                                Traceback (most recent call last)",
      "Cell \u001b[1;32mIn[42], line 1\u001b[0m\n\u001b[1;32m----> 1\u001b[0m biosppy\u001b[38;5;241m.\u001b[39msignals\u001b[38;5;241m.\u001b[39mecg\u001b[38;5;241m.\u001b[39mecg(signal,show\u001b[38;5;241m=\u001b[39m\u001b[38;5;28;01mTrue\u001b[39;00m)\n",
      "File \u001b[1;32mc:\\Users\\aejog\\anaconda3\\Lib\\site-packages\\biosppy\\signals\\ecg.py:82\u001b[0m, in \u001b[0;36mecg\u001b[1;34m(signal, sampling_rate, units, path, show, interactive)\u001b[0m\n\u001b[0;32m     80\u001b[0m \u001b[38;5;66;03m# filter signal\u001b[39;00m\n\u001b[0;32m     81\u001b[0m order \u001b[38;5;241m=\u001b[39m \u001b[38;5;28mint\u001b[39m(\u001b[38;5;241m1.5\u001b[39m \u001b[38;5;241m*\u001b[39m sampling_rate)\n\u001b[1;32m---> 82\u001b[0m filtered, _, _ \u001b[38;5;241m=\u001b[39m st\u001b[38;5;241m.\u001b[39mfilter_signal(\n\u001b[0;32m     83\u001b[0m     signal\u001b[38;5;241m=\u001b[39msignal,\n\u001b[0;32m     84\u001b[0m     ftype\u001b[38;5;241m=\u001b[39m\u001b[38;5;124m\"\u001b[39m\u001b[38;5;124mFIR\u001b[39m\u001b[38;5;124m\"\u001b[39m,\n\u001b[0;32m     85\u001b[0m     band\u001b[38;5;241m=\u001b[39m\u001b[38;5;124m\"\u001b[39m\u001b[38;5;124mbandpass\u001b[39m\u001b[38;5;124m\"\u001b[39m,\n\u001b[0;32m     86\u001b[0m     order\u001b[38;5;241m=\u001b[39morder,\n\u001b[0;32m     87\u001b[0m     frequency\u001b[38;5;241m=\u001b[39m[\u001b[38;5;241m0.67\u001b[39m, \u001b[38;5;241m45\u001b[39m],\n\u001b[0;32m     88\u001b[0m     sampling_rate\u001b[38;5;241m=\u001b[39msampling_rate,\n\u001b[0;32m     89\u001b[0m )\n\u001b[0;32m     91\u001b[0m filtered \u001b[38;5;241m=\u001b[39m filtered \u001b[38;5;241m-\u001b[39m np\u001b[38;5;241m.\u001b[39mmean(filtered)  \u001b[38;5;66;03m# remove DC offset\u001b[39;00m\n\u001b[0;32m     93\u001b[0m \u001b[38;5;66;03m# segment\u001b[39;00m\n",
      "File \u001b[1;32mc:\\Users\\aejog\\anaconda3\\Lib\\site-packages\\biosppy\\signals\\tools.py:436\u001b[0m, in \u001b[0;36mfilter_signal\u001b[1;34m(signal, ftype, band, order, frequency, sampling_rate, **kwargs)\u001b[0m\n\u001b[0;32m    426\u001b[0m b, a \u001b[38;5;241m=\u001b[39m get_filter(\n\u001b[0;32m    427\u001b[0m     ftype\u001b[38;5;241m=\u001b[39mftype,\n\u001b[0;32m    428\u001b[0m     order\u001b[38;5;241m=\u001b[39morder,\n\u001b[1;32m   (...)\u001b[0m\n\u001b[0;32m    432\u001b[0m     \u001b[38;5;241m*\u001b[39m\u001b[38;5;241m*\u001b[39mkwargs\n\u001b[0;32m    433\u001b[0m )\n\u001b[0;32m    435\u001b[0m \u001b[38;5;66;03m# filter\u001b[39;00m\n\u001b[1;32m--> 436\u001b[0m filtered, _ \u001b[38;5;241m=\u001b[39m _filter_signal(b, a, signal, check_phase\u001b[38;5;241m=\u001b[39m\u001b[38;5;28;01mTrue\u001b[39;00m)\n\u001b[0;32m    438\u001b[0m \u001b[38;5;66;03m# parameters for notch filter\u001b[39;00m\n\u001b[0;32m    439\u001b[0m \u001b[38;5;28;01mif\u001b[39;00m ftype \u001b[38;5;241m==\u001b[39m \u001b[38;5;124m\"\u001b[39m\u001b[38;5;124mnotch\u001b[39m\u001b[38;5;124m\"\u001b[39m:\n",
      "File \u001b[1;32mc:\\Users\\aejog\\anaconda3\\Lib\\site-packages\\biosppy\\signals\\tools.py:135\u001b[0m, in \u001b[0;36m_filter_signal\u001b[1;34m(b, a, signal, zi, check_phase, **kwargs)\u001b[0m\n\u001b[0;32m    133\u001b[0m zf \u001b[38;5;241m=\u001b[39m \u001b[38;5;28;01mNone\u001b[39;00m\n\u001b[0;32m    134\u001b[0m \u001b[38;5;28;01mif\u001b[39;00m check_phase:\n\u001b[1;32m--> 135\u001b[0m     filtered \u001b[38;5;241m=\u001b[39m ss\u001b[38;5;241m.\u001b[39mfiltfilt(b, a, signal, \u001b[38;5;241m*\u001b[39m\u001b[38;5;241m*\u001b[39mkwargs)\n\u001b[0;32m    136\u001b[0m \u001b[38;5;28;01melse\u001b[39;00m:\n\u001b[0;32m    137\u001b[0m     filtered \u001b[38;5;241m=\u001b[39m ss\u001b[38;5;241m.\u001b[39mlfilter(b, a, signal, \u001b[38;5;241m*\u001b[39m\u001b[38;5;241m*\u001b[39mkwargs)\n",
      "File \u001b[1;32mc:\\Users\\aejog\\anaconda3\\Lib\\site-packages\\scipy\\signal\\_signaltools.py:4159\u001b[0m, in \u001b[0;36mfiltfilt\u001b[1;34m(b, a, x, axis, padtype, padlen, method, irlen)\u001b[0m\n\u001b[0;32m   4156\u001b[0m     \u001b[38;5;28;01mreturn\u001b[39;00m y\n\u001b[0;32m   4158\u001b[0m \u001b[38;5;66;03m# method == \"pad\"\u001b[39;00m\n\u001b[1;32m-> 4159\u001b[0m edge, ext \u001b[38;5;241m=\u001b[39m _validate_pad(padtype, padlen, x, axis,\n\u001b[0;32m   4160\u001b[0m                           ntaps\u001b[38;5;241m=\u001b[39m\u001b[38;5;28mmax\u001b[39m(\u001b[38;5;28mlen\u001b[39m(a), \u001b[38;5;28mlen\u001b[39m(b)))\n\u001b[0;32m   4162\u001b[0m \u001b[38;5;66;03m# Get the steady state of the filter's step response.\u001b[39;00m\n\u001b[0;32m   4163\u001b[0m zi \u001b[38;5;241m=\u001b[39m lfilter_zi(b, a)\n",
      "File \u001b[1;32mc:\\Users\\aejog\\anaconda3\\Lib\\site-packages\\scipy\\signal\\_signaltools.py:4209\u001b[0m, in \u001b[0;36m_validate_pad\u001b[1;34m(padtype, padlen, x, axis, ntaps)\u001b[0m\n\u001b[0;32m   4207\u001b[0m \u001b[38;5;66;03m# x's 'axis' dimension must be bigger than edge.\u001b[39;00m\n\u001b[0;32m   4208\u001b[0m \u001b[38;5;28;01mif\u001b[39;00m x\u001b[38;5;241m.\u001b[39mshape[axis] \u001b[38;5;241m<\u001b[39m\u001b[38;5;241m=\u001b[39m edge:\n\u001b[1;32m-> 4209\u001b[0m     \u001b[38;5;28;01mraise\u001b[39;00m \u001b[38;5;167;01mValueError\u001b[39;00m(\u001b[38;5;124m\"\u001b[39m\u001b[38;5;124mThe length of the input vector x must be greater \u001b[39m\u001b[38;5;124m\"\u001b[39m\n\u001b[0;32m   4210\u001b[0m                      \u001b[38;5;124m\"\u001b[39m\u001b[38;5;124mthan padlen, which is \u001b[39m\u001b[38;5;132;01m%d\u001b[39;00m\u001b[38;5;124m.\u001b[39m\u001b[38;5;124m\"\u001b[39m \u001b[38;5;241m%\u001b[39m edge)\n\u001b[0;32m   4212\u001b[0m \u001b[38;5;28;01mif\u001b[39;00m padtype \u001b[38;5;129;01mis\u001b[39;00m \u001b[38;5;129;01mnot\u001b[39;00m \u001b[38;5;28;01mNone\u001b[39;00m \u001b[38;5;129;01mand\u001b[39;00m edge \u001b[38;5;241m>\u001b[39m \u001b[38;5;241m0\u001b[39m:\n\u001b[0;32m   4213\u001b[0m     \u001b[38;5;66;03m# Make an extension of length `edge` at each\u001b[39;00m\n\u001b[0;32m   4214\u001b[0m     \u001b[38;5;66;03m# end of the input array.\u001b[39;00m\n\u001b[0;32m   4215\u001b[0m     \u001b[38;5;28;01mif\u001b[39;00m padtype \u001b[38;5;241m==\u001b[39m \u001b[38;5;124m'\u001b[39m\u001b[38;5;124meven\u001b[39m\u001b[38;5;124m'\u001b[39m:\n",
      "\u001b[1;31mValueError\u001b[0m: The length of the input vector x must be greater than padlen, which is 4503."
     ]
    }
   ],
   "source": [
    "biosppy.signals.ecg.ecg(signal,show=True)"
   ]
  },
  {
   "cell_type": "code",
   "execution_count": 41,
   "metadata": {},
   "outputs": [
    {
     "ename": "ValueError",
     "evalue": "The length of the input vector x must be greater than padlen, which is 4503.",
     "output_type": "error",
     "traceback": [
      "\u001b[1;31m---------------------------------------------------------------------------\u001b[0m",
      "\u001b[1;31mValueError\u001b[0m                                Traceback (most recent call last)",
      "Cell \u001b[1;32mIn[41], line 8\u001b[0m\n\u001b[0;32m      4\u001b[0m \u001b[38;5;66;03m# from opensignalsreader import OpenSignalsReader\u001b[39;00m\n\u001b[0;32m      5\u001b[0m \n\u001b[0;32m      6\u001b[0m \u001b[38;5;66;03m# Load sample ECG signal & extract R-peaks using BioSppy\u001b[39;00m\n\u001b[0;32m      7\u001b[0m signal \u001b[38;5;241m=\u001b[39m nX[randint,:]\u001b[38;5;66;03m# OpenSignalsReader('./samples/SampleECG.txt').signal('ECG')\u001b[39;00m\n\u001b[1;32m----> 8\u001b[0m signal, rpeaks \u001b[38;5;241m=\u001b[39m biosppy\u001b[38;5;241m.\u001b[39msignals\u001b[38;5;241m.\u001b[39mecg\u001b[38;5;241m.\u001b[39mecg(signal, show\u001b[38;5;241m=\u001b[39m\u001b[38;5;28;01mFalse\u001b[39;00m)[\u001b[38;5;241m1\u001b[39m:\u001b[38;5;241m3\u001b[39m]\n\u001b[0;32m     10\u001b[0m \u001b[38;5;66;03m# Compute NNI\u001b[39;00m\n\u001b[0;32m     11\u001b[0m nni \u001b[38;5;241m=\u001b[39m tools\u001b[38;5;241m.\u001b[39mnn_intervals(rpeaks)\n",
      "File \u001b[1;32mc:\\Users\\aejog\\anaconda3\\Lib\\site-packages\\biosppy\\signals\\ecg.py:82\u001b[0m, in \u001b[0;36mecg\u001b[1;34m(signal, sampling_rate, units, path, show, interactive)\u001b[0m\n\u001b[0;32m     80\u001b[0m \u001b[38;5;66;03m# filter signal\u001b[39;00m\n\u001b[0;32m     81\u001b[0m order \u001b[38;5;241m=\u001b[39m \u001b[38;5;28mint\u001b[39m(\u001b[38;5;241m1.5\u001b[39m \u001b[38;5;241m*\u001b[39m sampling_rate)\n\u001b[1;32m---> 82\u001b[0m filtered, _, _ \u001b[38;5;241m=\u001b[39m st\u001b[38;5;241m.\u001b[39mfilter_signal(\n\u001b[0;32m     83\u001b[0m     signal\u001b[38;5;241m=\u001b[39msignal,\n\u001b[0;32m     84\u001b[0m     ftype\u001b[38;5;241m=\u001b[39m\u001b[38;5;124m\"\u001b[39m\u001b[38;5;124mFIR\u001b[39m\u001b[38;5;124m\"\u001b[39m,\n\u001b[0;32m     85\u001b[0m     band\u001b[38;5;241m=\u001b[39m\u001b[38;5;124m\"\u001b[39m\u001b[38;5;124mbandpass\u001b[39m\u001b[38;5;124m\"\u001b[39m,\n\u001b[0;32m     86\u001b[0m     order\u001b[38;5;241m=\u001b[39morder,\n\u001b[0;32m     87\u001b[0m     frequency\u001b[38;5;241m=\u001b[39m[\u001b[38;5;241m0.67\u001b[39m, \u001b[38;5;241m45\u001b[39m],\n\u001b[0;32m     88\u001b[0m     sampling_rate\u001b[38;5;241m=\u001b[39msampling_rate,\n\u001b[0;32m     89\u001b[0m )\n\u001b[0;32m     91\u001b[0m filtered \u001b[38;5;241m=\u001b[39m filtered \u001b[38;5;241m-\u001b[39m np\u001b[38;5;241m.\u001b[39mmean(filtered)  \u001b[38;5;66;03m# remove DC offset\u001b[39;00m\n\u001b[0;32m     93\u001b[0m \u001b[38;5;66;03m# segment\u001b[39;00m\n",
      "File \u001b[1;32mc:\\Users\\aejog\\anaconda3\\Lib\\site-packages\\biosppy\\signals\\tools.py:436\u001b[0m, in \u001b[0;36mfilter_signal\u001b[1;34m(signal, ftype, band, order, frequency, sampling_rate, **kwargs)\u001b[0m\n\u001b[0;32m    426\u001b[0m b, a \u001b[38;5;241m=\u001b[39m get_filter(\n\u001b[0;32m    427\u001b[0m     ftype\u001b[38;5;241m=\u001b[39mftype,\n\u001b[0;32m    428\u001b[0m     order\u001b[38;5;241m=\u001b[39morder,\n\u001b[1;32m   (...)\u001b[0m\n\u001b[0;32m    432\u001b[0m     \u001b[38;5;241m*\u001b[39m\u001b[38;5;241m*\u001b[39mkwargs\n\u001b[0;32m    433\u001b[0m )\n\u001b[0;32m    435\u001b[0m \u001b[38;5;66;03m# filter\u001b[39;00m\n\u001b[1;32m--> 436\u001b[0m filtered, _ \u001b[38;5;241m=\u001b[39m _filter_signal(b, a, signal, check_phase\u001b[38;5;241m=\u001b[39m\u001b[38;5;28;01mTrue\u001b[39;00m)\n\u001b[0;32m    438\u001b[0m \u001b[38;5;66;03m# parameters for notch filter\u001b[39;00m\n\u001b[0;32m    439\u001b[0m \u001b[38;5;28;01mif\u001b[39;00m ftype \u001b[38;5;241m==\u001b[39m \u001b[38;5;124m\"\u001b[39m\u001b[38;5;124mnotch\u001b[39m\u001b[38;5;124m\"\u001b[39m:\n",
      "File \u001b[1;32mc:\\Users\\aejog\\anaconda3\\Lib\\site-packages\\biosppy\\signals\\tools.py:135\u001b[0m, in \u001b[0;36m_filter_signal\u001b[1;34m(b, a, signal, zi, check_phase, **kwargs)\u001b[0m\n\u001b[0;32m    133\u001b[0m zf \u001b[38;5;241m=\u001b[39m \u001b[38;5;28;01mNone\u001b[39;00m\n\u001b[0;32m    134\u001b[0m \u001b[38;5;28;01mif\u001b[39;00m check_phase:\n\u001b[1;32m--> 135\u001b[0m     filtered \u001b[38;5;241m=\u001b[39m ss\u001b[38;5;241m.\u001b[39mfiltfilt(b, a, signal, \u001b[38;5;241m*\u001b[39m\u001b[38;5;241m*\u001b[39mkwargs)\n\u001b[0;32m    136\u001b[0m \u001b[38;5;28;01melse\u001b[39;00m:\n\u001b[0;32m    137\u001b[0m     filtered \u001b[38;5;241m=\u001b[39m ss\u001b[38;5;241m.\u001b[39mlfilter(b, a, signal, \u001b[38;5;241m*\u001b[39m\u001b[38;5;241m*\u001b[39mkwargs)\n",
      "File \u001b[1;32mc:\\Users\\aejog\\anaconda3\\Lib\\site-packages\\scipy\\signal\\_signaltools.py:4159\u001b[0m, in \u001b[0;36mfiltfilt\u001b[1;34m(b, a, x, axis, padtype, padlen, method, irlen)\u001b[0m\n\u001b[0;32m   4156\u001b[0m     \u001b[38;5;28;01mreturn\u001b[39;00m y\n\u001b[0;32m   4158\u001b[0m \u001b[38;5;66;03m# method == \"pad\"\u001b[39;00m\n\u001b[1;32m-> 4159\u001b[0m edge, ext \u001b[38;5;241m=\u001b[39m _validate_pad(padtype, padlen, x, axis,\n\u001b[0;32m   4160\u001b[0m                           ntaps\u001b[38;5;241m=\u001b[39m\u001b[38;5;28mmax\u001b[39m(\u001b[38;5;28mlen\u001b[39m(a), \u001b[38;5;28mlen\u001b[39m(b)))\n\u001b[0;32m   4162\u001b[0m \u001b[38;5;66;03m# Get the steady state of the filter's step response.\u001b[39;00m\n\u001b[0;32m   4163\u001b[0m zi \u001b[38;5;241m=\u001b[39m lfilter_zi(b, a)\n",
      "File \u001b[1;32mc:\\Users\\aejog\\anaconda3\\Lib\\site-packages\\scipy\\signal\\_signaltools.py:4209\u001b[0m, in \u001b[0;36m_validate_pad\u001b[1;34m(padtype, padlen, x, axis, ntaps)\u001b[0m\n\u001b[0;32m   4207\u001b[0m \u001b[38;5;66;03m# x's 'axis' dimension must be bigger than edge.\u001b[39;00m\n\u001b[0;32m   4208\u001b[0m \u001b[38;5;28;01mif\u001b[39;00m x\u001b[38;5;241m.\u001b[39mshape[axis] \u001b[38;5;241m<\u001b[39m\u001b[38;5;241m=\u001b[39m edge:\n\u001b[1;32m-> 4209\u001b[0m     \u001b[38;5;28;01mraise\u001b[39;00m \u001b[38;5;167;01mValueError\u001b[39;00m(\u001b[38;5;124m\"\u001b[39m\u001b[38;5;124mThe length of the input vector x must be greater \u001b[39m\u001b[38;5;124m\"\u001b[39m\n\u001b[0;32m   4210\u001b[0m                      \u001b[38;5;124m\"\u001b[39m\u001b[38;5;124mthan padlen, which is \u001b[39m\u001b[38;5;132;01m%d\u001b[39;00m\u001b[38;5;124m.\u001b[39m\u001b[38;5;124m\"\u001b[39m \u001b[38;5;241m%\u001b[39m edge)\n\u001b[0;32m   4212\u001b[0m \u001b[38;5;28;01mif\u001b[39;00m padtype \u001b[38;5;129;01mis\u001b[39;00m \u001b[38;5;129;01mnot\u001b[39;00m \u001b[38;5;28;01mNone\u001b[39;00m \u001b[38;5;129;01mand\u001b[39;00m edge \u001b[38;5;241m>\u001b[39m \u001b[38;5;241m0\u001b[39m:\n\u001b[0;32m   4213\u001b[0m     \u001b[38;5;66;03m# Make an extension of length `edge` at each\u001b[39;00m\n\u001b[0;32m   4214\u001b[0m     \u001b[38;5;66;03m# end of the input array.\u001b[39;00m\n\u001b[0;32m   4215\u001b[0m     \u001b[38;5;28;01mif\u001b[39;00m padtype \u001b[38;5;241m==\u001b[39m \u001b[38;5;124m'\u001b[39m\u001b[38;5;124meven\u001b[39m\u001b[38;5;124m'\u001b[39m:\n",
      "\u001b[1;31mValueError\u001b[0m: The length of the input vector x must be greater than padlen, which is 4503."
     ]
    }
   ],
   "source": [
    "import biosppy\n",
    "import numpy as np\n",
    "import pyhrv.tools as tools\n",
    "# from opensignalsreader import OpenSignalsReader\n",
    "\n",
    "# Load sample ECG signal & extract R-peaks using BioSppy\n",
    "signal = nX[randint,:]# OpenSignalsReader('./samples/SampleECG.txt').signal('ECG')\n",
    "signal, rpeaks = biosppy.signals.ecg.ecg(signal, show=False)[1:3]\n",
    "\n",
    "# Compute NNI\n",
    "nni = tools.nn_intervals(rpeaks)"
   ]
  },
  {
   "cell_type": "code",
   "execution_count": null,
   "metadata": {},
   "outputs": [],
   "source": [
    "def moving_quantile(a,n=3):\n",
    "    "
   ]
  },
  {
   "cell_type": "code",
   "execution_count": null,
   "metadata": {},
   "outputs": [
    {
     "data": {
      "text/plain": [
       "(1000,)"
      ]
     },
     "execution_count": 213,
     "metadata": {},
     "output_type": "execute_result"
    }
   ],
   "source": [
    "x.shape"
   ]
  },
  {
   "cell_type": "code",
   "execution_count": null,
   "metadata": {},
   "outputs": [
    {
     "data": {
      "text/plain": [
       "(991,)"
      ]
     },
     "execution_count": 216,
     "metadata": {},
     "output_type": "execute_result"
    }
   ],
   "source": [
    "mov_avg.shape"
   ]
  },
  {
   "cell_type": "code",
   "execution_count": null,
   "metadata": {},
   "outputs": [
    {
     "ename": "ValueError",
     "evalue": "array size of lower interval border must match x",
     "output_type": "error",
     "traceback": [
      "\u001b[1;31m---------------------------------------------------------------------------\u001b[0m",
      "\u001b[1;31mValueError\u001b[0m                                Traceback (most recent call last)",
      "Cell \u001b[1;32mIn[215], line 13\u001b[0m\n\u001b[0;32m     11\u001b[0m \u001b[38;5;66;03m# peaks, _ = find_peaks(x,height=median, distance=30)\u001b[39;00m\n\u001b[0;32m     12\u001b[0m mov_avg \u001b[38;5;241m=\u001b[39m  moving_average(x,n\u001b[38;5;241m=\u001b[39m\u001b[38;5;241m10\u001b[39m)\n\u001b[1;32m---> 13\u001b[0m peaks, _ \u001b[38;5;241m=\u001b[39m find_peaks(x,height\u001b[38;5;241m=\u001b[39mmov_avg\u001b[38;5;241m+\u001b[39m\u001b[38;5;241m.1\u001b[39m, distance\u001b[38;5;241m=\u001b[39m\u001b[38;5;241m30\u001b[39m)\n\u001b[0;32m     15\u001b[0m plt\u001b[38;5;241m.\u001b[39mplot(peaks, x[peaks], \u001b[38;5;124m\"\u001b[39m\u001b[38;5;124mx\u001b[39m\u001b[38;5;124m\"\u001b[39m)\n\u001b[0;32m     16\u001b[0m plt\u001b[38;5;241m.\u001b[39mplot(np\u001b[38;5;241m.\u001b[39mzeros_like(x), \u001b[38;5;124m\"\u001b[39m\u001b[38;5;124m--\u001b[39m\u001b[38;5;124m\"\u001b[39m, color\u001b[38;5;241m=\u001b[39m\u001b[38;5;124m\"\u001b[39m\u001b[38;5;124mgray\u001b[39m\u001b[38;5;124m\"\u001b[39m)\n",
      "File \u001b[1;32mc:\\Users\\aejog\\anaconda3\\Lib\\site-packages\\scipy\\signal\\_peak_finding.py:960\u001b[0m, in \u001b[0;36mfind_peaks\u001b[1;34m(x, height, threshold, distance, prominence, width, wlen, rel_height, plateau_size)\u001b[0m\n\u001b[0;32m    957\u001b[0m \u001b[38;5;28;01mif\u001b[39;00m height \u001b[38;5;129;01mis\u001b[39;00m \u001b[38;5;129;01mnot\u001b[39;00m \u001b[38;5;28;01mNone\u001b[39;00m:\n\u001b[0;32m    958\u001b[0m     \u001b[38;5;66;03m# Evaluate height condition\u001b[39;00m\n\u001b[0;32m    959\u001b[0m     peak_heights \u001b[38;5;241m=\u001b[39m x[peaks]\n\u001b[1;32m--> 960\u001b[0m     hmin, hmax \u001b[38;5;241m=\u001b[39m _unpack_condition_args(height, x, peaks)\n\u001b[0;32m    961\u001b[0m     keep \u001b[38;5;241m=\u001b[39m _select_by_property(peak_heights, hmin, hmax)\n\u001b[0;32m    962\u001b[0m     peaks \u001b[38;5;241m=\u001b[39m peaks[keep]\n",
      "File \u001b[1;32mc:\\Users\\aejog\\anaconda3\\Lib\\site-packages\\scipy\\signal\\_peak_finding.py:636\u001b[0m, in \u001b[0;36m_unpack_condition_args\u001b[1;34m(interval, x, peaks)\u001b[0m\n\u001b[0;32m    634\u001b[0m \u001b[38;5;28;01mif\u001b[39;00m \u001b[38;5;28misinstance\u001b[39m(imin, np\u001b[38;5;241m.\u001b[39mndarray):\n\u001b[0;32m    635\u001b[0m     \u001b[38;5;28;01mif\u001b[39;00m imin\u001b[38;5;241m.\u001b[39msize \u001b[38;5;241m!=\u001b[39m x\u001b[38;5;241m.\u001b[39msize:\n\u001b[1;32m--> 636\u001b[0m         \u001b[38;5;28;01mraise\u001b[39;00m \u001b[38;5;167;01mValueError\u001b[39;00m(\u001b[38;5;124m'\u001b[39m\u001b[38;5;124marray size of lower interval border must match x\u001b[39m\u001b[38;5;124m'\u001b[39m)\n\u001b[0;32m    637\u001b[0m     imin \u001b[38;5;241m=\u001b[39m imin[peaks]\n\u001b[0;32m    638\u001b[0m \u001b[38;5;28;01mif\u001b[39;00m \u001b[38;5;28misinstance\u001b[39m(imax, np\u001b[38;5;241m.\u001b[39mndarray):\n",
      "\u001b[1;31mValueError\u001b[0m: array size of lower interval border must match x"
     ]
    },
    {
     "data": {
      "image/png": "[encoded data removed]",
      "text/plain": [
       "<Figure size 640x480 with 1 Axes>"
      ]
     },
     "metadata": {},
     "output_type": "display_data"
    }
   ],
   "source": [
    "n = 10\n",
    "q = 0.9\n",
    "\n",
    "randint = np.random.randint(X.shape[0])\n",
    "\n",
    "\n",
    "x = nX[randint,:]\n",
    "\n",
    "plt.plot(x)\n",
    "median = np.quantile(x,q=0.9)\n",
    "# peaks, _ = find_peaks(x,height=median, distance=30)\n",
    "mov_avg =  moving_average(x,n=10)\n",
    "peaks, _ = find_peaks(x,height=mov_avg+.1, distance=30)\n",
    "\n",
    "plt.plot(peaks, x[peaks], \"x\")\n",
    "plt.plot(np.zeros_like(x), \"--\", color=\"gray\")\n",
    "plt.plot(median*np.ones(x.size))\n",
    "plt.plot(mov_avg)\n",
    "plt.show()"
   ]
  }
 ],
 "metadata": {
  "kernelspec": {
   "display_name": "base",
   "language": "python",
   "name": "python3"
  },
  "language_info": {
   "codemirror_mode": {
    "name": "ipython",
    "version": 3
   },
   "file_extension": ".py",
   "mimetype": "text/x-python",
   "name": "python",
   "nbconvert_exporter": "python",
   "pygments_lexer": "ipython3",
   "version": "3.11.5"
  }
 },
 "nbformat": 4,
 "nbformat_minor": 2
}
